{
 "cells": [
  {
   "cell_type": "code",
   "execution_count": 1,
   "metadata": {},
   "outputs": [],
   "source": [
    "import random\n",
    "from operator import and_, not_, or_\n",
    "import math\n",
    "import copy\n",
    "\n",
    "from jupyter_plotly_dash import JupyterDash\n",
    "import dash\n",
    "import dash_core_components as dcc\n",
    "import dash_html_components as html\n",
    "from dash.dependencies import Input, Output\n",
    "import spacy\n",
    "from spacy.lang.en.stop_words import STOP_WORDS\n",
    "from spacy.attrs import LEMMA\n",
    "import en_core_web_lg\n",
    "import plotly.graph_objs as go\n",
    "\n",
    "\n",
    "from freqer import *\n",
    "from palettes import *\n",
    "from qualmath import *\n",
    "from miketools import *\n",
    "\n",
    "# %matplotlib qt\n",
    "\n",
    "#spacy.require_gpu()"
   ]
  },
  {
   "cell_type": "code",
   "execution_count": 2,
   "metadata": {},
   "outputs": [
    {
     "data": {
      "text/plain": [
       "True"
      ]
     },
     "execution_count": 2,
     "metadata": {},
     "output_type": "execute_result"
    }
   ],
   "source": [
    "spacy.require_gpu()"
   ]
  },
  {
   "cell_type": "code",
   "execution_count": 3,
   "metadata": {},
   "outputs": [
    {
     "name": "stdout",
     "output_type": "stream",
     "text": [
      "Wall time: 12.2 s\n"
     ]
    }
   ],
   "source": [
    "%time nlp=en_core_web_lg.load()"
   ]
  },
  {
   "cell_type": "code",
   "execution_count": 4,
   "metadata": {},
   "outputs": [],
   "source": [
    "active_text = None"
   ]
  },
  {
   "cell_type": "code",
   "execution_count": 5,
   "metadata": {
    "scrolled": true
   },
   "outputs": [
    {
     "name": "stdout",
     "output_type": "stream",
     "text": [
      "Wall time: 4.99 s\n"
     ]
    }
   ],
   "source": [
    "# warning: make sure to have lots of RAM / GPU memory\n",
    "# if you're going to feed it something large.\n",
    "\n",
    "textfile = 'nightwood.txt'\n",
    "active_text = open(textfile, encoding='utf-8').read()\n",
    "# if len(active_text) > 1000000:\n",
    "#      nlp.max_length = 3000000\n",
    "%time active_text = nlp(active_text)"
   ]
  },
  {
   "cell_type": "code",
   "execution_count": 178,
   "metadata": {},
   "outputs": [
    {
     "name": "stdout",
     "output_type": "stream",
     "text": [
      "Wall time: 220 ms\n",
      "Wall time: 20.9 ms\n",
      "Wall time: 4 s\n"
     ]
    }
   ],
   "source": [
    "interest = partial(evaluate_interest, boring_intensity = 1) \n",
    "%time interesting_tokens = list(filter(interest,active_text))\n",
    "%time lemmalist = lemmatize(interesting_tokens)\n",
    "%time freq_chart = prep_freq_chart(active_text,lemmalist)\n",
    "# trimwords = ['say','go','come','mr.','mrs.','miss']\n",
    "# trim_chart = notdf(freq_chart,inloc(freq_chart,\"word\",trimwords))"
   ]
  },
  {
   "cell_type": "code",
   "execution_count": 179,
   "metadata": {},
   "outputs": [],
   "source": [
    "tokenframe = pd.DataFrame([{\n",
    "        'position':ix,\n",
    "        'word':token.lemma_.lower(),\n",
    "        'pos':token.pos_,\n",
    "        'sentiment':token.sentiment\n",
    "    }\n",
    "    for ix, token in enumerate(interesting_tokens)\n",
    "    ])"
   ]
  },
  {
   "cell_type": "code",
   "execution_count": 180,
   "metadata": {},
   "outputs": [],
   "source": [
    "def dashrgba(rgba):\n",
    "    outstring = 'rgba'+str(tuple([\n",
    "        rgba[0]*255,\n",
    "        rgba[1]*255,\n",
    "        rgba[2]*255,\n",
    "        rgba[3]\n",
    "    ]))\n",
    "    return outstring"
   ]
  },
  {
   "cell_type": "code",
   "execution_count": 181,
   "metadata": {},
   "outputs": [],
   "source": [
    "def jitarray(mean, intensity, length):\n",
    "    return np.array([mean*random.random()*intensity - intensity/2 for i in range(length)])"
   ]
  },
  {
   "cell_type": "code",
   "execution_count": 182,
   "metadata": {},
   "outputs": [],
   "source": [
    "def randrgb(alpha):\n",
    "    return [random.random() for i in range(3)] + [alpha]"
   ]
  },
  {
   "cell_type": "code",
   "execution_count": 183,
   "metadata": {},
   "outputs": [
    {
     "data": {
      "text/plain": [
       "2"
      ]
     },
     "execution_count": 183,
     "metadata": {},
     "output_type": "execute_result"
    }
   ],
   "source": [
    "# insane scatter\n",
    "\n",
    "chart = tokenframe\n",
    "\n",
    "jitmean = chart[\"position\"].mean()\n",
    "\n",
    "fig = go.Figure()\n",
    "for pos in chart[\"pos\"].unique():  \n",
    "    poschart = eqloc(chart,\"pos\",pos)\n",
    "\n",
    "    fig.add_trace(go.Scattergl(\n",
    "        x = poschart[\"position\"],\n",
    "        y = poschart[\"position\"] + jitarray(jitmean,10,len(poschart)),\n",
    "        text = poschart[\"word\"],\n",
    "        mode = \"text\",\n",
    "        textfont = {\n",
    "            'size':18,\n",
    "            'color':dashrgba(randrgb(0.5))\n",
    "            },\n",
    "        name=pos\n",
    "    ))\n",
    "fig.update_layout({\n",
    "    'paper_bgcolor':'black','plot_bgcolor':'black','xaxis':{'visible':False},'yaxis':{'visible':False},\n",
    "})\n",
    "\n",
    "2\n"
   ]
  },
  {
   "cell_type": "code",
   "execution_count": 184,
   "metadata": {},
   "outputs": [],
   "source": [
    "app = JupyterDash(__name__)\n",
    "app.layout = html.Div(children=[\n",
    "    dcc.Graph(\n",
    "        id = 'scatter',\n",
    "        figure = fig,\n",
    "        style={'height':'100vh'}\n",
    "        ),\n",
    "    ],\n",
    "    style = {'backgroundcolor':'black'}              \n",
    ")"
   ]
  },
  {
   "cell_type": "code",
   "execution_count": 185,
   "metadata": {},
   "outputs": [
    {
     "data": {
      "text/html": [
       "<div>\n",
       "  <iframe src=\"/app/endpoints/e3720439806d45f79e1b1b6711fae182/\" width=800 height=600 frameborder=\"0\"></iframe>\n",
       "  <hr/><a href=\"/app/endpoints/e3720439806d45f79e1b1b6711fae182/\" target=\"_new\">Open in new window</a> for /app/endpoints/e3720439806d45f79e1b1b6711fae182/\n",
       "</div>"
      ],
      "text/plain": [
       "<jupyter_plotly_dash.dash_wrapper.JupyterDash at 0x17b2942c588>"
      ]
     },
     "execution_count": 185,
     "metadata": {},
     "output_type": "execute_result"
    }
   ],
   "source": [
    "app"
   ]
  },
  {
   "cell_type": "code",
   "execution_count": null,
   "metadata": {},
   "outputs": [],
   "source": [
    "# 'normal' scatter\n",
    "chart = geloc(freq_chart,\"frequency\",10)\n",
    "fig = go.Figure()\n",
    "colormap = colormap = [\n",
    "            dashrgba(\n",
    "                purple(\n",
    "                    heat=row[\"frequency\"],peak_heat=max(chart[\"frequency\"])\n",
    "                ))\n",
    "                    for row in rows(chart)\n",
    "            ]\n",
    "\n",
    "# could add, like, POS distinctions to this\n",
    "# or traces with character groups\n",
    "\n",
    "fig.add_trace(go.Scattergl(\n",
    "    x = chart[\"average_position\"],\n",
    "    y = chart[\"frequency\"],\n",
    "    text = chart[\"word\"],\n",
    "    marker = {\n",
    "        'color':colormap\n",
    "    },\n",
    "    mode = \"text\",\n",
    "    textfont = {\n",
    "        'size':18,\n",
    "        'color':colormap\n",
    "        },\n",
    "\n",
    "    ))\n",
    "fig.update_layout({\n",
    "    'paper_bgcolor':'black','plot_bgcolor':'black','xaxis':{'visible':False},'yaxis':{'visible':False}\n",
    "})\n",
    "app = JupyterDash(__name__)\n",
    "app.layout = html.Div(children=[\n",
    "    dcc.Graph(\n",
    "        id = 'scatter',\n",
    "        figure = fig,\n",
    "        style = {\n",
    "            'height':'100vh'\n",
    "            }\n",
    "        ),\n",
    "    ],\n",
    "    style = {'backgroundcolor':'black'}\n",
    "               \n",
    ")\n",
    "app"
   ]
  },
  {
   "cell_type": "code",
   "execution_count": null,
   "metadata": {},
   "outputs": [],
   "source": [
    "app=None"
   ]
  },
  {
   "cell_type": "code",
   "execution_count": null,
   "metadata": {
    "scrolled": true
   },
   "outputs": [],
   "source": [
    "words = random.choices(geloc(freq_chart,\"frequency\",5)[\"word\"],k=5)\n",
    "\n",
    "colors = [\"blue\", \"red\", \"green\", \"purple\", \"teal\"]\n",
    "yattr = \"position\"\n",
    "xattr = \"word\"\n",
    "\n",
    "fig = go.Figure()\n",
    "for word in words:\n",
    "    selected = eqloc(tokenframe,\"word\",word)\n",
    "    fig.add_trace(\n",
    "        go.Violin(\n",
    "            y=selected[\"position\"],\n",
    "            points=False,\n",
    "            line = {\n",
    "                'color':colors.pop()\n",
    "            },\n",
    "            marker = {\n",
    "                'color':'red'\n",
    "            },\n",
    "            name = word,\n",
    "            spanmode='hard'\n",
    "        )\n",
    "    ),\n",
    "app = JupyterDash(__name__)\n",
    "app.layout = html.Div(children=[\n",
    "    dcc.Graph(\n",
    "        id='violins',\n",
    "        figure=fig\n",
    "        )\n",
    "    ])\n",
    "app"
   ]
  },
  {
   "cell_type": "code",
   "execution_count": 186,
   "metadata": {},
   "outputs": [],
   "source": []
  },
  {
   "cell_type": "code",
   "execution_count": 239,
   "metadata": {},
   "outputs": [
    {
     "name": "stdout",
     "output_type": "stream",
     "text": [
      "Wall time: 601 ms\n"
     ]
    }
   ],
   "source": [
    "%%time\n",
    "from itertools import chain\n",
    "# return tokens along with parent and all its family members who are 'interesting'\n",
    "# reapply 'interesting' function rather than searching with in_me / contains, because it is expensive\n",
    "# and increasingly so (geometrically?) with text length\n",
    "# we might want to modify this with separate interest functions if we, like, want to filter pos separately\n",
    "\n",
    "families = [\n",
    "    [token,token.head,list(filter(interest,chain(token.head.children,[token.head])))]\n",
    "     for token in interesting_tokens\n",
    "]"
   ]
  },
  {
   "cell_type": "code",
   "execution_count": 240,
   "metadata": {},
   "outputs": [],
   "source": [
    "familyframe = pd.DataFrame([{\n",
    "    'word':family[0].lemma_.lower(),\n",
    "    'parent':family[1].lemma_.lower(),\n",
    "    'siblings':lemmatize(family[2]),\n",
    "    'sentence':family[0].sent\n",
    "    } for family in  families\n",
    "    ])"
   ]
  },
  {
   "cell_type": "code",
   "execution_count": 241,
   "metadata": {},
   "outputs": [
    {
     "data": {
      "text/html": [
       "<div>\n",
       "<style scoped>\n",
       "    .dataframe tbody tr th:only-of-type {\n",
       "        vertical-align: middle;\n",
       "    }\n",
       "\n",
       "    .dataframe tbody tr th {\n",
       "        vertical-align: top;\n",
       "    }\n",
       "\n",
       "    .dataframe thead th {\n",
       "        text-align: right;\n",
       "    }\n",
       "</style>\n",
       "<table border=\"1\" class=\"dataframe\">\n",
       "  <thead>\n",
       "    <tr style=\"text-align: right;\">\n",
       "      <th></th>\n",
       "      <th>word</th>\n",
       "      <th>parent</th>\n",
       "      <th>siblings</th>\n",
       "      <th>sentence</th>\n",
       "    </tr>\n",
       "  </thead>\n",
       "  <tbody>\n",
       "    <tr>\n",
       "      <th>0</th>\n",
       "      <td>chapter</td>\n",
       "      <td>one</td>\n",
       "      <td>[chapter]</td>\n",
       "      <td>(CHAPTER, ONE, \\n\\n)</td>\n",
       "    </tr>\n",
       "    <tr>\n",
       "      <th>1</th>\n",
       "      <td>bow</td>\n",
       "      <td>bow</td>\n",
       "      <td>[bow]</td>\n",
       "      <td>(Bow, Down, \\n\\n)</td>\n",
       "    </tr>\n",
       "    <tr>\n",
       "      <th>2</th>\n",
       "      <td>early</td>\n",
       "      <td>stamp</td>\n",
       "      <td>[early, lie, valance, stamp]</td>\n",
       "      <td>(Early, in, 1880, ,, in, spite, of, a, well, -...</td>\n",
       "    </tr>\n",
       "    <tr>\n",
       "      <th>3</th>\n",
       "      <td>spite</td>\n",
       "      <td>in</td>\n",
       "      <td>[spite]</td>\n",
       "      <td>(Early, in, 1880, ,, in, spite, of, a, well, -...</td>\n",
       "    </tr>\n",
       "    <tr>\n",
       "      <th>4</th>\n",
       "      <td>found</td>\n",
       "      <td>suspicion</td>\n",
       "      <td>[found, suspicion]</td>\n",
       "      <td>(Early, in, 1880, ,, in, spite, of, a, well, -...</td>\n",
       "    </tr>\n",
       "    <tr>\n",
       "      <th>...</th>\n",
       "      <td>...</td>\n",
       "      <td>...</td>\n",
       "      <td>...</td>\n",
       "      <td>...</td>\n",
       "    </tr>\n",
       "    <tr>\n",
       "      <th>19831</th>\n",
       "      <td>eye</td>\n",
       "      <td>bloodshot</td>\n",
       "      <td>[eye, flat, bloodshot]</td>\n",
       "      <td>(He, ran, this, way, and, that, ,, low, down, ...</td>\n",
       "    </tr>\n",
       "    <tr>\n",
       "      <th>19832</th>\n",
       "      <td>bloodshot</td>\n",
       "      <td>lie</td>\n",
       "      <td>[bloodshot, lie]</td>\n",
       "      <td>(He, ran, this, way, and, that, ,, low, down, ...</td>\n",
       "    </tr>\n",
       "    <tr>\n",
       "      <th>19833</th>\n",
       "      <td>head</td>\n",
       "      <td>flat</td>\n",
       "      <td>[head, flat]</td>\n",
       "      <td>(He, ran, this, way, and, that, ,, low, down, ...</td>\n",
       "    </tr>\n",
       "    <tr>\n",
       "      <th>19834</th>\n",
       "      <td>flat</td>\n",
       "      <td>bloodshot</td>\n",
       "      <td>[eye, flat, bloodshot]</td>\n",
       "      <td>(He, ran, this, way, and, that, ,, low, down, ...</td>\n",
       "    </tr>\n",
       "    <tr>\n",
       "      <th>19835</th>\n",
       "      <td>knee</td>\n",
       "      <td>along</td>\n",
       "      <td>[knee]</td>\n",
       "      <td>(He, ran, this, way, and, that, ,, low, down, ...</td>\n",
       "    </tr>\n",
       "  </tbody>\n",
       "</table>\n",
       "<p>19836 rows × 4 columns</p>\n",
       "</div>"
      ],
      "text/plain": [
       "            word     parent                      siblings  \\\n",
       "0        chapter        one                     [chapter]   \n",
       "1            bow        bow                         [bow]   \n",
       "2          early      stamp  [early, lie, valance, stamp]   \n",
       "3          spite         in                       [spite]   \n",
       "4          found  suspicion            [found, suspicion]   \n",
       "...          ...        ...                           ...   \n",
       "19831        eye  bloodshot        [eye, flat, bloodshot]   \n",
       "19832  bloodshot        lie              [bloodshot, lie]   \n",
       "19833       head       flat                  [head, flat]   \n",
       "19834       flat  bloodshot        [eye, flat, bloodshot]   \n",
       "19835       knee      along                        [knee]   \n",
       "\n",
       "                                                sentence  \n",
       "0                                   (CHAPTER, ONE, \\n\\n)  \n",
       "1                                      (Bow, Down, \\n\\n)  \n",
       "2      (Early, in, 1880, ,, in, spite, of, a, well, -...  \n",
       "3      (Early, in, 1880, ,, in, spite, of, a, well, -...  \n",
       "4      (Early, in, 1880, ,, in, spite, of, a, well, -...  \n",
       "...                                                  ...  \n",
       "19831  (He, ran, this, way, and, that, ,, low, down, ...  \n",
       "19832  (He, ran, this, way, and, that, ,, low, down, ...  \n",
       "19833  (He, ran, this, way, and, that, ,, low, down, ...  \n",
       "19834  (He, ran, this, way, and, that, ,, low, down, ...  \n",
       "19835  (He, ran, this, way, and, that, ,, low, down, ...  \n",
       "\n",
       "[19836 rows x 4 columns]"
      ]
     },
     "execution_count": 241,
     "metadata": {},
     "output_type": "execute_result"
    }
   ],
   "source": [
    "familyframe"
   ]
  },
  {
   "cell_type": "code",
   "execution_count": 259,
   "metadata": {},
   "outputs": [
    {
     "data": {
      "text/html": [
       "<div>\n",
       "<style scoped>\n",
       "    .dataframe tbody tr th:only-of-type {\n",
       "        vertical-align: middle;\n",
       "    }\n",
       "\n",
       "    .dataframe tbody tr th {\n",
       "        vertical-align: top;\n",
       "    }\n",
       "\n",
       "    .dataframe thead th {\n",
       "        text-align: right;\n",
       "    }\n",
       "</style>\n",
       "<table border=\"1\" class=\"dataframe\">\n",
       "  <thead>\n",
       "    <tr style=\"text-align: right;\">\n",
       "      <th></th>\n",
       "      <th>word</th>\n",
       "      <th>frequency</th>\n",
       "    </tr>\n",
       "  </thead>\n",
       "  <tbody>\n",
       "    <tr>\n",
       "      <th>0</th>\n",
       "      <td>turn</td>\n",
       "      <td>5</td>\n",
       "    </tr>\n",
       "    <tr>\n",
       "      <th>1</th>\n",
       "      <td>close</td>\n",
       "      <td>4</td>\n",
       "    </tr>\n",
       "    <tr>\n",
       "      <th>2</th>\n",
       "      <td>fix</td>\n",
       "      <td>4</td>\n",
       "    </tr>\n",
       "    <tr>\n",
       "      <th>3</th>\n",
       "      <td>open</td>\n",
       "      <td>4</td>\n",
       "    </tr>\n",
       "    <tr>\n",
       "      <th>4</th>\n",
       "      <td>see</td>\n",
       "      <td>3</td>\n",
       "    </tr>\n",
       "    <tr>\n",
       "      <th>...</th>\n",
       "      <td>...</td>\n",
       "      <td>...</td>\n",
       "    </tr>\n",
       "    <tr>\n",
       "      <th>82</th>\n",
       "      <td>flow</td>\n",
       "      <td>1</td>\n",
       "    </tr>\n",
       "    <tr>\n",
       "      <th>83</th>\n",
       "      <td>flitter</td>\n",
       "      <td>1</td>\n",
       "    </tr>\n",
       "    <tr>\n",
       "      <th>84</th>\n",
       "      <td>flat</td>\n",
       "      <td>1</td>\n",
       "    </tr>\n",
       "    <tr>\n",
       "      <th>85</th>\n",
       "      <td>find</td>\n",
       "      <td>1</td>\n",
       "    </tr>\n",
       "    <tr>\n",
       "      <th>86</th>\n",
       "      <td>withdraw</td>\n",
       "      <td>1</td>\n",
       "    </tr>\n",
       "  </tbody>\n",
       "</table>\n",
       "<p>87 rows × 2 columns</p>\n",
       "</div>"
      ],
      "text/plain": [
       "        word  frequency\n",
       "0       turn          5\n",
       "1      close          4\n",
       "2        fix          4\n",
       "3       open          4\n",
       "4        see          3\n",
       "..       ...        ...\n",
       "82      flow          1\n",
       "83   flitter          1\n",
       "84      flat          1\n",
       "85      find          1\n",
       "86  withdraw          1\n",
       "\n",
       "[87 rows x 2 columns]"
      ]
     },
     "execution_count": 259,
     "metadata": {},
     "output_type": "execute_result"
    }
   ],
   "source": [
    "this_word = \"eye\"\n",
    "make_freq_frame(\n",
    "    [word for word in eqloc(familyframe,\"word\",this_word)['siblings'].explode()\n",
    "     if word != this_word]\n",
    ")"
   ]
  },
  {
   "cell_type": "code",
   "execution_count": 264,
   "metadata": {},
   "outputs": [],
   "source": [
    "neighbor_dict = {}\n",
    "for word in familyframe[\"word\"].unique():\n",
    "    neighbor_frame = make_freq_frame([\n",
    "        member for member in eqloc(familyframe,\"word\",word)['siblings'].explode()\n",
    "        if member != word\n",
    "    ])\n",
    "    neighbor_dict[word] = neighbor_frame"
   ]
  },
  {
   "cell_type": "code",
   "execution_count": 266,
   "metadata": {},
   "outputs": [
    {
     "data": {
      "text/plain": [
       "4827"
      ]
     },
     "execution_count": 266,
     "metadata": {},
     "output_type": "execute_result"
    }
   ],
   "source": [
    "len(neighbor_dict)"
   ]
  },
  {
   "cell_type": "code",
   "execution_count": 275,
   "metadata": {},
   "outputs": [],
   "source": [
    "def neighbor_frequencies(neighbor_frame, freq_chart):\n",
    "    \"\"\"chart of frequency (in entire text) of each lemma in this word's neighbors\"\"\"\n",
    "    return [\n",
    "        float(eqloc(freq_chart,\"word\",word)[\"frequency\"]) for word in \n",
    "        neighbor_frame[\"word\"]\n",
    "        ]"
   ]
  },
  {
   "cell_type": "code",
   "execution_count": 290,
   "metadata": {},
   "outputs": [
    {
     "data": {
      "text/html": [
       "<div>\n",
       "  <iframe src=\"/app/endpoints/f80a94239bd6467fa411746d10fc4c1f/\" width=800 height=600 frameborder=\"0\"></iframe>\n",
       "  <hr/><a href=\"/app/endpoints/f80a94239bd6467fa411746d10fc4c1f/\" target=\"_new\">Open in new window</a> for /app/endpoints/f80a94239bd6467fa411746d10fc4c1f/\n",
       "</div>"
      ],
      "text/plain": [
       "<jupyter_plotly_dash.dash_wrapper.JupyterDash at 0x17bed532c50>"
      ]
     },
     "execution_count": 290,
     "metadata": {},
     "output_type": "execute_result"
    }
   ],
   "source": [
    "# 'normal' scatter\n",
    "\n",
    "fig = go.Figure()\n",
    "# colormap = colormap = [\n",
    "#             dashrgba(\n",
    "#                 purple(\n",
    "#                     heat=row[\"frequency\"],peak_heat=max(chart[\"frequency\"])\n",
    "#                 ))\n",
    "#                     for row in rows(chart)\n",
    "#             ]\n",
    "\n",
    "colors = [\"blue\", \"red\", \"purple\", \"aqua\"]\n",
    "\n",
    "minimum_frequency = 10\n",
    "trimmed_chart = geloc(freq_chart,\"frequency\",minimum_frequency)\n",
    "\n",
    "for word in trimmed_chart[\"word\"]:\n",
    "#for word in random.choices(trimmed_chart[\"word\"],k=4):\n",
    "#for word in [\"doctor\"]:\n",
    "    neighbor_frame = neighbor_dict[word]\n",
    "    fig.add_trace(go.Scattergl(\n",
    "        x = neighbor_frame[\"frequency\"],\n",
    "        y = neighbor_frequencies(neighbor_frame,freq_chart),\n",
    "        text = neighbor_frame[\"word\"],\n",
    "        mode = \"text\",\n",
    "        textfont = {\n",
    "            'size':18,\n",
    "            'color':dashrgba(randrgb(0.5))\n",
    "            },\n",
    "        name = word\n",
    "        ))\n",
    "    fig.update_layout({\n",
    "        'paper_bgcolor':'black','plot_bgcolor':'black','xaxis':{'visible':False},'yaxis':{'visible':False}\n",
    "    })\n",
    "app = JupyterDash(__name__)\n",
    "app.layout = html.Div(children=[\n",
    "    dcc.Graph(\n",
    "        id = 'scatter',\n",
    "        figure = fig,\n",
    "        style = {\n",
    "            'height':'100vh'\n",
    "            }\n",
    "        ),\n",
    "    ],\n",
    "    style = {'backgroundcolor':'black'}\n",
    "               \n",
    ")\n",
    "app"
   ]
  }
 ],
 "metadata": {
  "kernelspec": {
   "display_name": "Python 3",
   "language": "python",
   "name": "python3"
  },
  "language_info": {
   "codemirror_mode": {
    "name": "ipython",
    "version": 3
   },
   "file_extension": ".py",
   "mimetype": "text/x-python",
   "name": "python",
   "nbconvert_exporter": "python",
   "pygments_lexer": "ipython3",
   "version": "3.8.3"
  },
  "varInspector": {
   "cols": {
    "lenName": 16,
    "lenType": 16,
    "lenVar": 40
   },
   "kernels_config": {
    "python": {
     "delete_cmd_postfix": "",
     "delete_cmd_prefix": "del ",
     "library": "var_list.py",
     "varRefreshCmd": "print(var_dic_list())"
    },
    "r": {
     "delete_cmd_postfix": ") ",
     "delete_cmd_prefix": "rm(",
     "library": "var_list.r",
     "varRefreshCmd": "cat(var_dic_list()) "
    }
   },
   "types_to_exclude": [
    "module",
    "function",
    "builtin_function_or_method",
    "instance",
    "_Feature"
   ],
   "window_display": false
  }
 },
 "nbformat": 4,
 "nbformat_minor": 4
}
