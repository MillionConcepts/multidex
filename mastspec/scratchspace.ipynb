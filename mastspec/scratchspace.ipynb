{
 "cells": [
  {
   "cell_type": "code",
   "execution_count": 1,
   "metadata": {},
   "outputs": [],
   "source": [
    "from functools import reduce\n",
    "import os\n",
    "from operator import or_, and_\n",
    "\n",
    "import dash\n",
    "import dash_core_components as dcc\n",
    "import dash_html_components as html\n",
    "from dash.dependencies import Input, Output, State\n",
    "from dateutil.parser import parse\n",
    "import django\n",
    "from django.db.models import Q\n",
    "from flask_caching import Cache\n",
    "#from jupyter_plotly_dash import JupyterDash\n",
    "import pandas as pd\n",
    "import plotly.express as px\n",
    "import plotly.graph_objects as go\n",
    "from toolz import merge, isiterable\n",
    "\n",
    "# to make jupyter-plotly-dash work, had to install jupyter_server_proxy explicitly\n",
    "# pip install jupyter_server_proxy\n",
    "# jupyter serverextension enable jupyter_server_proxy\n",
    "# but honestly it sort of isn't very good anyway\n",
    "\n",
    "os.environ.setdefault(\"DJANGO_SETTINGS_MODULE\", \"mastspec.settings\")\n",
    "os.environ[\"DJANGO_ALLOW_ASYNC_UNSAFE\"] = \"true\"\n",
    "django.setup()\n",
    "\n",
    "from plotter.models import *\n",
    "# from plotter.views import *\n",
    "# from plotter.forms import *\n",
    "from utils import rows, columns"
   ]
  },
  {
   "cell_type": "code",
   "execution_count": 2,
   "metadata": {},
   "outputs": [],
   "source": [
    "app = dash.Dash()\n",
    "CACHE_CONFIG = {\n",
    "    'CACHE_TYPE': 'filesystem',\n",
    "    'CACHE_DIR': './.cache'\n",
    "}\n",
    "cache = Cache()\n",
    "cache.init_app(app.server, config=CACHE_CONFIG)\n",
    "\n",
    "# we're using this to create thread-safe global values.\n",
    "# also caching relatively expensive things like database lookups to the filesystem.\n",
    "# is this actually slower? maybe. if so we will supplement with storing\n",
    "# data in divs.\n",
    "\n",
    "def cset(key, value):\n",
    "    cache.set(key, value)\n",
    "\n",
    "def cget(key):\n",
    "    return cache.get(key)"
   ]
  },
  {
   "cell_type": "code",
   "execution_count": 3,
   "metadata": {},
   "outputs": [],
   "source": [
    "def main_graph():\n",
    "    return dcc.Graph(\n",
    "            id = 'main-graph',\n",
    "            figure = go.Figure(),\n",
    "            style={'height':'100vh'}\n",
    "        )"
   ]
  },
  {
   "cell_type": "code",
   "execution_count": 4,
   "metadata": {},
   "outputs": [],
   "source": [
    "@cache.memoize()\n",
    "def qlist(queryset, attribute):\n",
    "    return list(queryset.values_list(attribute, flat=True))\n",
    "\n",
    "@cache.memoize()\n",
    "def qset_axes(queryset, x_val, y_val):\n",
    "    \"\"\"\n",
    "    make a pair of flat lists from a queryset based on passed fields.\n",
    "    for stuff like plots\n",
    "    this can be made much fancier\n",
    "    \"\"\"\n",
    "    return [qlist(queryset, x_val), qlist(queryset, y_val)]"
   ]
  },
  {
   "cell_type": "code",
   "execution_count": 5,
   "metadata": {},
   "outputs": [],
   "source": [
    "def scatter(queryset, x_val, y_val):\n",
    "    fig = go.Figure()\n",
    "    axes = qset_axes(queryset, x_val, y_val)\n",
    "    fig.add_trace(go.Scattergl(\n",
    "        x = axes[0],\n",
    "        y = axes[1],\n",
    "        # change this to be hella popup text\n",
    "        text = None,\n",
    "        marker = {\n",
    "            'color':'blue'\n",
    "        },\n",
    "        ))\n",
    "    return fig"
   ]
  },
  {
   "cell_type": "code",
   "execution_count": 6,
   "metadata": {},
   "outputs": [],
   "source": [
    "@cache.memoize()\n",
    "def flexible_query(queryset, field, value):\n",
    "    \"\"\"\n",
    "    little search function that checks exact and loose phrases\n",
    "    \"\"\"\n",
    "    # allow exact phrase searches\n",
    "    query = field + \"__iexact\"\n",
    "    if queryset.filter(**{query: value}):\n",
    "        return queryset.filter(**{query: value})\n",
    "    # otherwise treat multiple words as an 'or' search\n",
    "    query = field + \"__icontains\"\n",
    "    filters = [\n",
    "        queryset.filter(**{query: word}) for word in value.split(\" \")\n",
    "    ]\n",
    "    return reduce(or_, filters)"
   ]
  },
  {
   "cell_type": "code",
   "execution_count": 7,
   "metadata": {},
   "outputs": [],
   "source": [
    "@cache.memoize()\n",
    "def particular_fields_search(model, search_dict, searchable_fields):\n",
    "    \"\"\"\n",
    "    'search specific defined fields' function.\n",
    "    works only on strings atm!\n",
    "    other things for numeric / date / etc. fields preferably\n",
    "    \n",
    "    'searchable fields' is a little clumsy -- but it specifically\n",
    "    makes the function a little more fault-tolerant.\n",
    "    \"\"\"\n",
    "    queryset = model.objects.all()\n",
    "    # allow either single entries or lists of entries\n",
    "    print(search_dict)\n",
    "    for field in searchable_fields:\n",
    "        entry = search_dict.get(field)\n",
    "        if entry:\n",
    "            entry = list(entry)\n",
    "            filters = [flexible_query(queryset, field, value) for value in entry]\n",
    "            queryset = reduce(or_,filters)\n",
    "    return queryset"
   ]
  },
  {
   "cell_type": "code",
   "execution_count": 8,
   "metadata": {},
   "outputs": [],
   "source": [
    "def filter_drop(model, element_id):\n",
    "    \"\"\"dropdown for filter selection\"\"\"\n",
    "    return dcc.Dropdown(\n",
    "        id=element_id,\n",
    "        options=[{'label': filt, 'value': filt}\n",
    "                 for filt in model.filters],\n",
    "        style = {'width':'10rem', 'display':'inline-block'}\n",
    "    )"
   ]
  },
  {
   "cell_type": "code",
   "execution_count": 9,
   "metadata": {},
   "outputs": [],
   "source": [
    "def field_drop(fields, element_id):\n",
    "    \"\"\"dropdown for field selection -- no special logic atm\"\"\"\n",
    "    return dcc.Dropdown(\n",
    "        id=element_id,\n",
    "        options = [{'label': field, 'value': field}\n",
    "                 for field in fields]\n",
    "    )"
   ]
  },
  {
   "cell_type": "code",
   "execution_count": 10,
   "metadata": {},
   "outputs": [],
   "source": [
    "def field_values(queryset, field):\n",
    "    \"\"\"\n",
    "    generates dict if all unique values in model's field\n",
    "    + any and blank, for passing to HTML select constructors\n",
    "    as this is based on current queryset,\n",
    "    it will by default display options as constrained by other search\n",
    "    parameters. this has upsides and downsides.\n",
    "    it will also lead to odd behavior if care is not given.\n",
    "    maybe it's a bad idea.\n",
    "    \"\"\"\n",
    "    options_list = [\n",
    "            {'label': item, 'value': item}\n",
    "            for item in set(qlist(queryset,field))\n",
    "            if item not in ['','nan']\n",
    "        ]\n",
    "    special_options = [\n",
    "        {'label':'any',  'value':'any'},\n",
    "        # too annoying to detect all 'blank' things atm\n",
    "        # {'label':'no assigned value','value':''}\n",
    "    ]\n",
    "    return special_options + options_list\n",
    "\n",
    "\n",
    "def model_options_drop(queryset, field, element_id):\n",
    "    \"\"\"\n",
    "    dropdown for selecting search value for a specific field\n",
    "    could end up getting unmanageable as a UI element\n",
    "    \"\"\"\n",
    "    return dcc.Dropdown(\n",
    "        id=element_id,\n",
    "        options=field_values(queryset, field),\n",
    "        multi = True\n",
    "    )"
   ]
  },
  {
   "cell_type": "code",
   "execution_count": 11,
   "metadata": {},
   "outputs": [],
   "source": [
    "@cache.memoize()\n",
    "def handle_search(model, search_dict, searchable_fields):\n",
    "    \"\"\"\n",
    "    dispatcher. right now just handles 'no assigned'\n",
    "    and 'any' cases\n",
    "    \"\"\"\n",
    "    for field, value in search_dict.items():\n",
    "        if 'any' in value:\n",
    "            return model.objects.all()\n",
    "    return particular_fields_search(model, search_dict, searchable_fields)\n"
   ]
  },
  {
   "cell_type": "code",
   "execution_count": 16,
   "metadata": {},
   "outputs": [],
   "source": [
    "#app = JupyterDash('TestGraph')\n",
    "fig = main_graph()\n",
    "#dataset_function = make_mspec_axes\n",
    "graph_function = scatter\n",
    "model = MSpec \n",
    "searchable_fields = ['group','formation','member']\n",
    "# active queryset is explicitly stored in global cache\n",
    "cset('queryset', model.objects.all())\n",
    "\n",
    "# it's a big open UX question how to gracefully mutate filters between instruments.\n",
    "# it might be that flexible band values are actually better than explicit filter\n",
    "# selection.\n",
    "app.layout = html.Div(children = [\n",
    "    filter_drop(model,'filter-1'),\n",
    "    filter_drop(model,'filter-2'),\n",
    "    filter_drop(model,'filter-3'),\n",
    "    # will probably want to split divs off here so we can generate new search rows\n",
    "    # how do we manage that in callbacks? is there a name selector?\n",
    "    field_drop(searchable_fields, 'field-search'),\n",
    "    model_options_drop(cget('queryset'), 'group', 'value-search'),\n",
    "    html.Button(id='submit-search', n_clicks=0, children='Submit'),\n",
    "    html.Div(children = [fig]),\n",
    "    html.Div(id = 'update-signal', style={\"display\":\"none\"}),\n",
    "])\n",
    "\n",
    "@app.callback(\n",
    "    dash.dependencies.Output('main-graph', 'figure'),\n",
    "    [dash.dependencies.Input('filter-1', 'value'),\n",
    "     dash.dependencies.Input('filter-2', 'value'),\n",
    "     dash.dependencies.Input('update-signal', 'value'),\n",
    "    ])\n",
    "def update_graph_calculation(filt, filt2):\n",
    "    # move axes construction to a different function\n",
    "    queryset = cget(\"queryset\")\n",
    "    return graph_function(queryset, filt+'_mean', filt2+'_mean')\n",
    "\n",
    "\n",
    "@app.callback(Output('value-search', 'options'),\n",
    "              [Input('field-search', 'value')],\n",
    "             )\n",
    "def update_model_field(field):\n",
    "    \"\"\"populate set of values when field in search box changes\"\"\"\n",
    "    queryset = cget(\"queryset\")\n",
    "    return field_values(queryset, field)\n",
    "\n",
    "    \n",
    "@app.callback(Output('update-signal', 'value'),\n",
    "              [Input('submit-search', 'n_clicks')],\n",
    "              [State('field-search', 'value'),\n",
    "               State('value-search', 'value')])\n",
    "def update_queryset(n_clicks, field, value):\n",
    "    \"\"\"\n",
    "    updates the spectra displayed in the graph view.\n",
    "    \"\"\"\n",
    "    print(field,value)\n",
    "    if handle_search(\n",
    "        model, {field:value}, searchable_fields\n",
    "    ) != cget(\"queryset\"):\n",
    "        cset(\n",
    "            \"queryset\", \n",
    "            particular_fields_search(model, {field:value}, [field])\n",
    "        )\n",
    "        return n_clicks\n",
    "    \n",
    "    "
   ]
  },
  {
   "cell_type": "code",
   "execution_count": 13,
   "metadata": {
    "scrolled": true
   },
   "outputs": [
    {
     "name": "stdout",
     "output_type": "stream",
     "text": [
      "Dash is running on http://127.0.0.1:8050/\n",
      "\n",
      " Warning: This is a development server. Do not use app.run_server\n",
      " in production, use a production WSGI server like gunicorn instead.\n",
      "\n",
      " * Serving Flask app \"__main__\" (lazy loading)\n",
      " * Environment: production\n",
      "\u001b[31m   WARNING: This is a development server. Do not use it in a production deployment.\u001b[0m\n",
      "\u001b[2m   Use a production WSGI server instead.\u001b[0m\n",
      " * Debug mode: off\n"
     ]
    },
    {
     "name": "stderr",
     "output_type": "stream",
     "text": [
      " * Running on http://127.0.0.1:8050/ (Press CTRL+C to quit)\n",
      "127.0.0.1 - - [27/Jun/2020 00:24:42] \"\u001b[37mGET / HTTP/1.1\u001b[0m\" 200 -\n",
      "127.0.0.1 - - [27/Jun/2020 00:24:43] \"\u001b[37mGET /_dash-component-suites/dash_renderer/react@16.v1_5_0m1592852348.13.0.min.js HTTP/1.1\u001b[0m\" 200 -\n",
      "127.0.0.1 - - [27/Jun/2020 00:24:43] \"\u001b[37mGET /_dash-component-suites/dash_renderer/prop-types@15.v1_5_0m1592852348.7.2.min.js HTTP/1.1\u001b[0m\" 200 -\n",
      "127.0.0.1 - - [27/Jun/2020 00:24:43] \"\u001b[37mGET /_dash-component-suites/dash_renderer/polyfill@7.v1_5_0m1592852348.8.7.min.js HTTP/1.1\u001b[0m\" 200 -\n",
      "127.0.0.1 - - [27/Jun/2020 00:24:43] \"\u001b[37mGET /_dash-component-suites/dash_html_components/dash_html_components.v1_0_3m1592852348.min.js HTTP/1.1\u001b[0m\" 200 -\n",
      "127.0.0.1 - - [27/Jun/2020 00:24:43] \"\u001b[37mGET /_dash-component-suites/dash_core_components/dash_core_components-shared.v1_10_1m1592852348.js HTTP/1.1\u001b[0m\" 200 -\n",
      "127.0.0.1 - - [27/Jun/2020 00:24:43] \"\u001b[37mGET /_dash-component-suites/dash_renderer/react-dom@16.v1_5_0m1592852348.13.0.min.js HTTP/1.1\u001b[0m\" 200 -\n",
      "127.0.0.1 - - [27/Jun/2020 00:24:43] \"\u001b[37mGET /_dash-component-suites/dash_core_components/dash_core_components.v1_10_1m1592852348.min.js HTTP/1.1\u001b[0m\" 200 -\n",
      "127.0.0.1 - - [27/Jun/2020 00:24:43] \"\u001b[37mGET /_dash-component-suites/dash_renderer/dash_renderer.v1_5_0m1592852348.min.js HTTP/1.1\u001b[0m\" 200 -\n",
      "127.0.0.1 - - [27/Jun/2020 00:24:43] \"\u001b[37mGET /_dash-layout HTTP/1.1\u001b[0m\" 200 -\n",
      "127.0.0.1 - - [27/Jun/2020 00:24:43] \"\u001b[37mGET /_dash-dependencies HTTP/1.1\u001b[0m\" 200 -\n"
     ]
    },
    {
     "name": "stdout",
     "output_type": "stream",
     "text": [
      "None None\n",
      "Exception on /_dash-update-component [POST]\n",
      "Traceback (most recent call last):\n",
      "  File \"/home/michael/.local/lib/python3.8/site-packages/flask/app.py\", line 2447, in wsgi_app\n",
      "    response = self.full_dispatch_request()\n",
      "  File \"/home/michael/.local/lib/python3.8/site-packages/flask/app.py\", line 1952, in full_dispatch_request\n",
      "    rv = self.handle_user_exception(e)\n",
      "  File \"/home/michael/.local/lib/python3.8/site-packages/flask/app.py\", line 1821, in handle_user_exception\n",
      "    reraise(exc_type, exc_value, tb)\n",
      "  File \"/home/michael/.local/lib/python3.8/site-packages/flask/_compat.py\", line 39, in reraise\n",
      "    raise value\n",
      "  File \"/home/michael/.local/lib/python3.8/site-packages/flask/app.py\", line 1950, in full_dispatch_request\n",
      "    rv = self.dispatch_request()\n",
      "  File \"/home/michael/.local/lib/python3.8/site-packages/flask/app.py\", line 1936, in dispatch_request\n",
      "    return self.view_functions[rule.endpoint](**req.view_args)\n",
      "  File \"/home/michael/.local/lib/python3.8/site-packages/dash/dash.py\", line 1031, in dispatch\n",
      "    response.set_data(func(*args, outputs_list=outputs_list))\n",
      "  File \"/home/michael/.local/lib/python3.8/site-packages/dash/dash.py\", line 966, in add_context\n",
      "    output_value = func(*args, **kwargs)  # %% callback invoked %%\n",
      "  File \"<ipython-input-12-9885fb90a13c>\", line 44, in update_model_field\n",
      "    return field_values(queryset, field)\n",
      "  File \"<ipython-input-10-96594426d28f>\", line 13, in field_values\n",
      "    for item in set(qlist(queryset,field))\n",
      "  File \"/home/michael/anaconda3/envs/mastspec/lib/python3.8/site-packages/flask_caching/__init__.py\", line 779, in decorated_function\n",
      "    rv = f(*args, **kwargs)\n",
      "  File \"<ipython-input-4-1f33dfa57122>\", line 3, in qlist\n",
      "    return list(queryset.values_list(attribute, flat=True))\n",
      "  File \"/home/michael/anaconda3/envs/mastspec/lib/python3.8/site-packages/django/db/models/query.py\", line 836, in values_list\n",
      "    clone = self._values(*_fields, **expressions)\n",
      "  File \"/home/michael/anaconda3/envs/mastspec/lib/python3.8/site-packages/django/db/models/query.py\", line 804, in _values\n",
      "    clone.query.set_values(fields)\n",
      "  File \"/home/michael/anaconda3/envs/mastspec/lib/python3.8/site-packages/django/db/models/sql/query.py\", line 2155, in set_values\n",
      "    self.add_fields(field_names, True)\n",
      "  File \"/home/michael/anaconda3/envs/mastspec/lib/python3.8/site-packages/django/db/models/sql/query.py\", line 1866, in add_fields\n",
      "    join_info = self.setup_joins(name.split(LOOKUP_SEP), opts, alias, allow_many=allow_m2m)\n",
      "AttributeError: 'NoneType' object has no attribute 'split'\n"
     ]
    },
    {
     "name": "stderr",
     "output_type": "stream",
     "text": [
      "127.0.0.1 - - [27/Jun/2020 00:24:43] \"\u001b[35m\u001b[1mPOST /_dash-update-component HTTP/1.1\u001b[0m\" 500 -\n"
     ]
    },
    {
     "name": "stdout",
     "output_type": "stream",
     "text": [
      "Exception on /_dash-update-component [POST]\n",
      "Traceback (most recent call last):\n",
      "  File \"/home/michael/.local/lib/python3.8/site-packages/flask/app.py\", line 2447, in wsgi_app\n",
      "    response = self.full_dispatch_request()\n",
      "  File \"/home/michael/.local/lib/python3.8/site-packages/flask/app.py\", line 1952, in full_dispatch_request\n",
      "    rv = self.handle_user_exception(e)\n",
      "  File \"/home/michael/.local/lib/python3.8/site-packages/flask/app.py\", line 1821, in handle_user_exception\n",
      "    reraise(exc_type, exc_value, tb)\n",
      "  File \"/home/michael/.local/lib/python3.8/site-packages/flask/_compat.py\", line 39, in reraise\n",
      "    raise value\n",
      "  File \"/home/michael/.local/lib/python3.8/site-packages/flask/app.py\", line 1950, in full_dispatch_request\n",
      "    rv = self.dispatch_request()\n",
      "  File \"/home/michael/.local/lib/python3.8/site-packages/flask/app.py\", line 1936, in dispatch_request\n",
      "    return self.view_functions[rule.endpoint](**req.view_args)\n",
      "  File \"/home/michael/.local/lib/python3.8/site-packages/dash/dash.py\", line 1031, in dispatch\n",
      "    response.set_data(func(*args, outputs_list=outputs_list))\n",
      "  File \"/home/michael/.local/lib/python3.8/site-packages/dash/dash.py\", line 966, in add_context\n",
      "    output_value = func(*args, **kwargs)  # %% callback invoked %%\n",
      "  File \"<ipython-input-12-9885fb90a13c>\", line 35, in update_graph_calculation\n",
      "    return graph_function(queryset, filt+'_mean', filt2+'_mean')\n",
      "TypeError: unsupported operand type(s) for +: 'NoneType' and 'str'\n"
     ]
    },
    {
     "name": "stderr",
     "output_type": "stream",
     "text": [
      "127.0.0.1 - - [27/Jun/2020 00:24:43] \"\u001b[35m\u001b[1mPOST /_dash-update-component HTTP/1.1\u001b[0m\" 500 -\n"
     ]
    },
    {
     "name": "stdout",
     "output_type": "stream",
     "text": [
      "Exception on /_dash-update-component [POST]\n",
      "Traceback (most recent call last):\n",
      "  File \"/home/michael/.local/lib/python3.8/site-packages/flask/app.py\", line 2447, in wsgi_app\n",
      "    response = self.full_dispatch_request()\n",
      "  File \"/home/michael/.local/lib/python3.8/site-packages/flask/app.py\", line 1952, in full_dispatch_request\n",
      "    rv = self.handle_user_exception(e)\n",
      "  File \"/home/michael/.local/lib/python3.8/site-packages/flask/app.py\", line 1821, in handle_user_exception\n",
      "    reraise(exc_type, exc_value, tb)\n",
      "  File \"/home/michael/.local/lib/python3.8/site-packages/flask/_compat.py\", line 39, in reraise\n",
      "    raise value\n",
      "  File \"/home/michael/.local/lib/python3.8/site-packages/flask/app.py\", line 1950, in full_dispatch_request\n",
      "    rv = self.dispatch_request()\n",
      "  File \"/home/michael/.local/lib/python3.8/site-packages/flask/app.py\", line 1936, in dispatch_request\n",
      "    return self.view_functions[rule.endpoint](**req.view_args)\n",
      "  File \"/home/michael/.local/lib/python3.8/site-packages/dash/dash.py\", line 1031, in dispatch\n",
      "    response.set_data(func(*args, outputs_list=outputs_list))\n",
      "  File \"/home/michael/.local/lib/python3.8/site-packages/dash/dash.py\", line 966, in add_context\n",
      "    output_value = func(*args, **kwargs)  # %% callback invoked %%\n",
      "  File \"<ipython-input-12-9885fb90a13c>\", line 56, in update_queryset\n",
      "    if handle_search(\n",
      "  File \"/home/michael/anaconda3/envs/mastspec/lib/python3.8/site-packages/flask_caching/__init__.py\", line 779, in decorated_function\n",
      "    rv = f(*args, **kwargs)\n",
      "  File \"<ipython-input-11-455417a29b93>\", line 8, in handle_search\n",
      "    if 'any' in value:\n",
      "TypeError: argument of type 'NoneType' is not iterable\n"
     ]
    },
    {
     "name": "stderr",
     "output_type": "stream",
     "text": [
      "127.0.0.1 - - [27/Jun/2020 00:24:43] \"\u001b[35m\u001b[1mPOST /_dash-update-component HTTP/1.1\u001b[0m\" 500 -\n",
      "127.0.0.1 - - [27/Jun/2020 00:24:44] \"\u001b[37mPOST /_dash-update-component HTTP/1.1\u001b[0m\" 200 -\n",
      "127.0.0.1 - - [27/Jun/2020 00:24:47] \"\u001b[37mPOST /_dash-update-component HTTP/1.1\u001b[0m\" 200 -\n"
     ]
    },
    {
     "name": "stdout",
     "output_type": "stream",
     "text": [
      "member ['Pettegrove Point']\n",
      "{'member': ['Pettegrove Point']}\n",
      "{'member': ['Pettegrove Point']}\n",
      "Exception on /_dash-update-component [POST]\n",
      "Traceback (most recent call last):\n",
      "  File \"/home/michael/.local/lib/python3.8/site-packages/flask/app.py\", line 2447, in wsgi_app\n",
      "    response = self.full_dispatch_request()\n",
      "  File \"/home/michael/.local/lib/python3.8/site-packages/flask/app.py\", line 1952, in full_dispatch_request\n",
      "    rv = self.handle_user_exception(e)\n",
      "  File \"/home/michael/.local/lib/python3.8/site-packages/flask/app.py\", line 1821, in handle_user_exception\n",
      "    reraise(exc_type, exc_value, tb)\n",
      "  File \"/home/michael/.local/lib/python3.8/site-packages/flask/_compat.py\", line 39, in reraise\n",
      "    raise value\n",
      "  File \"/home/michael/.local/lib/python3.8/site-packages/flask/app.py\", line 1950, in full_dispatch_request\n",
      "    rv = self.dispatch_request()\n",
      "  File \"/home/michael/.local/lib/python3.8/site-packages/flask/app.py\", line 1936, in dispatch_request\n",
      "    return self.view_functions[rule.endpoint](**req.view_args)\n",
      "  File \"/home/michael/.local/lib/python3.8/site-packages/dash/dash.py\", line 1031, in dispatch\n",
      "    response.set_data(func(*args, outputs_list=outputs_list))\n",
      "  File \"/home/michael/.local/lib/python3.8/site-packages/dash/dash.py\", line 966, in add_context\n",
      "    output_value = func(*args, **kwargs)  # %% callback invoked %%\n",
      "  File \"<ipython-input-12-9885fb90a13c>\", line 35, in update_graph_calculation\n",
      "    return graph_function(queryset, filt+'_mean', filt2+'_mean')\n",
      "TypeError: unsupported operand type(s) for +: 'NoneType' and 'str'\n"
     ]
    },
    {
     "name": "stderr",
     "output_type": "stream",
     "text": [
      "127.0.0.1 - - [27/Jun/2020 00:25:05] \"\u001b[35m\u001b[1mPOST /_dash-update-component HTTP/1.1\u001b[0m\" 500 -\n",
      "127.0.0.1 - - [27/Jun/2020 00:25:07] \"\u001b[37mPOST /_dash-update-component HTTP/1.1\u001b[0m\" 200 -\n",
      "127.0.0.1 - - [27/Jun/2020 00:25:10] \"\u001b[37mPOST /_dash-update-component HTTP/1.1\u001b[0m\" 200 -\n"
     ]
    },
    {
     "name": "stdout",
     "output_type": "stream",
     "text": [
      "member ['Pettegrove Point']\n"
     ]
    },
    {
     "name": "stderr",
     "output_type": "stream",
     "text": [
      "127.0.0.1 - - [27/Jun/2020 00:25:13] \"\u001b[37mPOST /_dash-update-component HTTP/1.1\u001b[0m\" 200 -\n"
     ]
    },
    {
     "name": "stdout",
     "output_type": "stream",
     "text": [
      "member ['any']\n",
      "{'member': ['any']}\n"
     ]
    },
    {
     "name": "stderr",
     "output_type": "stream",
     "text": [
      "127.0.0.1 - - [27/Jun/2020 00:25:32] \"\u001b[37mPOST /_dash-update-component HTTP/1.1\u001b[0m\" 200 -\n"
     ]
    },
    {
     "name": "stdout",
     "output_type": "stream",
     "text": [
      "member ['any', 'Blunts Point']\n",
      "{'member': ['any', 'Blunts Point']}\n"
     ]
    },
    {
     "name": "stderr",
     "output_type": "stream",
     "text": [
      "127.0.0.1 - - [27/Jun/2020 00:25:38] \"\u001b[37mPOST /_dash-update-component HTTP/1.1\u001b[0m\" 200 -\n",
      "127.0.0.1 - - [27/Jun/2020 00:25:44] \"\u001b[37mPOST /_dash-update-component HTTP/1.1\u001b[0m\" 200 -\n"
     ]
    },
    {
     "name": "stdout",
     "output_type": "stream",
     "text": [
      "member ['Blunts Point']\n",
      "{'member': ['Blunts Point']}\n",
      "{'member': ['Blunts Point']}\n"
     ]
    },
    {
     "name": "stderr",
     "output_type": "stream",
     "text": [
      "127.0.0.1 - - [27/Jun/2020 00:25:46] \"\u001b[37mPOST /_dash-update-component HTTP/1.1\u001b[0m\" 200 -\n",
      "127.0.0.1 - - [27/Jun/2020 00:25:47] \"\u001b[37mPOST /_dash-update-component HTTP/1.1\u001b[0m\" 200 -\n",
      "127.0.0.1 - - [27/Jun/2020 00:25:53] \"\u001b[37mPOST /_dash-update-component HTTP/1.1\u001b[0m\" 200 -\n"
     ]
    },
    {
     "name": "stdout",
     "output_type": "stream",
     "text": [
      "member ['Pettegrove Point']\n"
     ]
    },
    {
     "name": "stderr",
     "output_type": "stream",
     "text": [
      "127.0.0.1 - - [27/Jun/2020 00:25:55] \"\u001b[37mPOST /_dash-update-component HTTP/1.1\u001b[0m\" 200 -\n",
      "127.0.0.1 - - [27/Jun/2020 00:25:56] \"\u001b[37mPOST /_dash-update-component HTTP/1.1\u001b[0m\" 200 -\n"
     ]
    }
   ],
   "source": [
    "app.run_server()"
   ]
  },
  {
   "cell_type": "code",
   "execution_count": 14,
   "metadata": {},
   "outputs": [],
   "source": [
    "# ok so something that wraps querysets for plotly?\n",
    "# we want both the requested attributes and at least the id,\n",
    "# name, etc.\n",
    "# so that people can query more information about chosen spectra"
   ]
  },
  {
   "cell_type": "code",
   "execution_count": null,
   "metadata": {},
   "outputs": [],
   "source": []
  },
  {
   "cell_type": "code",
   "execution_count": 15,
   "metadata": {},
   "outputs": [
    {
     "data": {
      "text/plain": [
       "[0.0237608,\n",
       " 0.0280853,\n",
       " 0.0337442,\n",
       " 0.0383073,\n",
       " 0.0387425,\n",
       " 0.0411567,\n",
       " 0.0412882,\n",
       " 0.0419614,\n",
       " 0.0423339,\n",
       " 0.042713,\n",
       " 0.0441043,\n",
       " 0.04674980000000001,\n",
       " 0.047032300000000006,\n",
       " 0.0475577,\n",
       " 0.0480634,\n",
       " 0.0484816,\n",
       " 0.050754,\n",
       " 0.0526092,\n",
       " 0.053677300000000004,\n",
       " 0.0546345,\n",
       " 0.0552187,\n",
       " 0.0559943,\n",
       " 0.056528499999999995,\n",
       " 0.0566413,\n",
       " 0.0571621,\n",
       " 0.0578167,\n",
       " 0.0581981,\n",
       " 0.0585279,\n",
       " 0.0586969,\n",
       " 0.0587613,\n",
       " 0.0593444,\n",
       " 0.059511,\n",
       " 0.060364,\n",
       " 0.0612956,\n",
       " 0.0637921,\n",
       " 0.0651862,\n",
       " 0.0662063,\n",
       " 0.0663451,\n",
       " 0.0664366,\n",
       " 0.0664608,\n",
       " 0.0668331,\n",
       " 0.0675409,\n",
       " 0.0698208,\n",
       " 0.0703875,\n",
       " 0.0705468,\n",
       " 0.0706024,\n",
       " 0.0717811,\n",
       " 0.0717839,\n",
       " 0.07209700000000001,\n",
       " 0.0720973,\n",
       " 0.0721146,\n",
       " 0.0724487,\n",
       " 0.074193,\n",
       " 0.0746481,\n",
       " 0.0753126,\n",
       " 0.0757304,\n",
       " 0.0758824,\n",
       " 0.0770826,\n",
       " 0.0783989,\n",
       " 0.0787573,\n",
       " 0.0797769,\n",
       " 0.0818121,\n",
       " 0.0819947,\n",
       " 0.0825772,\n",
       " 0.0834599,\n",
       " 0.0835757,\n",
       " 0.0838774,\n",
       " 0.0840248,\n",
       " 0.084342,\n",
       " 0.0855597,\n",
       " 0.085898,\n",
       " 0.0867631,\n",
       " 0.0868865,\n",
       " 0.0870892,\n",
       " 0.089253,\n",
       " 0.0900245,\n",
       " 0.0934586,\n",
       " 0.0939735,\n",
       " 0.0941657,\n",
       " 0.0942957,\n",
       " 0.0998562,\n",
       " 0.101497,\n",
       " 0.107403,\n",
       " 0.108615,\n",
       " 0.116061,\n",
       " 0.122302,\n",
       " 0.154912,\n",
       " 0.177216]"
      ]
     },
     "execution_count": 15,
     "metadata": {},
     "output_type": "execute_result"
    }
   ],
   "source": [
    "qlist(MSpec.objects.all(), 'L2_mean')"
   ]
  }
 ],
 "metadata": {
  "kernelspec": {
   "display_name": "Python 3",
   "language": "python",
   "name": "python3"
  },
  "language_info": {
   "codemirror_mode": {
    "name": "ipython",
    "version": 3
   },
   "file_extension": ".py",
   "mimetype": "text/x-python",
   "name": "python",
   "nbconvert_exporter": "python",
   "pygments_lexer": "ipython3",
   "version": "3.8.3"
  },
  "varInspector": {
   "cols": {
    "lenName": 16,
    "lenType": 16,
    "lenVar": 40
   },
   "kernels_config": {
    "python": {
     "delete_cmd_postfix": "",
     "delete_cmd_prefix": "del ",
     "library": "var_list.py",
     "varRefreshCmd": "print(var_dic_list())"
    },
    "r": {
     "delete_cmd_postfix": ") ",
     "delete_cmd_prefix": "rm(",
     "library": "var_list.r",
     "varRefreshCmd": "cat(var_dic_list()) "
    }
   },
   "types_to_exclude": [
    "module",
    "function",
    "builtin_function_or_method",
    "instance",
    "_Feature"
   ],
   "window_display": false
  }
 },
 "nbformat": 4,
 "nbformat_minor": 4
}
