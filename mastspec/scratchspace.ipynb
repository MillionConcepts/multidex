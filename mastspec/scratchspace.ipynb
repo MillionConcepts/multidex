{
 "cells": [
  {
   "cell_type": "code",
   "execution_count": 23,
   "metadata": {},
   "outputs": [],
   "source": [
    "from functools import reduce\n",
    "import os\n",
    "from operator import or_, and_, contains\n",
    "\n",
    "import dash\n",
    "import dash_core_components as dcc\n",
    "import dash_html_components as html\n",
    "from dash.dependencies import Input, Output, State\n",
    "from dash.exceptions import PreventUpdate\n",
    "from dateutil.parser import parse\n",
    "import django\n",
    "from django.db.models import Q\n",
    "from flask_caching import Cache\n",
    "#from jupyter_plotly_dash import JupyterDash\n",
    "import pandas as pd\n",
    "import plotly.express as px\n",
    "import plotly.graph_objects as go\n",
    "from toolz import keyfilter, merge, isiterable, get_in\n",
    "\n",
    "# to make jupyter-plotly-dash work, had to install jupyter_server_proxy explicitly\n",
    "# pip install jupyter_server_proxy\n",
    "# jupyter serverextension enable jupyter_server_proxy\n",
    "# but honestly it sort of isn't very good anyway\n",
    "\n",
    "os.environ.setdefault(\"DJANGO_SETTINGS_MODULE\", \"mastspec.settings\")\n",
    "os.environ[\"DJANGO_ALLOW_ASYNC_UNSAFE\"] = \"true\"\n",
    "django.setup()\n",
    "\n",
    "from plotter.models import *\n",
    "# from plotter.views import *\n",
    "# from plotter.forms import *\n",
    "from utils import rows, columns, eta_methods, keygrab, in_me"
   ]
  },
  {
   "cell_type": "code",
   "execution_count": 2,
   "metadata": {},
   "outputs": [],
   "source": [
    "app = dash.Dash()\n",
    "CACHE_CONFIG = {\n",
    "    'CACHE_TYPE': 'filesystem',\n",
    "    'CACHE_DIR': './.cache'\n",
    "}\n",
    "cache = Cache()\n",
    "cache.init_app(app.server, config=CACHE_CONFIG)\n",
    "\n",
    "# we're using this to create thread-safe global values.\n",
    "# also caching relatively expensive things like database lookups to the filesystem.\n",
    "# is this actually slower? maybe. if so we will supplement with storing\n",
    "# data in divs.\n",
    "# we could instead just memoize to memory using lru_cache or similar\n",
    "\n",
    "def cache_set(cache):\n",
    "    def cset(key, value):\n",
    "        return cache.set(key, value)\n",
    "    return cset\n",
    "\n",
    "def cache_get(key):\n",
    "    def cget(key):\n",
    "        return cache.get(key)\n",
    "    return cget"
   ]
  },
  {
   "cell_type": "code",
   "execution_count": 3,
   "metadata": {},
   "outputs": [],
   "source": [
    "def main_graph():\n",
    "    return dcc.Graph(\n",
    "            id = 'main-graph',\n",
    "            figure = go.Figure(),\n",
    "            style={'height':'100vh'}\n",
    "        )"
   ]
  },
  {
   "cell_type": "code",
   "execution_count": 4,
   "metadata": {},
   "outputs": [],
   "source": []
  },
  {
   "cell_type": "code",
   "execution_count": 5,
   "metadata": {},
   "outputs": [],
   "source": [
    "axis_value_properties = [\n",
    "    {\"label\":\"band average\",\"value\":\"band_avg\",\"type\":\"method\",\"arity\":2},\n",
    "    {\"label\":\"band maximum\",\"value\":\"band_max\",\"type\":\"method\",\"arity\":2},\n",
    "    {\"label\":\"band minimum\",\"value\":\"band_min\",\"type\":\"method\",\"arity\":2},\n",
    "    {\"label\":\"ratio\",\"value\":\"ref_ratio\",\"type\":\"method\",\"arity\":2},\n",
    "    {\"label\":\"band depth at middle filter\",\"value\":\"band_depth_custom\",\"type\":\"method\",\"arity\":3},\n",
    "    {\"label\":\"band depth at band minimum\", \"value\":\"band_depth_min\",\"type\":\"method\",\"arity\":2},\n",
    "    {\"label\":\"band value\", \"value\":\"ref\",\"type\":\"method\",\"arity\":1},\n",
    "    {\"label\":\"sol\", \"value\":\"sol\",\"type\":\"parent_property\"}\n",
    "    ]"
   ]
  },
  {
   "cell_type": "code",
   "execution_count": 6,
   "metadata": {},
   "outputs": [],
   "source": [
    "def make_axis(axis_value_properties, settings, queryset, suffix):\n",
    "    \n",
    "    # grab text for everything in queryset\n",
    "    \n",
    "    # what is requested function or property?\n",
    "    axis_option = settings[\"axis-option-\"+suffix]\n",
    "    # what are the characteristics of that function or property?\n",
    "    props = keygrab(axis_value_properties, \"value\", axis_option)\n",
    "    if props[\"type\"] == \"method\":\n",
    "        # we assume here that 'methods' all take a spectrum's filter names\n",
    "        # as arguments, and have arguments in an order corresponding to the inputs.\n",
    "        filt_args = [\n",
    "            settings['filter-'+str(ix)+'-'+suffix] \n",
    "            for ix in range(1,props[\"arity\"]+1)\n",
    "        ]\n",
    "        # if some values are blank, don't try to call the function\n",
    "        if all(filt_args):\n",
    "            return [\n",
    "                getattr(spectrum,props[\"value\"])(*filt_args) \n",
    "                for spectrum in queryset\n",
    "            ]\n",
    "        return None\n",
    "    # do some other stuff to grab parent properties"
   ]
  },
  {
   "cell_type": "code",
   "execution_count": 7,
   "metadata": {},
   "outputs": [],
   "source": [
    "def scatter(x_axis, y_axis):\n",
    "    fig = go.Figure()\n",
    "    fig.add_trace(go.Scattergl(\n",
    "        x = x_axis,\n",
    "        y = y_axis,\n",
    "        # change this to be hella popup text\n",
    "        text = None,\n",
    "        mode='markers',\n",
    "        marker = {\n",
    "            'color':'blue'\n",
    "        },\n",
    "        ))\n",
    "    return fig"
   ]
  },
  {
   "cell_type": "code",
   "execution_count": 8,
   "metadata": {},
   "outputs": [],
   "source": [
    "def flexible_query(queryset, field, value):\n",
    "    \"\"\"\n",
    "    little search function that checks exact and loose phrases\n",
    "    \"\"\"\n",
    "    # allow exact phrase searches\n",
    "    query = field + \"__iexact\"\n",
    "    if queryset.filter(**{query: value}):\n",
    "        return queryset.filter(**{query: value})\n",
    "    # otherwise treat multiple words as an 'or' search\n",
    "    query = field + \"__icontains\"\n",
    "    filters = [\n",
    "        queryset.filter(**{query: word}) for word in value.split(\" \")\n",
    "    ]\n",
    "    return reduce(or_, filters)"
   ]
  },
  {
   "cell_type": "code",
   "execution_count": 9,
   "metadata": {},
   "outputs": [],
   "source": [
    "def particular_fields_search(model, search_dict, searchable_fields):\n",
    "    \"\"\"\n",
    "    'search specific defined fields' function.\n",
    "    works only on strings atm!\n",
    "    other things for numeric / date / etc. fields preferably\n",
    "    \n",
    "    'searchable fields' is a little clumsy -- but it specifically\n",
    "    makes the function a little more fault-tolerant.\n",
    "    \"\"\"\n",
    "    queryset = model.objects.all()\n",
    "    # allow either single entries or lists of entries\n",
    "    for field in searchable_fields:\n",
    "        entry = search_dict.get(field)\n",
    "        if entry:\n",
    "            entry = list(entry)\n",
    "            filters = [flexible_query(queryset, field, value) for value in entry]\n",
    "            queryset = reduce(or_,filters)\n",
    "    return queryset"
   ]
  },
  {
   "cell_type": "code",
   "execution_count": 10,
   "metadata": {},
   "outputs": [],
   "source": [
    "def filter_drop(model, element_id):\n",
    "    \"\"\"dropdown for filter selection\"\"\"\n",
    "    return dcc.Dropdown(\n",
    "        id=element_id,\n",
    "        options=[{'label': filt, 'value': filt}\n",
    "                 for filt in model.filters],\n",
    "        style = {'width':'10rem', 'display':'inline-block'}\n",
    "    )"
   ]
  },
  {
   "cell_type": "code",
   "execution_count": 11,
   "metadata": {},
   "outputs": [],
   "source": [
    "def field_drop(fields, element_id):\n",
    "    \"\"\"dropdown for field selection -- no special logic atm\"\"\"\n",
    "    return dcc.Dropdown(\n",
    "        id=element_id,\n",
    "        options = [{'label': field, 'value': field}\n",
    "                 for field in fields]\n",
    "    )"
   ]
  },
  {
   "cell_type": "code",
   "execution_count": 12,
   "metadata": {},
   "outputs": [],
   "source": [
    "def field_values(queryset, field):\n",
    "    \"\"\"\n",
    "    generates dict if all unique values in model's field\n",
    "    + any and blank, for passing to HTML select constructors\n",
    "    as this is based on current queryset,\n",
    "    it will by default display options as constrained by other search\n",
    "    parameters. this has upsides and downsides.\n",
    "    it will also lead to odd behavior if care is not given.\n",
    "    maybe it's a bad idea.\n",
    "    \"\"\"\n",
    "    options_list = [\n",
    "            {'label': item, 'value': item}\n",
    "            for item in set(qlist(queryset,field))\n",
    "            if item not in ['','nan']\n",
    "        ]\n",
    "    special_options = [\n",
    "        {'label':'any',  'value':'any'},\n",
    "        # too annoying to detect all 'blank' things atm\n",
    "        # {'label':'no assigned value','value':''}\n",
    "    ]\n",
    "    return special_options + options_list\n",
    "\n",
    "\n",
    "def model_options_drop(queryset, field, element_id):\n",
    "    \"\"\"\n",
    "    dropdown for selecting search values for a specific field\n",
    "    could end up getting unmanageable as a UI element\n",
    "    \"\"\"\n",
    "    return dcc.Dropdown(\n",
    "        id=element_id,\n",
    "        options=field_values(queryset, field),\n",
    "        multi = True\n",
    "    )"
   ]
  },
  {
   "cell_type": "code",
   "execution_count": 13,
   "metadata": {},
   "outputs": [],
   "source": [
    "def handle_search(model, search_dict, searchable_fields):\n",
    "    \"\"\"\n",
    "    dispatcher. right now just handles 'no assigned'\n",
    "    and 'any' cases\n",
    "    \"\"\"\n",
    "    for field, value in search_dict.items():\n",
    "        if 'any' in value:\n",
    "            return model.objects.all()\n",
    "    return particular_fields_search(model, search_dict, searchable_fields)"
   ]
  },
  {
   "cell_type": "code",
   "execution_count": 30,
   "metadata": {},
   "outputs": [
    {
     "data": {
      "text/plain": [
       "('1', '8')"
      ]
     },
     "execution_count": 30,
     "metadata": {},
     "output_type": "execute_result"
    }
   ],
   "source": []
  },
  {
   "cell_type": "code",
   "execution_count": null,
   "metadata": {},
   "outputs": [],
   "source": []
  },
  {
   "cell_type": "code",
   "execution_count": 14,
   "metadata": {},
   "outputs": [],
   "source": [
    "def axis_value_drop(axis_value_properties,element_id):\n",
    "    \"\"\"\n",
    "    dropdown for selecting calculation options for axes\n",
    "    \"\"\"\n",
    "    options=[\n",
    "            {\"label\":option[\"label\"], \"value\":option[\"value\"]}\n",
    "             for option in axis_value_properties\n",
    "        ]\n",
    "    return dcc.Dropdown(\n",
    "        id=element_id,\n",
    "        options=options,\n",
    "        value = options[0][\"value\"]\n",
    "    )"
   ]
  },
  {
   "cell_type": "code",
   "execution_count": 15,
   "metadata": {},
   "outputs": [],
   "source": [
    "for function in [\n",
    "    handle_search, \n",
    "    particular_fields_search,\n",
    "    flexible_query,\n",
    "    qset_axes,\n",
    "    qlist,\n",
    "    make_axis\n",
    "    ]:\n",
    "    function = cache.memoize()(function)"
   ]
  },
  {
   "cell_type": "code",
   "execution_count": 16,
   "metadata": {},
   "outputs": [],
   "source": [
    "fig = main_graph()\n",
    "graph_function = scatter\n",
    "spec_model = MSpec \n",
    "obs_model = MObs\n",
    "# update this -- a buncha fields, both spec and obs\n",
    "searchable_fields = ['group','formation','member']\n",
    "# active queryset is explicitly stored in global cache\n",
    "cset('queryset', spec_model.objects.all().prefetch_related(\"observation\"))\n",
    "\n",
    "# it's a big open UX question how to gracefully mutate filters between instruments.\n",
    "# (i.e., if we want to be able to display spectra from multiple instruments\n",
    "# simultaneously rather than successively).\n",
    "# it might be that flexible band values are actually better than explicit filter\n",
    "# selection. for now we're using this, though.\n",
    "app.layout = html.Div(children = [\n",
    "    html.Div(children = [\n",
    "        axis_value_drop('axis-option-x'),\n",
    "        filter_drop(spec_model,'filter-1-x'),\n",
    "        filter_drop(spec_model,'filter-3-x'),\n",
    "        filter_drop(spec_model,'filter-2-x'),\n",
    "    ]),\n",
    "    html.Div(children = [\n",
    "        axis_value_drop('axis-option-y'),\n",
    "        filter_drop(spec_model,'filter-1-y'),\n",
    "        filter_drop(spec_model,'filter-3-y'),\n",
    "        filter_drop(spec_model,'filter-2-y'),\n",
    "    ]),\n",
    "    html.Div(id = 'calculation-state', style={\"display\":\"none\"}),\n",
    "    html.Div(id = 'search-trigger', style={\"display\":\"none\"}),\n",
    "    # will probably want to split divs off here so we can generate new search rows\n",
    "    # how do we manage that in callbacks? is there a name selector?\n",
    "    # yes -- see https://dash.plotly.com/pattern-matching-callbacks\n",
    "    field_drop(searchable_fields, 'field-search'),\n",
    "    model_options_drop(cget('queryset'), 'group', 'value-search'),\n",
    "    html.Button(id='submit-search', n_clicks=0, children='Submit'),\n",
    "    html.Div(children = [fig]),\n",
    "    ])"
   ]
  },
  {
   "cell_type": "code",
   "execution_count": 17,
   "metadata": {
    "scrolled": true
   },
   "outputs": [],
   "source": [
    "main_graph = Output('main-graph','figure')\n",
    "\n",
    "x_inputs = [\n",
    "    Input('filter-1-x', 'value'),\n",
    "    Input('filter-2-x', 'value'),\n",
    "    Input('filter-3-x', 'value'),\n",
    "    Input('axis-option-x', 'value'),\n",
    "]\n",
    "y_inputs = [\n",
    "    Input('filter-1-y', 'value'),\n",
    "    Input('filter-2-y', 'value'),\n",
    "    Input('filter-3-y', 'value'),\n",
    "    Input('axis-option-y', 'value')\n",
    "]"
   ]
  },
  {
   "cell_type": "code",
   "execution_count": 18,
   "metadata": {},
   "outputs": [],
   "source": [
    "def pickitems(dictionary, some_list):\n",
    "    \"\"\"items of dict where key is in some_list \"\"\"\n",
    "    return keyfilter(in_me(some_list),(dictionary))\n",
    "\n",
    "def pickcomps(comp_dictionary, id_list):\n",
    "    \"\"\"items of dictionary of dash components where id is in id_list\"\"\"\n",
    "    return pickitems(comp_dictionary, [comp.component_id for comp in comp_dictionary])\n",
    "\n",
    "def pickctx(context, component_list):\n",
    "    \"\"\"states and inputs of dash callback context if component is in component_list\"\"\"\n",
    "    comp_strings = [\n",
    "        comp.component_id+'.'+comp.component_property \n",
    "        for comp in component_list\n",
    "    ]\n",
    "    cats = [] \n",
    "    if context.states:\n",
    "        cats.append(context.states)\n",
    "    if context.inputs:\n",
    "        cats.append(context.inputs)\n",
    "    picked = [pickitems(cat, comp_strings) for cat in cats]\n",
    "    if picked:\n",
    "        return merge(picked)"
   ]
  },
  {
   "cell_type": "code",
   "execution_count": 19,
   "metadata": {},
   "outputs": [],
   "source": [
    "def change_input_visibility(axis_value_properties, calc_type):\n",
    "    \"\"\"\n",
    "    turn visibility of filter dropdowns (and later other inputs)\n",
    "    on and off in response to changes in arity / type of \n",
    "    requested calc\n",
    "    \"\"\"\n",
    "    props = keygrab(axis_value_properties, \"value\", calc_type)\n",
    "    # 'methods' are specifically those methods of spec_model\n",
    "    # that take its filters as arguments\n",
    "    if props[\"type\"] == \"method\":\n",
    "        return [\n",
    "            {'width':'10rem', 'display':'inline-block'} if x < props[\"arity\"]\n",
    "            else {'width':'10rem', 'display':'none'}\n",
    "            for x in range(3)\n",
    "        ]\n",
    "    return [\n",
    "        {\"display\":\"none\"} for x in range(3)\n",
    "    ]\n",
    "\n",
    "\n",
    "# register vis control functions with appropriate i/o\n",
    "for axis in ['x', 'y']:\n",
    "    app.callback(\n",
    "        [\n",
    "            Output('filter-1-'+axis, 'style'),\n",
    "            Output('filter-2-'+axis, 'style'),\n",
    "            Output('filter-3-'+axis, 'style'),\n",
    "        ],\n",
    "        [Input('axis-option-'+axis, 'value')]\n",
    "    )(change_input_visibility)\n",
    "    \n",
    "    \n",
    "# this is somewhat nasty.\n",
    "# is there a cleaner way to do this?\n",
    "# flow control becomes really hard if we break the function up.\n",
    "# it requires triggers spread across multiple divs or cached globals\n",
    "# and is much uglier than even this\n",
    "@app.callback(\n",
    "    Output('main-graph', 'figure'),\n",
    "    # maybe later add an explicit recalc button?\n",
    "    [*x_inputs, *y_inputs, Input('search-trigger', 'value')],\n",
    ")\n",
    "def recalculate_graph(*args,x_inputs,y_inputs):\n",
    "    ctx = dash.callback_context\n",
    "    # do nothing on page load\n",
    "    if not ctx.triggered:\n",
    "        raise PreventUpdate\n",
    "    queryset = cget(\"queryset\")\n",
    "    x_settings = pickctx(ctx, x_inputs)\n",
    "    y_settings = pickctx(ctx, y_inputs)\n",
    "    # this is for future functions that display or recall \n",
    "    # the settings used to generate a graph\n",
    "    cache.set(\"x_settings\",x_settings)\n",
    "    cache.set(\"y_settings\",y_settings)\n",
    "    # we can probably get away without any fancy flow control\n",
    "    # b/c memoization...if it turns out that hitting the cache this way sucks,\n",
    "    # we will add it.\n",
    "    x_axis = make_axis(x_settings, queryset, suffix='x.value')\n",
    "    y_axis = make_axis(y_settings, queryset, suffix='y.value')\n",
    "    # this case is most likely shortly after page load\n",
    "    # when not everything is filled out\n",
    "    if not (x_axis and y_axis):\n",
    "        raise PreventUpdate\n",
    "    return graph_function(x_axis, y_axis)   \n",
    "\n",
    "\n",
    "@app.callback(Output('value-search', 'options'),\n",
    "              [Input('field-search', 'value')],\n",
    "             )\n",
    "def update_model_field(field):\n",
    "    \"\"\"populate set of values when field in search box changes\"\"\"\n",
    "    queryset = cget(\"queryset\")\n",
    "    return field_values(queryset, field)\n",
    "\n",
    "    \n",
    "@app.callback(Output('search-trigger', 'value'),\n",
    "              [Input('submit-search', 'n_clicks')],\n",
    "              [State('field-search', 'value'),\n",
    "               State('value-search', 'value'),\n",
    "              ])\n",
    "def update_queryset(n_clicks, field, value):\n",
    "    \"\"\"\n",
    "    updates the spectra displayed in the graph view.\n",
    "    \n",
    "    we'd actually like to extend this to include fields from both spec\n",
    "    and obs\n",
    "    \n",
    "    and multiple fields\n",
    "    \"\"\"\n",
    "    # don't do anything on page load\n",
    "    # or if a partially blank request is issued\n",
    "    if not (field and value):\n",
    "        raise PreventUpdate\n",
    "    \n",
    "    # if the search parameters have changed,\n",
    "    # make a new queryset and trigger graph update\n",
    "    if handle_search(\n",
    "        spec_model, {field:value}, [field]\n",
    "    ) != cget(\"queryset\"):\n",
    "        cset(\n",
    "            \"queryset\", handle_search(\n",
    "                spec_model, {field:value}, [field]\n",
    "            ).prefetch_related(\"observation\")\n",
    "        )\n",
    "        return n_clicks"
   ]
  },
  {
   "cell_type": "code",
   "execution_count": 20,
   "metadata": {
    "scrolled": true
   },
   "outputs": [
    {
     "name": "stdout",
     "output_type": "stream",
     "text": [
      "Dash is running on http://127.0.0.1:8050/\n",
      "\n",
      " Warning: This is a development server. Do not use app.run_server\n",
      " in production, use a production WSGI server like gunicorn instead.\n",
      "\n",
      " * Serving Flask app \"__main__\" (lazy loading)\n",
      " * Environment: production\n",
      "\u001b[31m   WARNING: This is a development server. Do not use it in a production deployment.\u001b[0m\n",
      "\u001b[2m   Use a production WSGI server instead.\u001b[0m\n",
      " * Debug mode: off\n"
     ]
    },
    {
     "name": "stderr",
     "output_type": "stream",
     "text": [
      " * Running on http://127.0.0.1:8050/ (Press CTRL+C to quit)\n",
      "127.0.0.1 - - [01/Jul/2020 00:03:51] \"\u001b[37mPOST /_dash-update-component HTTP/1.1\u001b[0m\" 200 -\n",
      "127.0.0.1 - - [01/Jul/2020 00:03:51] \"\u001b[37mPOST /_dash-update-component HTTP/1.1\u001b[0m\" 204 -\n"
     ]
    },
    {
     "name": "stdout",
     "output_type": "stream",
     "text": [
      "j\n"
     ]
    },
    {
     "name": "stderr",
     "output_type": "stream",
     "text": [
      "127.0.0.1 - - [01/Jul/2020 00:03:52] \"\u001b[37mPOST /_dash-update-component HTTP/1.1\u001b[0m\" 204 -\n"
     ]
    },
    {
     "name": "stdout",
     "output_type": "stream",
     "text": [
      "j\n"
     ]
    },
    {
     "name": "stderr",
     "output_type": "stream",
     "text": [
      "127.0.0.1 - - [01/Jul/2020 00:03:53] \"\u001b[37mPOST /_dash-update-component HTTP/1.1\u001b[0m\" 204 -\n"
     ]
    },
    {
     "name": "stdout",
     "output_type": "stream",
     "text": [
      "j\n"
     ]
    },
    {
     "name": "stderr",
     "output_type": "stream",
     "text": [
      "127.0.0.1 - - [01/Jul/2020 00:03:55] \"\u001b[37mPOST /_dash-update-component HTTP/1.1\u001b[0m\" 204 -\n"
     ]
    },
    {
     "name": "stdout",
     "output_type": "stream",
     "text": [
      "j\n"
     ]
    },
    {
     "name": "stderr",
     "output_type": "stream",
     "text": [
      "127.0.0.1 - - [01/Jul/2020 00:03:57] \"\u001b[37mPOST /_dash-update-component HTTP/1.1\u001b[0m\" 200 -\n"
     ]
    },
    {
     "name": "stdout",
     "output_type": "stream",
     "text": [
      "j\n"
     ]
    },
    {
     "name": "stderr",
     "output_type": "stream",
     "text": [
      "127.0.0.1 - - [01/Jul/2020 00:03:58] \"\u001b[37mPOST /_dash-update-component HTTP/1.1\u001b[0m\" 200 -\n"
     ]
    },
    {
     "name": "stdout",
     "output_type": "stream",
     "text": [
      "j\n"
     ]
    }
   ],
   "source": [
    "app.run_server()"
   ]
  },
  {
   "cell_type": "code",
   "execution_count": 21,
   "metadata": {},
   "outputs": [
    {
     "data": {
      "text/plain": [
       "{'..filter-1-x.style...filter-2-x.style...filter-3-x.style..': {'inputs': [{'id': 'axis-option-x',\n",
       "    'property': 'value'}],\n",
       "  'state': [],\n",
       "  'callback': <function __main__.change_input_visibility(calc_type)>},\n",
       " '..filter-1-y.style...filter-2-y.style...filter-3-y.style..': {'inputs': [{'id': 'axis-option-y',\n",
       "    'property': 'value'}],\n",
       "  'state': [],\n",
       "  'callback': <function __main__.change_input_visibility(calc_type)>},\n",
       " 'main-graph.figure': {'inputs': [{'id': 'filter-1-x', 'property': 'value'},\n",
       "   {'id': 'filter-2-x', 'property': 'value'},\n",
       "   {'id': 'filter-3-x', 'property': 'value'},\n",
       "   {'id': 'axis-option-x', 'property': 'value'},\n",
       "   {'id': 'filter-1-y', 'property': 'value'},\n",
       "   {'id': 'filter-2-y', 'property': 'value'},\n",
       "   {'id': 'filter-3-y', 'property': 'value'},\n",
       "   {'id': 'axis-option-y', 'property': 'value'},\n",
       "   {'id': 'search-trigger', 'property': 'value'}],\n",
       "  'state': [],\n",
       "  'callback': <function __main__.recalculate_graph(*args)>},\n",
       " 'value-search.options': {'inputs': [{'id': 'field-search',\n",
       "    'property': 'value'}],\n",
       "  'state': [],\n",
       "  'callback': <function __main__.update_model_field(field)>},\n",
       " 'search-trigger.value': {'inputs': [{'id': 'submit-search',\n",
       "    'property': 'n_clicks'}],\n",
       "  'state': [{'id': 'field-search', 'property': 'value'},\n",
       "   {'id': 'value-search', 'property': 'value'}],\n",
       "  'callback': <function __main__.update_queryset(n_clicks, field, value)>}}"
      ]
     },
     "execution_count": 21,
     "metadata": {},
     "output_type": "execute_result"
    }
   ],
   "source": [
    "app.callback_map"
   ]
  }
 ],
 "metadata": {
  "kernelspec": {
   "display_name": "Python 3",
   "language": "python",
   "name": "python3"
  },
  "language_info": {
   "codemirror_mode": {
    "name": "ipython",
    "version": 3
   },
   "file_extension": ".py",
   "mimetype": "text/x-python",
   "name": "python",
   "nbconvert_exporter": "python",
   "pygments_lexer": "ipython3",
   "version": "3.8.3"
  },
  "varInspector": {
   "cols": {
    "lenName": 16,
    "lenType": 16,
    "lenVar": 40
   },
   "kernels_config": {
    "python": {
     "delete_cmd_postfix": "",
     "delete_cmd_prefix": "del ",
     "library": "var_list.py",
     "varRefreshCmd": "print(var_dic_list())"
    },
    "r": {
     "delete_cmd_postfix": ") ",
     "delete_cmd_prefix": "rm(",
     "library": "var_list.r",
     "varRefreshCmd": "cat(var_dic_list()) "
    }
   },
   "types_to_exclude": [
    "module",
    "function",
    "builtin_function_or_method",
    "instance",
    "_Feature"
   ],
   "window_display": false
  }
 },
 "nbformat": 4,
 "nbformat_minor": 4
}
