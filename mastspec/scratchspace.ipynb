{
 "cells": [
  {
   "cell_type": "code",
   "execution_count": 1,
   "metadata": {},
   "outputs": [],
   "source": [
    "from functools import reduce\n",
    "import os\n",
    "from operator import or_, and_\n",
    "\n",
    "import dash\n",
    "import dash_core_components as dcc\n",
    "import dash_html_components as html\n",
    "from dash.dependencies import Input, Output, State\n",
    "from dateutil.parser import parse\n",
    "import django\n",
    "from django.db.models import Q\n",
    "from flask_caching import Cache\n",
    "#from jupyter_plotly_dash import JupyterDash\n",
    "import pandas as pd\n",
    "import plotly.express as px\n",
    "import plotly.graph_objects as go\n",
    "from toolz import merge, isiterable, get_in\n",
    "\n",
    "# to make jupyter-plotly-dash work, had to install jupyter_server_proxy explicitly\n",
    "# pip install jupyter_server_proxy\n",
    "# jupyter serverextension enable jupyter_server_proxy\n",
    "# but honestly it sort of isn't very good anyway\n",
    "\n",
    "os.environ.setdefault(\"DJANGO_SETTINGS_MODULE\", \"mastspec.settings\")\n",
    "os.environ[\"DJANGO_ALLOW_ASYNC_UNSAFE\"] = \"true\"\n",
    "django.setup()\n",
    "\n",
    "from plotter.models import *\n",
    "# from plotter.views import *\n",
    "# from plotter.forms import *\n",
    "from utils import rows, columns, eta_methods, keygrab"
   ]
  },
  {
   "cell_type": "code",
   "execution_count": 2,
   "metadata": {},
   "outputs": [],
   "source": [
    "app = dash.Dash()\n",
    "CACHE_CONFIG = {\n",
    "    'CACHE_TYPE': 'filesystem',\n",
    "    'CACHE_DIR': './.cache'\n",
    "}\n",
    "cache = Cache()\n",
    "cache.init_app(app.server, config=CACHE_CONFIG)\n",
    "\n",
    "# we're using this to create thread-safe global values.\n",
    "# also caching relatively expensive things like database lookups to the filesystem.\n",
    "# is this actually slower? maybe. if so we will supplement with storing\n",
    "# data in divs.\n",
    "\n",
    "def cset(key, value):\n",
    "    cache.set(key, value)\n",
    "\n",
    "def cget(key):\n",
    "    return cache.get(key)"
   ]
  },
  {
   "cell_type": "code",
   "execution_count": 3,
   "metadata": {},
   "outputs": [],
   "source": [
    "def main_graph():\n",
    "    return dcc.Graph(\n",
    "            id = 'main-graph',\n",
    "            figure = go.Figure(),\n",
    "            style={'height':'100vh'}\n",
    "        )"
   ]
  },
  {
   "cell_type": "code",
   "execution_count": 4,
   "metadata": {},
   "outputs": [],
   "source": [
    "def qlist(queryset, attribute):\n",
    "    return list(queryset.values_list(attribute, flat=True))\n",
    "\n",
    "def qset_axes(queryset, x_val, y_val):\n",
    "    \"\"\"\n",
    "    make a pair of flat lists from a queryset based on passed fields.\n",
    "    for stuff like plots\n",
    "    this can be made much fancier\n",
    "    \"\"\"\n",
    "    return [qlist(queryset, x_val), qlist(queryset, y_val)]"
   ]
  },
  {
   "cell_type": "code",
   "execution_count": 5,
   "metadata": {},
   "outputs": [],
   "source": [
    "def scatter(queryset, x_val, y_val):\n",
    "    fig = go.Figure()\n",
    "    axes = qset_axes(queryset, x_val, y_val)\n",
    "    fig.add_trace(go.Scattergl(\n",
    "        x = axes[0],\n",
    "        y = axes[1],\n",
    "        # change this to be hella popup text\n",
    "        text = None,\n",
    "        marker = {\n",
    "            'color':'blue'\n",
    "        },\n",
    "        ))\n",
    "    return fig"
   ]
  },
  {
   "cell_type": "code",
   "execution_count": 6,
   "metadata": {},
   "outputs": [],
   "source": [
    "def flexible_query(queryset, field, value):\n",
    "    \"\"\"\n",
    "    little search function that checks exact and loose phrases\n",
    "    \"\"\"\n",
    "    # allow exact phrase searches\n",
    "    query = field + \"__iexact\"\n",
    "    if queryset.filter(**{query: value}):\n",
    "        return queryset.filter(**{query: value})\n",
    "    # otherwise treat multiple words as an 'or' search\n",
    "    query = field + \"__icontains\"\n",
    "    filters = [\n",
    "        queryset.filter(**{query: word}) for word in value.split(\" \")\n",
    "    ]\n",
    "    return reduce(or_, filters)"
   ]
  },
  {
   "cell_type": "code",
   "execution_count": null,
   "metadata": {},
   "outputs": [],
   "source": []
  },
  {
   "cell_type": "code",
   "execution_count": 7,
   "metadata": {},
   "outputs": [
    {
     "data": {
      "text/plain": [
       "0.0412882"
      ]
     },
     "execution_count": 7,
     "metadata": {},
     "output_type": "execute_result"
    }
   ],
   "source": [
    "getattr(MSpec.objects.all()[0],'L2_mean')"
   ]
  },
  {
   "cell_type": "code",
   "execution_count": 8,
   "metadata": {},
   "outputs": [],
   "source": [
    "def particular_fields_search(model, search_dict, searchable_fields):\n",
    "    \"\"\"\n",
    "    'search specific defined fields' function.\n",
    "    works only on strings atm!\n",
    "    other things for numeric / date / etc. fields preferably\n",
    "    \n",
    "    'searchable fields' is a little clumsy -- but it specifically\n",
    "    makes the function a little more fault-tolerant.\n",
    "    \"\"\"\n",
    "    queryset = model.objects.all()\n",
    "    # allow either single entries or lists of entries\n",
    "    print(search_dict)\n",
    "    for field in searchable_fields:\n",
    "        entry = search_dict.get(field)\n",
    "        if entry:\n",
    "            entry = list(entry)\n",
    "            filters = [flexible_query(queryset, field, value) for value in entry]\n",
    "            queryset = reduce(or_,filters)\n",
    "    return queryset"
   ]
  },
  {
   "cell_type": "code",
   "execution_count": null,
   "metadata": {},
   "outputs": [],
   "source": []
  },
  {
   "cell_type": "code",
   "execution_count": 9,
   "metadata": {},
   "outputs": [],
   "source": [
    "def filter_drop(model, element_id):\n",
    "    \"\"\"dropdown for filter selection\"\"\"\n",
    "    return dcc.Dropdown(\n",
    "        id=element_id,\n",
    "        options=[{'label': filt, 'value': filt}\n",
    "                 for filt in model.filters],\n",
    "        style = {'width':'10rem', 'display':'inline-block'}\n",
    "    )"
   ]
  },
  {
   "cell_type": "code",
   "execution_count": 10,
   "metadata": {},
   "outputs": [],
   "source": [
    "def field_drop(fields, element_id):\n",
    "    \"\"\"dropdown for field selection -- no special logic atm\"\"\"\n",
    "    return dcc.Dropdown(\n",
    "        id=element_id,\n",
    "        options = [{'label': field, 'value': field}\n",
    "                 for field in fields]\n",
    "    )"
   ]
  },
  {
   "cell_type": "code",
   "execution_count": 11,
   "metadata": {},
   "outputs": [],
   "source": [
    "def field_values(queryset, field):\n",
    "    \"\"\"\n",
    "    generates dict if all unique values in model's field\n",
    "    + any and blank, for passing to HTML select constructors\n",
    "    as this is based on current queryset,\n",
    "    it will by default display options as constrained by other search\n",
    "    parameters. this has upsides and downsides.\n",
    "    it will also lead to odd behavior if care is not given.\n",
    "    maybe it's a bad idea.\n",
    "    \"\"\"\n",
    "    options_list = [\n",
    "            {'label': item, 'value': item}\n",
    "            for item in set(qlist(queryset,field))\n",
    "            if item not in ['','nan']\n",
    "        ]\n",
    "    special_options = [\n",
    "        {'label':'any',  'value':'any'},\n",
    "        # too annoying to detect all 'blank' things atm\n",
    "        # {'label':'no assigned value','value':''}\n",
    "    ]\n",
    "    return special_options + options_list\n",
    "\n",
    "\n",
    "def model_options_drop(queryset, field, element_id):\n",
    "    \"\"\"\n",
    "    dropdown for selecting search values for a specific field\n",
    "    could end up getting unmanageable as a UI element\n",
    "    \"\"\"\n",
    "    return dcc.Dropdown(\n",
    "        id=element_id,\n",
    "        options=field_values(queryset, field),\n",
    "        multi = True\n",
    "    )"
   ]
  },
  {
   "cell_type": "code",
   "execution_count": 12,
   "metadata": {},
   "outputs": [],
   "source": [
    "def handle_search(model, search_dict, searchable_fields):\n",
    "    \"\"\"\n",
    "    dispatcher. right now just handles 'no assigned'\n",
    "    and 'any' cases\n",
    "    \"\"\"\n",
    "    for field, value in search_dict.items():\n",
    "        if 'any' in value:\n",
    "            return model.objects.all()\n",
    "    return particular_fields_search(model, search_dict, searchable_fields)"
   ]
  },
  {
   "cell_type": "code",
   "execution_count": 13,
   "metadata": {},
   "outputs": [],
   "source": [
    "def handle_calc(model, calc_type, ):\n",
    "    \"\"\"\n",
    "    dispatch function for calling calculation methods on querysets\n",
    "    \"\"\"\n",
    "    \n",
    "    \n",
    "    "
   ]
  },
  {
   "cell_type": "code",
   "execution_count": 14,
   "metadata": {},
   "outputs": [],
   "source": [
    "axis_value_properties = [\n",
    "    {\"label\":\"band average\",\"value\":\"band_avg\",\"type\":\"method\",\"arity\":2},\n",
    "    {\"label\":\"band maximum\",\"value\":\"band_max\",\"type\":\"method\",\"arity\":2},\n",
    "    {\"label\":\"band minimum\",\"value\":\"band_min\",\"type\":\"method\",\"arity\":2},\n",
    "    {\"label\":\"ratio\",\"value\":\"ref_ratio\",\"type\":\"method\",\"arity\":2},\n",
    "    {\"label\":\"band depth at middle filter\",\"value\":\"band_depth_custom\",\"type\":\"method\",\"arity\":2},\n",
    "    {\"label\":\"band depth at band minimum\", \"value\":\"band_depth_min\",\"type\":\"method\",\"arity\":2},\n",
    "    {\"label\":\"band value\", \"value\":\"band_value\",\"type\":\"given_property\"},\n",
    "    {\"label\":\"sol\", \"value\":\"sol\",\"type\":\"parent_property\"}\n",
    "    ]\n",
    "\n",
    "def axis_value_drop(element_id):\n",
    "    \"\"\"\n",
    "    dropdown for selecting calculation options for axes\n",
    "    \"\"\"\n",
    "    options=[\n",
    "            {\"label\":option[\"label\"], \"value\":option[\"value\"]}\n",
    "             for option in axis_value_properties\n",
    "        ]\n",
    "    return dcc.Dropdown(\n",
    "        id=element_id,\n",
    "        options=options,\n",
    "        value = options[0][\"value\"]\n",
    "    )"
   ]
  },
  {
   "cell_type": "code",
   "execution_count": 15,
   "metadata": {},
   "outputs": [],
   "source": [
    "for function in [\n",
    "    handle_search, \n",
    "    particular_fields_search,\n",
    "    flexible_query,\n",
    "    qset_axes,\n",
    "    qlist\n",
    "    ]:\n",
    "    function = cache.memoize()(function)"
   ]
  },
  {
   "cell_type": "code",
   "execution_count": 16,
   "metadata": {},
   "outputs": [],
   "source": [
    "fig = main_graph()\n",
    "graph_function = scatter\n",
    "spec_model = MSpec \n",
    "obs_model = MObs\n",
    "# update this -- a buncha fields, both spec and obs\n",
    "searchable_fields = ['group','formation','member']\n",
    "# active queryset is explicitly stored in global cache\n",
    "cset('queryset', spec_model.objects.all())\n",
    "\n",
    "# it's a big open UX question how to gracefully mutate filters between instruments.\n",
    "# it might be that flexible band values are actually better than explicit filter\n",
    "# selection.\n",
    "app.layout = html.Div(children = [\n",
    "    html.Div(children = [\n",
    "        axis_value_drop('axis-option-x'),\n",
    "        filter_drop(spec_model,'filter-1-x'),\n",
    "        filter_drop(spec_model,'filter-3-x'),\n",
    "        filter_drop(spec_model,'filter-2-x'),\n",
    "    ]),\n",
    "    html.Div(children = [\n",
    "        axis_value_drop('axis-option-y'),\n",
    "        filter_drop(spec_model,'filter-1-y'),\n",
    "        filter_drop(spec_model,'filter-3-y'),\n",
    "        filter_drop(spec_model,'filter-2-y'),\n",
    "    ]),\n",
    "    # will probably want to split divs off here so we can generate new search rows\n",
    "    # how do we manage that in callbacks? is there a name selector?\n",
    "    # yes -- see https://dash.plotly.com/pattern-matching-callbacks\n",
    "    field_drop(searchable_fields, 'field-search'),\n",
    "    model_options_drop(cget('queryset'), 'group', 'value-search'),\n",
    "    html.Button(id='submit-search', n_clicks=0, children='Submit'),\n",
    "    html.Div(children = [fig]),\n",
    "    html.Div(id = 'search-signal', style={\"display\":\"none\"}),\n",
    "])"
   ]
  },
  {
   "cell_type": "code",
   "execution_count": 17,
   "metadata": {},
   "outputs": [],
   "source": [
    "\n",
    "\n",
    "# @app.callback(\n",
    "#     dash.dependencies.Output('main-graph', 'figure'),\n",
    "#     [dash.dependencies.Input('filter-1', 'value'),\n",
    "#      dash.dependencies.Input('filter-2', 'value'),\n",
    "#      dash.dependencies.Input('update-signal', 'value'),\n",
    "#     ])\n",
    "# def update_graph_calculation(filt, filt2):\n",
    "#     # move axes construction to a different function\n",
    "#     queryset = cget(\"queryset\")\n",
    "#     return graph_function(queryset, filt+'_mean', filt2+'_mean')\n",
    "\n",
    "def change_input_visibility(calc_type):\n",
    "    \"\"\"\n",
    "    turn visibility of filter dropdowns (and later other inputs)\n",
    "    on and off in response to changes in arity / type of \n",
    "    requested calc\n",
    "    \"\"\"\n",
    "    props = keygrab(axis_value_properties, \"value\", calc_type)\n",
    "    # 'methods' are specifically those methods of spec_model\n",
    "    # that take its filters as arguments\n",
    "    if props[\"type\"] == \"method\":\n",
    "        return [\n",
    "            {'width':'10rem', 'display':'inline-block'} if x < props[\"arity\"]\n",
    "            else {'width':'10rem', 'display':'none'}\n",
    "            for x in range(3)\n",
    "        ]\n",
    "    return [\n",
    "        {\"display\":\"none\"} for x in range(3)\n",
    "    ]\n",
    "\n",
    "for axis in ['x', 'y']:\n",
    "    app.callback(\n",
    "        [\n",
    "            dash.dependencies.Output('filter-1-'+axis, 'style'),\n",
    "            dash.dependencies.Output('filter-2-'+axis, 'style'),\n",
    "            dash.dependencies.Output('filter-3-'+axis, 'style'),\n",
    "        ],\n",
    "        [dash.dependencies.Input('axis-option-'+axis, 'value')]\n",
    "    )(change_input_visibility)\n",
    "\n",
    "\n",
    "    \n",
    "@app.callback(\n",
    "    dash.dependencies.Output('main-graph', 'figure'),\n",
    "    # is there a cleaner way to do this?\n",
    "    # flow control becomes really hard if we break the function up\n",
    "    [dash.dependencies.Input('filter-1-x', 'value'),\n",
    "     dash.dependencies.Input('filter-2-x', 'value'),\n",
    "     dash.dependencies.Input('filter-3-x', 'value'),\n",
    "     dash.dependencies.Input('filter-1-y', 'value'),\n",
    "     dash.dependencies.Input('filter-2-y', 'value'),\n",
    "     dash.dependencies.Input('filter-3-y', 'value'),\n",
    "     dash.dependencies.Input('search-signal', 'value'),\n",
    "     dash.dependencies.Input('axis-option-x', 'value'),\n",
    "     dash.dependencies.Input('axis-option-y', 'value')\n",
    "     ])\n",
    "def update_graph(*args):\n",
    "    queryset = cget(\"queryset\")\n",
    "\n",
    "    # memoizing all these calculations _should_ mean that\n",
    "    # we can get away with ignoring a lot of uncomfy\n",
    "    # switching logic \n",
    "    print(args)\n",
    "    \n",
    "    #return graph_function(queryset, filt+'_mean', filt2+'_mean')\n",
    "\n",
    "\n",
    "@app.callback(Output('value-search', 'options'),\n",
    "              [Input('field-search', 'value')],\n",
    "             )\n",
    "def update_model_field(field):\n",
    "    \"\"\"populate set of values when field in search box changes\"\"\"\n",
    "    print(field)\n",
    "    queryset = cget(\"queryset\")\n",
    "    print(field_values(queryset, field))\n",
    "    return field_values(queryset, field)\n",
    "\n",
    "    \n",
    "@app.callback(Output('search-signal', 'value'),\n",
    "              [Input('submit-search', 'n_clicks')],\n",
    "              [State('field-search', 'value'),\n",
    "               State('value-search', 'value')])\n",
    "def update_queryset(n_clicks, field, value):\n",
    "    \"\"\"\n",
    "    updates the spectra displayed in the graph view.\n",
    "    \n",
    "    we'd actually like to extend this to include fields from both spec\n",
    "    and obs\n",
    "    \n",
    "    and multiple fields\n",
    "    \"\"\"\n",
    "    # don't do anything on page load\n",
    "    # or if a partially blank request is issued\n",
    "    if not (field and value):\n",
    "        return\n",
    "    if handle_search(\n",
    "        spec_model, {field:value}, [field]\n",
    "    ) != cget(\"queryset\"):\n",
    "        cset(\n",
    "            \"queryset\", \n",
    "            handle_search(spec_model, {field:value}, [field])\n",
    "        )\n",
    "        return n_clicks\n",
    "    \n",
    "    "
   ]
  },
  {
   "cell_type": "code",
   "execution_count": null,
   "metadata": {
    "scrolled": true
   },
   "outputs": [
    {
     "name": "stdout",
     "output_type": "stream",
     "text": [
      "Dash is running on http://127.0.0.1:8050/\n",
      "\n",
      " Warning: This is a development server. Do not use app.run_server\n",
      " in production, use a production WSGI server like gunicorn instead.\n",
      "\n",
      " * Serving Flask app \"__main__\" (lazy loading)\n",
      " * Environment: production\n",
      "\u001b[31m   WARNING: This is a development server. Do not use it in a production deployment.\u001b[0m\n",
      "\u001b[2m   Use a production WSGI server instead.\u001b[0m\n",
      " * Debug mode: off\n"
     ]
    },
    {
     "name": "stderr",
     "output_type": "stream",
     "text": [
      " * Running on http://127.0.0.1:8050/ (Press CTRL+C to quit)\n",
      "127.0.0.1 - - [28/Jun/2020 04:41:12] \"\u001b[37mGET / HTTP/1.1\u001b[0m\" 200 -\n",
      "127.0.0.1 - - [28/Jun/2020 04:41:12] \"\u001b[37mGET /_dash-layout HTTP/1.1\u001b[0m\" 200 -\n",
      "127.0.0.1 - - [28/Jun/2020 04:41:12] \"\u001b[37mGET /_dash-dependencies HTTP/1.1\u001b[0m\" 200 -\n",
      "127.0.0.1 - - [28/Jun/2020 04:41:12] \"\u001b[37mPOST /_dash-update-component HTTP/1.1\u001b[0m\" 200 -\n",
      "127.0.0.1 - - [28/Jun/2020 04:41:12] \"\u001b[37mPOST /_dash-update-component HTTP/1.1\u001b[0m\" 200 -\n",
      "127.0.0.1 - - [28/Jun/2020 04:41:12] \"\u001b[37mPOST /_dash-update-component HTTP/1.1\u001b[0m\" 200 -\n"
     ]
    },
    {
     "name": "stdout",
     "output_type": "stream",
     "text": [
      "None\n",
      "Exception on /_dash-update-component [POST]\n",
      "Traceback (most recent call last):\n",
      "  File \"/home/michael/.local/lib/python3.8/site-packages/flask/app.py\", line 2447, in wsgi_app\n",
      "    response = self.full_dispatch_request()\n",
      "  File \"/home/michael/.local/lib/python3.8/site-packages/flask/app.py\", line 1952, in full_dispatch_request\n",
      "    rv = self.handle_user_exception(e)\n",
      "  File \"/home/michael/.local/lib/python3.8/site-packages/flask/app.py\", line 1821, in handle_user_exception\n",
      "    reraise(exc_type, exc_value, tb)\n",
      "  File \"/home/michael/.local/lib/python3.8/site-packages/flask/_compat.py\", line 39, in reraise\n",
      "    raise value\n",
      "  File \"/home/michael/.local/lib/python3.8/site-packages/flask/app.py\", line 1950, in full_dispatch_request\n",
      "    rv = self.dispatch_request()\n",
      "  File \"/home/michael/.local/lib/python3.8/site-packages/flask/app.py\", line 1936, in dispatch_request\n",
      "    return self.view_functions[rule.endpoint](**req.view_args)\n",
      "  File \"/home/michael/.local/lib/python3.8/site-packages/dash/dash.py\", line 1031, in dispatch\n",
      "    response.set_data(func(*args, outputs_list=outputs_list))\n",
      "  File \"/home/michael/.local/lib/python3.8/site-packages/dash/dash.py\", line 966, in add_context\n",
      "    output_value = func(*args, **kwargs)  # %% callback invoked %%\n",
      "  File \"<ipython-input-17-9d17bbe399e0>\", line 75, in update_model_field\n",
      "    print(field_values(queryset, field))\n",
      "  File \"<ipython-input-11-f933d475343f>\", line 13, in field_values\n",
      "    for item in set(qlist(queryset,field))\n",
      "  File \"<ipython-input-4-06a0d1eb16de>\", line 2, in qlist\n",
      "    return list(queryset.values_list(attribute, flat=True))\n",
      "  File \"/home/michael/anaconda3/envs/mastspec/lib/python3.8/site-packages/django/db/models/query.py\", line 836, in values_list\n",
      "    clone = self._values(*_fields, **expressions)\n",
      "  File \"/home/michael/anaconda3/envs/mastspec/lib/python3.8/site-packages/django/db/models/query.py\", line 804, in _values\n",
      "    clone.query.set_values(fields)\n",
      "  File \"/home/michael/anaconda3/envs/mastspec/lib/python3.8/site-packages/django/db/models/sql/query.py\", line 2155, in set_values\n",
      "    self.add_fields(field_names, True)\n",
      "  File \"/home/michael/anaconda3/envs/mastspec/lib/python3.8/site-packages/django/db/models/sql/query.py\", line 1866, in add_fields\n",
      "    join_info = self.setup_joins(name.split(LOOKUP_SEP), opts, alias, allow_many=allow_m2m)\n",
      "AttributeError: 'NoneType' object has no attribute 'split'\n"
     ]
    },
    {
     "name": "stderr",
     "output_type": "stream",
     "text": [
      "127.0.0.1 - - [28/Jun/2020 04:41:12] \"\u001b[35m\u001b[1mPOST /_dash-update-component HTTP/1.1\u001b[0m\" 500 -\n",
      "127.0.0.1 - - [28/Jun/2020 04:41:12] \"\u001b[37mPOST /_dash-update-component HTTP/1.1\u001b[0m\" 200 -\n"
     ]
    },
    {
     "name": "stdout",
     "output_type": "stream",
     "text": [
      "(None, None, None, None, None, None, None, 'band_avg', 'band_avg')\n"
     ]
    },
    {
     "name": "stderr",
     "output_type": "stream",
     "text": [
      "127.0.0.1 - - [28/Jun/2020 04:41:14] \"\u001b[37mPOST /_dash-update-component HTTP/1.1\u001b[0m\" 200 -\n"
     ]
    },
    {
     "name": "stdout",
     "output_type": "stream",
     "text": [
      "member\n",
      "[{'label': 'any', 'value': 'any'}, {'label': 'Blunts Point', 'value': 'Blunts Point'}, {'label': 'Pettegrove Point', 'value': 'Pettegrove Point'}]\n"
     ]
    },
    {
     "name": "stderr",
     "output_type": "stream",
     "text": [
      "127.0.0.1 - - [28/Jun/2020 04:41:38] \"\u001b[37mPOST /_dash-update-component HTTP/1.1\u001b[0m\" 200 -\n",
      "127.0.0.1 - - [28/Jun/2020 04:41:38] \"\u001b[37mPOST /_dash-update-component HTTP/1.1\u001b[0m\" 200 -\n"
     ]
    },
    {
     "name": "stdout",
     "output_type": "stream",
     "text": [
      "{'member': ['Blunts Point']}\n",
      "{'member': ['Blunts Point']}\n",
      "(None, None, None, None, None, None, 1, 'band_avg', 'band_avg')\n"
     ]
    }
   ],
   "source": [
    "app.run_server()"
   ]
  },
  {
   "cell_type": "code",
   "execution_count": null,
   "metadata": {},
   "outputs": [],
   "source": [
    "# ok so something that wraps querysets for plotly?\n",
    "# we want both the requested attributes and at least the id,\n",
    "# name, etc.\n",
    "# so that people can query more information about chosen spectra"
   ]
  },
  {
   "cell_type": "code",
   "execution_count": null,
   "metadata": {},
   "outputs": [],
   "source": [
    "queryset = cget(\"queryset\")\n",
    "field_values(queryset, \"member\")"
   ]
  }
 ],
 "metadata": {
  "kernelspec": {
   "display_name": "Python 3",
   "language": "python",
   "name": "python3"
  },
  "language_info": {
   "codemirror_mode": {
    "name": "ipython",
    "version": 3
   },
   "file_extension": ".py",
   "mimetype": "text/x-python",
   "name": "python",
   "nbconvert_exporter": "python",
   "pygments_lexer": "ipython3",
   "version": "3.8.3"
  },
  "varInspector": {
   "cols": {
    "lenName": 16,
    "lenType": 16,
    "lenVar": 40
   },
   "kernels_config": {
    "python": {
     "delete_cmd_postfix": "",
     "delete_cmd_prefix": "del ",
     "library": "var_list.py",
     "varRefreshCmd": "print(var_dic_list())"
    },
    "r": {
     "delete_cmd_postfix": ") ",
     "delete_cmd_prefix": "rm(",
     "library": "var_list.r",
     "varRefreshCmd": "cat(var_dic_list()) "
    }
   },
   "types_to_exclude": [
    "module",
    "function",
    "builtin_function_or_method",
    "instance",
    "_Feature"
   ],
   "window_display": false
  }
 },
 "nbformat": 4,
 "nbformat_minor": 4
}
