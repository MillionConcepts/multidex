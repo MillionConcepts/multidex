{
 "cells": [
  {
   "cell_type": "code",
   "execution_count": 1,
   "metadata": {},
   "outputs": [],
   "source": [
    "from functools import partial, reduce\n",
    "import os\n",
    "from operator import or_, and_, contains\n",
    "\n",
    "import dash\n",
    "import dash_core_components as dcc\n",
    "import dash_html_components as html\n",
    "from dash.dependencies import Input, Output, State, MATCH, ALL\n",
    "from dash.exceptions import PreventUpdate\n",
    "from dateutil.parser import parse\n",
    "import django\n",
    "from django.db.models import Q\n",
    "from flask_caching import Cache\n",
    "#from jupyter_plotly_dash import JupyterDash\n",
    "import pandas as pd\n",
    "import plotly.express as px\n",
    "import plotly.graph_objects as go\n",
    "from toolz import keyfilter, valfilter, merge, isiterable, get_in\n",
    "\n",
    "# to make jupyter-plotly-dash work, had to install jupyter_server_proxy explicitly\n",
    "# pip install jupyter_server_proxy\n",
    "# jupyter serverextension enable jupyter_server_proxy\n",
    "# but honestly it sort of isn't very good anyway\n",
    "\n",
    "os.environ.setdefault(\"DJANGO_SETTINGS_MODULE\", \"mastspec.settings\")\n",
    "os.environ[\"DJANGO_ALLOW_ASYNC_UNSAFE\"] = \"true\"\n",
    "django.setup()\n",
    "\n",
    "from plotter.models import *\n",
    "from plotter.graph import *\n",
    "# from plotter.views import *\n",
    "# from plotter.forms import *\n",
    "from utils import (\n",
    "    rows, \n",
    "    columns, \n",
    "    eta_methods, \n",
    "    qlist,\n",
    "    keygrab, \n",
    "    in_me, \n",
    "    particular_fields_search,\n",
    "    pickitems,\n",
    "    pickctx\n",
    ")\n"
   ]
  },
  {
   "cell_type": "code",
   "execution_count": 2,
   "metadata": {},
   "outputs": [],
   "source": [
    "app = dash.Dash()\n",
    "CACHE_CONFIG = {\n",
    "    'CACHE_TYPE': 'filesystem',\n",
    "    'CACHE_DIR': './.cache'\n",
    "}\n",
    "cache = Cache()\n",
    "cache.init_app(app.server, config=CACHE_CONFIG)\n",
    "\n",
    "# we're using this to create thread-safe global values.\n",
    "# also caching relatively expensive things like database lookups to the filesystem.\n",
    "# is this actually slower? maybe. if so we will supplement with storing\n",
    "# data in divs.\n",
    "# we could instead just memoize to memory using lru_cache or similar\n",
    "\n",
    "cset = cache_set(cache)\n",
    "cget = cache_get(cache)\n"
   ]
  },
  {
   "cell_type": "code",
   "execution_count": 3,
   "metadata": {},
   "outputs": [],
   "source": [
    "fig = main_graph()\n",
    "graph_function = scatter\n",
    "spec_model = MSpec \n",
    "obs_model = MObs\n",
    "# update this -- a buncha fields, both spec and obs\n",
    "searchable_fields = ['group','formation','member']\n",
    "# active queryset is explicitly stored in global cache\n",
    "cset('queryset', spec_model.objects.all().prefetch_related(\"observation\"))\n",
    "x_inputs = [\n",
    "    Input('filter-1-x', 'value'),\n",
    "    Input('filter-2-x', 'value'),\n",
    "    Input('filter-3-x', 'value'),\n",
    "    Input('axis-option-x', 'value'),\n",
    "]\n",
    "y_inputs = [\n",
    "    Input('filter-1-y', 'value'),\n",
    "    Input('filter-2-y', 'value'),\n",
    "    Input('filter-3-y', 'value'),\n",
    "    Input('axis-option-y', 'value')\n",
    "]"
   ]
  },
  {
   "cell_type": "code",
   "execution_count": 4,
   "metadata": {},
   "outputs": [
    {
     "data": {
      "text/plain": [
       "<function plotter.graph.recalculate_graph(*args, x_inputs, y_inputs, graph_function, cget, cset)>"
      ]
     },
     "execution_count": 4,
     "metadata": {},
     "output_type": "execute_result"
    }
   ],
   "source": [
    "recalculate_graph"
   ]
  },
  {
   "cell_type": "code",
   "execution_count": 5,
   "metadata": {},
   "outputs": [],
   "source": [
    "# insert 'global' variables for this app into functions\n",
    "\n",
    "recalculate_graph = partial(\n",
    "    recalculate_graph, \n",
    "    x_inputs=x_inputs,\n",
    "    y_inputs=y_inputs,\n",
    "    cget=cget,\n",
    "    cset=cset,\n",
    "    graph_function = graph_function\n",
    ")\n",
    "\n",
    "update_model_field = partial(update_model_field, cget=cget)\n",
    "update_queryset = partial(update_queryset, cget=cget, cset=cset, spec_model = spec_model)"
   ]
  },
  {
   "cell_type": "code",
   "execution_count": 6,
   "metadata": {},
   "outputs": [],
   "source": [
    "# memoize functions that seem to want caching\n",
    "# this isn't totally working because the local version isn't mostly what's\n",
    "# actually being called. doesn't deal with checks in handle_search, etc\n",
    "\n",
    "for function in [\n",
    "    handle_search, \n",
    "    particular_fields_search,\n",
    "    qlist,\n",
    "    make_axis,\n",
    "    update_model_field,\n",
    "    update_queryset\n",
    "    ]:\n",
    "    function = cache.memoize()(function)"
   ]
  },
  {
   "cell_type": "code",
   "execution_count": 7,
   "metadata": {},
   "outputs": [],
   "source": [
    "def field_drop(fields, element_id, index):\n",
    "    \"\"\"dropdown for field selection -- no special logic atm\"\"\"\n",
    "    return dcc.Dropdown(\n",
    "        id={'type':element_id, 'index':index},\n",
    "        options=[{\"label\": field, \"value\": field} for field in fields],\n",
    "    )\n",
    "\n",
    "\n",
    "def model_options_drop(queryset, field, element_id, index):\n",
    "    \"\"\"\n",
    "    dropdown for selecting search values for a specific field\n",
    "    could end up getting unmanageable as a UI element\n",
    "    \"\"\"\n",
    "    return dcc.Dropdown(\n",
    "        id={'type':element_id, 'index':index},\n",
    "        options={\"label\": \"any\", \"value\": \"any\"}, \n",
    "        multi=True\n",
    "    )\n",
    "\n",
    "def search_parameter_div(index, searchable_fields, cget):\n",
    "    return html.Div(children = [\n",
    "        field_drop(searchable_fields, 'field-search', index),\n",
    "        model_options_drop(cget('queryset'), 'group', 'value-search', index)\n",
    "        ])"
   ]
  },
  {
   "cell_type": "code",
   "execution_count": 8,
   "metadata": {},
   "outputs": [],
   "source": [
    "app.layout = html.Div(children = [\n",
    "    html.Div(children = [\n",
    "        axis_value_drop('axis-option-x'),\n",
    "        filter_drop(spec_model,'filter-1-x'),\n",
    "        filter_drop(spec_model,'filter-3-x'),\n",
    "        filter_drop(spec_model,'filter-2-x'),\n",
    "    ]),\n",
    "    html.Div(children = [\n",
    "        axis_value_drop('axis-option-y'),\n",
    "        filter_drop(spec_model,'filter-1-y'),\n",
    "        filter_drop(spec_model,'filter-3-y'),\n",
    "        filter_drop(spec_model,'filter-2-y'),\n",
    "    ]),\n",
    "    html.Div(id = 'calculation-state', style={\"display\":\"none\"}),\n",
    "    html.Div(id = 'search-trigger', style={\"display\":\"none\"}),\n",
    "    # this is initially empty and populated on page load\n",
    "    html.Div(\n",
    "        children = [],\n",
    "        id = 'search-container'\n",
    "    ),\n",
    "    html.Button('add search parameter', id='add-param', n_clicks=0),\n",
    "    html.Button(id='submit-search', children='Submit', n_clicks=0),\n",
    "    html.Div(children = [fig], id = 'main-graph-container'),\n",
    "    ])"
   ]
  },
  {
   "cell_type": "code",
   "execution_count": 9,
   "metadata": {},
   "outputs": [
    {
     "data": {
      "text/plain": [
       "<function dash.dash.Dash.callback.<locals>.wrap_func.<locals>.add_context(n_clicks, children, *, searchable_fields=['group', 'formation', 'member'], cget=<function cache_get.<locals>.cget at 0x7f78effe7670>)>"
      ]
     },
     "execution_count": 9,
     "metadata": {},
     "output_type": "execute_result"
    }
   ],
   "source": [
    "\n",
    "def add_dropdown(n_clicks, children, searchable_fields, cget):\n",
    "    children.append(search_parameter_div(n_clicks, searchable_fields, cget))\n",
    "    return children\n",
    "\n",
    "add_dropdown = partial(add_dropdown, cget=cget, searchable_fields=searchable_fields)\n",
    "\n",
    "app.callback(\n",
    "    Output('search-container', 'children'),\n",
    "    [Input('add-param', 'n_clicks')],\n",
    "    [State('search-container', 'children')])(add_dropdown)\n",
    "\n",
    "\n",
    "\n"
   ]
  },
  {
   "cell_type": "code",
   "execution_count": 10,
   "metadata": {},
   "outputs": [],
   "source": [
    "def handle_search(model, search_dict, field_dict):\n",
    "    \"\"\"\n",
    "    dispatcher / manager. right now handles: 'any,' reference to parent\n",
    "    need to supplement with non-string search functions.\n",
    "    \"\"\"\n",
    "    # toss out 'any' entries -- they do not restrict the search\n",
    "    search_dict = valfilter(lambda x: x != \"any\", search_dict)\n",
    "    \n",
    "    # if we have no constraints, return the entire data set\n",
    "    if not search_dict:\n",
    "        return model.objects.all()\n",
    "    \n",
    "    return particular_fields_search(model, search_dict, searchable_fields)\n",
    "\n",
    "\n",
    "def update_queryset(n_clicks, fields, values, cget, cset, spec_model):\n",
    "    \"\"\"\n",
    "    updates the spectra displayed in the graph view.\n",
    "    \n",
    "    we'd actually like to extend this to include fields from both spec\n",
    "    and obs\n",
    "    \n",
    "    and multiple fields\n",
    "    \"\"\"\n",
    "    # don't do anything on page load\n",
    "    # or if a blank request is issued\n",
    "    if not (fields and values):\n",
    "        raise PreventUpdate\n",
    "\n",
    "    search_dict = {\n",
    "        field:value for field, value in zip(fields,values)\n",
    "        if ((field is not None) and (value is not None))\n",
    "    }\n",
    "    \n",
    "    # if every search parameter is blank, don't do anything\n",
    "    if not search_dict:\n",
    "        raise PreventUpdate\n",
    "    \n",
    "    # if the search parameters have changed,\n",
    "    # make a new queryset and trigger graph update\n",
    "    if handle_search(spec_model, search_dict, fields) != cget(\"queryset\"):\n",
    "        cset(\n",
    "            \"queryset\",\n",
    "            handle_search(\n",
    "                spec_model, search_dict, fields\n",
    "            ).prefetch_related(\"observation\"),\n",
    "        )\n",
    "        return n_clicks\n",
    "\n",
    "update_queryset = partial(update_queryset, cget=cget, cset=cset, spec_model = spec_model)"
   ]
  },
  {
   "cell_type": "code",
   "execution_count": 11,
   "metadata": {},
   "outputs": [
    {
     "data": {
      "text/plain": [
       "<function dash.dash.Dash.callback.<locals>.wrap_func.<locals>.add_context(n_clicks, fields, values, *, cget=<function cache_get.<locals>.cget at 0x7f78effe7670>, cset=<function cache_set.<locals>.cset at 0x7f78f001fca0>, spec_model=<class 'plotter.models.MSpec'>)>"
      ]
     },
     "execution_count": 11,
     "metadata": {},
     "output_type": "execute_result"
    }
   ],
   "source": [
    "# register functions with app i/o\n",
    "\n",
    "for axis in ['x', 'y']:\n",
    "    app.callback(\n",
    "        [\n",
    "            Output('filter-1-'+axis, 'style'),\n",
    "            Output('filter-2-'+axis, 'style'),\n",
    "            Output('filter-3-'+axis, 'style'),\n",
    "        ],\n",
    "        [Input('axis-option-'+axis, 'value')]\n",
    "    )(change_input_visibility)\n",
    "\n",
    "app.callback(\n",
    "    Output('main-graph', 'figure'),\n",
    "    # maybe later add an explicit recalc button?\n",
    "    [*x_inputs, *y_inputs, Input('search-trigger', 'value')],\n",
    ")(recalculate_graph)\n",
    "\n",
    "\n",
    "app.callback(\n",
    "    Output({'type':'value-search', 'index':MATCH},'options'),\n",
    "    [Input({'type':'field-search', 'index':MATCH},'value')],\n",
    "    )(update_model_field)\n",
    "\n",
    "\n",
    "app.callback(\n",
    "        Output('search-trigger', 'value'),\n",
    "        [Input('submit-search', 'n_clicks')],\n",
    "        [State({'type': 'field-search', 'index': ALL}, 'value'),\n",
    "        State({'type': 'value-search', 'index': ALL}, 'value')],\n",
    "    )(update_queryset)\n"
   ]
  },
  {
   "cell_type": "code",
   "execution_count": null,
   "metadata": {
    "scrolled": true
   },
   "outputs": [
    {
     "name": "stdout",
     "output_type": "stream",
     "text": [
      "Dash is running on http://127.0.0.1:8050/\n",
      "\n",
      " Warning: This is a development server. Do not use app.run_server\n",
      " in production, use a production WSGI server like gunicorn instead.\n",
      "\n",
      " * Serving Flask app \"__main__\" (lazy loading)\n",
      " * Environment: production\n",
      "\u001b[31m   WARNING: This is a development server. Do not use it in a production deployment.\u001b[0m\n",
      "\u001b[2m   Use a production WSGI server instead.\u001b[0m\n",
      " * Debug mode: off\n"
     ]
    },
    {
     "name": "stderr",
     "output_type": "stream",
     "text": [
      " * Running on http://127.0.0.1:8050/ (Press CTRL+C to quit)\n",
      "127.0.0.1 - - [14/Jul/2020 06:47:48] \"\u001b[37mPOST /_dash-update-component HTTP/1.1\u001b[0m\" 200 -\n",
      "127.0.0.1 - - [14/Jul/2020 06:47:48] \"\u001b[37mPOST /_dash-update-component HTTP/1.1\u001b[0m\" 204 -\n"
     ]
    },
    {
     "name": "stdout",
     "output_type": "stream",
     "text": [
      "{'formation': ['Murray']}\n"
     ]
    },
    {
     "name": "stderr",
     "output_type": "stream",
     "text": [
      "127.0.0.1 - - [14/Jul/2020 06:47:54] \"\u001b[37mPOST /_dash-update-component HTTP/1.1\u001b[0m\" 204 -\n",
      "127.0.0.1 - - [14/Jul/2020 06:47:55] \"\u001b[37mPOST /_dash-update-component HTTP/1.1\u001b[0m\" 204 -\n",
      "127.0.0.1 - - [14/Jul/2020 06:47:58] \"\u001b[37mPOST /_dash-update-component HTTP/1.1\u001b[0m\" 204 -\n",
      "127.0.0.1 - - [14/Jul/2020 06:48:02] \"\u001b[37mPOST /_dash-update-component HTTP/1.1\u001b[0m\" 204 -\n",
      "127.0.0.1 - - [14/Jul/2020 06:48:03] \"\u001b[37mPOST /_dash-update-component HTTP/1.1\u001b[0m\" 200 -\n",
      "127.0.0.1 - - [14/Jul/2020 06:48:08] \"\u001b[37mPOST /_dash-update-component HTTP/1.1\u001b[0m\" 200 -\n",
      "127.0.0.1 - - [14/Jul/2020 06:48:08] \"\u001b[37mPOST /_dash-update-component HTTP/1.1\u001b[0m\" 200 -\n",
      "127.0.0.1 - - [14/Jul/2020 06:48:25] \"\u001b[37mPOST /_dash-update-component HTTP/1.1\u001b[0m\" 200 -\n",
      "127.0.0.1 - - [14/Jul/2020 06:48:27] \"\u001b[37mPOST /_dash-update-component HTTP/1.1\u001b[0m\" 200 -\n",
      "127.0.0.1 - - [14/Jul/2020 06:48:27] \"\u001b[37mPOST /_dash-update-component HTTP/1.1\u001b[0m\" 204 -\n",
      "127.0.0.1 - - [14/Jul/2020 06:48:27] \"\u001b[37mPOST /_dash-update-component HTTP/1.1\u001b[0m\" 204 -\n",
      "127.0.0.1 - - [14/Jul/2020 06:48:27] \"\u001b[37mPOST /_dash-update-component HTTP/1.1\u001b[0m\" 200 -\n",
      "127.0.0.1 - - [14/Jul/2020 06:48:32] \"\u001b[37mPOST /_dash-update-component HTTP/1.1\u001b[0m\" 200 -\n",
      "127.0.0.1 - - [14/Jul/2020 06:49:07] \"\u001b[37mPOST /_dash-update-component HTTP/1.1\u001b[0m\" 200 -\n",
      "127.0.0.1 - - [14/Jul/2020 06:49:10] \"\u001b[37mPOST /_dash-update-component HTTP/1.1\u001b[0m\" 200 -\n",
      "127.0.0.1 - - [14/Jul/2020 06:49:10] \"\u001b[37mPOST /_dash-update-component HTTP/1.1\u001b[0m\" 200 -\n"
     ]
    },
    {
     "name": "stdout",
     "output_type": "stream",
     "text": [
      "{'formation': ['Murray'], 'member': ['Pettegrove Point']}\n"
     ]
    },
    {
     "name": "stderr",
     "output_type": "stream",
     "text": [
      "127.0.0.1 - - [14/Jul/2020 06:49:14] \"\u001b[37mPOST /_dash-update-component HTTP/1.1\u001b[0m\" 200 -\n",
      "127.0.0.1 - - [14/Jul/2020 06:49:14] \"\u001b[37mPOST /_dash-update-component HTTP/1.1\u001b[0m\" 200 -\n"
     ]
    },
    {
     "name": "stdout",
     "output_type": "stream",
     "text": [
      "{'formation': ['Murray'], 'member': ['Pettegrove Point', 'Blunts Point']}\n"
     ]
    },
    {
     "name": "stderr",
     "output_type": "stream",
     "text": [
      "127.0.0.1 - - [14/Jul/2020 06:49:17] \"\u001b[37mPOST /_dash-update-component HTTP/1.1\u001b[0m\" 200 -\n",
      "127.0.0.1 - - [14/Jul/2020 06:49:17] \"\u001b[37mPOST /_dash-update-component HTTP/1.1\u001b[0m\" 200 -\n"
     ]
    },
    {
     "name": "stdout",
     "output_type": "stream",
     "text": [
      "{'formation': ['Murray'], 'member': ['Blunts Point']}\n"
     ]
    },
    {
     "name": "stderr",
     "output_type": "stream",
     "text": [
      "127.0.0.1 - - [14/Jul/2020 06:49:23] \"\u001b[37mPOST /_dash-update-component HTTP/1.1\u001b[0m\" 200 -\n",
      "127.0.0.1 - - [14/Jul/2020 06:49:23] \"\u001b[37mPOST /_dash-update-component HTTP/1.1\u001b[0m\" 200 -\n"
     ]
    },
    {
     "name": "stdout",
     "output_type": "stream",
     "text": [
      "{'formation': [], 'member': ['Blunts Point']}\n"
     ]
    },
    {
     "name": "stderr",
     "output_type": "stream",
     "text": [
      "127.0.0.1 - - [14/Jul/2020 06:49:24] \"\u001b[37mPOST /_dash-update-component HTTP/1.1\u001b[0m\" 200 -\n",
      "127.0.0.1 - - [14/Jul/2020 06:49:24] \"\u001b[37mPOST /_dash-update-component HTTP/1.1\u001b[0m\" 200 -\n"
     ]
    },
    {
     "name": "stdout",
     "output_type": "stream",
     "text": [
      "{'formation': [], 'member': ['Blunts Point']}\n"
     ]
    },
    {
     "name": "stderr",
     "output_type": "stream",
     "text": [
      "127.0.0.1 - - [14/Jul/2020 06:49:27] \"\u001b[37mPOST /_dash-update-component HTTP/1.1\u001b[0m\" 200 -\n",
      "127.0.0.1 - - [14/Jul/2020 06:49:27] \"\u001b[37mPOST /_dash-update-component HTTP/1.1\u001b[0m\" 204 -\n"
     ]
    },
    {
     "name": "stdout",
     "output_type": "stream",
     "text": [
      "{'formation': ['any'], 'member': ['Blunts Point']}\n"
     ]
    },
    {
     "name": "stderr",
     "output_type": "stream",
     "text": [
      "127.0.0.1 - - [14/Jul/2020 06:49:33] \"\u001b[37mPOST /_dash-update-component HTTP/1.1\u001b[0m\" 200 -\n",
      "127.0.0.1 - - [14/Jul/2020 06:49:33] \"\u001b[37mPOST /_dash-update-component HTTP/1.1\u001b[0m\" 200 -\n"
     ]
    },
    {
     "name": "stdout",
     "output_type": "stream",
     "text": [
      "{'formation': ['Murray'], 'member': ['Blunts Point']}\n"
     ]
    },
    {
     "name": "stderr",
     "output_type": "stream",
     "text": [
      "127.0.0.1 - - [14/Jul/2020 06:49:37] \"\u001b[37mPOST /_dash-update-component HTTP/1.1\u001b[0m\" 200 -\n",
      "127.0.0.1 - - [14/Jul/2020 06:49:37] \"\u001b[37mPOST /_dash-update-component HTTP/1.1\u001b[0m\" 200 -\n"
     ]
    },
    {
     "name": "stdout",
     "output_type": "stream",
     "text": [
      "{'formation': ['Murray'], 'member': []}\n"
     ]
    },
    {
     "name": "stderr",
     "output_type": "stream",
     "text": [
      "127.0.0.1 - - [14/Jul/2020 06:49:43] \"\u001b[37mPOST /_dash-update-component HTTP/1.1\u001b[0m\" 200 -\n",
      "127.0.0.1 - - [14/Jul/2020 06:49:43] \"\u001b[37mPOST /_dash-update-component HTTP/1.1\u001b[0m\" 200 -\n"
     ]
    },
    {
     "name": "stdout",
     "output_type": "stream",
     "text": [
      "{'formation': ['Murray'], 'member': ['Pettegrove Point', 'Blunts Point']}\n"
     ]
    },
    {
     "name": "stderr",
     "output_type": "stream",
     "text": [
      "127.0.0.1 - - [14/Jul/2020 06:49:46] \"\u001b[37mPOST /_dash-update-component HTTP/1.1\u001b[0m\" 200 -\n",
      "127.0.0.1 - - [14/Jul/2020 06:49:46] \"\u001b[37mPOST /_dash-update-component HTTP/1.1\u001b[0m\" 200 -\n"
     ]
    },
    {
     "name": "stdout",
     "output_type": "stream",
     "text": [
      "{'formation': ['Murray'], 'member': ['Pettegrove Point']}\n"
     ]
    },
    {
     "name": "stderr",
     "output_type": "stream",
     "text": [
      "127.0.0.1 - - [14/Jul/2020 06:49:50] \"\u001b[37mPOST /_dash-update-component HTTP/1.1\u001b[0m\" 200 -\n",
      "127.0.0.1 - - [14/Jul/2020 06:49:50] \"\u001b[37mPOST /_dash-update-component HTTP/1.1\u001b[0m\" 200 -\n"
     ]
    },
    {
     "name": "stdout",
     "output_type": "stream",
     "text": [
      "{'formation': [], 'member': ['Pettegrove Point']}\n"
     ]
    }
   ],
   "source": [
    "app.run_server()"
   ]
  },
  {
   "cell_type": "code",
   "execution_count": null,
   "metadata": {},
   "outputs": [],
   "source": [
    "MSpec.objects.all()[1].observation.sol"
   ]
  }
 ],
 "metadata": {
  "kernelspec": {
   "display_name": "Python 3",
   "language": "python",
   "name": "python3"
  },
  "language_info": {
   "codemirror_mode": {
    "name": "ipython",
    "version": 3
   },
   "file_extension": ".py",
   "mimetype": "text/x-python",
   "name": "python",
   "nbconvert_exporter": "python",
   "pygments_lexer": "ipython3",
   "version": "3.8.3"
  },
  "varInspector": {
   "cols": {
    "lenName": 16,
    "lenType": 16,
    "lenVar": 40
   },
   "kernels_config": {
    "python": {
     "delete_cmd_postfix": "",
     "delete_cmd_prefix": "del ",
     "library": "var_list.py",
     "varRefreshCmd": "print(var_dic_list())"
    },
    "r": {
     "delete_cmd_postfix": ") ",
     "delete_cmd_prefix": "rm(",
     "library": "var_list.r",
     "varRefreshCmd": "cat(var_dic_list()) "
    }
   },
   "types_to_exclude": [
    "module",
    "function",
    "builtin_function_or_method",
    "instance",
    "_Feature"
   ],
   "window_display": false
  }
 },
 "nbformat": 4,
 "nbformat_minor": 4
}
