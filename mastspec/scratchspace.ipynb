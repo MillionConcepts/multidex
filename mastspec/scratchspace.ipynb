{
 "cells": [
  {
   "cell_type": "code",
   "execution_count": 1,
   "metadata": {},
   "outputs": [],
   "source": [
    "import os\n",
    "\n",
    "import dash\n",
    "import dash_core_components as dcc\n",
    "import dash_html_components as html\n",
    "from dash.dependencies import Input, Output\n",
    "from dateutil.parser import parse\n",
    "import django\n",
    "from jupyter_plotly_dash import JupyterDash\n",
    "import pandas as pd\n",
    "import plotly.express as px\n",
    "import plotly.graph_objects as go\n",
    "\n",
    "# to make jupyter-plotly-dash work, had to install jupyter_server_proxy explicitly\n",
    "# pip install jupyter_server_proxy\n",
    "# jupyter serverextension enable jupyter_server_proxy\n",
    "\n",
    "os.environ.setdefault(\"DJANGO_SETTINGS_MODULE\", \"mastspec.settings\")\n",
    "os.environ[\"DJANGO_ALLOW_ASYNC_UNSAFE\"] = \"true\"\n",
    "django.setup()\n",
    "\n",
    "from plotter.models import *\n",
    "# from plotter.views import *\n",
    "# from plotter.forms import *\n",
    "from utils import rows, columns"
   ]
  },
  {
   "cell_type": "code",
   "execution_count": 12,
   "metadata": {},
   "outputs": [],
   "source": [
    "def scatter():\n",
    "    return dcc.Graph(\n",
    "            id = 'scatter',\n",
    "            figure = go.Figure(),\n",
    "            style={'height':'100vh'}\n",
    "        )"
   ]
  },
  {
   "cell_type": "code",
   "execution_count": 13,
   "metadata": {},
   "outputs": [],
   "source": [
    "app = JupyterDash('SimpleExample')\n",
    "fig = scatter()\n",
    "app.layout = html.Div(children = [\n",
    "    dcc.RadioItems(\n",
    "        id='filter-choice',\n",
    "        options=[{'label': filt, 'value': filt}\n",
    "                 for filt in ['L2', 'L3', 'L4']],\n",
    "        value='L2'\n",
    "    ),\n",
    "    html.Div(children = [fig],\n",
    "    )])\n",
    "@app.callback(\n",
    "    dash.dependencies.Output('output-color', 'children'),\n",
    "    [dash.dependencies.Input('dropdown-color', 'value')])\n",
    "def callback_color(dropdown_value):\n",
    "    return \"The selected color is %s.\" % dropdown_value\n",
    "\n",
    "@app.callback(\n",
    "    dash.dependencies.Output('output-size', 'children'),\n",
    "    [dash.dependencies.Input('dropdown-color', 'value'),\n",
    "     dash.dependencies.Input('dropdown-size', 'value')])\n",
    "def callback_size(dropdown_color, dropdown_size):\n",
    "    return \"The chosen T-shirt is a %s %s one.\" %(dropdown_size,\n",
    "                                                  dropdown_color)"
   ]
  },
  {
   "cell_type": "code",
   "execution_count": 14,
   "metadata": {},
   "outputs": [
    {
     "data": {
      "text/html": [
       "<div>\n",
       "  <iframe src=\"/app/endpoints/cf6128c70a93497ba4c30746e17b8cf5/\" width=800 height=600 frameborder=\"0\"></iframe>\n",
       "  <hr/><a href=\"/app/endpoints/cf6128c70a93497ba4c30746e17b8cf5/\" target=\"_new\">Open in new window</a> for /app/endpoints/cf6128c70a93497ba4c30746e17b8cf5/\n",
       "</div>"
      ],
      "text/plain": [
       "<jupyter_plotly_dash.dash_wrapper.JupyterDash at 0x7f6508cd0370>"
      ]
     },
     "execution_count": 14,
     "metadata": {},
     "output_type": "execute_result"
    }
   ],
   "source": [
    "app"
   ]
  },
  {
   "cell_type": "code",
   "execution_count": null,
   "metadata": {},
   "outputs": [],
   "source": [
    "# ok so something that wraps querysets for plotly?\n",
    "# we want both the requested attributes and at least the id,\n",
    "# name, etc.\n",
    "# so that people can query more information about chosen spectra"
   ]
  },
  {
   "cell_type": "code",
   "execution_count": 21,
   "metadata": {},
   "outputs": [],
   "source": [
    "def qlist(queryset, attribute):\n",
    "    return queryset.values_list(attribute, flat=True)"
   ]
  },
  {
   "cell_type": "code",
   "execution_count": 23,
   "metadata": {},
   "outputs": [
    {
     "data": {
      "text/plain": [
       "<QuerySet [0.0237608, 0.0280853, 0.0337442, 0.0383073, 0.0387425, 0.0411567, 0.0412882, 0.0419614, 0.0423339, 0.042713, 0.0441043, 0.04674980000000001, 0.047032300000000006, 0.0475577, 0.0480634, 0.0484816, 0.050754, 0.0526092, 0.053677300000000004, 0.0546345, '...(remaining elements truncated)...']>"
      ]
     },
     "execution_count": 23,
     "metadata": {},
     "output_type": "execute_result"
    }
   ],
   "source": [
    "qlist(MSpec.objects.all(), 'L2_mean')"
   ]
  }
 ],
 "metadata": {
  "kernelspec": {
   "display_name": "Python 3",
   "language": "python",
   "name": "python3"
  },
  "language_info": {
   "codemirror_mode": {
    "name": "ipython",
    "version": 3
   },
   "file_extension": ".py",
   "mimetype": "text/x-python",
   "name": "python",
   "nbconvert_exporter": "python",
   "pygments_lexer": "ipython3",
   "version": "3.8.3"
  },
  "varInspector": {
   "cols": {
    "lenName": 16,
    "lenType": 16,
    "lenVar": 40
   },
   "kernels_config": {
    "python": {
     "delete_cmd_postfix": "",
     "delete_cmd_prefix": "del ",
     "library": "var_list.py",
     "varRefreshCmd": "print(var_dic_list())"
    },
    "r": {
     "delete_cmd_postfix": ") ",
     "delete_cmd_prefix": "rm(",
     "library": "var_list.r",
     "varRefreshCmd": "cat(var_dic_list()) "
    }
   },
   "types_to_exclude": [
    "module",
    "function",
    "builtin_function_or_method",
    "instance",
    "_Feature"
   ],
   "window_display": false
  }
 },
 "nbformat": 4,
 "nbformat_minor": 4
}
