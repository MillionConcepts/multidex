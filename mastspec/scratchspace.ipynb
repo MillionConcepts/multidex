{
 "cells": [
  {
   "cell_type": "code",
   "execution_count": 1,
   "metadata": {},
   "outputs": [],
   "source": [
    "from copy import deepcopy\n",
    "from functools import partial, reduce\n",
    "import os\n",
    "from operator import or_, and_, contains\n",
    "\n",
    "import dash\n",
    "import dash_core_components as dcc\n",
    "import dash_html_components as html\n",
    "from dash.dependencies import Input, Output, State, MATCH, ALL\n",
    "from dash.exceptions import PreventUpdate\n",
    "from dateutil.parser import parse\n",
    "import django\n",
    "from django.db.models import Q\n",
    "from flask_caching import Cache\n",
    "#from jupyter_plotly_dash import JupyterDash\n",
    "import pandas as pd\n",
    "import plotly.express as px\n",
    "import plotly.graph_objects as go\n",
    "from toolz import keyfilter, valfilter, merge, isiterable, get_in\n",
    "\n",
    "# to make jupyter-plotly-dash work, had to install jupyter_server_proxy explicitly\n",
    "# pip install jupyter_server_proxy\n",
    "# jupyter serverextension enable jupyter_server_proxy\n",
    "# but honestly it sort of isn't very good anyway and is not presently being used\n",
    "\n",
    "os.environ.setdefault(\"DJANGO_SETTINGS_MODULE\", \"mastspec.settings\")\n",
    "os.environ[\"DJANGO_ALLOW_ASYNC_UNSAFE\"] = \"true\"\n",
    "django.setup()\n",
    "\n",
    "from plotter.models import *\n",
    "from plotter.graph import *\n",
    "# from plotter.views import *\n",
    "# from plotter.forms import *\n",
    "from utils import (rows, columns, qlist, keygrab, in_me,\n",
    "                   particular_fields_search, interval_search, pickitems,\n",
    "                   pickctx)"
   ]
  },
  {
   "cell_type": "code",
   "execution_count": 2,
   "metadata": {},
   "outputs": [],
   "source": [
    "app = dash.Dash()\n",
    "CACHE_CONFIG = {'CACHE_TYPE': 'filesystem', 'CACHE_DIR': './.cache'}\n",
    "cache = Cache()\n",
    "cache.init_app(app.server, config=CACHE_CONFIG)\n",
    "\n",
    "# we're using this to create thread-safe global values.\n",
    "# also caching relatively expensive things like database lookups to the filesystem.\n",
    "# is this actually slower? maybe. if so we will supplement with storing\n",
    "# data in divs.\n",
    "# we could instead just memoize to memory using lru_cache or similar\n",
    "\n",
    "\n",
    "cset = cache_set(cache)\n",
    "cget = cache_get(cache)"
   ]
  },
  {
   "cell_type": "code",
   "execution_count": 3,
   "metadata": {},
   "outputs": [],
   "source": [
    "fig = main_graph()\n",
    "graph_function = scatter\n",
    "spec_model = MSpec\n",
    "obs_model = MObs\n",
    "\n",
    "# active queryset is explicitly stored in global cache\n",
    "cset('queryset', spec_model.objects.all().prefetch_related(\"observation\"))\n",
    "\n",
    "# these lists of input objects are defined here primarily to avoid excessive\n",
    "# repetition in app structure definition and function calls.\n",
    "x_inputs = [\n",
    "    Input('filter-1-x', 'value'),\n",
    "    Input('filter-2-x', 'value'),\n",
    "    Input('filter-3-x', 'value'),\n",
    "    Input('axis-option-x', 'value'),\n",
    "]\n",
    "y_inputs = [\n",
    "    Input('filter-1-y', 'value'),\n",
    "    Input('filter-2-y', 'value'),\n",
    "    Input('filter-3-y', 'value'),\n",
    "    Input('axis-option-y', 'value')\n",
    "]"
   ]
  },
  {
   "cell_type": "code",
   "execution_count": 5,
   "metadata": {},
   "outputs": [],
   "source": [
    "# insert 'global' variables for this app into functions.\n",
    "# note that insertion of spec_model into functions may end up being\n",
    "# a way to generate separate function 'namespaces'\n",
    "# in the possible case of wanting to mix mastcam / z data \n",
    "# within a single app instance\n",
    "\n",
    "recalculate_graph = partial(\n",
    "    recalculate_graph, \n",
    "    x_inputs=x_inputs,\n",
    "    y_inputs=y_inputs,\n",
    "    cget=cget,\n",
    "    cset=cset,\n",
    "    graph_function = graph_function\n",
    ")\n",
    "update_search_options = partial(update_search_options, cget=cget)\n",
    "update_queryset = partial(\n",
    "    update_queryset, cget=cget, cset=cset, spec_model = spec_model\n",
    ")\n",
    "change_calc_input_visibility = partial(\n",
    "    change_calc_input_visibility, spec_model = spec_model\n",
    ")\n",
    "toggle_search_input_visibility = partial(\n",
    "    toggle_search_input_visibility, spec_model = spec_model\n",
    ")\n",
    "add_dropdown = partial(\n",
    "    add_dropdown, cget=cget, spec_model=spec_model\n",
    ")"
   ]
  },
  {
   "cell_type": "code",
   "execution_count": 6,
   "metadata": {},
   "outputs": [],
   "source": [
    "# memoize functions that seem to want caching\n",
    "# this isn't totally working because the local version isn't mostly what's\n",
    "# actually being called. doesn't deal with checks in handle_search, etc\n",
    "# not a big deal right now, will optimize later\n",
    "\n",
    "for function in [\n",
    "    recalculate_graph,\n",
    "    handle_graph_search,\n",
    "    qlist,\n",
    "    make_axis,\n",
    "    update_search_options,\n",
    "    update_queryset\n",
    "    ]:\n",
    "    function = cache.memoize()(function)"
   ]
  },
  {
   "cell_type": "code",
   "execution_count": 9,
   "metadata": {},
   "outputs": [],
   "source": [
    "app.layout = html.Div(children = [\n",
    "    html.Div(children = [\n",
    "        axis_value_drop(spec_model, 'axis-option-x'),\n",
    "        filter_drop(spec_model,'filter-1-x'),\n",
    "        filter_drop(spec_model,'filter-3-x'),\n",
    "        filter_drop(spec_model,'filter-2-x'),\n",
    "    ]),\n",
    "    html.Div(children = [\n",
    "        axis_value_drop(spec_model, 'axis-option-y'),\n",
    "        filter_drop(spec_model,'filter-1-y'),\n",
    "        filter_drop(spec_model,'filter-3-y'),\n",
    "        filter_drop(spec_model,'filter-2-y'),\n",
    "    ]),\n",
    "    html.Div(\n",
    "        children = [dcc.Input(id='search-trigger')],\n",
    "        style={\"display\":\"none\"}\n",
    "    ),\n",
    "    # this is initially empty and populated on page load\n",
    "    html.Div(\n",
    "        children = [],\n",
    "        id = 'search-container'\n",
    "    ),\n",
    "    html.Button('add search parameter', id='add-param', n_clicks=0),\n",
    "    html.Button(id='submit-search', children='Submit', n_clicks=0),\n",
    "    html.Div(children = [fig], id = 'main-graph-container'),\n",
    "    ])"
   ]
  },
  {
   "cell_type": "code",
   "execution_count": 15,
   "metadata": {},
   "outputs": [
    {
     "data": {
      "text/plain": [
       "<function dash.dash.Dash.callback.<locals>.wrap_func.<locals>.add_context(n_clicks, fields, terms, begin_numbers, end_numbers, *, cget=<function cache_get.<locals>.cget at 0x7f8d72b70820>, cset=<function cache_set.<locals>.cset at 0x7f8d72babe50>, spec_model=<class 'plotter.models.MSpec'>)>"
      ]
     },
     "execution_count": 15,
     "metadata": {},
     "output_type": "execute_result"
    }
   ],
   "source": [
    "# register functions with app i/o\n",
    "\n",
    "for axis in ['x', 'y']:\n",
    "    app.callback(\n",
    "        [\n",
    "            Output('filter-1-'+axis, 'style'),\n",
    "            Output('filter-2-'+axis, 'style'),\n",
    "            Output('filter-3-'+axis, 'style'),\n",
    "        ],\n",
    "        [Input('axis-option-'+axis, 'value')]\n",
    "    )(change_calc_input_visibility)\n",
    "\n",
    "app.callback(\n",
    "    Output('main-graph', 'figure'),\n",
    "    # maybe later add an explicit recalc button?\n",
    "    [*x_inputs, *y_inputs, Input('search-trigger', 'value')],\n",
    ")(recalculate_graph)\n",
    "\n",
    "app.callback(\n",
    "    [\n",
    "        Output({'type':'term-search', 'index':MATCH},'style'),\n",
    "        Output({'type':'number-search-begin', 'index':MATCH},'style'),\n",
    "        Output({'type':'number-search-end', 'index':MATCH},'style')\n",
    "    ],\n",
    "    [Input({'type':'field-search', 'index':MATCH},'value')],\n",
    "    )(toggle_search_input_visibility)\n",
    "\n",
    "app.callback(\n",
    "    [Output({'type':'term-search', 'index':MATCH},'options'),\n",
    "     Output({'type':'number-range-display','index':MATCH},'children')],\n",
    "    [Input({'type':'field-search', 'index':MATCH},'value')],\n",
    "    )(update_search_options)\n",
    "\n",
    "app.callback(\n",
    "        Output('search-trigger', 'value'),\n",
    "        [Input('submit-search', 'n_clicks')],\n",
    "        [State({'type': 'field-search', 'index': ALL}, 'value'),\n",
    "        State({'type': 'term-search', 'index': ALL}, 'value'),\n",
    "        State({'type': 'number-search-begin', 'index': ALL}, 'value'),\n",
    "        State({'type': 'number-search-end', 'index': ALL}, 'value')\n",
    "        ],\n",
    "    )(update_queryset)\n",
    "\n",
    "app.callback(\n",
    "    Output('search-container', 'children'),\n",
    "    [Input('add-param', 'n_clicks')],\n",
    "    [State('search-container', 'children')])(add_dropdown)"
   ]
  },
  {
   "cell_type": "code",
   "execution_count": null,
   "metadata": {
    "scrolled": true
   },
   "outputs": [
    {
     "name": "stdout",
     "output_type": "stream",
     "text": [
      "Dash is running on http://127.0.0.1:8050/\n",
      "\n",
      " Warning: This is a development server. Do not use app.run_server\n",
      " in production, use a production WSGI server like gunicorn instead.\n",
      "\n",
      " * Serving Flask app \"__main__\" (lazy loading)\n",
      " * Environment: production\n",
      "\u001b[31m   WARNING: This is a development server. Do not use it in a production deployment.\u001b[0m\n",
      "\u001b[2m   Use a production WSGI server instead.\u001b[0m\n",
      " * Debug mode: off\n"
     ]
    },
    {
     "name": "stderr",
     "output_type": "stream",
     "text": [
      " * Running on http://127.0.0.1:8050/ (Press CTRL+C to quit)\n",
      "127.0.0.1 - - [31/Jul/2020 20:03:28] \"\u001b[37mGET / HTTP/1.1\u001b[0m\" 200 -\n",
      "127.0.0.1 - - [31/Jul/2020 20:03:28] \"\u001b[37mGET /_dash-component-suites/dash_renderer/prop-types@15.v1_5_0m1592852348.7.2.min.js HTTP/1.1\u001b[0m\" 200 -\n",
      "127.0.0.1 - - [31/Jul/2020 20:03:28] \"\u001b[37mGET /_dash-component-suites/dash_renderer/react@16.v1_5_0m1592852348.13.0.min.js HTTP/1.1\u001b[0m\" 200 -\n",
      "127.0.0.1 - - [31/Jul/2020 20:03:28] \"\u001b[37mGET /_dash-component-suites/dash_renderer/react-dom@16.v1_5_0m1592852348.13.0.min.js HTTP/1.1\u001b[0m\" 200 -\n",
      "127.0.0.1 - - [31/Jul/2020 20:03:28] \"\u001b[37mGET /_dash-component-suites/dash_renderer/polyfill@7.v1_5_0m1592852348.8.7.min.js HTTP/1.1\u001b[0m\" 200 -\n",
      "127.0.0.1 - - [31/Jul/2020 20:03:28] \"\u001b[37mGET /_dash-component-suites/dash_core_components/dash_core_components-shared.v1_10_1m1592852348.js HTTP/1.1\u001b[0m\" 200 -\n",
      "127.0.0.1 - - [31/Jul/2020 20:03:28] \"\u001b[37mGET /_dash-component-suites/dash_html_components/dash_html_components.v1_0_3m1592852348.min.js HTTP/1.1\u001b[0m\" 200 -\n",
      "127.0.0.1 - - [31/Jul/2020 20:03:28] \"\u001b[37mGET /_dash-component-suites/dash_core_components/dash_core_components.v1_10_1m1592852348.min.js HTTP/1.1\u001b[0m\" 200 -\n",
      "127.0.0.1 - - [31/Jul/2020 20:03:28] \"\u001b[37mGET /_dash-component-suites/dash_renderer/dash_renderer.v1_5_0m1592852348.min.js HTTP/1.1\u001b[0m\" 200 -\n",
      "127.0.0.1 - - [31/Jul/2020 20:03:28] \"\u001b[37mGET /_dash-layout HTTP/1.1\u001b[0m\" 200 -\n",
      "127.0.0.1 - - [31/Jul/2020 20:03:28] \"\u001b[37mGET /_dash-dependencies HTTP/1.1\u001b[0m\" 200 -\n",
      "127.0.0.1 - - [31/Jul/2020 20:03:28] \"\u001b[37mPOST /_dash-update-component HTTP/1.1\u001b[0m\" 204 -\n",
      "127.0.0.1 - - [31/Jul/2020 20:03:28] \"\u001b[37mPOST /_dash-update-component HTTP/1.1\u001b[0m\" 200 -\n",
      "127.0.0.1 - - [31/Jul/2020 20:03:28] \"\u001b[37mPOST /_dash-update-component HTTP/1.1\u001b[0m\" 200 -\n",
      "127.0.0.1 - - [31/Jul/2020 20:03:28] \"\u001b[37mPOST /_dash-update-component HTTP/1.1\u001b[0m\" 200 -\n",
      "127.0.0.1 - - [31/Jul/2020 20:03:28] \"\u001b[37mPOST /_dash-update-component HTTP/1.1\u001b[0m\" 204 -\n",
      "127.0.0.1 - - [31/Jul/2020 20:03:28] \"\u001b[37mPOST /_dash-update-component HTTP/1.1\u001b[0m\" 204 -\n",
      "127.0.0.1 - - [31/Jul/2020 20:03:28] \"\u001b[37mPOST /_dash-update-component HTTP/1.1\u001b[0m\" 204 -\n",
      "127.0.0.1 - - [31/Jul/2020 20:03:30] \"\u001b[37mPOST /_dash-update-component HTTP/1.1\u001b[0m\" 200 -\n",
      "127.0.0.1 - - [31/Jul/2020 20:03:30] \"\u001b[37mPOST /_dash-update-component HTTP/1.1\u001b[0m\" 200 -\n",
      "127.0.0.1 - - [31/Jul/2020 20:03:36] \"\u001b[37mPOST /_dash-update-component HTTP/1.1\u001b[0m\" 200 -\n",
      "127.0.0.1 - - [31/Jul/2020 20:03:36] \"\u001b[37mPOST /_dash-update-component HTTP/1.1\u001b[0m\" 204 -\n"
     ]
    },
    {
     "name": "stdout",
     "output_type": "stream",
     "text": [
      "<QuerySet [<MSpec: MSpec object (68)>, <MSpec: MSpec object (69)>, <MSpec: MSpec object (70)>, <MSpec: MSpec object (71)>, <MSpec: MSpec object (72)>, <MSpec: MSpec object (73)>, <MSpec: MSpec object (74)>, <MSpec: MSpec object (75)>, <MSpec: MSpec object (76)>, <MSpec: MSpec object (1)>, <MSpec: MSpec object (2)>, <MSpec: MSpec object (3)>, <MSpec: MSpec object (28)>, <MSpec: MSpec object (29)>, <MSpec: MSpec object (30)>, <MSpec: MSpec object (31)>, <MSpec: MSpec object (56)>, <MSpec: MSpec object (57)>, <MSpec: MSpec object (58)>, <MSpec: MSpec object (59)>, '...(remaining elements truncated)...']>\n",
      "<QuerySet [<MSpec: MSpec object (68)>, <MSpec: MSpec object (69)>, <MSpec: MSpec object (70)>, <MSpec: MSpec object (71)>, <MSpec: MSpec object (72)>, <MSpec: MSpec object (73)>, <MSpec: MSpec object (74)>, <MSpec: MSpec object (75)>, <MSpec: MSpec object (76)>, <MSpec: MSpec object (1)>, <MSpec: MSpec object (2)>, <MSpec: MSpec object (3)>, <MSpec: MSpec object (28)>, <MSpec: MSpec object (29)>, <MSpec: MSpec object (30)>, <MSpec: MSpec object (31)>, <MSpec: MSpec object (56)>, <MSpec: MSpec object (57)>, <MSpec: MSpec object (58)>, <MSpec: MSpec object (59)>, '...(remaining elements truncated)...']>\n"
     ]
    },
    {
     "name": "stderr",
     "output_type": "stream",
     "text": [
      "127.0.0.1 - - [31/Jul/2020 20:03:40] \"\u001b[37mPOST /_dash-update-component HTTP/1.1\u001b[0m\" 200 -\n",
      "127.0.0.1 - - [31/Jul/2020 20:03:40] \"\u001b[37mPOST /_dash-update-component HTTP/1.1\u001b[0m\" 204 -\n",
      "127.0.0.1 - - [31/Jul/2020 20:03:42] \"\u001b[37mPOST /_dash-update-component HTTP/1.1\u001b[0m\" 204 -\n",
      "127.0.0.1 - - [31/Jul/2020 20:03:44] \"\u001b[37mPOST /_dash-update-component HTTP/1.1\u001b[0m\" 204 -\n",
      "127.0.0.1 - - [31/Jul/2020 20:03:50] \"\u001b[37mPOST /_dash-update-component HTTP/1.1\u001b[0m\" 204 -\n",
      "127.0.0.1 - - [31/Jul/2020 20:03:50] \"\u001b[37mPOST /_dash-update-component HTTP/1.1\u001b[0m\" 200 -\n",
      "127.0.0.1 - - [31/Jul/2020 20:03:52] \"\u001b[37mPOST /_dash-update-component HTTP/1.1\u001b[0m\" 204 -\n",
      "127.0.0.1 - - [31/Jul/2020 20:03:54] \"\u001b[37mPOST /_dash-update-component HTTP/1.1\u001b[0m\" 200 -\n",
      "127.0.0.1 - - [31/Jul/2020 20:04:01] \"\u001b[37mPOST /_dash-update-component HTTP/1.1\u001b[0m\" 200 -\n",
      "127.0.0.1 - - [31/Jul/2020 20:04:01] \"\u001b[37mPOST /_dash-update-component HTTP/1.1\u001b[0m\" 200 -\n"
     ]
    },
    {
     "name": "stdout",
     "output_type": "stream",
     "text": [
      "Exception on /_dash-update-component [POST]\n",
      "Traceback (most recent call last):\n",
      "  File \"/home/michael/.local/lib/python3.8/site-packages/flask/app.py\", line 2447, in wsgi_app\n",
      "    response = self.full_dispatch_request()\n",
      "  File \"/home/michael/.local/lib/python3.8/site-packages/flask/app.py\", line 1952, in full_dispatch_request\n",
      "    rv = self.handle_user_exception(e)\n",
      "  File \"/home/michael/.local/lib/python3.8/site-packages/flask/app.py\", line 1821, in handle_user_exception\n",
      "    reraise(exc_type, exc_value, tb)\n",
      "  File \"/home/michael/.local/lib/python3.8/site-packages/flask/_compat.py\", line 39, in reraise\n",
      "    raise value\n",
      "  File \"/home/michael/.local/lib/python3.8/site-packages/flask/app.py\", line 1950, in full_dispatch_request\n",
      "    rv = self.dispatch_request()\n",
      "  File \"/home/michael/.local/lib/python3.8/site-packages/flask/app.py\", line 1936, in dispatch_request\n",
      "    return self.view_functions[rule.endpoint](**req.view_args)\n",
      "  File \"/home/michael/.local/lib/python3.8/site-packages/dash/dash.py\", line 1031, in dispatch\n",
      "    response.set_data(func(*args, outputs_list=outputs_list))\n",
      "  File \"/home/michael/.local/lib/python3.8/site-packages/dash/dash.py\", line 966, in add_context\n",
      "    output_value = func(*args, **kwargs)  # %% callback invoked %%\n",
      "  File \"<ipython-input-14-6ade5a2ba664>\", line 65, in update_queryset\n",
      "    if handle_graph_search(spec_model, deepcopy(search_list)) != cget(\"queryset\"):\n",
      "  File \"<ipython-input-14-6ade5a2ba664>\", line 27, in handle_graph_search\n",
      "    return multiple_field_search(\n",
      "  File \"<ipython-input-11-7f0770851138>\", line 105, in multiple_field_search\n",
      "    search_result = term_search(\n",
      "  File \"<ipython-input-11-7f0770851138>\", line 36, in term_search\n",
      "    return search_function(queryset, field, value)\n",
      "  File \"<ipython-input-11-7f0770851138>\", line 17, in flexible_query\n",
      "    filters = [queryset.filter(**{query: word}) for word in value.split(\"\")]\n",
      "AttributeError: 'NoneType' object has no attribute 'split'\n"
     ]
    },
    {
     "name": "stderr",
     "output_type": "stream",
     "text": [
      "127.0.0.1 - - [31/Jul/2020 20:04:02] \"\u001b[35m\u001b[1mPOST /_dash-update-component HTTP/1.1\u001b[0m\" 500 -\n",
      "127.0.0.1 - - [31/Jul/2020 20:04:04] \"\u001b[37mPOST /_dash-update-component HTTP/1.1\u001b[0m\" 200 -\n",
      "127.0.0.1 - - [31/Jul/2020 20:04:04] \"\u001b[37mPOST /_dash-update-component HTTP/1.1\u001b[0m\" 200 -\n",
      "127.0.0.1 - - [31/Jul/2020 20:04:08] \"\u001b[37mPOST /_dash-update-component HTTP/1.1\u001b[0m\" 200 -\n",
      "127.0.0.1 - - [31/Jul/2020 20:04:08] \"\u001b[37mPOST /_dash-update-component HTTP/1.1\u001b[0m\" 204 -\n"
     ]
    },
    {
     "name": "stdout",
     "output_type": "stream",
     "text": [
      "<QuerySet []>\n",
      "<QuerySet []>\n"
     ]
    },
    {
     "name": "stderr",
     "output_type": "stream",
     "text": [
      "127.0.0.1 - - [31/Jul/2020 20:04:14] \"\u001b[37mPOST /_dash-update-component HTTP/1.1\u001b[0m\" 200 -\n",
      "127.0.0.1 - - [31/Jul/2020 20:04:14] \"\u001b[37mPOST /_dash-update-component HTTP/1.1\u001b[0m\" 200 -\n"
     ]
    },
    {
     "name": "stdout",
     "output_type": "stream",
     "text": [
      "<QuerySet [<MSpec: MSpec object (1)>, <MSpec: MSpec object (2)>, <MSpec: MSpec object (3)>, <MSpec: MSpec object (4)>, <MSpec: MSpec object (5)>, <MSpec: MSpec object (6)>, <MSpec: MSpec object (7)>, <MSpec: MSpec object (8)>, <MSpec: MSpec object (9)>, <MSpec: MSpec object (10)>, <MSpec: MSpec object (11)>, <MSpec: MSpec object (12)>, <MSpec: MSpec object (13)>, <MSpec: MSpec object (14)>, <MSpec: MSpec object (15)>, <MSpec: MSpec object (16)>, <MSpec: MSpec object (17)>, <MSpec: MSpec object (18)>, <MSpec: MSpec object (19)>, <MSpec: MSpec object (20)>, '...(remaining elements truncated)...']>\n",
      "<QuerySet [<MSpec: MSpec object (1)>, <MSpec: MSpec object (2)>, <MSpec: MSpec object (3)>, <MSpec: MSpec object (4)>, <MSpec: MSpec object (5)>, <MSpec: MSpec object (6)>, <MSpec: MSpec object (7)>, <MSpec: MSpec object (8)>, <MSpec: MSpec object (9)>, <MSpec: MSpec object (10)>, <MSpec: MSpec object (11)>, <MSpec: MSpec object (12)>, <MSpec: MSpec object (13)>, <MSpec: MSpec object (14)>, <MSpec: MSpec object (15)>, <MSpec: MSpec object (16)>, <MSpec: MSpec object (17)>, <MSpec: MSpec object (18)>, <MSpec: MSpec object (19)>, <MSpec: MSpec object (20)>, '...(remaining elements truncated)...']>\n"
     ]
    }
   ],
   "source": [
    "app.run_server()"
   ]
  },
  {
   "cell_type": "code",
   "execution_count": null,
   "metadata": {},
   "outputs": [],
   "source": [
    "MSpec.search_props('sol')"
   ]
  },
  {
   "cell_type": "code",
   "execution_count": null,
   "metadata": {},
   "outputs": [],
   "source": [
    "field = 'sol'\n",
    "query = 'sol' + '__gt'\n",
    "value = 2030\n",
    "\n",
    "after_sol = Q(**{query:value})"
   ]
  },
  {
   "cell_type": "code",
   "execution_count": null,
   "metadata": {},
   "outputs": [],
   "source": [
    "interval_search(MObs.objects.all(), 'sol', 2030,2040)"
   ]
  },
  {
   "cell_type": "code",
   "execution_count": null,
   "metadata": {},
   "outputs": [],
   "source": [
    "asdf = zip([1,2],[2,3],[3,4],[4,5])\n",
    "list(asdf)"
   ]
  }
 ],
 "metadata": {
  "kernelspec": {
   "display_name": "Python 3",
   "language": "python",
   "name": "python3"
  },
  "language_info": {
   "codemirror_mode": {
    "name": "ipython",
    "version": 3
   },
   "file_extension": ".py",
   "mimetype": "text/x-python",
   "name": "python",
   "nbconvert_exporter": "python",
   "pygments_lexer": "ipython3",
   "version": "3.8.3"
  },
  "varInspector": {
   "cols": {
    "lenName": 16,
    "lenType": 16,
    "lenVar": 40
   },
   "kernels_config": {
    "python": {
     "delete_cmd_postfix": "",
     "delete_cmd_prefix": "del ",
     "library": "var_list.py",
     "varRefreshCmd": "print(var_dic_list())"
    },
    "r": {
     "delete_cmd_postfix": ") ",
     "delete_cmd_prefix": "rm(",
     "library": "var_list.r",
     "varRefreshCmd": "cat(var_dic_list()) "
    }
   },
   "types_to_exclude": [
    "module",
    "function",
    "builtin_function_or_method",
    "instance",
    "_Feature"
   ],
   "window_display": false
  }
 },
 "nbformat": 4,
 "nbformat_minor": 4
}
