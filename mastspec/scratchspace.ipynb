{
 "cells": [
  {
   "cell_type": "code",
   "execution_count": 1,
   "metadata": {},
   "outputs": [],
   "source": [
    "from functools import partial, reduce\n",
    "import os\n",
    "from operator import or_, and_, contains\n",
    "\n",
    "import dash\n",
    "import dash_core_components as dcc\n",
    "import dash_html_components as html\n",
    "from dash.dependencies import Input, Output, State\n",
    "from dash.exceptions import PreventUpdate\n",
    "from dateutil.parser import parse\n",
    "import django\n",
    "from django.db.models import Q\n",
    "from flask_caching import Cache\n",
    "#from jupyter_plotly_dash import JupyterDash\n",
    "import pandas as pd\n",
    "import plotly.express as px\n",
    "import plotly.graph_objects as go\n",
    "from toolz import keyfilter, merge, isiterable, get_in\n",
    "\n",
    "# to make jupyter-plotly-dash work, had to install jupyter_server_proxy explicitly\n",
    "# pip install jupyter_server_proxy\n",
    "# jupyter serverextension enable jupyter_server_proxy\n",
    "# but honestly it sort of isn't very good anyway\n",
    "\n",
    "os.environ.setdefault(\"DJANGO_SETTINGS_MODULE\", \"mastspec.settings\")\n",
    "os.environ[\"DJANGO_ALLOW_ASYNC_UNSAFE\"] = \"true\"\n",
    "django.setup()\n",
    "\n",
    "from plotter.models import *\n",
    "from plotter.graph import *\n",
    "# from plotter.views import *\n",
    "# from plotter.forms import *\n",
    "from utils import (\n",
    "    rows, \n",
    "    columns, \n",
    "    eta_methods, \n",
    "    qlist,\n",
    "    keygrab, \n",
    "    in_me, \n",
    "    particular_fields_search,\n",
    "    pickitems,\n",
    "    pickctx\n",
    ")\n"
   ]
  },
  {
   "cell_type": "code",
   "execution_count": 2,
   "metadata": {},
   "outputs": [],
   "source": [
    "app = dash.Dash()\n",
    "CACHE_CONFIG = {\n",
    "    'CACHE_TYPE': 'filesystem',\n",
    "    'CACHE_DIR': './.cache'\n",
    "}\n",
    "cache = Cache()\n",
    "cache.init_app(app.server, config=CACHE_CONFIG)\n",
    "\n",
    "# we're using this to create thread-safe global values.\n",
    "# also caching relatively expensive things like database lookups to the filesystem.\n",
    "# is this actually slower? maybe. if so we will supplement with storing\n",
    "# data in divs.\n",
    "# we could instead just memoize to memory using lru_cache or similar\n",
    "\n",
    "cset = cache_set(cache)\n",
    "cget = cache_get(cache)\n"
   ]
  },
  {
   "cell_type": "code",
   "execution_count": 3,
   "metadata": {},
   "outputs": [],
   "source": [
    "fig = main_graph()\n",
    "graph_function = scatter\n",
    "spec_model = MSpec \n",
    "obs_model = MObs\n",
    "# update this -- a buncha fields, both spec and obs\n",
    "searchable_fields = ['group','formation','member']\n",
    "# active queryset is explicitly stored in global cache\n",
    "cset('queryset', spec_model.objects.all().prefetch_related(\"observation\"))\n",
    "x_inputs = [\n",
    "    Input('filter-1-x', 'value'),\n",
    "    Input('filter-2-x', 'value'),\n",
    "    Input('filter-3-x', 'value'),\n",
    "    Input('axis-option-x', 'value'),\n",
    "]\n",
    "y_inputs = [\n",
    "    Input('filter-1-y', 'value'),\n",
    "    Input('filter-2-y', 'value'),\n",
    "    Input('filter-3-y', 'value'),\n",
    "    Input('axis-option-y', 'value')\n",
    "]"
   ]
  },
  {
   "cell_type": "code",
   "execution_count": 4,
   "metadata": {},
   "outputs": [
    {
     "data": {
      "text/plain": [
       "<function plotter.graph.recalculate_graph(*args, x_inputs, y_inputs, graph_function, cget, cset)>"
      ]
     },
     "execution_count": 4,
     "metadata": {},
     "output_type": "execute_result"
    }
   ],
   "source": [
    "recalculate_graph"
   ]
  },
  {
   "cell_type": "code",
   "execution_count": 5,
   "metadata": {},
   "outputs": [],
   "source": [
    "# insert 'global' variables for this app into functions\n",
    "\n",
    "recalculate_graph = partial(\n",
    "    recalculate_graph, \n",
    "    x_inputs=x_inputs,\n",
    "    y_inputs=y_inputs,\n",
    "    cget=cget,\n",
    "    cset=cset,\n",
    "    graph_function = graph_function\n",
    ")\n",
    "\n",
    "update_model_field = partial(update_model_field, cget=cget)\n",
    "update_queryset = partial(update_queryset, cget=cget, cset=cset)"
   ]
  },
  {
   "cell_type": "code",
   "execution_count": 6,
   "metadata": {},
   "outputs": [],
   "source": [
    "# memoize functions that seem to want caching\n",
    "\n",
    "for function in [\n",
    "    handle_search, \n",
    "    particular_fields_search,\n",
    "    qlist,\n",
    "    make_axis\n",
    "    ]:\n",
    "    function = cache.memoize()(function)"
   ]
  },
  {
   "cell_type": "code",
   "execution_count": 7,
   "metadata": {},
   "outputs": [],
   "source": [
    "# app layout proper\n",
    "\n",
    "# it's a big open UX question how to gracefully mutate filters between instruments.\n",
    "# (i.e., if we want to be able to display spectra from multiple instruments\n",
    "# simultaneously rather than successively).\n",
    "# it might be that flexible band values are actually better than explicit filter\n",
    "# selection. for now we're using this, though.\n",
    "app.layout = html.Div(children = [\n",
    "    html.Div(children = [\n",
    "        axis_value_drop('axis-option-x'),\n",
    "        filter_drop(spec_model,'filter-1-x'),\n",
    "        filter_drop(spec_model,'filter-3-x'),\n",
    "        filter_drop(spec_model,'filter-2-x'),\n",
    "    ]),\n",
    "    html.Div(children = [\n",
    "        axis_value_drop('axis-option-y'),\n",
    "        filter_drop(spec_model,'filter-1-y'),\n",
    "        filter_drop(spec_model,'filter-3-y'),\n",
    "        filter_drop(spec_model,'filter-2-y'),\n",
    "    ]),\n",
    "    html.Div(id = 'calculation-state', style={\"display\":\"none\"}),\n",
    "    html.Div(id = 'search-trigger', style={\"display\":\"none\"}),\n",
    "    # will probably want to split divs off here so we can generate new search rows\n",
    "    # how do we manage that in callbacks? is there a name selector?\n",
    "    # yes -- see https://dash.plotly.com/pattern-matching-callbacks\n",
    "    field_drop(searchable_fields, 'field-search'),\n",
    "    model_options_drop(cget('queryset'), 'group', 'value-search'),\n",
    "    html.Button(id='submit-search', n_clicks=0, children='Submit'),\n",
    "    html.Div(children = [fig]),\n",
    "    ])"
   ]
  },
  {
   "cell_type": "code",
   "execution_count": 8,
   "metadata": {},
   "outputs": [
    {
     "data": {
      "text/plain": [
       "<function dash.dash.Dash.callback.<locals>.wrap_func.<locals>.add_context(n_clicks, field, value, *, cget=<function cache_get.<locals>.cget at 0x7ff712cf1550>, cset=<function cache_set.<locals>.cset at 0x7ff712d33b80>)>"
      ]
     },
     "execution_count": 8,
     "metadata": {},
     "output_type": "execute_result"
    }
   ],
   "source": [
    "# register functions with app i/o\n",
    "\n",
    "for axis in ['x', 'y']:\n",
    "    app.callback(\n",
    "        [\n",
    "            Output('filter-1-'+axis, 'style'),\n",
    "            Output('filter-2-'+axis, 'style'),\n",
    "            Output('filter-3-'+axis, 'style'),\n",
    "        ],\n",
    "        [Input('axis-option-'+axis, 'value')]\n",
    "    )(change_input_visibility)\n",
    "\n",
    "app.callback(\n",
    "    Output('main-graph', 'figure'),\n",
    "    # maybe later add an explicit recalc button?\n",
    "    [*x_inputs, *y_inputs, Input('search-trigger', 'value')],\n",
    ")(recalculate_graph)\n",
    "\n",
    "app.callback(\n",
    "    Output('value-search', 'options'),\n",
    "    [Input('field-search', 'value')],\n",
    "    )(update_model_field)\n",
    "    \n",
    "app.callback(\n",
    "    Output('search-trigger', 'value'),\n",
    "    [Input('submit-search', 'n_clicks')],\n",
    "    [State('field-search', 'value'),\n",
    "    State('value-search', 'value')]\n",
    ")(update_queryset)\n"
   ]
  },
  {
   "cell_type": "code",
   "execution_count": 9,
   "metadata": {
    "scrolled": true
   },
   "outputs": [
    {
     "name": "stdout",
     "output_type": "stream",
     "text": [
      "Dash is running on http://127.0.0.1:8050/\n",
      "\n",
      " Warning: This is a development server. Do not use app.run_server\n",
      " in production, use a production WSGI server like gunicorn instead.\n",
      "\n",
      " * Serving Flask app \"__main__\" (lazy loading)\n",
      " * Environment: production\n",
      "\u001b[31m   WARNING: This is a development server. Do not use it in a production deployment.\u001b[0m\n",
      "\u001b[2m   Use a production WSGI server instead.\u001b[0m\n",
      " * Debug mode: off\n"
     ]
    },
    {
     "name": "stderr",
     "output_type": "stream",
     "text": [
      " * Running on http://127.0.0.1:8050/ (Press CTRL+C to quit)\n",
      "127.0.0.1 - - [01/Jul/2020 03:04:32] \"\u001b[37mGET / HTTP/1.1\u001b[0m\" 200 -\n",
      "127.0.0.1 - - [01/Jul/2020 03:04:32] \"\u001b[37mGET /_dash-component-suites/dash_renderer/react@16.v1_5_0m1592852348.13.0.min.js HTTP/1.1\u001b[0m\" 200 -\n",
      "127.0.0.1 - - [01/Jul/2020 03:04:32] \"\u001b[37mGET /_dash-component-suites/dash_renderer/prop-types@15.v1_5_0m1592852348.7.2.min.js HTTP/1.1\u001b[0m\" 200 -\n",
      "127.0.0.1 - - [01/Jul/2020 03:04:32] \"\u001b[37mGET /_dash-component-suites/dash_renderer/polyfill@7.v1_5_0m1592852348.8.7.min.js HTTP/1.1\u001b[0m\" 200 -\n",
      "127.0.0.1 - - [01/Jul/2020 03:04:32] \"\u001b[37mGET /_dash-component-suites/dash_core_components/dash_core_components-shared.v1_10_1m1592852348.js HTTP/1.1\u001b[0m\" 200 -\n",
      "127.0.0.1 - - [01/Jul/2020 03:04:32] \"\u001b[37mGET /_dash-component-suites/dash_renderer/react-dom@16.v1_5_0m1592852348.13.0.min.js HTTP/1.1\u001b[0m\" 200 -\n",
      "127.0.0.1 - - [01/Jul/2020 03:04:32] \"\u001b[37mGET /_dash-component-suites/dash_core_components/dash_core_components.v1_10_1m1592852348.min.js HTTP/1.1\u001b[0m\" 200 -\n",
      "127.0.0.1 - - [01/Jul/2020 03:04:32] \"\u001b[37mGET /_dash-component-suites/dash_html_components/dash_html_components.v1_0_3m1592852348.min.js HTTP/1.1\u001b[0m\" 200 -\n",
      "127.0.0.1 - - [01/Jul/2020 03:04:32] \"\u001b[37mGET /_dash-component-suites/dash_renderer/dash_renderer.v1_5_0m1592852348.min.js HTTP/1.1\u001b[0m\" 200 -\n",
      "127.0.0.1 - - [01/Jul/2020 03:04:32] \"\u001b[37mGET /_dash-dependencies HTTP/1.1\u001b[0m\" 200 -\n",
      "127.0.0.1 - - [01/Jul/2020 03:04:32] \"\u001b[37mGET /_dash-layout HTTP/1.1\u001b[0m\" 200 -\n",
      "127.0.0.1 - - [01/Jul/2020 03:04:32] \"\u001b[37mPOST /_dash-update-component HTTP/1.1\u001b[0m\" 204 -\n",
      "127.0.0.1 - - [01/Jul/2020 03:04:32] \"\u001b[37mPOST /_dash-update-component HTTP/1.1\u001b[0m\" 200 -\n",
      "127.0.0.1 - - [01/Jul/2020 03:04:32] \"\u001b[37mPOST /_dash-update-component HTTP/1.1\u001b[0m\" 200 -\n",
      "127.0.0.1 - - [01/Jul/2020 03:04:32] \"\u001b[37mPOST /_dash-update-component HTTP/1.1\u001b[0m\" 200 -\n",
      "127.0.0.1 - - [01/Jul/2020 03:04:32] \"\u001b[37mPOST /_dash-update-component HTTP/1.1\u001b[0m\" 204 -\n",
      "127.0.0.1 - - [01/Jul/2020 03:04:36] \"\u001b[37mPOST /_dash-update-component HTTP/1.1\u001b[0m\" 200 -\n",
      "127.0.0.1 - - [01/Jul/2020 03:04:36] \"\u001b[37mPOST /_dash-update-component HTTP/1.1\u001b[0m\" 204 -\n"
     ]
    },
    {
     "name": "stdout",
     "output_type": "stream",
     "text": [
      "cats [{'filter-1-x.value': None, 'filter-2-x.value': None, 'filter-3-x.value': None, 'axis-option-x.value': 'band_max', 'filter-1-y.value': None, 'filter-2-y.value': None, 'filter-3-y.value': None, 'axis-option-y.value': 'band_avg', 'search-trigger.value': None}]\n",
      "comps ['filter-1-x.value', 'filter-2-x.value', 'filter-3-x.value', 'axis-option-x.value']\n",
      "[{'filter-1-x.value': None, 'filter-2-x.value': None, 'filter-3-x.value': None, 'axis-option-x.value': 'band_max'}]\n",
      "cats [{'filter-1-x.value': None, 'filter-2-x.value': None, 'filter-3-x.value': None, 'axis-option-x.value': 'band_max', 'filter-1-y.value': None, 'filter-2-y.value': None, 'filter-3-y.value': None, 'axis-option-y.value': 'band_avg', 'search-trigger.value': None}]\n",
      "comps ['filter-1-y.value', 'filter-2-y.value', 'filter-3-y.value', 'axis-option-y.value']\n",
      "[{'filter-1-y.value': None, 'filter-2-y.value': None, 'filter-3-y.value': None, 'axis-option-y.value': 'band_avg'}]\n"
     ]
    },
    {
     "name": "stderr",
     "output_type": "stream",
     "text": [
      "127.0.0.1 - - [01/Jul/2020 03:04:37] \"\u001b[37mPOST /_dash-update-component HTTP/1.1\u001b[0m\" 204 -\n"
     ]
    },
    {
     "name": "stdout",
     "output_type": "stream",
     "text": [
      "cats [{'filter-1-x.value': 'L2', 'filter-2-x.value': None, 'filter-3-x.value': None, 'axis-option-x.value': 'band_max', 'filter-1-y.value': None, 'filter-2-y.value': None, 'filter-3-y.value': None, 'axis-option-y.value': 'band_avg', 'search-trigger.value': None}]\n",
      "comps ['filter-1-x.value', 'filter-2-x.value', 'filter-3-x.value', 'axis-option-x.value']\n",
      "[{'filter-1-x.value': 'L2', 'filter-2-x.value': None, 'filter-3-x.value': None, 'axis-option-x.value': 'band_max'}]\n",
      "cats [{'filter-1-x.value': 'L2', 'filter-2-x.value': None, 'filter-3-x.value': None, 'axis-option-x.value': 'band_max', 'filter-1-y.value': None, 'filter-2-y.value': None, 'filter-3-y.value': None, 'axis-option-y.value': 'band_avg', 'search-trigger.value': None}]\n",
      "comps ['filter-1-y.value', 'filter-2-y.value', 'filter-3-y.value', 'axis-option-y.value']\n",
      "[{'filter-1-y.value': None, 'filter-2-y.value': None, 'filter-3-y.value': None, 'axis-option-y.value': 'band_avg'}]\n"
     ]
    },
    {
     "name": "stderr",
     "output_type": "stream",
     "text": [
      "127.0.0.1 - - [01/Jul/2020 03:04:40] \"\u001b[37mPOST /_dash-update-component HTTP/1.1\u001b[0m\" 204 -\n"
     ]
    },
    {
     "name": "stdout",
     "output_type": "stream",
     "text": [
      "cats [{'filter-1-x.value': 'L2', 'filter-2-x.value': 'L3', 'filter-3-x.value': None, 'axis-option-x.value': 'band_max', 'filter-1-y.value': None, 'filter-2-y.value': None, 'filter-3-y.value': None, 'axis-option-y.value': 'band_avg', 'search-trigger.value': None}]\n",
      "comps ['filter-1-x.value', 'filter-2-x.value', 'filter-3-x.value', 'axis-option-x.value']\n",
      "[{'filter-1-x.value': 'L2', 'filter-2-x.value': 'L3', 'filter-3-x.value': None, 'axis-option-x.value': 'band_max'}]\n",
      "cats [{'filter-1-x.value': 'L2', 'filter-2-x.value': 'L3', 'filter-3-x.value': None, 'axis-option-x.value': 'band_max', 'filter-1-y.value': None, 'filter-2-y.value': None, 'filter-3-y.value': None, 'axis-option-y.value': 'band_avg', 'search-trigger.value': None}]\n",
      "comps ['filter-1-y.value', 'filter-2-y.value', 'filter-3-y.value', 'axis-option-y.value']\n",
      "[{'filter-1-y.value': None, 'filter-2-y.value': None, 'filter-3-y.value': None, 'axis-option-y.value': 'band_avg'}]\n"
     ]
    },
    {
     "name": "stderr",
     "output_type": "stream",
     "text": [
      "127.0.0.1 - - [01/Jul/2020 03:04:47] \"\u001b[37mPOST /_dash-update-component HTTP/1.1\u001b[0m\" 200 -\n",
      "127.0.0.1 - - [01/Jul/2020 03:04:47] \"\u001b[37mPOST /_dash-update-component HTTP/1.1\u001b[0m\" 204 -\n"
     ]
    },
    {
     "name": "stdout",
     "output_type": "stream",
     "text": [
      "cats [{'filter-1-x.value': 'L2', 'filter-2-x.value': 'L3', 'filter-3-x.value': None, 'axis-option-x.value': 'band_max', 'filter-1-y.value': None, 'filter-2-y.value': None, 'filter-3-y.value': None, 'axis-option-y.value': 'band_min', 'search-trigger.value': None}]\n",
      "comps ['filter-1-x.value', 'filter-2-x.value', 'filter-3-x.value', 'axis-option-x.value']\n",
      "[{'filter-1-x.value': 'L2', 'filter-2-x.value': 'L3', 'filter-3-x.value': None, 'axis-option-x.value': 'band_max'}]\n",
      "cats [{'filter-1-x.value': 'L2', 'filter-2-x.value': 'L3', 'filter-3-x.value': None, 'axis-option-x.value': 'band_max', 'filter-1-y.value': None, 'filter-2-y.value': None, 'filter-3-y.value': None, 'axis-option-y.value': 'band_min', 'search-trigger.value': None}]\n",
      "comps ['filter-1-y.value', 'filter-2-y.value', 'filter-3-y.value', 'axis-option-y.value']\n",
      "[{'filter-1-y.value': None, 'filter-2-y.value': None, 'filter-3-y.value': None, 'axis-option-y.value': 'band_min'}]\n"
     ]
    },
    {
     "name": "stderr",
     "output_type": "stream",
     "text": [
      "127.0.0.1 - - [01/Jul/2020 03:04:50] \"\u001b[37mPOST /_dash-update-component HTTP/1.1\u001b[0m\" 204 -\n"
     ]
    },
    {
     "name": "stdout",
     "output_type": "stream",
     "text": [
      "cats [{'filter-1-x.value': 'L2', 'filter-2-x.value': 'L3', 'filter-3-x.value': None, 'axis-option-x.value': 'band_max', 'filter-1-y.value': 'L2', 'filter-2-y.value': None, 'filter-3-y.value': None, 'axis-option-y.value': 'band_min', 'search-trigger.value': None}]\n",
      "comps ['filter-1-x.value', 'filter-2-x.value', 'filter-3-x.value', 'axis-option-x.value']\n",
      "[{'filter-1-x.value': 'L2', 'filter-2-x.value': 'L3', 'filter-3-x.value': None, 'axis-option-x.value': 'band_max'}]\n",
      "cats [{'filter-1-x.value': 'L2', 'filter-2-x.value': 'L3', 'filter-3-x.value': None, 'axis-option-x.value': 'band_max', 'filter-1-y.value': 'L2', 'filter-2-y.value': None, 'filter-3-y.value': None, 'axis-option-y.value': 'band_min', 'search-trigger.value': None}]\n",
      "comps ['filter-1-y.value', 'filter-2-y.value', 'filter-3-y.value', 'axis-option-y.value']\n",
      "[{'filter-1-y.value': 'L2', 'filter-2-y.value': None, 'filter-3-y.value': None, 'axis-option-y.value': 'band_min'}]\n"
     ]
    },
    {
     "name": "stderr",
     "output_type": "stream",
     "text": [
      "127.0.0.1 - - [01/Jul/2020 03:04:55] \"\u001b[37mPOST /_dash-update-component HTTP/1.1\u001b[0m\" 200 -\n"
     ]
    },
    {
     "name": "stdout",
     "output_type": "stream",
     "text": [
      "cats [{'filter-1-x.value': 'L2', 'filter-2-x.value': 'L3', 'filter-3-x.value': None, 'axis-option-x.value': 'band_max', 'filter-1-y.value': 'L2', 'filter-2-y.value': 'L3', 'filter-3-y.value': None, 'axis-option-y.value': 'band_min', 'search-trigger.value': None}]\n",
      "comps ['filter-1-x.value', 'filter-2-x.value', 'filter-3-x.value', 'axis-option-x.value']\n",
      "[{'filter-1-x.value': 'L2', 'filter-2-x.value': 'L3', 'filter-3-x.value': None, 'axis-option-x.value': 'band_max'}]\n",
      "cats [{'filter-1-x.value': 'L2', 'filter-2-x.value': 'L3', 'filter-3-x.value': None, 'axis-option-x.value': 'band_max', 'filter-1-y.value': 'L2', 'filter-2-y.value': 'L3', 'filter-3-y.value': None, 'axis-option-y.value': 'band_min', 'search-trigger.value': None}]\n",
      "comps ['filter-1-y.value', 'filter-2-y.value', 'filter-3-y.value', 'axis-option-y.value']\n",
      "[{'filter-1-y.value': 'L2', 'filter-2-y.value': 'L3', 'filter-3-y.value': None, 'axis-option-y.value': 'band_min'}]\n"
     ]
    },
    {
     "name": "stderr",
     "output_type": "stream",
     "text": [
      "127.0.0.1 - - [01/Jul/2020 03:06:20] \"\u001b[37mPOST /_dash-update-component HTTP/1.1\u001b[0m\" 200 -\n"
     ]
    }
   ],
   "source": [
    "app.run_server()"
   ]
  },
  {
   "cell_type": "code",
   "execution_count": 10,
   "metadata": {},
   "outputs": [
    {
     "data": {
      "text/plain": [
       "{'..filter-1-x.style...filter-2-x.style...filter-3-x.style..': {'inputs': [{'id': 'axis-option-x',\n",
       "    'property': 'value'}],\n",
       "  'state': [],\n",
       "  'callback': <function plotter.graph.change_input_visibility(calc_type)>},\n",
       " '..filter-1-y.style...filter-2-y.style...filter-3-y.style..': {'inputs': [{'id': 'axis-option-y',\n",
       "    'property': 'value'}],\n",
       "  'state': [],\n",
       "  'callback': <function plotter.graph.change_input_visibility(calc_type)>},\n",
       " 'main-graph.figure': {'inputs': [{'id': 'filter-1-x', 'property': 'value'},\n",
       "   {'id': 'filter-2-x', 'property': 'value'},\n",
       "   {'id': 'filter-3-x', 'property': 'value'},\n",
       "   {'id': 'axis-option-x', 'property': 'value'},\n",
       "   {'id': 'filter-1-y', 'property': 'value'},\n",
       "   {'id': 'filter-2-y', 'property': 'value'},\n",
       "   {'id': 'filter-3-y', 'property': 'value'},\n",
       "   {'id': 'axis-option-y', 'property': 'value'},\n",
       "   {'id': 'search-trigger', 'property': 'value'}],\n",
       "  'state': [],\n",
       "  'callback': <function dash.dash.Dash.callback.<locals>.wrap_func.<locals>.add_context(*args, x_inputs=[<Input `filter-1-x.value`>, <Input `filter-2-x.value`>, <Input `filter-3-x.value`>, <Input `axis-option-x.value`>], y_inputs=[<Input `filter-1-y.value`>, <Input `filter-2-y.value`>, <Input `filter-3-y.value`>, <Input `axis-option-y.value`>], graph_function=<function scatter at 0x7ff712d33430>, cget=<function cache_get.<locals>.cget at 0x7ff712cf1550>, cset=<function cache_set.<locals>.cset at 0x7ff712d33b80>)>},\n",
       " 'value-search.options': {'inputs': [{'id': 'field-search',\n",
       "    'property': 'value'}],\n",
       "  'state': [],\n",
       "  'callback': <function dash.dash.Dash.callback.<locals>.wrap_func.<locals>.add_context(field, *, cget=<function cache_get.<locals>.cget at 0x7ff712cf1550>)>},\n",
       " 'search-trigger.value': {'inputs': [{'id': 'submit-search',\n",
       "    'property': 'n_clicks'}],\n",
       "  'state': [{'id': 'field-search', 'property': 'value'},\n",
       "   {'id': 'value-search', 'property': 'value'}],\n",
       "  'callback': <function dash.dash.Dash.callback.<locals>.wrap_func.<locals>.add_context(n_clicks, field, value, *, cget=<function cache_get.<locals>.cget at 0x7ff712cf1550>, cset=<function cache_set.<locals>.cset at 0x7ff712d33b80>)>}}"
      ]
     },
     "execution_count": 10,
     "metadata": {},
     "output_type": "execute_result"
    }
   ],
   "source": [
    "app.callback_map"
   ]
  }
 ],
 "metadata": {
  "kernelspec": {
   "display_name": "Python 3",
   "language": "python",
   "name": "python3"
  },
  "language_info": {
   "codemirror_mode": {
    "name": "ipython",
    "version": 3
   },
   "file_extension": ".py",
   "mimetype": "text/x-python",
   "name": "python",
   "nbconvert_exporter": "python",
   "pygments_lexer": "ipython3",
   "version": "3.8.3"
  },
  "varInspector": {
   "cols": {
    "lenName": 16,
    "lenType": 16,
    "lenVar": 40
   },
   "kernels_config": {
    "python": {
     "delete_cmd_postfix": "",
     "delete_cmd_prefix": "del ",
     "library": "var_list.py",
     "varRefreshCmd": "print(var_dic_list())"
    },
    "r": {
     "delete_cmd_postfix": ") ",
     "delete_cmd_prefix": "rm(",
     "library": "var_list.r",
     "varRefreshCmd": "cat(var_dic_list()) "
    }
   },
   "types_to_exclude": [
    "module",
    "function",
    "builtin_function_or_method",
    "instance",
    "_Feature"
   ],
   "window_display": false
  }
 },
 "nbformat": 4,
 "nbformat_minor": 4
}
