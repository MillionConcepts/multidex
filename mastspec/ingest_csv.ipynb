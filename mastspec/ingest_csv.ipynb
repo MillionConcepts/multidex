{
 "cells": [
  {
   "cell_type": "code",
   "execution_count": 1,
   "metadata": {},
   "outputs": [],
   "source": [
    "import os\n",
    "import re\n",
    "\n",
    "import django\n",
    "import fs.path\n",
    "import numpy as np\n",
    "from django.core.exceptions import ObjectDoesNotExist\n",
    "from fs.osfs import OSFS\n",
    "\n",
    "os.environ.setdefault(\"DJANGO_SETTINGS_MODULE\", \"mastspec.settings\")\n",
    "os.environ[\"DJANGO_ALLOW_ASYNC_UNSAFE\"] = \"true\"\n",
    "\n",
    "django.setup()\n",
    "\n",
    "from plotter.models import *\n",
    "# from mastspec.views import *\n",
    "# from mastspec.forms import *\n",
    "from utils import modeldict"
   ]
  },
  {
   "cell_type": "code",
   "execution_count": null,
   "metadata": {},
   "outputs": [],
   "source": [
    "# for spec in MSpec.objects.all():\n",
    "#     spec.delete()\n",
    "# for obs in MObs.objects.all():\n",
    "#     obs.delete()"
   ]
  },
  {
   "cell_type": "code",
   "execution_count": 2,
   "metadata": {},
   "outputs": [
    {
     "data": {
      "text/plain": [
       "['images', 'spectra', 'Metadata-marslab.csv']"
      ]
     },
     "execution_count": 2,
     "metadata": {},
     "output_type": "execute_result"
    }
   ],
   "source": [
    "input_fs = OSFS(\"/home/michael/mastcam_data/\")\n",
    "output_fs = OSFS('.')\n",
    "output_image_dir = output_fs.getsyspath(\"static_in_pro/our_static/img/\")\n",
    "input_fs.listdir('')"
   ]
  },
  {
   "cell_type": "code",
   "execution_count": 3,
   "metadata": {},
   "outputs": [],
   "source": [
    "metaframe = pd.read_csv(input_fs.getsyspath('Metadata-marslab.csv'))\n",
    "metaframe.columns = [column.lower() for column in metaframe.columns]\n",
    "# add NaNs back in so we can programmatically delete them\n",
    "metaframe.replace('-', np.nan, inplace=True)\n",
    "# we're turning these to ints when we ingest them,\n",
    "# but python doesn't like statements like int('3.0'),\n",
    "# so turn to float as an intermediate step\n",
    "for column in ['sol', 'site', 'drive']:\n",
    "    metaframe[column] = metaframe[column].astype('float')\n",
    "metaframe['ltst'] = metaframe['ltst'].astype('datetime64')"
   ]
  },
  {
   "cell_type": "code",
   "execution_count": null,
   "metadata": {},
   "outputs": [],
   "source": [
    "# def am_i_broken(putative_float):\n",
    "#     try:\n",
    "#         float(putative_float)\n",
    "#         return False\n",
    "#     except ValueError:\n",
    "#         return True\n",
    "#     raise\n",
    "# metaframe.loc[\n",
    "#     metaframe['lat'].map(am_i_broken)\n",
    "# ]"
   ]
  },
  {
   "cell_type": "code",
   "execution_count": null,
   "metadata": {},
   "outputs": [],
   "source": [
    "# lots of missing values and no spectra, skip for now\n",
    "BAD_MCAMS = ['mcam13523']\n",
    "overlay_images = [\n",
    "    image for image in input_fs.listdir('images/roi_images')\n",
    "]\n",
    "rgb_images = [\n",
    "    image for image in input_fs.listdir('images/rgb_images')\n",
    "]"
   ]
  },
  {
   "cell_type": "code",
   "execution_count": 9,
   "metadata": {},
   "outputs": [],
   "source": [
    "def get_image_ordinal(mastcam_image_fn_no_ext):\n",
    "    ordinal_appendage = re.search(r'_[RL](\\d)$', mastcam_image_fn_no_ext)\n",
    "    if ordinal_appendage:\n",
    "        return ordinal_appendage.group(1)\n",
    "    else:\n",
    "        return '1'"
   ]
  },
  {
   "cell_type": "code",
   "execution_count": null,
   "metadata": {
    "scrolled": false
   },
   "outputs": [],
   "source": [
    "for ix, row in metaframe.iterrows():\n",
    "    # skip observations we think are 'bad'\n",
    "    if row['seq_id'] in BAD_MCAMS:\n",
    "        continue\n",
    "    # drop NaN-valued fields and populate observation SQL fields\n",
    "    # from CSV fields\n",
    "    row.dropna(inplace=True)\n",
    "    obs = MObs(**dict(zip(row.index,row.values)))\n",
    "    # this is the canonical prefix for image / spectra files \n",
    "    obs_identifier = 'sol' + format(\n",
    "            int(row['sol']), \"0>4d\"\n",
    "        ) + '_' + row['seq_id']\n",
    "    overlay_image_list = [\n",
    "        image for image in overlay_images \n",
    "        if image.startswith(obs_identifier)\n",
    "    ]\n",
    "    rgb_image_list = [\n",
    "        image for image in rgb_images \n",
    "        if image.startswith(obs_identifier)\n",
    "    ]\n",
    "    # associate observation with images using the convoluted decision tree\n",
    "    # that appears to have been used to name the images (usually)\n",
    "    for image in overlay_image_list:\n",
    "        basename = fs.path.splitext(image)[0]\n",
    "        if re.search(r'_R\\d.*?_ROIs', basename):\n",
    "            image_eye = 'righteye'\n",
    "        elif re.search(r'_L\\d.*?_ROIs', basename):\n",
    "            image_eye = 'lefteye'\n",
    "        # note that we _want_ this to throw a NameError if image_eye is undefined \n",
    "        setattr(\n",
    "            obs, \n",
    "            image_eye + '_roi_image_' + get_image_ordinal(basename),\n",
    "            image\n",
    "        )\n",
    "    # note subtle, delicious differences in RGB image naming conventions\n",
    "    for image in rgb_image_list:\n",
    "        basename = fs.path.splitext(image)[0]\n",
    "        if re.search(r'R(_R\\d)?$', basename):\n",
    "            image_eye = 'righteye'\n",
    "        elif re.search(r'L(_[LR]\\d)?$', basename):\n",
    "            image_eye = 'lefteye'\n",
    "        setattr(\n",
    "            obs, \n",
    "            image_eye + '_rgb_image_' + get_image_ordinal(basename),\n",
    "            image\n",
    "        )\n",
    "    obs.clean()\n",
    "    obs.save()\n",
    "pd.DataFrame(map(modeldict, MObs.objects.all()))"
   ]
  },
  {
   "cell_type": "code",
   "execution_count": null,
   "metadata": {},
   "outputs": [],
   "source": [
    "# for spec in MSpec.objects.all():\n",
    "#     spec.delete()"
   ]
  },
  {
   "cell_type": "code",
   "execution_count": 10,
   "metadata": {
    "scrolled": false
   },
   "outputs": [],
   "source": [
    "SEQ_ID_PATTERN = r\"mcam\\d+(?=_)\"\n",
    "for spec_file in input_fs.listdir('spectra')[0:20]:\n",
    "    seq_id = re.search(SEQ_ID_PATTERN, spec_file).group()\n",
    "    try:\n",
    "        observation = MObs.objects.get(seq_id__iexact=seq_id)\n",
    "    except ObjectDoesNotExist:\n",
    "        print(\"no observation for \" + spec_file, seq_id)\n",
    "        continue\n",
    "    frame = pd.read_csv(input_fs.getsyspath('spectra/' + spec_file))\n",
    "    frame.columns = [column.lower() for column in frame.columns]\n",
    "    image_number = get_image_ordinal(spec_file)\n",
    "    for _, row in frame.iterrows():\n",
    "        row = row.replace(['-','',' '], np.nan).dropna()\n",
    "        # we would like these metadata to be carried on the parent\n",
    "        # observation rather than on the spectrum (i.e., we don't need\n",
    "        # an extra pivot because we already have a FOREIGN KEY.) but\n",
    "        # we want to make sure they match!\n",
    "        assert row['sol'] == observation.sol\n",
    "        assert row['seq_id'] == observation.seq_id\n",
    "        row.drop(['sol','seq_id', 'instrument'], inplace=True)\n",
    "        if row['float'] == 'Y':\n",
    "            row['float'] = True\n",
    "        else:\n",
    "            row['float'] = False\n",
    "        metadata = dict(row) | {\n",
    "            'observation': observation,\n",
    "            'image_number': image_number,\n",
    "            'filename': spec_file\n",
    "        }\n",
    "#         spectrum = MSpec(**metadata)\n",
    "#         spectrum.clean()\n",
    "#         spectrum.save()\n"
   ]
  },
  {
   "cell_type": "code",
   "execution_count": 12,
   "metadata": {},
   "outputs": [
    {
     "data": {
      "text/html": [
       "<div>\n",
       "<style scoped>\n",
       "    .dataframe tbody tr th:only-of-type {\n",
       "        vertical-align: middle;\n",
       "    }\n",
       "\n",
       "    .dataframe tbody tr th {\n",
       "        vertical-align: top;\n",
       "    }\n",
       "\n",
       "    .dataframe thead th {\n",
       "        text-align: right;\n",
       "    }\n",
       "</style>\n",
       "<table border=\"1\" class=\"dataframe\">\n",
       "  <thead>\n",
       "    <tr style=\"text-align: right;\">\n",
       "      <th></th>\n",
       "      <th>sol</th>\n",
       "      <th>seq_id</th>\n",
       "      <th>instrument</th>\n",
       "      <th>color</th>\n",
       "      <th>feature</th>\n",
       "      <th>formation</th>\n",
       "      <th>member</th>\n",
       "      <th>float</th>\n",
       "      <th>l2</th>\n",
       "      <th>l2_err</th>\n",
       "      <th>...</th>\n",
       "      <th>l5</th>\n",
       "      <th>l5_err</th>\n",
       "      <th>r4</th>\n",
       "      <th>r4_err</th>\n",
       "      <th>r5</th>\n",
       "      <th>r5_err</th>\n",
       "      <th>l6</th>\n",
       "      <th>l6_err</th>\n",
       "      <th>r6</th>\n",
       "      <th>r6_err</th>\n",
       "    </tr>\n",
       "  </thead>\n",
       "  <tbody>\n",
       "    <tr>\n",
       "      <th>0</th>\n",
       "      <td>397</td>\n",
       "      <td>mcam01650</td>\n",
       "      <td>MCAM</td>\n",
       "      <td>dark blue</td>\n",
       "      <td>-</td>\n",
       "      <td>Bradbury Group</td>\n",
       "      <td>-</td>\n",
       "      <td>N</td>\n",
       "      <td>0.111288</td>\n",
       "      <td>0.015300</td>\n",
       "      <td>...</td>\n",
       "      <td>NaN</td>\n",
       "      <td>NaN</td>\n",
       "      <td>NaN</td>\n",
       "      <td>NaN</td>\n",
       "      <td>NaN</td>\n",
       "      <td>NaN</td>\n",
       "      <td>0.337403</td>\n",
       "      <td>0.031909</td>\n",
       "      <td>NaN</td>\n",
       "      <td>NaN</td>\n",
       "    </tr>\n",
       "    <tr>\n",
       "      <th>1</th>\n",
       "      <td>397</td>\n",
       "      <td>mcam01650</td>\n",
       "      <td>MCAM</td>\n",
       "      <td>light blue</td>\n",
       "      <td>-</td>\n",
       "      <td>Bradbury Group</td>\n",
       "      <td>-</td>\n",
       "      <td>N</td>\n",
       "      <td>0.168703</td>\n",
       "      <td>0.014909</td>\n",
       "      <td>...</td>\n",
       "      <td>NaN</td>\n",
       "      <td>NaN</td>\n",
       "      <td>NaN</td>\n",
       "      <td>NaN</td>\n",
       "      <td>NaN</td>\n",
       "      <td>NaN</td>\n",
       "      <td>0.548002</td>\n",
       "      <td>0.033366</td>\n",
       "      <td>NaN</td>\n",
       "      <td>NaN</td>\n",
       "    </tr>\n",
       "    <tr>\n",
       "      <th>2</th>\n",
       "      <td>397</td>\n",
       "      <td>mcam01650</td>\n",
       "      <td>MCAM</td>\n",
       "      <td>red</td>\n",
       "      <td>-</td>\n",
       "      <td>-</td>\n",
       "      <td>-</td>\n",
       "      <td>N</td>\n",
       "      <td>0.080209</td>\n",
       "      <td>0.013953</td>\n",
       "      <td>...</td>\n",
       "      <td>NaN</td>\n",
       "      <td>NaN</td>\n",
       "      <td>NaN</td>\n",
       "      <td>NaN</td>\n",
       "      <td>NaN</td>\n",
       "      <td>NaN</td>\n",
       "      <td>0.304274</td>\n",
       "      <td>0.027118</td>\n",
       "      <td>NaN</td>\n",
       "      <td>NaN</td>\n",
       "    </tr>\n",
       "  </tbody>\n",
       "</table>\n",
       "<p>3 rows × 44 columns</p>\n",
       "</div>"
      ],
      "text/plain": [
       "   sol     seq_id instrument       color feature       formation member float  \\\n",
       "0  397  mcam01650       MCAM   dark blue       -  Bradbury Group      -     N   \n",
       "1  397  mcam01650       MCAM  light blue       -  Bradbury Group      -     N   \n",
       "2  397  mcam01650       MCAM         red       -               -      -     N   \n",
       "\n",
       "         l2    l2_err  ...  l5  l5_err  r4  r4_err  r5  r5_err        l6  \\\n",
       "0  0.111288  0.015300  ... NaN     NaN NaN     NaN NaN     NaN  0.337403   \n",
       "1  0.168703  0.014909  ... NaN     NaN NaN     NaN NaN     NaN  0.548002   \n",
       "2  0.080209  0.013953  ... NaN     NaN NaN     NaN NaN     NaN  0.304274   \n",
       "\n",
       "     l6_err  r6  r6_err  \n",
       "0  0.031909 NaN     NaN  \n",
       "1  0.033366 NaN     NaN  \n",
       "2  0.027118 NaN     NaN  \n",
       "\n",
       "[3 rows x 44 columns]"
      ]
     },
     "execution_count": 12,
     "metadata": {},
     "output_type": "execute_result"
    }
   ],
   "source": [
    "frame"
   ]
  }
 ],
 "metadata": {
  "kernelspec": {
   "display_name": "Django Shell-Plus",
   "language": "python",
   "name": "django_extensions"
  },
  "language_info": {
   "codemirror_mode": {
    "name": "ipython",
    "version": 3
   },
   "file_extension": ".py",
   "mimetype": "text/x-python",
   "name": "python",
   "nbconvert_exporter": "python",
   "pygments_lexer": "ipython3",
   "version": "3.9.1"
  },
  "varInspector": {
   "cols": {
    "lenName": 16,
    "lenType": 16,
    "lenVar": 40
   },
   "kernels_config": {
    "python": {
     "delete_cmd_postfix": "",
     "delete_cmd_prefix": "del ",
     "library": "var_list.py",
     "varRefreshCmd": "print(var_dic_list())"
    },
    "r": {
     "delete_cmd_postfix": ") ",
     "delete_cmd_prefix": "rm(",
     "library": "var_list.r",
     "varRefreshCmd": "cat(var_dic_list()) "
    }
   },
   "types_to_exclude": [
    "module",
    "function",
    "builtin_function_or_method",
    "instance",
    "_Feature"
   ],
   "window_display": false
  }
 },
 "nbformat": 4,
 "nbformat_minor": 4
}
