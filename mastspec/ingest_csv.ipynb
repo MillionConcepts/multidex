{
 "cells": [
  {
   "cell_type": "code",
   "execution_count": null,
   "metadata": {},
   "outputs": [],
   "source": [
    "import os\n",
    "import shutil\n",
    "\n",
    "from dateutil.parser import parse\n",
    "import django\n",
    "import pandas as pd\n",
    "\n",
    "os.environ.setdefault(\"DJANGO_SETTINGS_MODULE\", \"mastspec.settings\")\n",
    "os.environ[\"DJANGO_ALLOW_ASYNC_UNSAFE\"] = \"true\"\n",
    "\n",
    "django.setup()\n",
    "\n",
    "from plotter.models import *\n",
    "# from mastspec.views import *\n",
    "# from mastspec.forms import *\n",
    "from utils import rows, columns, modeldict"
   ]
  },
  {
   "cell_type": "code",
   "execution_count": null,
   "metadata": {},
   "outputs": [],
   "source": [
    "S_PATH = \"/home/michael/Downloads/MSP_sample_data/\"\n",
    "BASE_DIR = os.getcwd()\n",
    "IMAGE_PATH = os.path.join(BASE_DIR, \"static_in_pro/our_static/img/\")"
   ]
  },
  {
   "cell_type": "code",
   "execution_count": null,
   "metadata": {},
   "outputs": [],
   "source": [
    "metaframe = pd.read_csv(S_PATH+'Metadata.csv')\\\n",
    "    .dropna()\\\n",
    "    .drop(columns=['Focal Distance.1'])\\\n",
    "\n",
    "metaframe.columns=['sol','mcam','name','rover_el','target_el','tau',\n",
    "              'ltst','f_dist','i_angle','e_angle','so_lon','site',\n",
    "              'drive','lat','lon','traverse']\n"
   ]
  },
  {
   "cell_type": "code",
   "execution_count": null,
   "metadata": {},
   "outputs": [],
   "source": [
    "for obs in MObs.objects.all():\n",
    "    obs.delete()"
   ]
  },
  {
   "cell_type": "code",
   "execution_count": null,
   "metadata": {},
   "outputs": [],
   "source": [
    "for obs in rows(metaframe):\n",
    "    obs = MObs(**dict(zip(obs.index,obs.values)))\n",
    "    obs.ltst = parse(obs.ltst).time()\n",
    "    if obs.target_el == '#NAME?':\n",
    "        obs.target_el = None\n",
    "    elif obs.target_el == 'Infinity':\n",
    "        obs.target_el = float('inf')\n",
    "    obs.save()"
   ]
  },
  {
   "cell_type": "code",
   "execution_count": null,
   "metadata": {},
   "outputs": [],
   "source": [
    "MObs.objects.all()"
   ]
  },
  {
   "cell_type": "code",
   "execution_count": null,
   "metadata": {},
   "outputs": [],
   "source": [
    "# hopefully this is consistent across the full data set!\n",
    "# i think so; it's just sorted alphanumeric increasing\n",
    "# without accounting for magnitude. if not, can make it more sophisticated\n",
    "\n",
    "filter_index = [\n",
    "    'L6', 'R6', 'L2', 'R2', 'R0_blue', 'L0_blue', 'L1', \n",
    "    'R1', 'R0_green', 'L0_green', 'R0_red', 'L0_red',\n",
    "    'L4', 'L3', 'R3', 'L5', 'R4', 'R5'\n",
    "]"
   ]
  },
  {
   "cell_type": "code",
   "execution_count": null,
   "metadata": {},
   "outputs": [],
   "source": [
    "for spec in MSpec.objects.all():\n",
    "    spec.delete()"
   ]
  },
  {
   "cell_type": "code",
   "execution_count": null,
   "metadata": {},
   "outputs": [],
   "source": [
    "directories = [S_PATH+file for file in os.listdir(S_PATH) if os.path.isdir(S_PATH+file)]\n",
    "\n",
    "for directory in directories:\n",
    "    mcam = directory[directory.find('mcam'):]\n",
    "    obs = MObs.objects.get(mcam__iexact=mcam)\n",
    "    # sometimes the directory contains /working; sometimes /Working\n",
    "    path = directory+'/'+os.listdir(directory)[0]+'/'\n",
    "    contents = os.listdir(path) \n",
    "    spec_files = [file for file in contents if file[-3:] == 'csv']\n",
    "    for spec_file in spec_files:\n",
    "        frame = pd.read_csv(path+spec_file).T\n",
    "        columns = filter_index + list(rows(frame)[0].values[18:])\n",
    "        frame = frame.drop(['# Wavelength (nm)', ' Eye'])\n",
    "        frame.columns = columns\n",
    "        index = []\n",
    "        for n in range(len(frame.index)):\n",
    "            line = frame.iloc[n]\n",
    "            # mean and stdev are on separate lines per filter.\n",
    "            # some metadata is duplicated between these lines.\n",
    "            if 'Mean' not in line.name:\n",
    "                continue\n",
    "            stdev_line = frame.iloc[n+1]\n",
    "            color_end = line.name.find('Mean')\n",
    "            color = line.name[1:color_end-1]\n",
    "            spectrum = MSpec()\n",
    "            if 'R2' in spec_file:\n",
    "                spectrum.image_number = 2\n",
    "            spectrum.observation = obs\n",
    "            spectrum.roi_color = color\n",
    "            for filt in filter_index:\n",
    "                setattr(spectrum,filt+'_mean',float(line[filt]))\n",
    "                setattr(spectrum,filt+'_stdev',float(stdev_line[filt]))\n",
    "            if 'Float' in frame.columns:\n",
    "                if line['Float']:\n",
    "                    spectrum.is_floating = True\n",
    "            for column_name in ['notes', 'Group', 'Formation', 'Member']:\n",
    "                if column_name in frame.columns:\n",
    "                    setattr(spectrum,column_name.lower(),line[column_name])\n",
    "            spectrum.save()\n",
    "    image_files = [file for file in contents if file[-3:] in ['png','jpg']] \n",
    "    for file in image_files:\n",
    "        # this is _right_ on the edge of where i should be writing regexes.\n",
    "        # assuming whatever 'convention' they have in the full data set\n",
    "        # is even regexable.\n",
    "        shutil.copy(path+file, IMAGE_PATH+file)\n",
    "        if 'OVERLA' in file:\n",
    "            if ('L126' in file) or ('L256' in file) or ('L20R3' in file):\n",
    "                if '_R2.' in file:\n",
    "                    obs.lefteye_s_image_2 = file\n",
    "                else:\n",
    "                    obs.lefteye_s_image_1 = file\n",
    "            elif ('R126' in file) or ('R256' in file) or ('R20R3' in file):\n",
    "                if '_R2.' in file:\n",
    "                    obs.righteye_s_image_2 = file\n",
    "                else:\n",
    "                    obs.righteye_s_image_1 = file\n",
    "        elif 'RGB':\n",
    "            if 'L_' in file:\n",
    "                obs.lefteye_rgb_image_1 = file\n",
    "            elif 'R2' in file:\n",
    "                obs.righteye_rgb_image_2 = file\n",
    "            elif 'R' in file:\n",
    "                obs.righteye_rgb_image_1 = file\n",
    "    obs.save()"
   ]
  }
 ],
 "metadata": {
  "kernelspec": {
   "display_name": "Django Shell-Plus",
   "language": "python",
   "name": "django_extensions"
  },
  "language_info": {
   "codemirror_mode": {
    "name": "ipython",
    "version": 3
   },
   "file_extension": ".py",
   "mimetype": "text/x-python",
   "name": "python",
   "nbconvert_exporter": "python",
   "pygments_lexer": "ipython3",
   "version": "3.8.3"
  },
  "varInspector": {
   "cols": {
    "lenName": 16,
    "lenType": 16,
    "lenVar": 40
   },
   "kernels_config": {
    "python": {
     "delete_cmd_postfix": "",
     "delete_cmd_prefix": "del ",
     "library": "var_list.py",
     "varRefreshCmd": "print(var_dic_list())"
    },
    "r": {
     "delete_cmd_postfix": ") ",
     "delete_cmd_prefix": "rm(",
     "library": "var_list.r",
     "varRefreshCmd": "cat(var_dic_list()) "
    }
   },
   "types_to_exclude": [
    "module",
    "function",
    "builtin_function_or_method",
    "instance",
    "_Feature"
   ],
   "window_display": false
  }
 },
 "nbformat": 4,
 "nbformat_minor": 4
}
