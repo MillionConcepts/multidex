{
 "cells": [
  {
   "cell_type": "code",
   "execution_count": null,
   "metadata": {},
   "outputs": [],
   "source": [
    "import os\n",
    "import re\n",
    "\n",
    "import django\n",
    "import fs.path\n",
    "import numpy as np\n",
    "import pandas as pd\n",
    "from django.core.exceptions import ObjectDoesNotExist\n",
    "from fs.osfs import OSFS\n",
    "from toolz import keyfilter\n",
    "\n",
    "os.environ.setdefault(\"DJANGO_SETTINGS_MODULE\", \"multidex.settings\")\n",
    "os.environ[\"DJANGO_ALLOW_ASYNC_UNSAFE\"] = \"true\"\n",
    "\n",
    "django.setup()\n",
    "\n",
    "from plotter.models import *\n",
    "from multidex_utils import modeldict"
   ]
  },
  {
   "cell_type": "code",
   "execution_count": null,
   "metadata": {},
   "outputs": [],
   "source": [
    "for spec in MSpec.objects.all():\n",
    "    spec.delete()\n",
    "MSpec.objects.all()"
   ]
  },
  {
   "cell_type": "code",
   "execution_count": null,
   "metadata": {},
   "outputs": [],
   "source": [
    "input_fs = OSFS(\"/home/michael/Desktop/mcam_spect_data_conversion/data/mcam\")\n",
    "output_fs = OSFS('.')\n",
    "output_image_dir = output_fs.getsyspath(\"plotter/application/assets/browse/mcam/\")"
   ]
  },
  {
   "cell_type": "code",
   "execution_count": null,
   "metadata": {},
   "outputs": [],
   "source": [
    "output_image_dir"
   ]
  },
  {
   "cell_type": "code",
   "execution_count": null,
   "metadata": {},
   "outputs": [],
   "source": [
    "metaframe = pd.read_csv(input_fs.getsyspath('Metadata-marslab.csv'))\n",
    "metaframe.columns = [column.lower() for column in metaframe.columns]\n",
    "# add NaNs back in so we can programmatically delete them\n",
    "metaframe.replace('-', np.nan, inplace=True)\n",
    "# we're turning these to ints when we ingest them,\n",
    "# but python doesn't like statements like int('3.0'),\n",
    "# so turn to float as an intermediate step\n",
    "for column in [\n",
    "    'sol', 'site', 'drive', 'rover_elevation', 'target_elevation', 'tau',\n",
    "    'focal_distance', 'incidence_angle', 'emission_angle',\n",
    "    'phase_angle', 'l_s', 'site', 'drive', 'lat', 'lon', 'odometry'\n",
    "]:\n",
    "    metaframe[column] = metaframe[column].astype('float')\n",
    "metaframe['ltst'] = metaframe['ltst'].astype('datetime64')"
   ]
  },
  {
   "cell_type": "code",
   "execution_count": null,
   "metadata": {},
   "outputs": [],
   "source": [
    "# lots of missing values and no spectra, skip for now\n",
    "BAD_MCAMS = ['mcam13523']\n",
    "overlay_images = [\n",
    "    image for image in input_fs.listdir('DCS_ROI_images')\n",
    "]\n",
    "rgb_images = [\n",
    "    image for image in input_fs.listdir('RGB_images')\n",
    "]"
   ]
  },
  {
   "cell_type": "code",
   "execution_count": null,
   "metadata": {},
   "outputs": [],
   "source": [
    "def get_image_ordinal(mastcam_image_fn_no_ext):\n",
    "    ordinal_appendage = re.search(r'_[RL](\\d)$', mastcam_image_fn_no_ext)\n",
    "    if ordinal_appendage:\n",
    "        return ordinal_appendage.group(1)\n",
    "    else:\n",
    "        return '1'"
   ]
  },
  {
   "cell_type": "code",
   "execution_count": null,
   "metadata": {
    "scrolled": false
   },
   "outputs": [],
   "source": [
    "# make our temporary dict of 'shared' observation data\n",
    "observations = {}\n",
    "for ix, row in metaframe.iterrows():\n",
    "    # skip observations we think are 'bad'\n",
    "    if row['seq_id'] in BAD_MCAMS:\n",
    "        continue\n",
    "    # drop NaN-valued fields and populate observation SQL fields\n",
    "    # from CSV fields\n",
    "    row.dropna(inplace=True)\n",
    "    obs = dict(zip(row.index,row.values))\n",
    "    # this is the canonical prefix for image / spectra files \n",
    "    obs_identifier = 'sol' + format(\n",
    "            int(row['sol']), \"0>4d\"\n",
    "        ) + '_' + row['seq_id']\n",
    "    overlay_image_list = [\n",
    "        image for image in overlay_images \n",
    "        if image.startswith(obs_identifier)\n",
    "    ]\n",
    "    rgb_image_list = [\n",
    "        image for image in rgb_images \n",
    "        if image.startswith(obs_identifier)\n",
    "    ]\n",
    "    # associate observation with images using the convoluted decision tree\n",
    "    # that appears to have been used to name the images (usually)\n",
    "    for image in overlay_image_list:\n",
    "        basename = fs.path.splitext(image)[0]\n",
    "        if re.search(r'_R\\d.*?_ROIs', basename):\n",
    "            image_eye = 'righteye'\n",
    "        elif re.search(r'_L\\d.*?_ROIs', basename):\n",
    "            image_eye = 'lefteye'\n",
    "        # note that we _want_ this to throw a NameError if image_eye is undefined \n",
    "        obs[image_eye + '_roi_image_' + get_image_ordinal(basename)] = image\n",
    "        \n",
    "    # note subtle, delicious differences in RGB image naming conventions\n",
    "    for image in rgb_image_list:\n",
    "        basename = fs.path.splitext(image)[0]\n",
    "        if re.search(r'R(_R\\d)?$', basename):\n",
    "            image_eye = 'righteye'\n",
    "        elif re.search(r'L(_[LR]\\d)?$', basename):\n",
    "            image_eye = 'lefteye'\n",
    "        obs[image_eye + '_rgb_image_' + get_image_ordinal(basename)] = image\n",
    "\n",
    "    observations[row['seq_id']] = obs\n",
    "observations = pd.DataFrame(observations).T\n",
    "observations"
   ]
  },
  {
   "cell_type": "code",
   "execution_count": null,
   "metadata": {},
   "outputs": [],
   "source": [
    "observations.columns"
   ]
  },
  {
   "cell_type": "code",
   "execution_count": null,
   "metadata": {},
   "outputs": [],
   "source": [
    "observations.loc[observations['seq_id'] == 'mcam03273']"
   ]
  },
  {
   "cell_type": "code",
   "execution_count": null,
   "metadata": {},
   "outputs": [],
   "source": [
    "from cytoolz.functoolz import curry"
   ]
  },
  {
   "cell_type": "code",
   "execution_count": null,
   "metadata": {
    "scrolled": false
   },
   "outputs": [],
   "source": [
    "SEQ_ID_PATTERN = r\"mcam\\d+(?=_)\"\n",
    "MARSLAB_PATTERN = r'sol\\d{4}_mcam\\d{5}_spectra.*marslab.csv'\n",
    "mmatch = curry(re.match)(MARSLAB_PATTERN)\n",
    "\n",
    "spec_files = tuple(filter(mmatch, input_fs.listdir('')))\n",
    "for spec_file in spec_files:\n",
    "    # extract sequence id from filename and associate it with rows of the conglomerate\n",
    "    # metadata df\n",
    "    seq_id = re.search(SEQ_ID_PATTERN, spec_file).group()\n",
    "    try:\n",
    "        observation = observations.loc[seq_id].dropna().to_dict()\n",
    "    except KeyError:\n",
    "        print(\"no observation for \" + spec_file, seq_id)\n",
    "        continue\n",
    "    # split out observation fields that aren't image filenames...\n",
    "    obs_metadata = keyfilter(lambda k: '_image_' not in k, observation)\n",
    "    # ...and then also pick images probably associated with these ROIs\n",
    "    image_number = get_image_ordinal(spec_file)\n",
    "    images = keyfilter(\n",
    "            lambda k: ('_image_' in k) and (k.endswith(image_number)), observation\n",
    "        )\n",
    "    # read in ROI file itself and reformat it for multidex's needs\n",
    "    frame = pd.read_csv(input_fs.getsyspath(spec_file)).drop(\"INSTRUMENT\", axis=1)\n",
    "    frame.columns = [column.lower() for column in frame.columns]\n",
    "    for _, row in frame.iterrows():\n",
    "        row = row.replace(['-','',' '], np.nan).dropna()\n",
    "        # double check that seq id and sol are the same in metadata df and marslab file\n",
    "        # (if not it likely implies a malformatted or misnamed file)\n",
    "        assert row['sol'] == obs_metadata['sol']\n",
    "        assert row['seq_id'] == obs_metadata['seq_id']\n",
    "        # if there are missing filters anywhere in the column, including for other\n",
    "        # spectra, pandas will read the column\n",
    "        # as object / string, which will cause confusion when we\n",
    "        # compute averaged filters, so we do it in this awkward way\n",
    "        for filt in MSpec.filters:\n",
    "            if filt in row.index:\n",
    "                row[filt] = float(row[filt])\n",
    "        if row['float'] == 'Y':\n",
    "            row['float'] = 'floating'\n",
    "        else:\n",
    "            row['float'] = 'in-place or N/A'\n",
    "        # conglomerate all fields, add filename & stringified image dict                        \n",
    "        spectrum_dict = dict(row) | obs_metadata | {\n",
    "            'filename': spec_file, 'images': str(images)\n",
    "        }\n",
    "        # put it in the database\n",
    "        spectrum = MSpec(**spectrum_dict)\n",
    "        spectrum.clean()\n",
    "        spectrum.save()"
   ]
  },
  {
   "cell_type": "code",
   "execution_count": null,
   "metadata": {},
   "outputs": [],
   "source": [
    "row"
   ]
  },
  {
   "cell_type": "code",
   "execution_count": null,
   "metadata": {},
   "outputs": [],
   "source": [
    "MSpec.objects.filter(sol__iexact=721)[1].images"
   ]
  },
  {
   "cell_type": "code",
   "execution_count": null,
   "metadata": {
    "scrolled": true
   },
   "outputs": [],
   "source": [
    "modeldict(\n",
    "    MSpec.objects.filter(sol__iexact=721)[0]\n",
    ")"
   ]
  },
  {
   "cell_type": "code",
   "execution_count": null,
   "metadata": {},
   "outputs": [],
   "source": [
    "set(\n",
    "    MSpec.objects.values_list('feature')\n",
    ")"
   ]
  },
  {
   "cell_type": "code",
   "execution_count": null,
   "metadata": {},
   "outputs": [],
   "source": [
    "obs_metadata"
   ]
  },
  {
   "cell_type": "code",
   "execution_count": null,
   "metadata": {},
   "outputs": [],
   "source": [
    "images"
   ]
  }
 ],
 "metadata": {
  "kernelspec": {
   "display_name": "Python 3",
   "language": "python",
   "name": "python3"
  },
  "language_info": {
   "codemirror_mode": {
    "name": "ipython",
    "version": 3
   },
   "file_extension": ".py",
   "mimetype": "text/x-python",
   "name": "python",
   "nbconvert_exporter": "python",
   "pygments_lexer": "ipython3",
   "version": "3.9.4"
  },
  "varInspector": {
   "cols": {
    "lenName": 16,
    "lenType": 16,
    "lenVar": 40
   },
   "kernels_config": {
    "python": {
     "delete_cmd_postfix": "",
     "delete_cmd_prefix": "del ",
     "library": "var_list.py",
     "varRefreshCmd": "print(var_dic_list())"
    },
    "r": {
     "delete_cmd_postfix": ") ",
     "delete_cmd_prefix": "rm(",
     "library": "var_list.r",
     "varRefreshCmd": "cat(var_dic_list()) "
    }
   },
   "types_to_exclude": [
    "module",
    "function",
    "builtin_function_or_method",
    "instance",
    "_Feature"
   ],
   "window_display": false
  }
 },
 "nbformat": 4,
 "nbformat_minor": 4
}
