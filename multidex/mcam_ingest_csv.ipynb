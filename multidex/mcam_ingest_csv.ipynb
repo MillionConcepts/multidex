{
 "cells": [
  {
   "cell_type": "code",
   "execution_count": 25,
   "metadata": {},
   "outputs": [],
   "source": [
    "import os\n",
    "import re\n",
    "\n",
    "import django\n",
    "import fs.path\n",
    "import numpy as np\n",
    "import pandas as pd\n",
    "from django.core.exceptions import ObjectDoesNotExist\n",
    "from fs.osfs import OSFS\n",
    "from toolz import keyfilter\n",
    "\n",
    "os.environ.setdefault(\"DJANGO_SETTINGS_MODULE\", \"multidex.settings\")\n",
    "os.environ[\"DJANGO_ALLOW_ASYNC_UNSAFE\"] = \"true\"\n",
    "\n",
    "django.setup()\n",
    "\n",
    "from plotter.models import *\n",
    "from multidex_utils import modeldict"
   ]
  },
  {
   "cell_type": "code",
   "execution_count": 26,
   "metadata": {},
   "outputs": [
    {
     "data": {
      "text/plain": "<QuerySet []>"
     },
     "execution_count": 26,
     "metadata": {},
     "output_type": "execute_result"
    }
   ],
   "source": [
    "for spec in MSpec.objects.all():\n",
    "    spec.delete()\n",
    "MSpec.objects.all()"
   ]
  },
  {
   "cell_type": "code",
   "execution_count": 27,
   "metadata": {},
   "outputs": [],
   "source": [
    "input_fs = OSFS(\"/home/michael/Desktop/mcam_spect_data_conversion/data/mcam\")\n",
    "output_fs = OSFS('.')\n",
    "output_image_dir = output_fs.getsyspath(\"plotter/application/assets/browse/mcam/\")"
   ]
  },
  {
   "cell_type": "code",
   "execution_count": 28,
   "metadata": {},
   "outputs": [
    {
     "data": {
      "text/plain": "'/home/michael/Desktop/multidex/multidex/plotter/application/assets/browse/mcam/'"
     },
     "execution_count": 28,
     "metadata": {},
     "output_type": "execute_result"
    }
   ],
   "source": [
    "output_image_dir"
   ]
  },
  {
   "cell_type": "code",
   "execution_count": 29,
   "metadata": {},
   "outputs": [],
   "source": [
    "metaframe = pd.read_csv(input_fs.getsyspath('Metadata-marslab.csv'))\n",
    "metaframe.columns = [column.lower() for column in metaframe.columns]\n",
    "# add NaNs back in so we can programmatically delete them\n",
    "metaframe.replace('-', np.nan, inplace=True)\n",
    "# we're turning these to ints when we ingest them,\n",
    "# but python doesn't like statements like int('3.0'),\n",
    "# so turn to float as an intermediate step\n",
    "for column in [\n",
    "    'sol', 'site', 'drive', 'rover_elevation', 'target_elevation', 'tau',\n",
    "    'focal_distance', 'incidence_angle', 'emission_angle',\n",
    "    'phase_angle', 'l_s', 'site', 'drive', 'lat', 'lon', 'odometry'\n",
    "]:\n",
    "    metaframe[column] = metaframe[column].astype('float')\n",
    "metaframe['ltst'] = metaframe['ltst'].astype('datetime64')"
   ]
  },
  {
   "cell_type": "code",
   "execution_count": 30,
   "metadata": {},
   "outputs": [],
   "source": [
    "# lots of missing values and no spectra, skip for now\n",
    "BAD_MCAMS = ['mcam13523']\n",
    "overlay_images = [\n",
    "    image for image in input_fs.listdir('DCS_ROI_images')\n",
    "]\n",
    "rgb_images = [\n",
    "    image for image in input_fs.listdir('RGB_images')\n",
    "]"
   ]
  },
  {
   "cell_type": "code",
   "execution_count": 31,
   "metadata": {},
   "outputs": [],
   "source": [
    "def get_image_ordinal(mastcam_image_fn_no_ext):\n",
    "    ordinal_appendage = re.search(r'_[RL](\\d)$', mastcam_image_fn_no_ext)\n",
    "    if ordinal_appendage:\n",
    "        return ordinal_appendage.group(1)\n",
    "    else:\n",
    "        return '1'"
   ]
  },
  {
   "cell_type": "code",
   "execution_count": 32,
   "metadata": {
    "scrolled": false
   },
   "outputs": [
    {
     "data": {
      "text/plain": "              sol     seq_id                      name rover_elevation  \\\nmcam00012    13.0  mcam00012              Goulburn 2x1        -4500.97   \nmcam00014    13.0  mcam00014           Dunes+Mound 1x2        -4500.97   \nmcam00119    24.0  mcam00119              Clast Survey        -4502.61   \nmcam00121    25.0  mcam00121             Fractures 2x2        -4502.61   \nmcam00126    25.0  mcam00126         Hepburn (distant)        -4502.61   \n...           ...        ...                       ...             ...   \nmcam14177  2705.0  mcam14177          Edinburgh Stereo             NaN   \nmcam14191  2710.0  mcam14191           Eshaness Stereo             NaN   \nmcam14203  2712.0  mcam14203          Edinburgh Stereo        -4088.69   \nmcam14264  2726.0  mcam14264       Edinburgh Dump Pile             NaN   \nmcam14442  2755.0  mcam14442  Glasgow 1 DRT (Tailings)             NaN   \n\n          target_elevation    tau                ltst focal_distance  \\\nmcam00012       -4502.2709  0.722 2021-07-10 13:21:56          6.882   \nmcam00014        -4496.505  0.722 2021-07-10 13:30:30         42.572   \nmcam00119       -4503.1598  0.722 2021-07-10 15:32:24          3.574   \nmcam00121       -4500.6437  0.722 2021-07-10 12:32:08          3.574   \nmcam00126              NaN  0.722 2021-07-10 13:01:29            NaN   \n...                    ...    ...                 ...            ...   \nmcam14177              NaN    NaN                 NaT            NaN   \nmcam14191              NaN    NaN                 NaT            NaN   \nmcam14203              NaN    NaN 2021-07-10 12:55:20            NaN   \nmcam14264              NaN    NaN                 NaT            NaN   \nmcam14442              NaN    NaN 2021-07-10 12:30:58            NaN   \n\n          incidence_angle emission_angle  ... righteye_rgb_image_3  \\\nmcam00012         24.7586        62.2825  ...                  NaN   \nmcam00014         26.5491        93.4542  ...                  NaN   \nmcam00119         54.2805        46.7285  ...                  NaN   \nmcam00121         13.8772        91.0629  ...                  NaN   \nmcam00126         19.0881        89.4421  ...                  NaN   \n...                   ...            ...  ...                  ...   \nmcam14177             NaN            NaN  ...                  NaN   \nmcam14191             NaN            NaN  ...                  NaN   \nmcam14203         24.9819            NaN  ...                  NaN   \nmcam14264             NaN            NaN  ...                  NaN   \nmcam14442          17.461            NaN  ...                  NaN   \n\n          righteye_roi_image_8 righteye_roi_image_6 righteye_roi_image_7  \\\nmcam00012                  NaN                  NaN                  NaN   \nmcam00014                  NaN                  NaN                  NaN   \nmcam00119                  NaN                  NaN                  NaN   \nmcam00121                  NaN                  NaN                  NaN   \nmcam00126                  NaN                  NaN                  NaN   \n...                        ...                  ...                  ...   \nmcam14177                  NaN                  NaN                  NaN   \nmcam14191                  NaN                  NaN                  NaN   \nmcam14203                  NaN                  NaN                  NaN   \nmcam14264                  NaN                  NaN                  NaN   \nmcam14442                  NaN                  NaN                  NaN   \n\n          righteye_rgb_image_5 righteye_rgb_image_7 righteye_rgb_image_6  \\\nmcam00012                  NaN                  NaN                  NaN   \nmcam00014                  NaN                  NaN                  NaN   \nmcam00119                  NaN                  NaN                  NaN   \nmcam00121                  NaN                  NaN                  NaN   \nmcam00126                  NaN                  NaN                  NaN   \n...                        ...                  ...                  ...   \nmcam14177                  NaN                  NaN                  NaN   \nmcam14191                  NaN                  NaN                  NaN   \nmcam14203                  NaN                  NaN                  NaN   \nmcam14264                  NaN                  NaN                  NaN   \nmcam14442                  NaN                  NaN                  NaN   \n\n          righteye_rgb_image_8 righteye_roi_image_0 lefteye_rgb_image_4  \nmcam00012                  NaN                  NaN                 NaN  \nmcam00014                  NaN                  NaN                 NaN  \nmcam00119                  NaN                  NaN                 NaN  \nmcam00121                  NaN                  NaN                 NaN  \nmcam00126                  NaN                  NaN                 NaN  \n...                        ...                  ...                 ...  \nmcam14177                  NaN                  NaN                 NaN  \nmcam14191                  NaN                  NaN                 NaN  \nmcam14203                  NaN                  NaN                 NaN  \nmcam14264                  NaN                  NaN                 NaN  \nmcam14442                  NaN                  NaN                 NaN  \n\n[750 rows x 41 columns]",
      "text/html": "<div>\n<style scoped>\n    .dataframe tbody tr th:only-of-type {\n        vertical-align: middle;\n    }\n\n    .dataframe tbody tr th {\n        vertical-align: top;\n    }\n\n    .dataframe thead th {\n        text-align: right;\n    }\n</style>\n<table border=\"1\" class=\"dataframe\">\n  <thead>\n    <tr style=\"text-align: right;\">\n      <th></th>\n      <th>sol</th>\n      <th>seq_id</th>\n      <th>name</th>\n      <th>rover_elevation</th>\n      <th>target_elevation</th>\n      <th>tau</th>\n      <th>ltst</th>\n      <th>focal_distance</th>\n      <th>incidence_angle</th>\n      <th>emission_angle</th>\n      <th>...</th>\n      <th>righteye_rgb_image_3</th>\n      <th>righteye_roi_image_8</th>\n      <th>righteye_roi_image_6</th>\n      <th>righteye_roi_image_7</th>\n      <th>righteye_rgb_image_5</th>\n      <th>righteye_rgb_image_7</th>\n      <th>righteye_rgb_image_6</th>\n      <th>righteye_rgb_image_8</th>\n      <th>righteye_roi_image_0</th>\n      <th>lefteye_rgb_image_4</th>\n    </tr>\n  </thead>\n  <tbody>\n    <tr>\n      <th>mcam00012</th>\n      <td>13.0</td>\n      <td>mcam00012</td>\n      <td>Goulburn 2x1</td>\n      <td>-4500.97</td>\n      <td>-4502.2709</td>\n      <td>0.722</td>\n      <td>2021-07-10 13:21:56</td>\n      <td>6.882</td>\n      <td>24.7586</td>\n      <td>62.2825</td>\n      <td>...</td>\n      <td>NaN</td>\n      <td>NaN</td>\n      <td>NaN</td>\n      <td>NaN</td>\n      <td>NaN</td>\n      <td>NaN</td>\n      <td>NaN</td>\n      <td>NaN</td>\n      <td>NaN</td>\n      <td>NaN</td>\n    </tr>\n    <tr>\n      <th>mcam00014</th>\n      <td>13.0</td>\n      <td>mcam00014</td>\n      <td>Dunes+Mound 1x2</td>\n      <td>-4500.97</td>\n      <td>-4496.505</td>\n      <td>0.722</td>\n      <td>2021-07-10 13:30:30</td>\n      <td>42.572</td>\n      <td>26.5491</td>\n      <td>93.4542</td>\n      <td>...</td>\n      <td>NaN</td>\n      <td>NaN</td>\n      <td>NaN</td>\n      <td>NaN</td>\n      <td>NaN</td>\n      <td>NaN</td>\n      <td>NaN</td>\n      <td>NaN</td>\n      <td>NaN</td>\n      <td>NaN</td>\n    </tr>\n    <tr>\n      <th>mcam00119</th>\n      <td>24.0</td>\n      <td>mcam00119</td>\n      <td>Clast Survey</td>\n      <td>-4502.61</td>\n      <td>-4503.1598</td>\n      <td>0.722</td>\n      <td>2021-07-10 15:32:24</td>\n      <td>3.574</td>\n      <td>54.2805</td>\n      <td>46.7285</td>\n      <td>...</td>\n      <td>NaN</td>\n      <td>NaN</td>\n      <td>NaN</td>\n      <td>NaN</td>\n      <td>NaN</td>\n      <td>NaN</td>\n      <td>NaN</td>\n      <td>NaN</td>\n      <td>NaN</td>\n      <td>NaN</td>\n    </tr>\n    <tr>\n      <th>mcam00121</th>\n      <td>25.0</td>\n      <td>mcam00121</td>\n      <td>Fractures 2x2</td>\n      <td>-4502.61</td>\n      <td>-4500.6437</td>\n      <td>0.722</td>\n      <td>2021-07-10 12:32:08</td>\n      <td>3.574</td>\n      <td>13.8772</td>\n      <td>91.0629</td>\n      <td>...</td>\n      <td>NaN</td>\n      <td>NaN</td>\n      <td>NaN</td>\n      <td>NaN</td>\n      <td>NaN</td>\n      <td>NaN</td>\n      <td>NaN</td>\n      <td>NaN</td>\n      <td>NaN</td>\n      <td>NaN</td>\n    </tr>\n    <tr>\n      <th>mcam00126</th>\n      <td>25.0</td>\n      <td>mcam00126</td>\n      <td>Hepburn (distant)</td>\n      <td>-4502.61</td>\n      <td>NaN</td>\n      <td>0.722</td>\n      <td>2021-07-10 13:01:29</td>\n      <td>NaN</td>\n      <td>19.0881</td>\n      <td>89.4421</td>\n      <td>...</td>\n      <td>NaN</td>\n      <td>NaN</td>\n      <td>NaN</td>\n      <td>NaN</td>\n      <td>NaN</td>\n      <td>NaN</td>\n      <td>NaN</td>\n      <td>NaN</td>\n      <td>NaN</td>\n      <td>NaN</td>\n    </tr>\n    <tr>\n      <th>...</th>\n      <td>...</td>\n      <td>...</td>\n      <td>...</td>\n      <td>...</td>\n      <td>...</td>\n      <td>...</td>\n      <td>...</td>\n      <td>...</td>\n      <td>...</td>\n      <td>...</td>\n      <td>...</td>\n      <td>...</td>\n      <td>...</td>\n      <td>...</td>\n      <td>...</td>\n      <td>...</td>\n      <td>...</td>\n      <td>...</td>\n      <td>...</td>\n      <td>...</td>\n      <td>...</td>\n    </tr>\n    <tr>\n      <th>mcam14177</th>\n      <td>2705.0</td>\n      <td>mcam14177</td>\n      <td>Edinburgh Stereo</td>\n      <td>NaN</td>\n      <td>NaN</td>\n      <td>NaN</td>\n      <td>NaT</td>\n      <td>NaN</td>\n      <td>NaN</td>\n      <td>NaN</td>\n      <td>...</td>\n      <td>NaN</td>\n      <td>NaN</td>\n      <td>NaN</td>\n      <td>NaN</td>\n      <td>NaN</td>\n      <td>NaN</td>\n      <td>NaN</td>\n      <td>NaN</td>\n      <td>NaN</td>\n      <td>NaN</td>\n    </tr>\n    <tr>\n      <th>mcam14191</th>\n      <td>2710.0</td>\n      <td>mcam14191</td>\n      <td>Eshaness Stereo</td>\n      <td>NaN</td>\n      <td>NaN</td>\n      <td>NaN</td>\n      <td>NaT</td>\n      <td>NaN</td>\n      <td>NaN</td>\n      <td>NaN</td>\n      <td>...</td>\n      <td>NaN</td>\n      <td>NaN</td>\n      <td>NaN</td>\n      <td>NaN</td>\n      <td>NaN</td>\n      <td>NaN</td>\n      <td>NaN</td>\n      <td>NaN</td>\n      <td>NaN</td>\n      <td>NaN</td>\n    </tr>\n    <tr>\n      <th>mcam14203</th>\n      <td>2712.0</td>\n      <td>mcam14203</td>\n      <td>Edinburgh Stereo</td>\n      <td>-4088.69</td>\n      <td>NaN</td>\n      <td>NaN</td>\n      <td>2021-07-10 12:55:20</td>\n      <td>NaN</td>\n      <td>24.9819</td>\n      <td>NaN</td>\n      <td>...</td>\n      <td>NaN</td>\n      <td>NaN</td>\n      <td>NaN</td>\n      <td>NaN</td>\n      <td>NaN</td>\n      <td>NaN</td>\n      <td>NaN</td>\n      <td>NaN</td>\n      <td>NaN</td>\n      <td>NaN</td>\n    </tr>\n    <tr>\n      <th>mcam14264</th>\n      <td>2726.0</td>\n      <td>mcam14264</td>\n      <td>Edinburgh Dump Pile</td>\n      <td>NaN</td>\n      <td>NaN</td>\n      <td>NaN</td>\n      <td>NaT</td>\n      <td>NaN</td>\n      <td>NaN</td>\n      <td>NaN</td>\n      <td>...</td>\n      <td>NaN</td>\n      <td>NaN</td>\n      <td>NaN</td>\n      <td>NaN</td>\n      <td>NaN</td>\n      <td>NaN</td>\n      <td>NaN</td>\n      <td>NaN</td>\n      <td>NaN</td>\n      <td>NaN</td>\n    </tr>\n    <tr>\n      <th>mcam14442</th>\n      <td>2755.0</td>\n      <td>mcam14442</td>\n      <td>Glasgow 1 DRT (Tailings)</td>\n      <td>NaN</td>\n      <td>NaN</td>\n      <td>NaN</td>\n      <td>2021-07-10 12:30:58</td>\n      <td>NaN</td>\n      <td>17.461</td>\n      <td>NaN</td>\n      <td>...</td>\n      <td>NaN</td>\n      <td>NaN</td>\n      <td>NaN</td>\n      <td>NaN</td>\n      <td>NaN</td>\n      <td>NaN</td>\n      <td>NaN</td>\n      <td>NaN</td>\n      <td>NaN</td>\n      <td>NaN</td>\n    </tr>\n  </tbody>\n</table>\n<p>750 rows × 41 columns</p>\n</div>"
     },
     "execution_count": 32,
     "metadata": {},
     "output_type": "execute_result"
    }
   ],
   "source": [
    "# make our temporary dict of 'shared' observation data\n",
    "observations = {}\n",
    "for ix, row in metaframe.iterrows():\n",
    "    # skip observations we think are 'bad'\n",
    "    if row['seq_id'] in BAD_MCAMS:\n",
    "        continue\n",
    "    # drop NaN-valued fields and populate observation SQL fields\n",
    "    # from CSV fields\n",
    "    row.dropna(inplace=True)\n",
    "    obs = dict(zip(row.index,row.values))\n",
    "    # this is the canonical prefix for image / spectra files \n",
    "    obs_identifier = 'sol' + format(\n",
    "            int(row['sol']), \"0>4d\"\n",
    "        ) + '_' + row['seq_id']\n",
    "    overlay_image_list = [\n",
    "        image for image in overlay_images \n",
    "        if image.startswith(obs_identifier)\n",
    "    ]\n",
    "    rgb_image_list = [\n",
    "        image for image in rgb_images \n",
    "        if image.startswith(obs_identifier)\n",
    "    ]\n",
    "    # associate observation with images using the convoluted decision tree\n",
    "    # that appears to have been used to name the images (usually)\n",
    "    for image in overlay_image_list:\n",
    "        basename = fs.path.splitext(image)[0]\n",
    "        if re.search(r'_R\\d.*?_ROIs', basename):\n",
    "            image_eye = 'righteye'\n",
    "        elif re.search(r'_L\\d.*?_ROIs', basename):\n",
    "            image_eye = 'lefteye'\n",
    "        # note that we _want_ this to throw a NameError if image_eye is undefined \n",
    "        obs[image_eye + '_roi_image_' + get_image_ordinal(basename)] = image\n",
    "        \n",
    "    # note subtle, delicious differences in RGB image naming conventions\n",
    "    for image in rgb_image_list:\n",
    "        basename = fs.path.splitext(image)[0]\n",
    "        if re.search(r'R(_R\\d)?$', basename):\n",
    "            image_eye = 'righteye'\n",
    "        elif re.search(r'L(_[LR]\\d)?$', basename):\n",
    "            image_eye = 'lefteye'\n",
    "        obs[image_eye + '_rgb_image_' + get_image_ordinal(basename)] = image\n",
    "\n",
    "    observations[row['seq_id']] = obs\n",
    "observations = pd.DataFrame(observations).T\n",
    "observations"
   ]
  },
  {
   "cell_type": "code",
   "execution_count": 33,
   "metadata": {},
   "outputs": [
    {
     "data": {
      "text/plain": "Index(['sol', 'seq_id', 'name', 'rover_elevation', 'target_elevation', 'tau',\n       'ltst', 'focal_distance', 'incidence_angle', 'emission_angle',\n       'phase_angle', 'l_s', 'site', 'drive', 'lat', 'lon', 'odometry',\n       'lefteye_roi_image_1', 'righteye_roi_image_2', 'righteye_roi_image_1',\n       'lefteye_roi_image_2', 'lefteye_rgb_image_1', 'lefteye_rgb_image_2',\n       'righteye_rgb_image_2', 'righteye_rgb_image_1', 'righteye_rgb_image_4',\n       'lefteye_rgb_image_3', 'lefteye_roi_image_3', 'righteye_roi_image_3',\n       'righteye_roi_image_4', 'lefteye_roi_image_4', 'righteye_rgb_image_3',\n       'righteye_roi_image_8', 'righteye_roi_image_6', 'righteye_roi_image_7',\n       'righteye_rgb_image_5', 'righteye_rgb_image_7', 'righteye_rgb_image_6',\n       'righteye_rgb_image_8', 'righteye_roi_image_0', 'lefteye_rgb_image_4'],\n      dtype='object')"
     },
     "execution_count": 33,
     "metadata": {},
     "output_type": "execute_result"
    }
   ],
   "source": [
    "observations.columns"
   ]
  },
  {
   "cell_type": "code",
   "execution_count": 34,
   "metadata": {},
   "outputs": [
    {
     "data": {
      "text/plain": "             sol     seq_id                  name rover_elevation  \\\nmcam03273  762.0  mcam03273  Confidence Hills 2x1      -4460.6216   \n\n          target_elevation       tau                ltst focal_distance  \\\nmcam03273       -4461.1002  0.820226 2021-07-10 13:20:12          3.342   \n\n          incidence_angle emission_angle  ... righteye_rgb_image_3  \\\nmcam03273         20.6641        44.6238  ...                  NaN   \n\n          righteye_roi_image_8 righteye_roi_image_6 righteye_roi_image_7  \\\nmcam03273                  NaN                  NaN                  NaN   \n\n          righteye_rgb_image_5 righteye_rgb_image_7 righteye_rgb_image_6  \\\nmcam03273                  NaN                  NaN                  NaN   \n\n          righteye_rgb_image_8 righteye_roi_image_0 lefteye_rgb_image_4  \nmcam03273                  NaN                  NaN                 NaN  \n\n[1 rows x 41 columns]",
      "text/html": "<div>\n<style scoped>\n    .dataframe tbody tr th:only-of-type {\n        vertical-align: middle;\n    }\n\n    .dataframe tbody tr th {\n        vertical-align: top;\n    }\n\n    .dataframe thead th {\n        text-align: right;\n    }\n</style>\n<table border=\"1\" class=\"dataframe\">\n  <thead>\n    <tr style=\"text-align: right;\">\n      <th></th>\n      <th>sol</th>\n      <th>seq_id</th>\n      <th>name</th>\n      <th>rover_elevation</th>\n      <th>target_elevation</th>\n      <th>tau</th>\n      <th>ltst</th>\n      <th>focal_distance</th>\n      <th>incidence_angle</th>\n      <th>emission_angle</th>\n      <th>...</th>\n      <th>righteye_rgb_image_3</th>\n      <th>righteye_roi_image_8</th>\n      <th>righteye_roi_image_6</th>\n      <th>righteye_roi_image_7</th>\n      <th>righteye_rgb_image_5</th>\n      <th>righteye_rgb_image_7</th>\n      <th>righteye_rgb_image_6</th>\n      <th>righteye_rgb_image_8</th>\n      <th>righteye_roi_image_0</th>\n      <th>lefteye_rgb_image_4</th>\n    </tr>\n  </thead>\n  <tbody>\n    <tr>\n      <th>mcam03273</th>\n      <td>762.0</td>\n      <td>mcam03273</td>\n      <td>Confidence Hills 2x1</td>\n      <td>-4460.6216</td>\n      <td>-4461.1002</td>\n      <td>0.820226</td>\n      <td>2021-07-10 13:20:12</td>\n      <td>3.342</td>\n      <td>20.6641</td>\n      <td>44.6238</td>\n      <td>...</td>\n      <td>NaN</td>\n      <td>NaN</td>\n      <td>NaN</td>\n      <td>NaN</td>\n      <td>NaN</td>\n      <td>NaN</td>\n      <td>NaN</td>\n      <td>NaN</td>\n      <td>NaN</td>\n      <td>NaN</td>\n    </tr>\n  </tbody>\n</table>\n<p>1 rows × 41 columns</p>\n</div>"
     },
     "execution_count": 34,
     "metadata": {},
     "output_type": "execute_result"
    }
   ],
   "source": [
    "observations.loc[observations['seq_id'] == 'mcam03273']"
   ]
  },
  {
   "cell_type": "code",
   "execution_count": 35,
   "metadata": {},
   "outputs": [],
   "source": [
    "from cytoolz.functoolz import curry"
   ]
  },
  {
   "cell_type": "code",
   "execution_count": 36,
   "metadata": {
    "scrolled": false
   },
   "outputs": [
    {
     "name": "stdout",
     "output_type": "stream",
     "text": [
      "no observation for sol0614_mcam02954_spectra-marslab.csv mcam02954\n",
      "no observation for sol1333_mcam06935_spectra-marslab.csv mcam06935\n"
     ]
    }
   ],
   "source": [
    "SEQ_ID_PATTERN = r\"mcam\\d+(?=_)\"\n",
    "MARSLAB_PATTERN = r'sol\\d{4}_mcam\\d{5}_spectra.*marslab.csv'\n",
    "mmatch = curry(re.match)(MARSLAB_PATTERN)\n",
    "\n",
    "spec_files = tuple(filter(mmatch, input_fs.listdir('')))\n",
    "for spec_file in spec_files:\n",
    "    # extract sequence id from filename and associate it with rows of the conglomerate\n",
    "    # metadata df\n",
    "    seq_id = re.search(SEQ_ID_PATTERN, spec_file).group()\n",
    "    try:\n",
    "        observation = observations.loc[seq_id].dropna().to_dict()\n",
    "    except KeyError:\n",
    "        print(\"no observation for \" + spec_file, seq_id)\n",
    "        continue\n",
    "    # split out observation fields that aren't image filenames...\n",
    "    obs_metadata = keyfilter(lambda k: '_image_' not in k, observation)\n",
    "    # ...and then also pick images probably associated with these ROIs\n",
    "    image_number = get_image_ordinal(spec_file)\n",
    "    images = keyfilter(\n",
    "            lambda k: ('_image_' in k) and (k.endswith(image_number)), observation\n",
    "        )\n",
    "    # read in ROI file itself and reformat it for multidex's needs\n",
    "    frame = pd.read_csv(input_fs.getsyspath(spec_file)).drop(\"INSTRUMENT\", axis=1)\n",
    "    frame.columns = [column.lower() for column in frame.columns]\n",
    "    for _, row in frame.iterrows():\n",
    "        row = row.replace(['-','',' '], np.nan).dropna()\n",
    "        # double check that seq id and sol are the same in metadata df and marslab file\n",
    "        # (if not it likely implies a malformatted or misnamed file)\n",
    "        assert row['sol'] == obs_metadata['sol']\n",
    "        assert row['seq_id'] == obs_metadata['seq_id']\n",
    "        # if there are missing filters anywhere in the column, including for other\n",
    "        # spectra, pandas will read the column\n",
    "        # as object / string, which will cause confusion when we\n",
    "        # compute averaged filters, so we do it in this awkward way\n",
    "        for filt in MSpec.filters:\n",
    "            if filt in row.index:\n",
    "                row[filt] = float(row[filt])\n",
    "        if row['float'] == 'Y':\n",
    "            row['float'] = True\n",
    "        else:\n",
    "            row['float'] = False\n",
    "        # conglomerate all fields, add filename & stringified image dict                        \n",
    "        spectrum_dict = dict(row) | obs_metadata | {\n",
    "            'filename': spec_file, 'images': str(images)\n",
    "        }\n",
    "        # put it in the database\n",
    "        spectrum = MSpec(**spectrum_dict)\n",
    "        spectrum.clean()\n",
    "        spectrum.save()"
   ]
  },
  {
   "cell_type": "code",
   "execution_count": 37,
   "metadata": {},
   "outputs": [
    {
     "data": {
      "text/plain": "sol              2582\nseq_id      mcam13564\ncolor            teal\nfeature    dusty rock\nfloat           False\nl2            0.10128\nl2_err       0.003397\nr2           0.115623\nr2_err       0.003521\nl0b          0.116631\nl0b_err      0.004643\nr0b          0.130764\nr0b_err      0.006099\nl1           0.133024\nl1_err       0.004008\nr1           0.148366\nr1_err       0.004895\nr0g          0.169958\nr0g_err      0.007155\nl0g          0.156311\nl0g_err      0.005638\nr0r          0.240374\nr0r_err        0.0112\nl0r          0.223752\nl0r_err      0.010048\nl4           0.242518\nl4_err       0.010576\nl3           0.267347\nl3_err       0.012603\nr3           0.293067\nr3_err       0.012717\nl5           0.284269\nl5_err       0.012587\nr4           0.301306\nr4_err       0.015303\nr5           0.296348\nr5_err        0.01503\nl6           0.286051\nl6_err       0.012158\nr6           0.293765\nr6_err       0.013848\nName: 3, dtype: object"
     },
     "execution_count": 37,
     "metadata": {},
     "output_type": "execute_result"
    }
   ],
   "source": [
    "row"
   ]
  },
  {
   "cell_type": "code",
   "execution_count": 38,
   "metadata": {},
   "outputs": [
    {
     "data": {
      "text/plain": "\"{'righteye_roi_image_1': 'sol0721_mcam03082_R263_ROIsOVERLAY.jpg', 'righteye_rgb_image_1': 'sol0721_mcam03082_RGB_R.jpg'}\""
     },
     "execution_count": 38,
     "metadata": {},
     "output_type": "execute_result"
    }
   ],
   "source": [
    "MSpec.objects.filter(sol__iexact=721)[1].images"
   ]
  },
  {
   "cell_type": "code",
   "execution_count": 39,
   "metadata": {
    "scrolled": true
   },
   "outputs": [
    {
     "data": {
      "text/plain": "{'id': 409,\n 'name': 'Bonanza King',\n 'sol': 721,\n 'ltst': datetime.time(14, 8, 14),\n 'seq_id': 'mcam03082',\n 'rover_elevation': -4457.0234,\n 'target_elevation': -4457.5473,\n 'tau': 0.713057,\n 'focal_distance': 2.992,\n 'incidence_angle': 32.4426,\n 'emission_angle': 35.8937,\n 'phase_angle': 51.395541,\n 'l_s': 178.98,\n 'site': 40,\n 'drive': 1378,\n 'lat': -4.6599585,\n 'lon': 137.38275,\n 'odometry': 8825.7353,\n 'filename': 'sol0721_mcam03082_spectra-marslab.csv',\n 'sclk': None,\n 'ingest_time': None,\n 'color': 'dark red',\n 'feature': 'dump piles',\n 'images': \"{'righteye_roi_image_1': 'sol0721_mcam03082_R263_ROIsOVERLAY.jpg', 'righteye_rgb_image_1': 'sol0721_mcam03082_RGB_R.jpg'}\",\n 'formation': 'Bradbury Group',\n 'member': None,\n 'notes': None,\n 'float': False,\n 'l2': None,\n 'l2_err': None,\n 'r2': 0.0582489,\n 'r2_err': 0.00395696,\n 'l0b': None,\n 'l0b_err': None,\n 'r0b': 0.0687777,\n 'r0b_err': 0.00641975,\n 'l1': None,\n 'l1_err': None,\n 'r1': 0.0807962,\n 'r1_err': 0.00501365,\n 'r0g': 0.0915392,\n 'r0g_err': 0.00658988,\n 'l0g': None,\n 'l0g_err': None,\n 'r0r': 0.138585,\n 'r0r_err': 0.0091702,\n 'l0r': None,\n 'l0r_err': None,\n 'l4': None,\n 'l4_err': None,\n 'l3': None,\n 'l3_err': None,\n 'r3': 0.181315,\n 'r3_err': 0.0116645,\n 'l5': None,\n 'l5_err': None,\n 'r4': 0.173745,\n 'r4_err': 0.0126787,\n 'r5': 0.167636,\n 'r5_err': 0.0126781,\n 'l6': None,\n 'l6_err': None,\n 'r6': 0.166718,\n 'r6_err': 0.0146121}"
     },
     "execution_count": 39,
     "metadata": {},
     "output_type": "execute_result"
    }
   ],
   "source": [
    "modeldict(\n",
    "    MSpec.objects.filter(sol__iexact=721)[0]\n",
    ")"
   ]
  },
  {
   "cell_type": "code",
   "execution_count": 40,
   "metadata": {},
   "outputs": [
    {
     "data": {
      "text/plain": "{('DRT target',),\n ('broken rock',),\n ('disturbed soil',),\n ('drill tailings',),\n ('dump piles',),\n ('dusty rock',),\n ('nodule-rich rock',),\n ('other',),\n ('undisturbed soil',),\n ('veins',),\n (None,)}"
     },
     "execution_count": 40,
     "metadata": {},
     "output_type": "execute_result"
    }
   ],
   "source": [
    "set(\n",
    "    MSpec.objects.values_list('feature')\n",
    ")"
   ]
  },
  {
   "cell_type": "code",
   "execution_count": 41,
   "metadata": {},
   "outputs": [
    {
     "data": {
      "text/plain": "{'sol': 2582.0,\n 'seq_id': 'mcam13564',\n 'name': 'Slangpos Crater',\n 'rover_elevation': -4119.31,\n 'ltst': Timestamp('2021-07-10 11:36:09'),\n 'incidence_angle': 29.4221,\n 'site': 77.0,\n 'drive': 1560.0}"
     },
     "execution_count": 41,
     "metadata": {},
     "output_type": "execute_result"
    }
   ],
   "source": [
    "obs_metadata"
   ]
  },
  {
   "cell_type": "code",
   "execution_count": 42,
   "metadata": {},
   "outputs": [
    {
     "data": {
      "text/plain": "{'lefteye_roi_image_1': 'sol2582_mcam13564_L126_ROIsOVERLAY_R1.jpg',\n 'righteye_roi_image_1': 'sol2582_mcam13564_R126_ROIsOVERLAY_R1.jpg',\n 'lefteye_rgb_image_1': 'sol2582_mcam13564_RGB_L.jpg',\n 'righteye_rgb_image_1': 'sol2582_mcam13564_RGB_R_R1.jpg'}"
     },
     "execution_count": 42,
     "metadata": {},
     "output_type": "execute_result"
    }
   ],
   "source": [
    "images"
   ]
  }
 ],
 "metadata": {
  "kernelspec": {
   "display_name": "Python 3",
   "language": "python",
   "name": "python3"
  },
  "language_info": {
   "codemirror_mode": {
    "name": "ipython",
    "version": 3
   },
   "file_extension": ".py",
   "mimetype": "text/x-python",
   "name": "python",
   "nbconvert_exporter": "python",
   "pygments_lexer": "ipython3",
   "version": "3.9.4"
  },
  "varInspector": {
   "cols": {
    "lenName": 16,
    "lenType": 16,
    "lenVar": 40
   },
   "kernels_config": {
    "python": {
     "delete_cmd_postfix": "",
     "delete_cmd_prefix": "del ",
     "library": "var_list.py",
     "varRefreshCmd": "print(var_dic_list())"
    },
    "r": {
     "delete_cmd_postfix": ") ",
     "delete_cmd_prefix": "rm(",
     "library": "var_list.r",
     "varRefreshCmd": "cat(var_dic_list()) "
    }
   },
   "types_to_exclude": [
    "module",
    "function",
    "builtin_function_or_method",
    "instance",
    "_Feature"
   ],
   "window_display": false
  }
 },
 "nbformat": 4,
 "nbformat_minor": 4
}