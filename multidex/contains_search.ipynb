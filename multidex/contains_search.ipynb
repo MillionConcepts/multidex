{
 "cells": [
  {
   "cell_type": "code",
   "execution_count": null,
   "id": "c7b2ef61",
   "metadata": {},
   "outputs": [],
   "source": [
    "from collections import defaultdict\n",
    "import os\n",
    "import re\n",
    "from string import punctuation, whitespace\n",
    "\n",
    "import django\n",
    "\n",
    "os.environ.setdefault(\"DJANGO_SETTINGS_MODULE\", \"multidex.settings\")\n",
    "os.environ[\"DJANGO_ALLOW_ASYNC_UNSAFE\"] = \"true\"\n",
    "django.setup()\n",
    "\n",
    "from cytoolz import curry\n",
    "from dustgoggles.pivot import typed_columns\n",
    "from dustgoggles.structures import HashDict\n",
    "import pandas as pd\n",
    "\n",
    "from multidex_utils import qlist, model_metadata_df, data_df_from_queryset\n",
    "from plotter.models import INSTRUMENT_MODEL_MAPPING, ZSpec"
   ]
  },
  {
   "cell_type": "code",
   "execution_count": null,
   "id": "c0289e54",
   "metadata": {},
   "outputs": [],
   "source": [
    "spec_model = INSTRUMENT_MODEL_MAPPING['ZCAM']\n",
    "metadata_df = model_metadata_df(spec_model)\n",
    "data_df = data_df_from_queryset(spec_model.objects.all())"
   ]
  },
  {
   "cell_type": "code",
   "execution_count": null,
   "id": "22aa3074",
   "metadata": {},
   "outputs": [],
   "source": [
    "forbidden_stringlike = (\n",
    "    'ltst', 'lmst', 'seq_id', 'zoom', 'compression', 'azimuth_angle', 'rc_seq_id'\n",
    ")"
   ]
  },
  {
   "cell_type": "code",
   "execution_count": null,
   "id": "d576c43e",
   "metadata": {},
   "outputs": [],
   "source": [
    "tok = make_tokens(metadata_df, ZSpec)"
   ]
  },
  {
   "cell_type": "code",
   "execution_count": null,
   "id": "9ac3e127",
   "metadata": {},
   "outputs": [],
   "source": [
    "hd = defaultdict(list)"
   ]
  },
  {
   "cell_type": "code",
   "execution_count": null,
   "id": "c3de2546",
   "metadata": {},
   "outputs": [],
   "source": [
    "%%time\n"
   ]
  },
  {
   "cell_type": "code",
   "execution_count": null,
   "id": "e7854792",
   "metadata": {},
   "outputs": [],
   "source": [
    "term = 'whiterocks'\n",
    "\n"
   ]
  },
  {
   "cell_type": "code",
   "execution_count": null,
   "id": "45f37f28",
   "metadata": {},
   "outputs": [],
   "source": [
    "def "
   ]
  },
  {
   "cell_type": "code",
   "execution_count": null,
   "id": "1a43a2c2",
   "metadata": {},
   "outputs": [],
   "source": []
  },
  {
   "cell_type": "code",
   "execution_count": null,
   "id": "cbe6712e",
   "metadata": {},
   "outputs": [],
   "source": [
    "cutoff = 2\n",
    "match_df = metadata_df.loc[matches]\n",
    "match_df"
   ]
  },
  {
   "cell_type": "code",
   "execution_count": null,
   "id": "9eb27345",
   "metadata": {},
   "outputs": [],
   "source": []
  },
  {
   "cell_type": "code",
   "execution_count": null,
   "id": "5d47264f",
   "metadata": {},
   "outputs": [],
   "source": []
  },
  {
   "cell_type": "code",
   "execution_count": null,
   "id": "a3777202",
   "metadata": {
    "scrolled": false
   },
   "outputs": [],
   "source": [
    "set(min_distances)"
   ]
  }
 ],
 "metadata": {
  "kernelspec": {
   "display_name": "Python 3 (ipykernel)",
   "language": "python",
   "name": "python3"
  },
  "language_info": {
   "codemirror_mode": {
    "name": "ipython",
    "version": 3
   },
   "file_extension": ".py",
   "mimetype": "text/x-python",
   "name": "python",
   "nbconvert_exporter": "python",
   "pygments_lexer": "ipython3",
   "version": "3.10.9"
  }
 },
 "nbformat": 4,
 "nbformat_minor": 5
}
