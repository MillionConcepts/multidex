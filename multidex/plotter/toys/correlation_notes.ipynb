{
 "cells": [
  {
   "cell_type": "code",
   "execution_count": null,
   "id": "bcc08d1c",
   "metadata": {},
   "outputs": [],
   "source": [
    "import os\n",
    "import sys\n",
    "sys.path.append('../../')\n",
    "\n",
    "import django\n",
    "import marslab.spectops as ops\n",
    "import matplotlib.font_manager as mplf\n",
    "import matplotlib.pyplot as plt\n",
    "import pandas as pd\n",
    "from marslab.compat.xcam import DERIVED_CAM_DICT\n",
    "from marslab.imgops.pltutils import set_label\n",
    "from sklearn.linear_model import LogisticRegression\n",
    "\n",
    "from correlate import (\n",
    "    correlation_matrix, explode_sequential, make_corr_chart\n",
    ")\n",
    "\n",
    "\n",
    "os.environ.setdefault(\"DJANGO_SETTINGS_MODULE\", \"multidex.settings\")\n",
    "os.environ[\"DJANGO_ALLOW_ASYNC_UNSAFE\"] = \"true\"\n",
    "\n",
    "django.setup()\n",
    "from plotter.spectrum_ops import filter_df_from_queryset\n",
    "import plotter.models\n",
    "from multidex_utils import model_metadata_df\n",
    "\n",
    "%matplotlib qt\n",
    "%matplotlib qt"
   ]
  },
  {
   "cell_type": "code",
   "execution_count": null,
   "id": "75b24af5",
   "metadata": {},
   "outputs": [],
   "source": [
    "instrument = \"ZCAM\"\n",
    "spec_model = plotter.models.INSTRUMENT_MODEL_MAPPING[instrument]\n",
    "metadata_df = model_metadata_df(spec_model)\n",
    "filter_info = DERIVED_CAM_DICT[instrument][\"filters\"]\n",
    "filters = list(filter_info.keys())"
   ]
  },
  {
   "cell_type": "code",
   "execution_count": null,
   "id": "0dd210fe",
   "metadata": {},
   "outputs": [],
   "source": [
    "data_df = filter_df_from_queryset(\n",
    "    spec_model.objects.all(), r_star=False, scale_to=None\n",
    ")\n",
    "corpus = pd.concat([metadata_df, data_df], axis=1).copy()\n",
    "wave_mapping = pd.Series(DERIVED_CAM_DICT[instrument]['filters'])\n",
    "\n",
    "# define some spectop parameters\n",
    "corpus['r56'] = corpus['R5'] / corpus['R6']\n",
    "corpus['r16'] = corpus['R1'] / corpus['R6']\n",
    "corpus['l645'] = ops.band_depth(\n",
    "    corpus[['L6', 'L4', 'L5']].T,\n",
    "    None,\n",
    "    wave_mapping[['L6', 'L4', 'L5']]\n",
    ")[0]\n",
    "corpus['r153'] = ops.band_depth(\n",
    "    corpus[['R1', 'R5', 'R3']].T,\n",
    "    None,\n",
    "    wave_mapping[['R1', 'R5', 'R3']]\n",
    ")[0]\n",
    "corpus['r465'] = ops.band_depth(\n",
    "    corpus[['R4', 'R6', 'R5']].T,\n",
    "    None,\n",
    "    wave_mapping[['R4', 'R6', 'R5']]\n",
    ")[0]\n",
    "\n",
    "params = ['r56', 'r16', 'l645', 'r153', 'r465']\n",
    "corpus = corpus.dropna(subset=params)\n"
   ]
  },
  {
   "cell_type": "code",
   "execution_count": null,
   "id": "43270eee",
   "metadata": {},
   "outputs": [],
   "source": [
    "# use this to to reduce to rock\n",
    "# corpus = corpus.loc[corpus['feature']=='rock'].reset_index(drop=True)\n",
    "\n",
    "# or other things, etc.\n",
    "# corpus = corpus.loc[~corpus['feature'].isin(['crater rim', 'delta'])]\n",
    "\n",
    "corpus = corpus.reset_index(drop=True)\n",
    "\n",
    "log_r = LogisticRegression(\n",
    "    multi_class='multinomial', max_iter=5000, class_weight='balanced'\n",
    ")\n",
    "\n",
    "# dependent qualitive variable to do a logistic regression against\n",
    "dependent_name = 'feature'\n",
    "dependent = corpus[dependent_name].dropna().unique()\n",
    "exploded = explode_sequential(corpus, dependent_name)\n",
    "\n",
    "# independent variables for the logistic regression\n",
    "# independent = filters\n",
    "independent = params\n",
    "\n",
    "log_r.fit(corpus[independent], exploded)\n",
    "log_coefficients = pd.DataFrame(\n",
    "    log_r.coef_,\n",
    "    columns = independent,\n",
    "    index = dependent\n",
    ")\n",
    "score = log_r.score(corpus[independent], exploded)\n",
    "morph_chart = make_corr_chart(log_coefficients)\n",
    "set_label(\n",
    "    morph_chart, \n",
    "    'zcam logit regression ' + str(score),\n",
    "    fontproperties=mplf.FontProperties(size=24),\n",
    "    x_or_y = 'x'\n",
    ")\n",
    "\n",
    "log_r.score(corpus[independent], exploded)"
   ]
  },
  {
   "cell_type": "code",
   "execution_count": null,
   "id": "4e194019",
   "metadata": {},
   "outputs": [],
   "source": [
    "# just make a correlation matrix out of the independent variables\n",
    "ind_coefficients = correlation_matrix(corpus[independent])\n",
    "plt.rcParams['font.size'] = 18\n",
    "corrs = correlation_matrix(corpus[independent])\n",
    "corrs = corrs.rename(\n",
    "    columns={\"incidence_angle\": \"\\u03b8i\"},\n",
    "    index={\"incidence_angle\": \"\\u03b8i\"},\n",
    ")\n",
    "corr_chart = make_corr_chart(corrs)\n",
    "set_label(\n",
    "    corr_chart, \n",
    "    'zcam correlation matrix',\n",
    "    fontproperties=mplf.FontProperties(size=24),\n",
    "    x_or_y = 'x'\n",
    ")"
   ]
  },
  {
   "cell_type": "code",
   "execution_count": null,
   "id": "0171eab9",
   "metadata": {},
   "outputs": [],
   "source": [
    "# save a figure\n",
    "corr_chart.tight_layout()\n",
    "corr_chart.savefig(\n",
    "    'zcam_corr_matrix', dpi=220, bbox_inches=\"tight\", pad_inches=0\n",
    ")"
   ]
  },
  {
   "cell_type": "code",
   "execution_count": null,
   "id": "0991d32e",
   "metadata": {
    "pycharm": {
     "name": "#%%\n"
    }
   },
   "outputs": [],
   "source": [
    "# save another figure\n",
    "morph_chart.tight_layout()\n",
    "morph_chart.savefig(\n",
    "    'zcam_morph_logit', dpi=220, bbox_inches=\"tight\", pad_inches=0\n",
    ")\n"
   ]
  }
 ],
 "metadata": {
  "kernelspec": {
   "display_name": "Python 3",
   "language": "python",
   "name": "python3"
  },
  "language_info": {
   "codemirror_mode": {
    "name": "ipython",
    "version": 3
   },
   "file_extension": ".py",
   "mimetype": "text/x-python",
   "name": "python",
   "nbconvert_exporter": "python",
   "pygments_lexer": "ipython3",
   "version": "3.9.4"
  }
 },
 "nbformat": 4,
 "nbformat_minor": 5
}
