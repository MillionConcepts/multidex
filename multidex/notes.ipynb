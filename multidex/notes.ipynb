{
 "cells": [
  {
   "cell_type": "code",
   "execution_count": null,
   "metadata": {},
   "outputs": [],
   "source": [
    "# https://plotly.com/python/images/\n",
    "# https://plotly.com/python/imshow/ \n",
    "# https://github.com/plotly/dash-image-processing -- cool but likely irrelevant\n",
    "# https://dash.plotly.com/dash-html-components/img\n",
    "\n",
    "# def mspec_overlays(mspec, image_directory):\n",
    "#     \"\"\"\n",
    "#     MSpec object, directory containing image files -> \n",
    "#     {'right':PIL.Image, 'left':PIL.Image}\n",
    "#     left- and right-eye spectrum-reduced images containing the region of interest \n",
    "#     from which the spectrum in MSpec was drawn\n",
    "#     \"\"\"\n",
    "#     files = mspec.image_files()\n",
    "#     images = {}\n",
    "#     for image_type, filename in files.items():\n",
    "#         if 'righteye_s' in image_type:\n",
    "#             images['right'] = PIL.Image.open(image_directory+filename)\n",
    "#         if 'lefteye_s' in image_type:\n",
    "#             images['left'] = PIL.Image.open(image_directory+filename)\n",
    "#     return images\n",
    "\n",
    "# generating <img> elements from PIL-loaded images causes the browser to freak out\n",
    "# on clientside, caching each one as a new file, even when it's the same source image\n",
    "# should we serve thumbs instead? dynamically resizing is not actually important...\n",
    "# ok, dash silently encodes the PIL.Image objects as data URIs, which are not performant\n",
    "# imshow in a graph object will most likely prevent caching, but honestly...\n",
    "# let's let a clientside cache exist?"
   ]
  }
 ],
 "metadata": {
  "kernelspec": {
   "display_name": "Python 3",
   "language": "python",
   "name": "python3"
  },
  "language_info": {
   "codemirror_mode": {
    "name": "ipython",
    "version": 3
   },
   "file_extension": ".py",
   "mimetype": "text/x-python",
   "name": "python",
   "nbconvert_exporter": "python",
   "pygments_lexer": "ipython3",
   "version": "3.8.3"
  },
  "varInspector": {
   "cols": {
    "lenName": 16,
    "lenType": 16,
    "lenVar": 40
   },
   "kernels_config": {
    "python": {
     "delete_cmd_postfix": "",
     "delete_cmd_prefix": "del ",
     "library": "var_list.py",
     "varRefreshCmd": "print(var_dic_list())"
    },
    "r": {
     "delete_cmd_postfix": ") ",
     "delete_cmd_prefix": "rm(",
     "library": "var_list.r",
     "varRefreshCmd": "cat(var_dic_list()) "
    }
   },
   "types_to_exclude": [
    "module",
    "function",
    "builtin_function_or_method",
    "instance",
    "_Feature"
   ],
   "window_display": false
  }
 },
 "nbformat": 4,
 "nbformat_minor": 4
}
