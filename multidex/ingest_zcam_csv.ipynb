{
 "cells": [
  {
   "cell_type": "code",
   "execution_count": 1,
   "metadata": {},
   "outputs": [],
   "source": [
    "import os\n",
    "import re\n",
    "\n",
    "import django\n",
    "import fs.path\n",
    "import numpy as np\n",
    "from django.core.exceptions import ObjectDoesNotExist\n",
    "from fs.osfs import OSFS\n",
    "\n",
    "os.environ.setdefault(\"DJANGO_SETTINGS_MODULE\", \"multidex.settings\")\n",
    "os.environ[\"DJANGO_ALLOW_ASYNC_UNSAFE\"] = \"true\"\n",
    "\n",
    "django.setup()\n",
    "\n",
    "from plotter.models import *\n",
    "from plotter_utils import modeldict"
   ]
  },
  {
   "cell_type": "code",
   "execution_count": null,
   "metadata": {},
   "outputs": [],
   "source": [
    "for spec in ZSpec.objects.all():\n",
    "    spec.delete()\n",
    "for obs in ZObs.objects.all():\n",
    "    obs.delete()"
   ]
  },
  {
   "cell_type": "code",
   "execution_count": 3,
   "metadata": {},
   "outputs": [
    {
     "data": {
      "text/plain": [
       "<QuerySet [<ZObs: sol12_zcam03100>, <ZObs: sol16_zcam03101>, <ZObs: sol28_zcam03102>, <ZObs: sol30_zcam03104>, <ZObs: sol30_zcam03103>, <ZObs: sol30_zcam03103>, <ZObs: sol30_zcam03103>, <ZObs: sol33_zcam03106>, <ZObs: sol33_zcam03106>, <ZObs: sol36_zcam03107>, <ZObs: sol36_zcam03107>, <ZObs: sol37_zcam03108>, <ZObs: sol41_zcam03109>]>"
      ]
     },
     "execution_count": 3,
     "metadata": {},
     "output_type": "execute_result"
    }
   ],
   "source": [
    "ZObs.objects.all()"
   ]
  },
  {
   "cell_type": "code",
   "execution_count": 4,
   "metadata": {},
   "outputs": [],
   "source": [
    "input_fs = OSFS(\"/home/michael/Desktop/mcam_spect_data_conversion/data/zcam\")\n",
    "output_fs = OSFS('.')\n",
    "output_image_dir = output_fs.getsyspath(\"static_in_pro/our_static/img\")"
   ]
  },
  {
   "cell_type": "code",
   "execution_count": null,
   "metadata": {},
   "outputs": [],
   "source": [
    "metaframe = pd.read_csv(input_fs.getsyspath('Metadata-marslab.csv'))\n",
    "metaframe.columns = [column.lower() for column in metaframe.columns]\n",
    "# add NaNs back in so we can programmatically delete them\n",
    "metaframe.replace('-', np.nan, inplace=True)\n",
    "# we're turning these to ints when we ingest them,\n",
    "# but python doesn't like statements like int('3.0'),\n",
    "# so turn to float as an intermediate step\n",
    "for column in [\n",
    "    'sol', 'site', 'drive', 'rover_elevation', 'target_elevation', 'tau',\n",
    "    'focal_distance', 'incidence_angle', 'emission_angle',\n",
    "    'phase_angle', 'l_s', 'site', 'drive', 'lat', 'lon', 'odometry',\n",
    "]:\n",
    "    metaframe[column] = metaframe[column].astype('float')\n",
    "metaframe['ltst'] = metaframe['ltst'].astype('datetime64')"
   ]
  },
  {
   "cell_type": "code",
   "execution_count": null,
   "metadata": {},
   "outputs": [],
   "source": [
    "temp_images = [\n",
    "    image for image in input_fs.listdir('temp_images')\n",
    "]"
   ]
  },
  {
   "cell_type": "code",
   "execution_count": null,
   "metadata": {
    "scrolled": false
   },
   "outputs": [],
   "source": [
    "for ix, row in metaframe.iterrows():\n",
    "    row.dropna(inplace=True)\n",
    "    if 'sclk' in row.index:\n",
    "        row['sclk'] = int(float(row['sclk']))\n",
    "    obs = ZObs(**dict(zip(row.index,row.values)))\n",
    "    # this is the canonical prefix for image / spectra files \n",
    "    # associate observation with images using the convoluted decision tree\n",
    "    obs.clean()\n",
    "    obs.save()\n",
    "pd.DataFrame(map(modeldict, ZObs.objects.all()))"
   ]
  },
  {
   "cell_type": "code",
   "execution_count": null,
   "metadata": {},
   "outputs": [],
   "source": [
    "# for spec in MSpec.objects.all():\n",
    "#     spec.delete()"
   ]
  },
  {
   "cell_type": "code",
   "execution_count": 10,
   "metadata": {},
   "outputs": [
    {
     "data": {
      "text/plain": [
       "['Sol036_zcam03107_SantaCruz2_spectral_ROIs_data.csv',\n",
       " 'Sol028_zcam03102_Iina_spectral_ROIs_data.csv',\n",
       " 'Metadata-marslab.csv',\n",
       " 'Sol030_zcam03104_Keyah_spectral_ROIs_data-marslab.csv',\n",
       " 'Sol037_zcam03108_Hedgehog_spectral_ROIs_data-marslab.csv',\n",
       " 'Sol036_zcam03107_SantaCruz1_spectral_ROIs_data-marslab.csv',\n",
       " 'Sol036_zcam03107_SantaCruz1_spectral_ROIs_data.csv',\n",
       " 'Sol036_zcam03107_SantaCruz3_spectral_ROIs_data.csv',\n",
       " 'Sol012_zcam03100_Maaz_spectral_ROIs_data.csv',\n",
       " 'Mastcam-Z Multispectral Data Sets - Target Multispectral Observations.csv',\n",
       " 'Sol036_zcam03107_SantaCruz3_spectral_ROIs_data-marslab.csv',\n",
       " 'Sol036_zcam03107_SantaCruz2_spectral_ROIs_data-marslab.csv',\n",
       " 'Sol030_zcam03104_Keyah_spectral_ROIs_data.csv',\n",
       " 'Sol012_zcam03100_Maaz_spectral_ROIs_data-marslab.csv',\n",
       " 'Sol037_zcam03108_Hedgehog_spectral_ROIs_data.csv',\n",
       " 'Sol033_zcam03106_Ahyeeh_spectral_ROIs_data.csv',\n",
       " 'temp_images',\n",
       " 'Sol028_zcam03102_Iina_spectral_ROIs_data-marslab.csv',\n",
       " 'Sol033_zcam03106_Ahyeeh_spectral_ROIs_data-marslab.csv']"
      ]
     },
     "execution_count": 10,
     "metadata": {},
     "output_type": "execute_result"
    }
   ],
   "source": [
    "[file for file in input_fs.listdir('')]"
   ]
  },
  {
   "cell_type": "code",
   "execution_count": 12,
   "metadata": {
    "scrolled": false
   },
   "outputs": [],
   "source": [
    "# have to manually associate spectra for now because of pointing issue\n",
    "spec_files = [\n",
    "    file for file in input_fs.listdir('') if (\n",
    "        file.endswith('data-marslab.csv') and file.startswith('Sol'))\n",
    "]\n",
    "for spec_file in spec_files:\n",
    "    frame = pd.read_csv(input_fs.getsyspath(spec_file))\n",
    "    frame.columns = [column.lower() for column in frame.columns]\n",
    "    for _, row in frame.iterrows():\n",
    "        row = row.replace(['-','',' '], np.nan).dropna()\n",
    "        # if there are missing filters anywhere in the column, including for other\n",
    "        # spectra, pandas will read the column\n",
    "        # as object / string, which will cause confusion when we\n",
    "        # compute averaged filters\n",
    "        for filt in ZSpec.filters:\n",
    "            if filt in row.index:\n",
    "                row[filt] = float(row[filt])\n",
    "\n",
    "        row.drop(['sol','seq_id', 'instrument'], inplace=True)\n",
    "        if row['float'] == 'Y':\n",
    "            row['float'] = True\n",
    "        else:\n",
    "            row['float'] = False\n",
    "        metadata = dict(row) | {\n",
    "            'filename': spec_file\n",
    "        }\n",
    "        spectrum = ZSpec(**metadata)\n",
    "        spectrum.clean()\n",
    "        spectrum.save()\n"
   ]
  }
 ],
 "metadata": {
  "kernelspec": {
   "display_name": "Python 3",
   "language": "python",
   "name": "python3"
  },
  "language_info": {
   "codemirror_mode": {
    "name": "ipython",
    "version": 3
   },
   "file_extension": ".py",
   "mimetype": "text/x-python",
   "name": "python",
   "nbconvert_exporter": "python",
   "pygments_lexer": "ipython3",
   "version": "3.9.2"
  },
  "varInspector": {
   "cols": {
    "lenName": 16,
    "lenType": 16,
    "lenVar": 40
   },
   "kernels_config": {
    "python": {
     "delete_cmd_postfix": "",
     "delete_cmd_prefix": "del ",
     "library": "var_list.py",
     "varRefreshCmd": "print(var_dic_list())"
    },
    "r": {
     "delete_cmd_postfix": ") ",
     "delete_cmd_prefix": "rm(",
     "library": "var_list.r",
     "varRefreshCmd": "cat(var_dic_list()) "
    }
   },
   "types_to_exclude": [
    "module",
    "function",
    "builtin_function_or_method",
    "instance",
    "_Feature"
   ],
   "window_display": false
  }
 },
 "nbformat": 4,
 "nbformat_minor": 4
}
