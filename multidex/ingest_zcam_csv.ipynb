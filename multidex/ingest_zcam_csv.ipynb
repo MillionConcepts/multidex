{
 "cells": [
  {
   "cell_type": "code",
   "execution_count": 1,
   "metadata": {},
   "outputs": [],
   "source": [
    "import os\n",
    "import re\n",
    "\n",
    "import django\n",
    "import fs.path\n",
    "import numpy as np\n",
    "import pandas as pd\n",
    "from django.core.exceptions import ObjectDoesNotExist\n",
    "from fs.osfs import OSFS\n",
    "\n",
    "os.environ.setdefault(\"DJANGO_SETTINGS_MODULE\", \"multidex.settings\")\n",
    "os.environ[\"DJANGO_ALLOW_ASYNC_UNSAFE\"] = \"true\"\n",
    "\n",
    "django.setup()\n",
    "\n",
    "from plotter.models import *\n",
    "from plotter_utils import modeldict"
   ]
  },
  {
   "cell_type": "code",
   "execution_count": 2,
   "metadata": {},
   "outputs": [],
   "source": [
    "for spec in ZSpec.objects.all():\n",
    "    spec.delete()"
   ]
  },
  {
   "cell_type": "code",
   "execution_count": 3,
   "metadata": {},
   "outputs": [],
   "source": [
    "input_fs = OSFS(\"/home/michael/Desktop/mcam_spect_data_conversion/data/zcam\")\n",
    "output_fs = OSFS('.')\n",
    "output_image_dir = output_fs.getsyspath(\"static_in_pro/our_static/img\")"
   ]
  },
  {
   "cell_type": "code",
   "execution_count": 4,
   "metadata": {},
   "outputs": [],
   "source": [
    "def reg_seq_id(seq_id_str):\n",
    "    seq_id_str = seq_id_str.replace(\" \", \"\")\n",
    "    return 'zcam' + format(int(seq_id_str.split('zcam')[1]), \"0>5d\")\n",
    "\n",
    "metaframe = pd.read_csv(input_fs.getsyspath('Metadata-marslab.csv'))\n",
    "metaframe.columns = [column.lower() for column in metaframe.columns]\n",
    "# add NaNs back in so we can programmatically delete them\n",
    "metaframe.replace('-', np.nan, inplace=True)\n",
    "# we're turning these to ints when we ingest them,\n",
    "# but python doesn't like statements like int('3.0'),\n",
    "# so turn to float as an intermediate step\n",
    "for column in [\n",
    "    'sol', 'site', 'drive', 'rover_elevation', 'target_elevation', 'tau',\n",
    "    'focal_distance', 'incidence_angle', 'emission_angle',\n",
    "    'phase_angle', 'l_s', 'site', 'drive', 'lat', 'lon', 'odometry',\n",
    "]:\n",
    "    metaframe[column] = metaframe[column].astype('float')\n",
    "metaframe['ltst'] = metaframe['ltst'].astype('datetime64')\n",
    "metaframe['seq_id'] = metaframe['seq_id'].map(reg_seq_id)\n",
    "metaframe.loc[\n",
    "    metaframe['sclk'].notna(), 'sclk'\n",
    "] = metaframe.loc[metaframe['sclk'].notna(), 'sclk'].astype(float).astype(int)"
   ]
  },
  {
   "cell_type": "code",
   "execution_count": 5,
   "metadata": {},
   "outputs": [],
   "source": [
    "temp_images = [\n",
    "    image for image in input_fs.listdir('temp_images')\n",
    "]"
   ]
  },
  {
   "cell_type": "code",
   "execution_count": 7,
   "metadata": {
    "scrolled": false
   },
   "outputs": [],
   "source": [
    "spec_files = [\n",
    "    file for file in input_fs.listdir('') if (\n",
    "        file.endswith('-marslab.csv') and file.startswith('Sol'))\n",
    "]\n",
    "for spec_file in spec_files:\n",
    "    frame = pd.read_csv(input_fs.getsyspath(spec_file))\n",
    "    frame.columns = [column.lower() for column in frame.columns]\n",
    "    observation = metaframe.loc[metaframe['seq_id'] == frame['seq_id'][0]]\n",
    "    # hacky hacky -- but temporary\n",
    "    if len(observation) > 1: \n",
    "        pointing = re.search(r\"(?<=Pointing)\\d\", spec_file).group()\n",
    "        observation = observation.loc[observation['name'].str.contains(str(pointing))]\n",
    "    assert len(observation == 1)\n",
    "    for _, row in frame.iterrows():\n",
    "        if row['float'] == 'Y':\n",
    "            row['float'] = True\n",
    "        else:\n",
    "            row['float'] = False\n",
    "        row = row.replace(['-','',' '], np.nan).dropna()\n",
    "        # if there are missing filters anywhere in the column, including for other\n",
    "        # spectra, pandas will read the column\n",
    "        # as object / string, which will cause confusion when we\n",
    "        # compute averaged filters\n",
    "        for filt in ZSpec.filters:\n",
    "            if filt in row.index:\n",
    "                row[filt] = float(row[filt])\n",
    "        # because we're manually associating\n",
    "        row.drop(['sol', 'seq_id', 'instrument'], inplace=True)\n",
    "        metadata = dict(row) | observation.iloc[0].dropna().to_dict() | {\n",
    "            'filename': spec_file\n",
    "        }\n",
    "        spectrum = ZSpec(**metadata)\n",
    "        spectrum.clean()\n",
    "        spectrum.save()"
   ]
  },
  {
   "cell_type": "code",
   "execution_count": 8,
   "metadata": {
    "scrolled": false
   },
   "outputs": [
    {
     "data": {
      "text/plain": [
       "111"
      ]
     },
     "execution_count": 8,
     "metadata": {},
     "output_type": "execute_result"
    }
   ],
   "source": [
    "len(ZSpec.objects.all())"
   ]
  },
  {
   "cell_type": "code",
   "execution_count": 10,
   "metadata": {},
   "outputs": [
    {
     "data": {
      "text/plain": [
       "'/home/michael/Desktop/multidex_flat_branch/multidex/static_in_pro/our_static/img'"
      ]
     },
     "execution_count": 10,
     "metadata": {},
     "output_type": "execute_result"
    }
   ],
   "source": [
    "output_image_dir"
   ]
  },
  {
   "cell_type": "code",
   "execution_count": null,
   "metadata": {},
   "outputs": [],
   "source": []
  },
  {
   "cell_type": "code",
   "execution_count": 13,
   "metadata": {},
   "outputs": [
    {
     "data": {
      "text/plain": [
       "'zcam03106'"
      ]
     },
     "execution_count": 13,
     "metadata": {},
     "output_type": "execute_result"
    }
   ],
   "source": [
    "spec.seq_id"
   ]
  },
  {
   "cell_type": "code",
   "execution_count": 14,
   "metadata": {},
   "outputs": [
    {
     "data": {
      "text/plain": [
       "['roi_full', 'roi_browse']"
      ]
     },
     "execution_count": 14,
     "metadata": {},
     "output_type": "execute_result"
    }
   ],
   "source": [
    "os.listdir(output_image_dir)"
   ]
  },
  {
   "cell_type": "code",
   "execution_count": 18,
   "metadata": {},
   "outputs": [
    {
     "data": {
      "text/plain": [
       "'Sol33_zcam03106_Ahyeeh_Pointing2-marslab.csv'"
      ]
     },
     "execution_count": 18,
     "metadata": {},
     "output_type": "execute_result"
    }
   ],
   "source": [
    "spec.filename"
   ]
  },
  {
   "cell_type": "code",
   "execution_count": 19,
   "metadata": {},
   "outputs": [],
   "source": [
    "import re"
   ]
  },
  {
   "cell_type": "code",
   "execution_count": 24,
   "metadata": {
    "scrolled": false
   },
   "outputs": [],
   "source": [
    "for spec in ZSpec.objects.all():\n",
    "    images = [\n",
    "        image for image in os.listdir(output_image_dir + '/roi_browse')\n",
    "        if spec.seq_id in image\n",
    "    ]\n",
    "    if 'pointing' in spec.filename.lower():\n",
    "        pointing = re.search(r\"(?<=Pointing)\\d\", spec_file).group()\n",
    "        images = [image for image in images if 'pointing' + pointing in image]\n",
    "    image_dict = {}\n",
    "    for image in images:\n",
    "        if 'rgb' in image:\n",
    "            image_dict['rgb'] = image\n",
    "        if 'enhanced' in image:\n",
    "            image_dict['enhanced'] = image\n",
    "    spec.images = str(image_dict)\n",
    "    spec.clean()\n",
    "    spec.save()"
   ]
  },
  {
   "cell_type": "code",
   "execution_count": null,
   "metadata": {},
   "outputs": [],
   "source": []
  },
  {
   "cell_type": "code",
   "execution_count": null,
   "metadata": {},
   "outputs": [],
   "source": []
  },
  {
   "cell_type": "code",
   "execution_count": null,
   "metadata": {},
   "outputs": [],
   "source": []
  },
  {
   "cell_type": "code",
   "execution_count": 3,
   "metadata": {},
   "outputs": [],
   "source": [
    "from random import choice"
   ]
  },
  {
   "cell_type": "code",
   "execution_count": 4,
   "metadata": {},
   "outputs": [],
   "source": [
    "spec = choice(ZSpec.objects.all())"
   ]
  },
  {
   "cell_type": "code",
   "execution_count": 21,
   "metadata": {},
   "outputs": [],
   "source": [
    "from plotter.spectrum_ops import *"
   ]
  },
  {
   "cell_type": "code",
   "execution_count": 15,
   "metadata": {},
   "outputs": [],
   "source": [
    "unc = \"\"\"L0R:3.3\n",
    "L0G:3.3\n",
    "L0B:3.7\n",
    "L1:1.4\n",
    "L2:1.1\n",
    "L3:0.2\n",
    "L4:1.8\n",
    "L5:1.6\n",
    "L6:0.4\n",
    "R0R:3.7\n",
    "R0G:4.1\n",
    "R0B:4.6\n",
    "R1:0.4\n",
    "R2:0.3\n",
    "R3:0.6\n",
    "R4:0.5\n",
    "R5:0.8\n",
    "R6:0.4\"\"\".split(\"\\n\")"
   ]
  },
  {
   "cell_type": "code",
   "execution_count": 19,
   "metadata": {},
   "outputs": [
    {
     "data": {
      "text/plain": [
       "['L0R:3.3',\n",
       " 'L0G:3.3',\n",
       " 'L0B:3.7',\n",
       " 'L1:1.4',\n",
       " 'L2:1.1',\n",
       " 'L3:0.2',\n",
       " 'L4:1.8',\n",
       " 'L5:1.6',\n",
       " 'L6:0.4',\n",
       " 'R0R:3.7',\n",
       " 'R0G:4.1',\n",
       " 'R0B:4.6',\n",
       " 'R1:0.4',\n",
       " 'R2:0.3',\n",
       " 'R3:0.6',\n",
       " 'R4:0.5',\n",
       " 'R5:0.8',\n",
       " 'R6:0.4']"
      ]
     },
     "execution_count": 19,
     "metadata": {},
     "output_type": "execute_result"
    }
   ],
   "source": [
    "unc"
   ]
  },
  {
   "cell_type": "code",
   "execution_count": 22,
   "metadata": {},
   "outputs": [
    {
     "data": {
      "text/plain": [
       "{'L0R': 3.3,\n",
       " 'L0G': 3.3,\n",
       " 'L0B': 3.7,\n",
       " 'L1': 1.4,\n",
       " 'L2': 1.1,\n",
       " 'L3': 0.2,\n",
       " 'L4': 1.8,\n",
       " 'L5': 1.6,\n",
       " 'L6': 0.4,\n",
       " 'R0R': 3.7,\n",
       " 'R0G': 4.1,\n",
       " 'R0B': 4.6,\n",
       " 'R1': 0.4,\n",
       " 'R2': 0.3,\n",
       " 'R3': 0.6,\n",
       " 'R4': 0.5,\n",
       " 'R5': 0.8,\n",
       " 'R6': 0.4}"
      ]
     },
     "execution_count": 22,
     "metadata": {},
     "output_type": "execute_result"
    }
   ],
   "source": [
    "{\n",
    "    pair.split(\":\")[0]: float(pair.split(\":\")[1])\n",
    "    for pair in unc\n",
    "}"
   ]
  },
  {
   "cell_type": "code",
   "execution_count": 22,
   "metadata": {},
   "outputs": [],
   "source": [
    "filter_df = filter_df_from_queryset(\n",
    "    ZSpec.objects.all(),\n",
    "    average_filters=False,\n",
    "    scale_to=None,\n",
    "    r_star=True,\n",
    "    )"
   ]
  },
  {
   "cell_type": "code",
   "execution_count": 29,
   "metadata": {},
   "outputs": [],
   "source": [
    "from marslab.compatibility import INSTRUMENT_UNCERTAINTIES\n",
    "from itertools import chain, product"
   ]
  },
  {
   "cell_type": "code",
   "execution_count": 129,
   "metadata": {},
   "outputs": [],
   "source": [
    "spec_model = ZSpec\n",
    "instrument = spec_model.instrument\n",
    "unc = INSTRUMENT_UNCERTAINTIES[instrument]\n",
    "function = ratio\n",
    "# filters = ['L5', 'R3', 'L4']\n",
    "filters = ['L5', 'R3']"
   ]
  },
  {
   "cell_type": "code",
   "execution_count": null,
   "metadata": {},
   "outputs": [],
   "source": [
    "def compute_minmax_spec_error(filter_df, spec_model, spec_op, *filters):\n",
    "    # cartesian product of these sets gives all possible sign combos for error high, error low,\n",
    "    # i.e., crude bounds for the hull of the range of possible measurements\n",
    "    unc = INSTRUMENT_UNCERTAINTIES[spec_model.instrument]\n",
    "    corners = product(*[[1, -1] for filt in filters])\n",
    "    bounds_df_list = []\n",
    "    # apply these signs to uncertainty values, getting a list of dataframes\n",
    "    # giving values of all measurements in set at the upper / lower bound combinations\n",
    "    # for uncertainties associated with each relevant filter.\n",
    "    for corner in corners:\n",
    "        corner_series_list = []\n",
    "        for filt_ix, sign in enumerate(corner):\n",
    "            filt = filters[filt_ix]\n",
    "            corner_series_list.append(\n",
    "                filter_df[filt]  + filter_df[filt] * corner[filt_ix] * unc[filt] / 100\n",
    "            )\n",
    "        corner_df = pd.concat(corner_series_list, axis=1)\n",
    "        # record the value of the spectrum op for each of these bounding dataframes.\n",
    "        bounds_df_list.append(function(corner_df, spec_model, *filters)[0])   \n",
    "    # compute the nominal value and compare it to values at these bounds\n",
    "    possible_values = pd.concat(bounds_df_list, axis=1)\n",
    "    nominal_value = function(filter_df, spec_model, *filters)[0]\n",
    "    offsets = possible_values.sub(nominal_value, axis=0) \n",
    "    # then min / max of each of these gives us an error estimate for each spectrum\n",
    "    return offsets.min(axis=1), offsets.max(axis=1)"
   ]
  },
  {
   "cell_type": "code",
   "execution_count": 165,
   "metadata": {},
   "outputs": [],
   "source": [
    "# cartesian product of these sets gives all possible sign combos for error high, error low,\n",
    "# i.e., crude bounds for the hull of the range of possible measurements\n",
    "corners = product(*[[1, -1] for filt in filters])\n",
    "bounds_df_list = []\n",
    "# apply these signs to uncertainty values, getting a list of dataframes\n",
    "# giving values of all measurements in set at the upper / lower bound combinations\n",
    "# for uncertainties associated with each relevant filter.\n",
    "for corner in corners:\n",
    "    corner_series_list = []\n",
    "    for filt_ix, sign in enumerate(corner):\n",
    "        filt = filters[filt_ix]\n",
    "        corner_series_list.append(\n",
    "            filter_df[filt]  + filter_df[filt] * corner[filt_ix] * unc[filt] / 100\n",
    "        )\n",
    "    corner_df = pd.concat(corner_series_list, axis=1)\n",
    "    # record the value of the spectrum op for each of these bounding dataframes.\n",
    "    bounds_df_list.append(function(corner_df, spec_model, *filters)[0])    "
   ]
  },
  {
   "cell_type": "code",
   "execution_count": 179,
   "metadata": {},
   "outputs": [],
   "source": [
    "# compute the nominal value and compare it to values at these bounds\n",
    "possible_values = pd.concat(bounds_df_list, axis=1)\n",
    "nominal_value = function(filter_df, spec_model, *filters)[0]\n",
    "offsets = possible_values.sub(nominal_value, axis=0) \n",
    "# then min / max of each of these gives us an error estimate for each spectrum\n",
    "error_low = offsets.min(axis=1)\n",
    "error_high = offsets.max(axis=1)"
   ]
  },
  {
   "cell_type": "code",
   "execution_count": 108,
   "metadata": {},
   "outputs": [],
   "source": [
    "nominal_value = function(filter_df, spec_model, *filters)[0]"
   ]
  },
  {
   "cell_type": "code",
   "execution_count": 114,
   "metadata": {},
   "outputs": [
    {
     "data": {
      "text/html": [
       "<div>\n",
       "<style scoped>\n",
       "    .dataframe tbody tr th:only-of-type {\n",
       "        vertical-align: middle;\n",
       "    }\n",
       "\n",
       "    .dataframe tbody tr th {\n",
       "        vertical-align: top;\n",
       "    }\n",
       "\n",
       "    .dataframe thead th {\n",
       "        text-align: right;\n",
       "    }\n",
       "</style>\n",
       "<table border=\"1\" class=\"dataframe\">\n",
       "  <thead>\n",
       "    <tr style=\"text-align: right;\">\n",
       "      <th></th>\n",
       "      <th>0</th>\n",
       "      <th>1</th>\n",
       "      <th>2</th>\n",
       "      <th>3</th>\n",
       "      <th>4</th>\n",
       "      <th>5</th>\n",
       "      <th>6</th>\n",
       "      <th>7</th>\n",
       "    </tr>\n",
       "  </thead>\n",
       "  <tbody>\n",
       "    <tr>\n",
       "      <th>1</th>\n",
       "      <td>-0.227605</td>\n",
       "      <td>0.002936</td>\n",
       "      <td>-0.246920</td>\n",
       "      <td>-0.012752</td>\n",
       "      <td>-0.467757</td>\n",
       "      <td>-0.192116</td>\n",
       "      <td>-0.495453</td>\n",
       "      <td>-0.214611</td>\n",
       "    </tr>\n",
       "    <tr>\n",
       "      <th>2</th>\n",
       "      <td>-0.272037</td>\n",
       "      <td>-0.015633</td>\n",
       "      <td>-0.294336</td>\n",
       "      <td>-0.033437</td>\n",
       "      <td>-0.555008</td>\n",
       "      <td>-0.241566</td>\n",
       "      <td>-0.588462</td>\n",
       "      <td>-0.268276</td>\n",
       "    </tr>\n",
       "    <tr>\n",
       "      <th>3</th>\n",
       "      <td>-0.334284</td>\n",
       "      <td>-0.113748</td>\n",
       "      <td>-0.354353</td>\n",
       "      <td>-0.130499</td>\n",
       "      <td>-0.581876</td>\n",
       "      <td>-0.320417</td>\n",
       "      <td>-0.610163</td>\n",
       "      <td>-0.344028</td>\n",
       "    </tr>\n",
       "    <tr>\n",
       "      <th>4</th>\n",
       "      <td>-0.226284</td>\n",
       "      <td>-0.011445</td>\n",
       "      <td>-0.244244</td>\n",
       "      <td>-0.026259</td>\n",
       "      <td>-0.446898</td>\n",
       "      <td>-0.193409</td>\n",
       "      <td>-0.471969</td>\n",
       "      <td>-0.214087</td>\n",
       "    </tr>\n",
       "    <tr>\n",
       "      <th>5</th>\n",
       "      <td>-0.361472</td>\n",
       "      <td>-0.147387</td>\n",
       "      <td>-0.381342</td>\n",
       "      <td>-0.164133</td>\n",
       "      <td>-0.605394</td>\n",
       "      <td>-0.352954</td>\n",
       "      <td>-0.633094</td>\n",
       "      <td>-0.376298</td>\n",
       "    </tr>\n",
       "    <tr>\n",
       "      <th>...</th>\n",
       "      <td>...</td>\n",
       "      <td>...</td>\n",
       "      <td>...</td>\n",
       "      <td>...</td>\n",
       "      <td>...</td>\n",
       "      <td>...</td>\n",
       "      <td>...</td>\n",
       "      <td>...</td>\n",
       "    </tr>\n",
       "    <tr>\n",
       "      <th>107</th>\n",
       "      <td>-0.418209</td>\n",
       "      <td>-0.187692</td>\n",
       "      <td>-0.440520</td>\n",
       "      <td>-0.206377</td>\n",
       "      <td>-0.695613</td>\n",
       "      <td>-0.420007</td>\n",
       "      <td>-0.727604</td>\n",
       "      <td>-0.446799</td>\n",
       "    </tr>\n",
       "    <tr>\n",
       "      <th>108</th>\n",
       "      <td>-0.338147</td>\n",
       "      <td>-0.192867</td>\n",
       "      <td>-0.351338</td>\n",
       "      <td>-0.204626</td>\n",
       "      <td>-0.491981</td>\n",
       "      <td>-0.330000</td>\n",
       "      <td>-0.508397</td>\n",
       "      <td>-0.344634</td>\n",
       "    </tr>\n",
       "    <tr>\n",
       "      <th>109</th>\n",
       "      <td>-0.412618</td>\n",
       "      <td>-0.237721</td>\n",
       "      <td>-0.429415</td>\n",
       "      <td>-0.252439</td>\n",
       "      <td>-0.612810</td>\n",
       "      <td>-0.413128</td>\n",
       "      <td>-0.634743</td>\n",
       "      <td>-0.432345</td>\n",
       "    </tr>\n",
       "    <tr>\n",
       "      <th>110</th>\n",
       "      <td>-0.288937</td>\n",
       "      <td>-0.063716</td>\n",
       "      <td>-0.308742</td>\n",
       "      <td>-0.080060</td>\n",
       "      <td>-0.534162</td>\n",
       "      <td>-0.266092</td>\n",
       "      <td>-0.562302</td>\n",
       "      <td>-0.289315</td>\n",
       "    </tr>\n",
       "    <tr>\n",
       "      <th>111</th>\n",
       "      <td>-0.418530</td>\n",
       "      <td>-0.240582</td>\n",
       "      <td>-0.435696</td>\n",
       "      <td>-0.255594</td>\n",
       "      <td>-0.623575</td>\n",
       "      <td>-0.419905</td>\n",
       "      <td>-0.646101</td>\n",
       "      <td>-0.439606</td>\n",
       "    </tr>\n",
       "  </tbody>\n",
       "</table>\n",
       "<p>111 rows × 8 columns</p>\n",
       "</div>"
      ],
      "text/plain": [
       "            0         1         2         3         4         5         6  \\\n",
       "1   -0.227605  0.002936 -0.246920 -0.012752 -0.467757 -0.192116 -0.495453   \n",
       "2   -0.272037 -0.015633 -0.294336 -0.033437 -0.555008 -0.241566 -0.588462   \n",
       "3   -0.334284 -0.113748 -0.354353 -0.130499 -0.581876 -0.320417 -0.610163   \n",
       "4   -0.226284 -0.011445 -0.244244 -0.026259 -0.446898 -0.193409 -0.471969   \n",
       "5   -0.361472 -0.147387 -0.381342 -0.164133 -0.605394 -0.352954 -0.633094   \n",
       "..        ...       ...       ...       ...       ...       ...       ...   \n",
       "107 -0.418209 -0.187692 -0.440520 -0.206377 -0.695613 -0.420007 -0.727604   \n",
       "108 -0.338147 -0.192867 -0.351338 -0.204626 -0.491981 -0.330000 -0.508397   \n",
       "109 -0.412618 -0.237721 -0.429415 -0.252439 -0.612810 -0.413128 -0.634743   \n",
       "110 -0.288937 -0.063716 -0.308742 -0.080060 -0.534162 -0.266092 -0.562302   \n",
       "111 -0.418530 -0.240582 -0.435696 -0.255594 -0.623575 -0.419905 -0.646101   \n",
       "\n",
       "            7  \n",
       "1   -0.214611  \n",
       "2   -0.268276  \n",
       "3   -0.344028  \n",
       "4   -0.214087  \n",
       "5   -0.376298  \n",
       "..        ...  \n",
       "107 -0.446799  \n",
       "108 -0.344634  \n",
       "109 -0.432345  \n",
       "110 -0.289315  \n",
       "111 -0.439606  \n",
       "\n",
       "[111 rows x 8 columns]"
      ]
     },
     "execution_count": 114,
     "metadata": {},
     "output_type": "execute_result"
    }
   ],
   "source": [
    "possible_values"
   ]
  },
  {
   "cell_type": "code",
   "execution_count": 113,
   "metadata": {},
   "outputs": [
    {
     "data": {
      "text/plain": [
       "1     -0.221747\n",
       "2     -0.270365\n",
       "3     -0.338700\n",
       "4     -0.220741\n",
       "5     -0.368213\n",
       "         ...   \n",
       "107   -0.431098\n",
       "108   -0.341197\n",
       "109   -0.421762\n",
       "110   -0.289108\n",
       "111   -0.428285\n",
       "Length: 111, dtype: float64"
      ]
     },
     "execution_count": 113,
     "metadata": {},
     "output_type": "execute_result"
    }
   ],
   "source": [
    "nominal_value"
   ]
  },
  {
   "cell_type": "code",
   "execution_count": 104,
   "metadata": {},
   "outputs": [
    {
     "data": {
      "text/plain": [
       "1     -0.005858\n",
       "2     -0.001673\n",
       "3      0.004415\n",
       "4     -0.005543\n",
       "5      0.006741\n",
       "         ...   \n",
       "107    0.012889\n",
       "108    0.003050\n",
       "109    0.009145\n",
       "110    0.000171\n",
       "111    0.009755\n",
       "Length: 111, dtype: float64"
      ]
     },
     "execution_count": 104,
     "metadata": {},
     "output_type": "execute_result"
    }
   ],
   "source": [
    "nominal_value = function(filter_df, spec_model, *filters)[0]\n",
    "bound = function(bounds_df_list[0], spec_model, *filters)[0] \n",
    "bound - nominal_value"
   ]
  },
  {
   "cell_type": "code",
   "execution_count": 93,
   "metadata": {},
   "outputs": [
    {
     "data": {
      "text/plain": [
       "1      0.195836\n",
       "2      0.193705\n",
       "3      0.255388\n",
       "4      0.209990\n",
       "5      0.269752\n",
       "         ...   \n",
       "107    0.273707\n",
       "108    0.386815\n",
       "109    0.365840\n",
       "110    0.228434\n",
       "111    0.355110\n",
       "Length: 111, dtype: float64"
      ]
     },
     "execution_count": 93,
     "metadata": {},
     "output_type": "execute_result"
    }
   ],
   "source": []
  },
  {
   "cell_type": "code",
   "execution_count": 92,
   "metadata": {},
   "outputs": [
    {
     "data": {
      "text/plain": [
       "1     -inf\n",
       "2     -inf\n",
       "3     -inf\n",
       "4     -inf\n",
       "5     -inf\n",
       "      ... \n",
       "107   -inf\n",
       "108   -inf\n",
       "109   -inf\n",
       "110   -inf\n",
       "111   -inf\n",
       "Length: 111, dtype: float64"
      ]
     },
     "execution_count": 92,
     "metadata": {},
     "output_type": "execute_result"
    }
   ],
   "source": []
  },
  {
   "cell_type": "code",
   "execution_count": 86,
   "metadata": {},
   "outputs": [
    {
     "data": {
      "text/plain": [
       "1      0.009\n",
       "2      0.009\n",
       "3      0.009\n",
       "4      0.009\n",
       "5      0.009\n",
       "       ...  \n",
       "107    0.009\n",
       "108    0.009\n",
       "109    0.009\n",
       "110    0.009\n",
       "111    0.009\n",
       "Length: 111, dtype: float64"
      ]
     },
     "execution_count": 86,
     "metadata": {},
     "output_type": "execute_result"
    }
   ],
   "source": [
    "# note that band_depth_min is a special case\n",
    "\n",
    "nominal_value = band_avg(filter_df, ZSpec, 'L1', 'R1')[0]\n",
    "band_avg(bounds_df_list[0], ZSpec, 'L1', 'R1')[0] - nominal_value"
   ]
  },
  {
   "cell_type": "code",
   "execution_count": 82,
   "metadata": {},
   "outputs": [
    {
     "data": {
      "text/plain": [
       "1     -0.009\n",
       "2     -0.009\n",
       "3     -0.009\n",
       "4     -0.009\n",
       "5     -0.009\n",
       "       ...  \n",
       "107   -0.009\n",
       "108   -0.009\n",
       "109   -0.009\n",
       "110   -0.009\n",
       "111   -0.009\n",
       "Length: 111, dtype: float64"
      ]
     },
     "execution_count": 82,
     "metadata": {},
     "output_type": "execute_result"
    }
   ],
   "source": [
    "corner_df - nominal_value"
   ]
  },
  {
   "cell_type": "code",
   "execution_count": 45,
   "metadata": {
    "scrolled": false
   },
   "outputs": [
    {
     "ename": "AttributeError",
     "evalue": "'Series' object has no attribute 'columns'",
     "output_type": "error",
     "traceback": [
      "\u001b[0;31m---------------------------------------------------------------------------\u001b[0m",
      "\u001b[0;31mAttributeError\u001b[0m                            Traceback (most recent call last)",
      "\u001b[0;32m<ipython-input-45-fa719ef2f9ad>\u001b[0m in \u001b[0;36m<module>\u001b[0;34m\u001b[0m\n\u001b[0;32m----> 1\u001b[0;31m \u001b[0mlist\u001b[0m\u001b[0;34m(\u001b[0m\u001b[0mproduct\u001b[0m\u001b[0;34m(\u001b[0m\u001b[0mfilter_df_low\u001b[0m\u001b[0;34m.\u001b[0m\u001b[0mcolumns\u001b[0m\u001b[0;34m,\u001b[0m \u001b[0mfilter_df_high\u001b[0m\u001b[0;34m)\u001b[0m\u001b[0;34m)\u001b[0m\u001b[0;34m\u001b[0m\u001b[0;34m\u001b[0m\u001b[0m\n\u001b[0m",
      "\u001b[0;32m~/miniconda3/envs/multidex/lib/python3.9/site-packages/pandas/core/generic.py\u001b[0m in \u001b[0;36m__getattr__\u001b[0;34m(self, name)\u001b[0m\n\u001b[1;32m   5463\u001b[0m             \u001b[0;32mif\u001b[0m \u001b[0mself\u001b[0m\u001b[0;34m.\u001b[0m\u001b[0m_info_axis\u001b[0m\u001b[0;34m.\u001b[0m\u001b[0m_can_hold_identifiers_and_holds_name\u001b[0m\u001b[0;34m(\u001b[0m\u001b[0mname\u001b[0m\u001b[0;34m)\u001b[0m\u001b[0;34m:\u001b[0m\u001b[0;34m\u001b[0m\u001b[0;34m\u001b[0m\u001b[0m\n\u001b[1;32m   5464\u001b[0m                 \u001b[0;32mreturn\u001b[0m \u001b[0mself\u001b[0m\u001b[0;34m[\u001b[0m\u001b[0mname\u001b[0m\u001b[0;34m]\u001b[0m\u001b[0;34m\u001b[0m\u001b[0;34m\u001b[0m\u001b[0m\n\u001b[0;32m-> 5465\u001b[0;31m             \u001b[0;32mreturn\u001b[0m \u001b[0mobject\u001b[0m\u001b[0;34m.\u001b[0m\u001b[0m__getattribute__\u001b[0m\u001b[0;34m(\u001b[0m\u001b[0mself\u001b[0m\u001b[0;34m,\u001b[0m \u001b[0mname\u001b[0m\u001b[0;34m)\u001b[0m\u001b[0;34m\u001b[0m\u001b[0;34m\u001b[0m\u001b[0m\n\u001b[0m\u001b[1;32m   5466\u001b[0m \u001b[0;34m\u001b[0m\u001b[0m\n\u001b[1;32m   5467\u001b[0m     \u001b[0;32mdef\u001b[0m \u001b[0m__setattr__\u001b[0m\u001b[0;34m(\u001b[0m\u001b[0mself\u001b[0m\u001b[0;34m,\u001b[0m \u001b[0mname\u001b[0m\u001b[0;34m:\u001b[0m \u001b[0mstr\u001b[0m\u001b[0;34m,\u001b[0m \u001b[0mvalue\u001b[0m\u001b[0;34m)\u001b[0m \u001b[0;34m->\u001b[0m \u001b[0;32mNone\u001b[0m\u001b[0;34m:\u001b[0m\u001b[0;34m\u001b[0m\u001b[0;34m\u001b[0m\u001b[0m\n",
      "\u001b[0;31mAttributeError\u001b[0m: 'Series' object has no attribute 'columns'"
     ]
    }
   ],
   "source": [
    "list(product(filter_df_low.columns, filter_df_high))"
   ]
  },
  {
   "cell_type": "code",
   "execution_count": 35,
   "metadata": {},
   "outputs": [
    {
     "data": {
      "text/plain": [
       "1      0.193094\n",
       "2      0.190993\n",
       "3      0.251812\n",
       "4      0.207051\n",
       "5      0.265976\n",
       "         ...   \n",
       "107    0.272612\n",
       "108    0.385268\n",
       "109    0.364377\n",
       "110    0.227521\n",
       "111    0.353689\n",
       "Length: 222, dtype: float64"
      ]
     },
     "execution_count": 35,
     "metadata": {},
     "output_type": "execute_result"
    }
   ],
   "source": [
    "filter_df_low"
   ]
  }
 ],
 "metadata": {
  "kernelspec": {
   "display_name": "Python 3",
   "language": "python",
   "name": "python3"
  },
  "language_info": {
   "codemirror_mode": {
    "name": "ipython",
    "version": 3
   },
   "file_extension": ".py",
   "mimetype": "text/x-python",
   "name": "python",
   "nbconvert_exporter": "python",
   "pygments_lexer": "ipython3",
   "version": "3.9.2"
  },
  "varInspector": {
   "cols": {
    "lenName": 16,
    "lenType": 16,
    "lenVar": 40
   },
   "kernels_config": {
    "python": {
     "delete_cmd_postfix": "",
     "delete_cmd_prefix": "del ",
     "library": "var_list.py",
     "varRefreshCmd": "print(var_dic_list())"
    },
    "r": {
     "delete_cmd_postfix": ") ",
     "delete_cmd_prefix": "rm(",
     "library": "var_list.r",
     "varRefreshCmd": "cat(var_dic_list()) "
    }
   },
   "types_to_exclude": [
    "module",
    "function",
    "builtin_function_or_method",
    "instance",
    "_Feature"
   ],
   "window_display": false
  }
 },
 "nbformat": 4,
 "nbformat_minor": 4
}
