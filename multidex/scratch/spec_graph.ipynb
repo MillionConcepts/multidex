{
 "cells": [
  {
   "cell_type": "code",
   "execution_count": 41,
   "metadata": {},
   "outputs": [],
   "source": [
    "import os\n",
    "import re\n",
    "\n",
    "import django\n",
    "import fs.path\n",
    "import numpy as np\n",
    "import pandas as pd\n",
    "from django.core.exceptions import ObjectDoesNotExist\n",
    "from fs.osfs import OSFS\n",
    "from more_itertools import sample\n",
    "\n",
    "if not os.getcwd().endswith('multidex'):\n",
    "    os.chdir('..')\n",
    "\n",
    "os.environ.setdefault(\"DJANGO_SETTINGS_MODULE\", \"multidex.settings\")\n",
    "os.environ[\"DJANGO_ALLOW_ASYNC_UNSAFE\"] = \"true\"\n",
    "\n",
    "django.setup()\n",
    "\n",
    "from plotter.models import MSpec, ZSpec\n",
    "from plotter.components import mspec_graph_line\n",
    "from multidex_utils import model_metadata_df, djget\n",
    "from plotter.graph import make_mspec_browse_image_components"
   ]
  },
  {
   "cell_type": "code",
   "execution_count": 3,
   "metadata": {},
   "outputs": [],
   "source": [
    "mspec = MSpec.objects.all()[88]"
   ]
  },
  {
   "cell_type": "code",
   "execution_count": 13,
   "metadata": {},
   "outputs": [
    {
     "name": "stdout",
     "output_type": "stream",
     "text": [
      "CPU times: user 930 µs, sys: 3.45 ms, total: 4.38 ms\n",
      "Wall time: 2.72 ms\n"
     ]
    },
    {
     "data": {
      "text/plain": [
       "Div([Img(id='spec-image-left', src='/static/sol0812_mcam03564_L126_ROIsOVERLAY_browse.jpg', style={'width': '50%', 'height': '50%'}), Img(id='spec-image-right', src='/static/sol0812_mcam03564_R126_ROIsOVERLAY_browse.jpg', style={'width': '50%', 'height': '50%'})])"
      ]
     },
     "execution_count": 13,
     "metadata": {},
     "output_type": "execute_result"
    }
   ],
   "source": [
    "%%time \n",
    "make_mspec_browse_image_components(\n",
    "    mspec, \"assets/browse/mcam/\", \"/static/\"\n",
    ")"
   ]
  },
  {
   "cell_type": "code",
   "execution_count": 25,
   "metadata": {},
   "outputs": [
    {
     "name": "stdout",
     "output_type": "stream",
     "text": [
      "CPU times: user 8.61 ms, sys: 484 µs, total: 9.09 ms\n",
      "Wall time: 6.92 ms\n"
     ]
    }
   ],
   "source": [
    "%%time\n",
    "mspec = djget(\n",
    "    MSpec, 33, \"id\", \"get\"\n",
    ")"
   ]
  },
  {
   "cell_type": "code",
   "execution_count": 24,
   "metadata": {},
   "outputs": [
    {
     "name": "stdout",
     "output_type": "stream",
     "text": [
      "CPU times: user 1.59 ms, sys: 2.92 ms, total: 4.51 ms\n",
      "Wall time: 3.23 ms\n"
     ]
    },
    {
     "data": {
      "text/plain": [
       "<MSpec: sol1373_Uis_mcam06720>"
      ]
     },
     "execution_count": 24,
     "metadata": {},
     "output_type": "execute_result"
    }
   ],
   "source": [
    "%time MSpec.objects.all()[5]"
   ]
  },
  {
   "cell_type": "code",
   "execution_count": null,
   "metadata": {},
   "outputs": [],
   "source": [
    "%%time \n",
    "mspec.filter_values(\n",
    "    scale_to=('l1', 'r1'), \n",
    "    average_filters=True,\n",
    ")\n",
    " "
   ]
  },
  {
   "cell_type": "code",
   "execution_count": 61,
   "metadata": {},
   "outputs": [],
   "source": [
    "from plotter.components import GRAPH_DISPLAY_DEFAULTS, AXIS_DISPLAY_DEFAULTS\n",
    "import plotly.graph_objects as go\n",
    "from plotter.spectrum_ops import d2r"
   ]
  },
  {
   "cell_type": "code",
   "execution_count": null,
   "metadata": {},
   "outputs": [],
   "source": [
    "scale_to = ('l1', 'r1')\n",
    "average_filters = True\n",
    "r_star = True\n",
    "spectrum = mspec\n",
    "%time spectrum_data = spectrum.filter_values(scale_to=scale_to, average_filters=average_filters)\n",
    "x_axis = [filt_value[\"wave\"] for filt_value in spectrum_data.values()]\n",
    "y_axis = [filt_value[\"mean\"] for filt_value in spectrum_data.values()]\n",
    "y_error = [filt_value[\"err\"] for filt_value in spectrum_data.values()]\n",
    "# TODO: this definitely shouldn't be happening here\n",
    "if r_star:\n",
    "    if spectrum.incidence_angle:\n",
    "        cos_theta_i = np.cos(d2r(spectrum.incidence_angle))\n",
    "        y_axis = [mean / cos_theta_i for mean in y_axis]\n",
    "        y_error = [err / cos_theta_i for err in y_error]\n",
    "%time text = [filt + \", \" + str(spectrum_data[filt][\"wave\"]) for filt in spectrum_data]\n",
    "show_error=True"
   ]
  },
  {
   "cell_type": "code",
   "execution_count": 114,
   "metadata": {},
   "outputs": [
    {
     "data": {
      "text/plain": [
       "{'margin': {'l': 10, 'r': 10, 't': 25, 'b': 0},\n",
       " 'plot_bgcolor': 'rgba(0,0,50,0.05)',\n",
       " 'paper_bgcolor': 'rgba(254,252,245,1)'}"
      ]
     },
     "execution_count": 114,
     "metadata": {},
     "output_type": "execute_result"
    }
   ],
   "source": [
    "GRAPH_DISPLAY_DEFAULTS"
   ]
  },
  {
   "cell_type": "code",
   "execution_count": 131,
   "metadata": {},
   "outputs": [
    {
     "name": "stdout",
     "output_type": "stream",
     "text": [
      "CPU times: user 9.1 ms, sys: 0 ns, total: 9.1 ms\n",
      "Wall time: 8.69 ms\n"
     ]
    },
    {
     "data": {
      "application/vnd.plotly.v1+json": {
       "config": {
        "plotlyServerURL": "https://plot.ly"
       },
       "data": [
        {
         "error_y": {
          "array": [
           0.014147711508133308,
           0.019889677390324264,
           0.018923855464249642,
           0.024676828874356828,
           0.0347217334943703,
           0.019043202251775047,
           0.020444620603265736,
           0.030593235728862234,
           0.022656282555556607,
           0.029384727032860027,
           0.02993787299841839,
           0.03345948645920791
          ],
          "visible": true
         },
         "line": {
          "color": "#fa8072"
         },
         "mode": "lines+markers",
         "text": [
          "L2_R2, 446",
          "L0B_R0B, 495",
          "L1_R1, 527",
          "R0G_L0G, 552",
          "R0R_L0R, 639",
          "L4, 676",
          "L3, 751",
          "R3, 805",
          "L5, 867",
          "R4, 908",
          "R5, 937",
          "L6_R6, 1012"
         ],
         "type": "scatter",
         "x": [
          446,
          495,
          527,
          552,
          639,
          676,
          751,
          805,
          867,
          908,
          937,
          1012
         ],
         "y": [
          0.06810384985388891,
          0.07983089003995478,
          0.09198149022527269,
          0.110632477415844,
          0.16653726919305725,
          0.17693180379584156,
          0.20125639763127076,
          0.2109560426148224,
          0.19252591047487452,
          0.20071708031485136,
          0.20096023406221142,
          0.1880805759704133
         ]
        }
       ],
       "layout": {
        "margin": {
         "b": 0,
         "l": 10,
         "r": 10,
         "t": 25
        },
        "paper_bgcolor": "rgba(254,252,245,1)",
        "plot_bgcolor": "rgba(0,0,50,0.05)",
        "template": {
         "data": {
          "bar": [
           {
            "error_x": {
             "color": "#2a3f5f"
            },
            "error_y": {
             "color": "#2a3f5f"
            },
            "marker": {
             "line": {
              "color": "#E5ECF6",
              "width": 0.5
             }
            },
            "type": "bar"
           }
          ],
          "barpolar": [
           {
            "marker": {
             "line": {
              "color": "#E5ECF6",
              "width": 0.5
             }
            },
            "type": "barpolar"
           }
          ],
          "carpet": [
           {
            "aaxis": {
             "endlinecolor": "#2a3f5f",
             "gridcolor": "white",
             "linecolor": "white",
             "minorgridcolor": "white",
             "startlinecolor": "#2a3f5f"
            },
            "baxis": {
             "endlinecolor": "#2a3f5f",
             "gridcolor": "white",
             "linecolor": "white",
             "minorgridcolor": "white",
             "startlinecolor": "#2a3f5f"
            },
            "type": "carpet"
           }
          ],
          "choropleth": [
           {
            "colorbar": {
             "outlinewidth": 0,
             "ticks": ""
            },
            "type": "choropleth"
           }
          ],
          "contour": [
           {
            "colorbar": {
             "outlinewidth": 0,
             "ticks": ""
            },
            "colorscale": [
             [
              0,
              "#0d0887"
             ],
             [
              0.1111111111111111,
              "#46039f"
             ],
             [
              0.2222222222222222,
              "#7201a8"
             ],
             [
              0.3333333333333333,
              "#9c179e"
             ],
             [
              0.4444444444444444,
              "#bd3786"
             ],
             [
              0.5555555555555556,
              "#d8576b"
             ],
             [
              0.6666666666666666,
              "#ed7953"
             ],
             [
              0.7777777777777778,
              "#fb9f3a"
             ],
             [
              0.8888888888888888,
              "#fdca26"
             ],
             [
              1,
              "#f0f921"
             ]
            ],
            "type": "contour"
           }
          ],
          "contourcarpet": [
           {
            "colorbar": {
             "outlinewidth": 0,
             "ticks": ""
            },
            "type": "contourcarpet"
           }
          ],
          "heatmap": [
           {
            "colorbar": {
             "outlinewidth": 0,
             "ticks": ""
            },
            "colorscale": [
             [
              0,
              "#0d0887"
             ],
             [
              0.1111111111111111,
              "#46039f"
             ],
             [
              0.2222222222222222,
              "#7201a8"
             ],
             [
              0.3333333333333333,
              "#9c179e"
             ],
             [
              0.4444444444444444,
              "#bd3786"
             ],
             [
              0.5555555555555556,
              "#d8576b"
             ],
             [
              0.6666666666666666,
              "#ed7953"
             ],
             [
              0.7777777777777778,
              "#fb9f3a"
             ],
             [
              0.8888888888888888,
              "#fdca26"
             ],
             [
              1,
              "#f0f921"
             ]
            ],
            "type": "heatmap"
           }
          ],
          "heatmapgl": [
           {
            "colorbar": {
             "outlinewidth": 0,
             "ticks": ""
            },
            "colorscale": [
             [
              0,
              "#0d0887"
             ],
             [
              0.1111111111111111,
              "#46039f"
             ],
             [
              0.2222222222222222,
              "#7201a8"
             ],
             [
              0.3333333333333333,
              "#9c179e"
             ],
             [
              0.4444444444444444,
              "#bd3786"
             ],
             [
              0.5555555555555556,
              "#d8576b"
             ],
             [
              0.6666666666666666,
              "#ed7953"
             ],
             [
              0.7777777777777778,
              "#fb9f3a"
             ],
             [
              0.8888888888888888,
              "#fdca26"
             ],
             [
              1,
              "#f0f921"
             ]
            ],
            "type": "heatmapgl"
           }
          ],
          "histogram": [
           {
            "marker": {
             "colorbar": {
              "outlinewidth": 0,
              "ticks": ""
             }
            },
            "type": "histogram"
           }
          ],
          "histogram2d": [
           {
            "colorbar": {
             "outlinewidth": 0,
             "ticks": ""
            },
            "colorscale": [
             [
              0,
              "#0d0887"
             ],
             [
              0.1111111111111111,
              "#46039f"
             ],
             [
              0.2222222222222222,
              "#7201a8"
             ],
             [
              0.3333333333333333,
              "#9c179e"
             ],
             [
              0.4444444444444444,
              "#bd3786"
             ],
             [
              0.5555555555555556,
              "#d8576b"
             ],
             [
              0.6666666666666666,
              "#ed7953"
             ],
             [
              0.7777777777777778,
              "#fb9f3a"
             ],
             [
              0.8888888888888888,
              "#fdca26"
             ],
             [
              1,
              "#f0f921"
             ]
            ],
            "type": "histogram2d"
           }
          ],
          "histogram2dcontour": [
           {
            "colorbar": {
             "outlinewidth": 0,
             "ticks": ""
            },
            "colorscale": [
             [
              0,
              "#0d0887"
             ],
             [
              0.1111111111111111,
              "#46039f"
             ],
             [
              0.2222222222222222,
              "#7201a8"
             ],
             [
              0.3333333333333333,
              "#9c179e"
             ],
             [
              0.4444444444444444,
              "#bd3786"
             ],
             [
              0.5555555555555556,
              "#d8576b"
             ],
             [
              0.6666666666666666,
              "#ed7953"
             ],
             [
              0.7777777777777778,
              "#fb9f3a"
             ],
             [
              0.8888888888888888,
              "#fdca26"
             ],
             [
              1,
              "#f0f921"
             ]
            ],
            "type": "histogram2dcontour"
           }
          ],
          "mesh3d": [
           {
            "colorbar": {
             "outlinewidth": 0,
             "ticks": ""
            },
            "type": "mesh3d"
           }
          ],
          "parcoords": [
           {
            "line": {
             "colorbar": {
              "outlinewidth": 0,
              "ticks": ""
             }
            },
            "type": "parcoords"
           }
          ],
          "pie": [
           {
            "automargin": true,
            "type": "pie"
           }
          ],
          "scatter": [
           {
            "marker": {
             "colorbar": {
              "outlinewidth": 0,
              "ticks": ""
             }
            },
            "type": "scatter"
           }
          ],
          "scatter3d": [
           {
            "line": {
             "colorbar": {
              "outlinewidth": 0,
              "ticks": ""
             }
            },
            "marker": {
             "colorbar": {
              "outlinewidth": 0,
              "ticks": ""
             }
            },
            "type": "scatter3d"
           }
          ],
          "scattercarpet": [
           {
            "marker": {
             "colorbar": {
              "outlinewidth": 0,
              "ticks": ""
             }
            },
            "type": "scattercarpet"
           }
          ],
          "scattergeo": [
           {
            "marker": {
             "colorbar": {
              "outlinewidth": 0,
              "ticks": ""
             }
            },
            "type": "scattergeo"
           }
          ],
          "scattergl": [
           {
            "marker": {
             "colorbar": {
              "outlinewidth": 0,
              "ticks": ""
             }
            },
            "type": "scattergl"
           }
          ],
          "scattermapbox": [
           {
            "marker": {
             "colorbar": {
              "outlinewidth": 0,
              "ticks": ""
             }
            },
            "type": "scattermapbox"
           }
          ],
          "scatterpolar": [
           {
            "marker": {
             "colorbar": {
              "outlinewidth": 0,
              "ticks": ""
             }
            },
            "type": "scatterpolar"
           }
          ],
          "scatterpolargl": [
           {
            "marker": {
             "colorbar": {
              "outlinewidth": 0,
              "ticks": ""
             }
            },
            "type": "scatterpolargl"
           }
          ],
          "scatterternary": [
           {
            "marker": {
             "colorbar": {
              "outlinewidth": 0,
              "ticks": ""
             }
            },
            "type": "scatterternary"
           }
          ],
          "surface": [
           {
            "colorbar": {
             "outlinewidth": 0,
             "ticks": ""
            },
            "colorscale": [
             [
              0,
              "#0d0887"
             ],
             [
              0.1111111111111111,
              "#46039f"
             ],
             [
              0.2222222222222222,
              "#7201a8"
             ],
             [
              0.3333333333333333,
              "#9c179e"
             ],
             [
              0.4444444444444444,
              "#bd3786"
             ],
             [
              0.5555555555555556,
              "#d8576b"
             ],
             [
              0.6666666666666666,
              "#ed7953"
             ],
             [
              0.7777777777777778,
              "#fb9f3a"
             ],
             [
              0.8888888888888888,
              "#fdca26"
             ],
             [
              1,
              "#f0f921"
             ]
            ],
            "type": "surface"
           }
          ],
          "table": [
           {
            "cells": {
             "fill": {
              "color": "#EBF0F8"
             },
             "line": {
              "color": "white"
             }
            },
            "header": {
             "fill": {
              "color": "#C8D4E3"
             },
             "line": {
              "color": "white"
             }
            },
            "type": "table"
           }
          ]
         },
         "layout": {
          "annotationdefaults": {
           "arrowcolor": "#2a3f5f",
           "arrowhead": 0,
           "arrowwidth": 1
          },
          "autotypenumbers": "strict",
          "coloraxis": {
           "colorbar": {
            "outlinewidth": 0,
            "ticks": ""
           }
          },
          "colorscale": {
           "diverging": [
            [
             0,
             "#8e0152"
            ],
            [
             0.1,
             "#c51b7d"
            ],
            [
             0.2,
             "#de77ae"
            ],
            [
             0.3,
             "#f1b6da"
            ],
            [
             0.4,
             "#fde0ef"
            ],
            [
             0.5,
             "#f7f7f7"
            ],
            [
             0.6,
             "#e6f5d0"
            ],
            [
             0.7,
             "#b8e186"
            ],
            [
             0.8,
             "#7fbc41"
            ],
            [
             0.9,
             "#4d9221"
            ],
            [
             1,
             "#276419"
            ]
           ],
           "sequential": [
            [
             0,
             "#0d0887"
            ],
            [
             0.1111111111111111,
             "#46039f"
            ],
            [
             0.2222222222222222,
             "#7201a8"
            ],
            [
             0.3333333333333333,
             "#9c179e"
            ],
            [
             0.4444444444444444,
             "#bd3786"
            ],
            [
             0.5555555555555556,
             "#d8576b"
            ],
            [
             0.6666666666666666,
             "#ed7953"
            ],
            [
             0.7777777777777778,
             "#fb9f3a"
            ],
            [
             0.8888888888888888,
             "#fdca26"
            ],
            [
             1,
             "#f0f921"
            ]
           ],
           "sequentialminus": [
            [
             0,
             "#0d0887"
            ],
            [
             0.1111111111111111,
             "#46039f"
            ],
            [
             0.2222222222222222,
             "#7201a8"
            ],
            [
             0.3333333333333333,
             "#9c179e"
            ],
            [
             0.4444444444444444,
             "#bd3786"
            ],
            [
             0.5555555555555556,
             "#d8576b"
            ],
            [
             0.6666666666666666,
             "#ed7953"
            ],
            [
             0.7777777777777778,
             "#fb9f3a"
            ],
            [
             0.8888888888888888,
             "#fdca26"
            ],
            [
             1,
             "#f0f921"
            ]
           ]
          },
          "colorway": [
           "#636efa",
           "#EF553B",
           "#00cc96",
           "#ab63fa",
           "#FFA15A",
           "#19d3f3",
           "#FF6692",
           "#B6E880",
           "#FF97FF",
           "#FECB52"
          ],
          "font": {
           "color": "#2a3f5f"
          },
          "geo": {
           "bgcolor": "white",
           "lakecolor": "white",
           "landcolor": "#E5ECF6",
           "showlakes": true,
           "showland": true,
           "subunitcolor": "white"
          },
          "hoverlabel": {
           "align": "left"
          },
          "hovermode": "closest",
          "mapbox": {
           "style": "light"
          },
          "paper_bgcolor": "white",
          "plot_bgcolor": "#E5ECF6",
          "polar": {
           "angularaxis": {
            "gridcolor": "white",
            "linecolor": "white",
            "ticks": ""
           },
           "bgcolor": "#E5ECF6",
           "radialaxis": {
            "gridcolor": "white",
            "linecolor": "white",
            "ticks": ""
           }
          },
          "scene": {
           "xaxis": {
            "backgroundcolor": "#E5ECF6",
            "gridcolor": "white",
            "gridwidth": 2,
            "linecolor": "white",
            "showbackground": true,
            "ticks": "",
            "zerolinecolor": "white"
           },
           "yaxis": {
            "backgroundcolor": "#E5ECF6",
            "gridcolor": "white",
            "gridwidth": 2,
            "linecolor": "white",
            "showbackground": true,
            "ticks": "",
            "zerolinecolor": "white"
           },
           "zaxis": {
            "backgroundcolor": "#E5ECF6",
            "gridcolor": "white",
            "gridwidth": 2,
            "linecolor": "white",
            "showbackground": true,
            "ticks": "",
            "zerolinecolor": "white"
           }
          },
          "shapedefaults": {
           "line": {
            "color": "#2a3f5f"
           }
          },
          "ternary": {
           "aaxis": {
            "gridcolor": "white",
            "linecolor": "white",
            "ticks": ""
           },
           "baxis": {
            "gridcolor": "white",
            "linecolor": "white",
            "ticks": ""
           },
           "bgcolor": "#E5ECF6",
           "caxis": {
            "gridcolor": "white",
            "linecolor": "white",
            "ticks": ""
           }
          },
          "title": {
           "x": 0.05
          },
          "xaxis": {
           "automargin": true,
           "gridcolor": "white",
           "linecolor": "white",
           "ticks": "",
           "title": {
            "standoff": 15
           },
           "zerolinecolor": "white",
           "zerolinewidth": 2
          },
          "yaxis": {
           "automargin": true,
           "gridcolor": "white",
           "linecolor": "white",
           "ticks": "",
           "title": {
            "standoff": 15
           },
           "zerolinecolor": "white",
           "zerolinewidth": 2
          }
         }
        },
        "xaxis": {
         "gridcolor": "rgba(0,0,50,0.05)",
         "linecolor": "rgba(0,0,25,0.18)",
         "linewidth": 2,
         "mirror": true,
         "showgrid": true,
         "showline": true,
         "spikecolor": "rgba(0,0,25,0.18)",
         "tickcolor": "rgba(36,28,1,1)",
         "tickfont": {
          "family": "Fira Mono"
         },
         "title": {
          "font": {
           "family": "Fira Mono"
          },
          "text": "wavelength"
         },
         "zerolinecolor": "rgba(0,0,25,0.18)"
        },
        "yaxis": {
         "gridcolor": "rgba(0,0,50,0.05)",
         "linecolor": "rgba(0,0,25,0.18)",
         "linewidth": 2,
         "mirror": true,
         "range": [
          0,
          0.2790598924687113
         ],
         "showgrid": true,
         "showline": true,
         "spikecolor": "rgba(0,0,25,0.18)",
         "tickcolor": "rgba(36,28,1,1)",
         "tickfont": {
          "family": "Fira Mono"
         },
         "title": {
          "font": {
           "family": "Fira Mono"
          },
          "text": "reflectance"
         },
         "zerolinecolor": "rgba(0,0,25,0.18)"
        }
       }
      },
      "text/html": [
       "<div>                            <div id=\"e62b1c40-d377-4fba-a51d-27ee86421e6d\" class=\"plotly-graph-div\" style=\"height:525px; width:100%;\"></div>            <script type=\"text/javascript\">                require([\"plotly\"], function(Plotly) {                    window.PLOTLYENV=window.PLOTLYENV || {};                                    if (document.getElementById(\"e62b1c40-d377-4fba-a51d-27ee86421e6d\")) {                    Plotly.newPlot(                        \"e62b1c40-d377-4fba-a51d-27ee86421e6d\",                        [{\"error_y\": {\"array\": [0.014147711508133308, 0.019889677390324264, 0.018923855464249642, 0.024676828874356828, 0.0347217334943703, 0.019043202251775047, 0.020444620603265736, 0.030593235728862234, 0.022656282555556607, 0.029384727032860027, 0.02993787299841839, 0.03345948645920791], \"visible\": true}, \"line\": {\"color\": \"#fa8072\"}, \"mode\": \"lines+markers\", \"text\": [\"L2_R2, 446\", \"L0B_R0B, 495\", \"L1_R1, 527\", \"R0G_L0G, 552\", \"R0R_L0R, 639\", \"L4, 676\", \"L3, 751\", \"R3, 805\", \"L5, 867\", \"R4, 908\", \"R5, 937\", \"L6_R6, 1012\"], \"type\": \"scatter\", \"x\": [446, 495, 527, 552, 639, 676, 751, 805, 867, 908, 937, 1012], \"y\": [0.06810384985388891, 0.07983089003995478, 0.09198149022527269, 0.110632477415844, 0.16653726919305725, 0.17693180379584156, 0.20125639763127076, 0.2109560426148224, 0.19252591047487452, 0.20071708031485136, 0.20096023406221142, 0.1880805759704133]}],                        {\"margin\": {\"b\": 0, \"l\": 10, \"r\": 10, \"t\": 25}, \"paper_bgcolor\": \"rgba(254,252,245,1)\", \"plot_bgcolor\": \"rgba(0,0,50,0.05)\", \"template\": {\"data\": {\"bar\": [{\"error_x\": {\"color\": \"#2a3f5f\"}, \"error_y\": {\"color\": \"#2a3f5f\"}, \"marker\": {\"line\": {\"color\": \"#E5ECF6\", \"width\": 0.5}}, \"type\": \"bar\"}], \"barpolar\": [{\"marker\": {\"line\": {\"color\": \"#E5ECF6\", \"width\": 0.5}}, \"type\": \"barpolar\"}], \"carpet\": [{\"aaxis\": {\"endlinecolor\": \"#2a3f5f\", \"gridcolor\": \"white\", \"linecolor\": \"white\", \"minorgridcolor\": \"white\", \"startlinecolor\": \"#2a3f5f\"}, \"baxis\": {\"endlinecolor\": \"#2a3f5f\", \"gridcolor\": \"white\", \"linecolor\": \"white\", \"minorgridcolor\": \"white\", \"startlinecolor\": \"#2a3f5f\"}, \"type\": \"carpet\"}], \"choropleth\": [{\"colorbar\": {\"outlinewidth\": 0, \"ticks\": \"\"}, \"type\": \"choropleth\"}], \"contour\": [{\"colorbar\": {\"outlinewidth\": 0, \"ticks\": \"\"}, \"colorscale\": [[0.0, \"#0d0887\"], [0.1111111111111111, \"#46039f\"], [0.2222222222222222, \"#7201a8\"], [0.3333333333333333, \"#9c179e\"], [0.4444444444444444, \"#bd3786\"], [0.5555555555555556, \"#d8576b\"], [0.6666666666666666, \"#ed7953\"], [0.7777777777777778, \"#fb9f3a\"], [0.8888888888888888, \"#fdca26\"], [1.0, \"#f0f921\"]], \"type\": \"contour\"}], \"contourcarpet\": [{\"colorbar\": {\"outlinewidth\": 0, \"ticks\": \"\"}, \"type\": \"contourcarpet\"}], \"heatmap\": [{\"colorbar\": {\"outlinewidth\": 0, \"ticks\": \"\"}, \"colorscale\": [[0.0, \"#0d0887\"], [0.1111111111111111, \"#46039f\"], [0.2222222222222222, \"#7201a8\"], [0.3333333333333333, \"#9c179e\"], [0.4444444444444444, \"#bd3786\"], [0.5555555555555556, \"#d8576b\"], [0.6666666666666666, \"#ed7953\"], [0.7777777777777778, \"#fb9f3a\"], [0.8888888888888888, \"#fdca26\"], [1.0, \"#f0f921\"]], \"type\": \"heatmap\"}], \"heatmapgl\": [{\"colorbar\": {\"outlinewidth\": 0, \"ticks\": \"\"}, \"colorscale\": [[0.0, \"#0d0887\"], [0.1111111111111111, \"#46039f\"], [0.2222222222222222, \"#7201a8\"], [0.3333333333333333, \"#9c179e\"], [0.4444444444444444, \"#bd3786\"], [0.5555555555555556, \"#d8576b\"], [0.6666666666666666, \"#ed7953\"], [0.7777777777777778, \"#fb9f3a\"], [0.8888888888888888, \"#fdca26\"], [1.0, \"#f0f921\"]], \"type\": \"heatmapgl\"}], \"histogram\": [{\"marker\": {\"colorbar\": {\"outlinewidth\": 0, \"ticks\": \"\"}}, \"type\": \"histogram\"}], \"histogram2d\": [{\"colorbar\": {\"outlinewidth\": 0, \"ticks\": \"\"}, \"colorscale\": [[0.0, \"#0d0887\"], [0.1111111111111111, \"#46039f\"], [0.2222222222222222, \"#7201a8\"], [0.3333333333333333, \"#9c179e\"], [0.4444444444444444, \"#bd3786\"], [0.5555555555555556, \"#d8576b\"], [0.6666666666666666, \"#ed7953\"], [0.7777777777777778, \"#fb9f3a\"], [0.8888888888888888, \"#fdca26\"], [1.0, \"#f0f921\"]], \"type\": \"histogram2d\"}], \"histogram2dcontour\": [{\"colorbar\": {\"outlinewidth\": 0, \"ticks\": \"\"}, \"colorscale\": [[0.0, \"#0d0887\"], [0.1111111111111111, \"#46039f\"], [0.2222222222222222, \"#7201a8\"], [0.3333333333333333, \"#9c179e\"], [0.4444444444444444, \"#bd3786\"], [0.5555555555555556, \"#d8576b\"], [0.6666666666666666, \"#ed7953\"], [0.7777777777777778, \"#fb9f3a\"], [0.8888888888888888, \"#fdca26\"], [1.0, \"#f0f921\"]], \"type\": \"histogram2dcontour\"}], \"mesh3d\": [{\"colorbar\": {\"outlinewidth\": 0, \"ticks\": \"\"}, \"type\": \"mesh3d\"}], \"parcoords\": [{\"line\": {\"colorbar\": {\"outlinewidth\": 0, \"ticks\": \"\"}}, \"type\": \"parcoords\"}], \"pie\": [{\"automargin\": true, \"type\": \"pie\"}], \"scatter\": [{\"marker\": {\"colorbar\": {\"outlinewidth\": 0, \"ticks\": \"\"}}, \"type\": \"scatter\"}], \"scatter3d\": [{\"line\": {\"colorbar\": {\"outlinewidth\": 0, \"ticks\": \"\"}}, \"marker\": {\"colorbar\": {\"outlinewidth\": 0, \"ticks\": \"\"}}, \"type\": \"scatter3d\"}], \"scattercarpet\": [{\"marker\": {\"colorbar\": {\"outlinewidth\": 0, \"ticks\": \"\"}}, \"type\": \"scattercarpet\"}], \"scattergeo\": [{\"marker\": {\"colorbar\": {\"outlinewidth\": 0, \"ticks\": \"\"}}, \"type\": \"scattergeo\"}], \"scattergl\": [{\"marker\": {\"colorbar\": {\"outlinewidth\": 0, \"ticks\": \"\"}}, \"type\": \"scattergl\"}], \"scattermapbox\": [{\"marker\": {\"colorbar\": {\"outlinewidth\": 0, \"ticks\": \"\"}}, \"type\": \"scattermapbox\"}], \"scatterpolar\": [{\"marker\": {\"colorbar\": {\"outlinewidth\": 0, \"ticks\": \"\"}}, \"type\": \"scatterpolar\"}], \"scatterpolargl\": [{\"marker\": {\"colorbar\": {\"outlinewidth\": 0, \"ticks\": \"\"}}, \"type\": \"scatterpolargl\"}], \"scatterternary\": [{\"marker\": {\"colorbar\": {\"outlinewidth\": 0, \"ticks\": \"\"}}, \"type\": \"scatterternary\"}], \"surface\": [{\"colorbar\": {\"outlinewidth\": 0, \"ticks\": \"\"}, \"colorscale\": [[0.0, \"#0d0887\"], [0.1111111111111111, \"#46039f\"], [0.2222222222222222, \"#7201a8\"], [0.3333333333333333, \"#9c179e\"], [0.4444444444444444, \"#bd3786\"], [0.5555555555555556, \"#d8576b\"], [0.6666666666666666, \"#ed7953\"], [0.7777777777777778, \"#fb9f3a\"], [0.8888888888888888, \"#fdca26\"], [1.0, \"#f0f921\"]], \"type\": \"surface\"}], \"table\": [{\"cells\": {\"fill\": {\"color\": \"#EBF0F8\"}, \"line\": {\"color\": \"white\"}}, \"header\": {\"fill\": {\"color\": \"#C8D4E3\"}, \"line\": {\"color\": \"white\"}}, \"type\": \"table\"}]}, \"layout\": {\"annotationdefaults\": {\"arrowcolor\": \"#2a3f5f\", \"arrowhead\": 0, \"arrowwidth\": 1}, \"autotypenumbers\": \"strict\", \"coloraxis\": {\"colorbar\": {\"outlinewidth\": 0, \"ticks\": \"\"}}, \"colorscale\": {\"diverging\": [[0, \"#8e0152\"], [0.1, \"#c51b7d\"], [0.2, \"#de77ae\"], [0.3, \"#f1b6da\"], [0.4, \"#fde0ef\"], [0.5, \"#f7f7f7\"], [0.6, \"#e6f5d0\"], [0.7, \"#b8e186\"], [0.8, \"#7fbc41\"], [0.9, \"#4d9221\"], [1, \"#276419\"]], \"sequential\": [[0.0, \"#0d0887\"], [0.1111111111111111, \"#46039f\"], [0.2222222222222222, \"#7201a8\"], [0.3333333333333333, \"#9c179e\"], [0.4444444444444444, \"#bd3786\"], [0.5555555555555556, \"#d8576b\"], [0.6666666666666666, \"#ed7953\"], [0.7777777777777778, \"#fb9f3a\"], [0.8888888888888888, \"#fdca26\"], [1.0, \"#f0f921\"]], \"sequentialminus\": [[0.0, \"#0d0887\"], [0.1111111111111111, \"#46039f\"], [0.2222222222222222, \"#7201a8\"], [0.3333333333333333, \"#9c179e\"], [0.4444444444444444, \"#bd3786\"], [0.5555555555555556, \"#d8576b\"], [0.6666666666666666, \"#ed7953\"], [0.7777777777777778, \"#fb9f3a\"], [0.8888888888888888, \"#fdca26\"], [1.0, \"#f0f921\"]]}, \"colorway\": [\"#636efa\", \"#EF553B\", \"#00cc96\", \"#ab63fa\", \"#FFA15A\", \"#19d3f3\", \"#FF6692\", \"#B6E880\", \"#FF97FF\", \"#FECB52\"], \"font\": {\"color\": \"#2a3f5f\"}, \"geo\": {\"bgcolor\": \"white\", \"lakecolor\": \"white\", \"landcolor\": \"#E5ECF6\", \"showlakes\": true, \"showland\": true, \"subunitcolor\": \"white\"}, \"hoverlabel\": {\"align\": \"left\"}, \"hovermode\": \"closest\", \"mapbox\": {\"style\": \"light\"}, \"paper_bgcolor\": \"white\", \"plot_bgcolor\": \"#E5ECF6\", \"polar\": {\"angularaxis\": {\"gridcolor\": \"white\", \"linecolor\": \"white\", \"ticks\": \"\"}, \"bgcolor\": \"#E5ECF6\", \"radialaxis\": {\"gridcolor\": \"white\", \"linecolor\": \"white\", \"ticks\": \"\"}}, \"scene\": {\"xaxis\": {\"backgroundcolor\": \"#E5ECF6\", \"gridcolor\": \"white\", \"gridwidth\": 2, \"linecolor\": \"white\", \"showbackground\": true, \"ticks\": \"\", \"zerolinecolor\": \"white\"}, \"yaxis\": {\"backgroundcolor\": \"#E5ECF6\", \"gridcolor\": \"white\", \"gridwidth\": 2, \"linecolor\": \"white\", \"showbackground\": true, \"ticks\": \"\", \"zerolinecolor\": \"white\"}, \"zaxis\": {\"backgroundcolor\": \"#E5ECF6\", \"gridcolor\": \"white\", \"gridwidth\": 2, \"linecolor\": \"white\", \"showbackground\": true, \"ticks\": \"\", \"zerolinecolor\": \"white\"}}, \"shapedefaults\": {\"line\": {\"color\": \"#2a3f5f\"}}, \"ternary\": {\"aaxis\": {\"gridcolor\": \"white\", \"linecolor\": \"white\", \"ticks\": \"\"}, \"baxis\": {\"gridcolor\": \"white\", \"linecolor\": \"white\", \"ticks\": \"\"}, \"bgcolor\": \"#E5ECF6\", \"caxis\": {\"gridcolor\": \"white\", \"linecolor\": \"white\", \"ticks\": \"\"}}, \"title\": {\"x\": 0.05}, \"xaxis\": {\"automargin\": true, \"gridcolor\": \"white\", \"linecolor\": \"white\", \"ticks\": \"\", \"title\": {\"standoff\": 15}, \"zerolinecolor\": \"white\", \"zerolinewidth\": 2}, \"yaxis\": {\"automargin\": true, \"gridcolor\": \"white\", \"linecolor\": \"white\", \"ticks\": \"\", \"title\": {\"standoff\": 15}, \"zerolinecolor\": \"white\", \"zerolinewidth\": 2}}}, \"xaxis\": {\"gridcolor\": \"rgba(0,0,50,0.05)\", \"linecolor\": \"rgba(0,0,25,0.18)\", \"linewidth\": 2, \"mirror\": true, \"showgrid\": true, \"showline\": true, \"spikecolor\": \"rgba(0,0,25,0.18)\", \"tickcolor\": \"rgba(36,28,1,1)\", \"tickfont\": {\"family\": \"Fira Mono\"}, \"title\": {\"font\": {\"family\": \"Fira Mono\"}, \"text\": \"wavelength\"}, \"zerolinecolor\": \"rgba(0,0,25,0.18)\"}, \"yaxis\": {\"gridcolor\": \"rgba(0,0,50,0.05)\", \"linecolor\": \"rgba(0,0,25,0.18)\", \"linewidth\": 2, \"mirror\": true, \"range\": [0, 0.2790598924687113], \"showgrid\": true, \"showline\": true, \"spikecolor\": \"rgba(0,0,25,0.18)\", \"tickcolor\": \"rgba(36,28,1,1)\", \"tickfont\": {\"family\": \"Fira Mono\"}, \"title\": {\"font\": {\"family\": \"Fira Mono\"}, \"text\": \"reflectance\"}, \"zerolinecolor\": \"rgba(0,0,25,0.18)\"}},                        {\"responsive\": true}                    ).then(function(){\n",
       "                            \n",
       "var gd = document.getElementById('e62b1c40-d377-4fba-a51d-27ee86421e6d');\n",
       "var x = new MutationObserver(function (mutations, observer) {{\n",
       "        var display = window.getComputedStyle(gd).display;\n",
       "        if (!display || display === 'none') {{\n",
       "            console.log([gd, 'removed!']);\n",
       "            Plotly.purge(gd);\n",
       "            observer.disconnect();\n",
       "        }}\n",
       "}});\n",
       "\n",
       "// Listen for the removal of the full notebook cells\n",
       "var notebookContainer = gd.closest('#notebook-container');\n",
       "if (notebookContainer) {{\n",
       "    x.observe(notebookContainer, {childList: true});\n",
       "}}\n",
       "\n",
       "// Listen for the clearing of the current output cell\n",
       "var outputEl = gd.closest('.output');\n",
       "if (outputEl) {{\n",
       "    x.observe(outputEl, {childList: true});\n",
       "}}\n",
       "\n",
       "                        })                };                });            </script>        </div>"
      ]
     },
     "metadata": {},
     "output_type": "display_data"
    }
   ],
   "source": [
    "%%time\n",
    "fig = go.Figure(\n",
    "    layout= {\n",
    "        **GRAPH_DISPLAY_DEFAULTS,\n",
    "        'xaxis': AXIS_DISPLAY_DEFAULTS | {\"title_text\": \"wavelength\"},\n",
    "        'yaxis': AXIS_DISPLAY_DEFAULTS | {\n",
    "            \"title_text\": \"reflectance\",\n",
    "            \"range\": [0, min(y_axis) + max(y_axis)]\n",
    "        },\n",
    "    }\n",
    ")\n",
    "scatter = go.Scatter(\n",
    "        x=x_axis,\n",
    "        y=y_axis,\n",
    "        mode=\"lines+markers\",\n",
    "        text=text,\n",
    "        line={\"color\": spectrum.roi_hex_code()},\n",
    "        error_y={\"array\": y_error, \"visible\": show_error},\n",
    "    )\n",
    "fig.add_trace(scatter)"
   ]
  },
  {
   "cell_type": "code",
   "execution_count": 111,
   "metadata": {},
   "outputs": [],
   "source": [
    "fig = go.Figure(\n",
    "    layout= {\n",
    "        'xaxis': AXIS_DISPLAY_DEFAULTS | {\"title_text\": \"wavelength\"},\n",
    "        'yaxis': AXIS_DISPLAY_DEFAULTS | {\"title_text\": \"reflectance\"}\n",
    "    }\n",
    ")"
   ]
  },
  {
   "cell_type": "code",
   "execution_count": 87,
   "metadata": {},
   "outputs": [
    {
     "name": "stdout",
     "output_type": "stream",
     "text": [
      "CPU times: user 1.48 ms, sys: 0 ns, total: 1.48 ms\n",
      "Wall time: 1.5 ms\n"
     ]
    },
    {
     "data": {
      "application/vnd.plotly.v1+json": {
       "config": {
        "plotlyServerURL": "https://plot.ly"
       },
       "data": [
        {
         "error_y": {
          "array": [
           0.014147711508133308,
           0.019889677390324264,
           0.018923855464249642,
           0.024676828874356828,
           0.0347217334943703,
           0.019043202251775047,
           0.020444620603265736,
           0.030593235728862234,
           0.022656282555556607,
           0.029384727032860027,
           0.02993787299841839,
           0.03345948645920791
          ],
          "visible": true
         },
         "line": {
          "color": "#fa8072"
         },
         "mode": "lines+markers",
         "text": [
          "L2_R2, 446",
          "L0B_R0B, 495",
          "L1_R1, 527",
          "R0G_L0G, 552",
          "R0R_L0R, 639",
          "L4, 676",
          "L3, 751",
          "R3, 805",
          "L5, 867",
          "R4, 908",
          "R5, 937",
          "L6_R6, 1012"
         ],
         "type": "scatter",
         "x": [
          446,
          495,
          527,
          552,
          639,
          676,
          751,
          805,
          867,
          908,
          937,
          1012
         ],
         "y": [
          0.06810384985388891,
          0.07983089003995478,
          0.09198149022527269,
          0.110632477415844,
          0.16653726919305725,
          0.17693180379584156,
          0.20125639763127076,
          0.2109560426148224,
          0.19252591047487452,
          0.20071708031485136,
          0.20096023406221142,
          0.1880805759704133
         ]
        },
        {
         "error_y": {
          "array": [
           0.014147711508133308,
           0.019889677390324264,
           0.018923855464249642,
           0.024676828874356828,
           0.0347217334943703,
           0.019043202251775047,
           0.020444620603265736,
           0.030593235728862234,
           0.022656282555556607,
           0.029384727032860027,
           0.02993787299841839,
           0.03345948645920791
          ],
          "visible": true
         },
         "line": {
          "color": "#fa8072"
         },
         "mode": "lines+markers",
         "text": [
          "L2_R2, 446",
          "L0B_R0B, 495",
          "L1_R1, 527",
          "R0G_L0G, 552",
          "R0R_L0R, 639",
          "L4, 676",
          "L3, 751",
          "R3, 805",
          "L5, 867",
          "R4, 908",
          "R5, 937",
          "L6_R6, 1012"
         ],
         "type": "scatter",
         "x": [
          446,
          495,
          527,
          552,
          639,
          676,
          751,
          805,
          867,
          908,
          937,
          1012
         ],
         "y": [
          0.06810384985388891,
          0.07983089003995478,
          0.09198149022527269,
          0.110632477415844,
          0.16653726919305725,
          0.17693180379584156,
          0.20125639763127076,
          0.2109560426148224,
          0.19252591047487452,
          0.20071708031485136,
          0.20096023406221142,
          0.1880805759704133
         ]
        },
        {
         "error_y": {
          "array": [
           0.014147711508133308,
           0.019889677390324264,
           0.018923855464249642,
           0.024676828874356828,
           0.0347217334943703,
           0.019043202251775047,
           0.020444620603265736,
           0.030593235728862234,
           0.022656282555556607,
           0.029384727032860027,
           0.02993787299841839,
           0.03345948645920791
          ],
          "visible": true
         },
         "line": {
          "color": "#fa8072"
         },
         "mode": "lines+markers",
         "text": [
          "L2_R2, 446",
          "L0B_R0B, 495",
          "L1_R1, 527",
          "R0G_L0G, 552",
          "R0R_L0R, 639",
          "L4, 676",
          "L3, 751",
          "R3, 805",
          "L5, 867",
          "R4, 908",
          "R5, 937",
          "L6_R6, 1012"
         ],
         "type": "scatter",
         "x": [
          446,
          495,
          527,
          552,
          639,
          676,
          751,
          805,
          867,
          908,
          937,
          1012
         ],
         "y": [
          0.06810384985388891,
          0.07983089003995478,
          0.09198149022527269,
          0.110632477415844,
          0.16653726919305725,
          0.17693180379584156,
          0.20125639763127076,
          0.2109560426148224,
          0.19252591047487452,
          0.20071708031485136,
          0.20096023406221142,
          0.1880805759704133
         ]
        },
        {
         "error_y": {
          "array": [
           0.014147711508133308,
           0.019889677390324264,
           0.018923855464249642,
           0.024676828874356828,
           0.0347217334943703,
           0.019043202251775047,
           0.020444620603265736,
           0.030593235728862234,
           0.022656282555556607,
           0.029384727032860027,
           0.02993787299841839,
           0.03345948645920791
          ],
          "visible": true
         },
         "line": {
          "color": "#fa8072"
         },
         "mode": "lines+markers",
         "text": [
          "L2_R2, 446",
          "L0B_R0B, 495",
          "L1_R1, 527",
          "R0G_L0G, 552",
          "R0R_L0R, 639",
          "L4, 676",
          "L3, 751",
          "R3, 805",
          "L5, 867",
          "R4, 908",
          "R5, 937",
          "L6_R6, 1012"
         ],
         "type": "scatter",
         "x": [
          446,
          495,
          527,
          552,
          639,
          676,
          751,
          805,
          867,
          908,
          937,
          1012
         ],
         "y": [
          0.06810384985388891,
          0.07983089003995478,
          0.09198149022527269,
          0.110632477415844,
          0.16653726919305725,
          0.17693180379584156,
          0.20125639763127076,
          0.2109560426148224,
          0.19252591047487452,
          0.20071708031485136,
          0.20096023406221142,
          0.1880805759704133
         ]
        },
        {
         "error_y": {
          "array": [
           0.014147711508133308,
           0.019889677390324264,
           0.018923855464249642,
           0.024676828874356828,
           0.0347217334943703,
           0.019043202251775047,
           0.020444620603265736,
           0.030593235728862234,
           0.022656282555556607,
           0.029384727032860027,
           0.02993787299841839,
           0.03345948645920791
          ],
          "visible": true
         },
         "line": {
          "color": "#fa8072"
         },
         "mode": "lines+markers",
         "text": [
          "L2_R2, 446",
          "L0B_R0B, 495",
          "L1_R1, 527",
          "R0G_L0G, 552",
          "R0R_L0R, 639",
          "L4, 676",
          "L3, 751",
          "R3, 805",
          "L5, 867",
          "R4, 908",
          "R5, 937",
          "L6_R6, 1012"
         ],
         "type": "scatter",
         "x": [
          446,
          495,
          527,
          552,
          639,
          676,
          751,
          805,
          867,
          908,
          937,
          1012
         ],
         "y": [
          0.06810384985388891,
          0.07983089003995478,
          0.09198149022527269,
          0.110632477415844,
          0.16653726919305725,
          0.17693180379584156,
          0.20125639763127076,
          0.2109560426148224,
          0.19252591047487452,
          0.20071708031485136,
          0.20096023406221142,
          0.1880805759704133
         ]
        },
        {
         "error_y": {
          "array": [
           0.014147711508133308,
           0.019889677390324264,
           0.018923855464249642,
           0.024676828874356828,
           0.0347217334943703,
           0.019043202251775047,
           0.020444620603265736,
           0.030593235728862234,
           0.022656282555556607,
           0.029384727032860027,
           0.02993787299841839,
           0.03345948645920791
          ],
          "visible": true
         },
         "line": {
          "color": "#fa8072"
         },
         "mode": "lines+markers",
         "text": [
          "L2_R2, 446",
          "L0B_R0B, 495",
          "L1_R1, 527",
          "R0G_L0G, 552",
          "R0R_L0R, 639",
          "L4, 676",
          "L3, 751",
          "R3, 805",
          "L5, 867",
          "R4, 908",
          "R5, 937",
          "L6_R6, 1012"
         ],
         "type": "scatter",
         "x": [
          446,
          495,
          527,
          552,
          639,
          676,
          751,
          805,
          867,
          908,
          937,
          1012
         ],
         "y": [
          0.06810384985388891,
          0.07983089003995478,
          0.09198149022527269,
          0.110632477415844,
          0.16653726919305725,
          0.17693180379584156,
          0.20125639763127076,
          0.2109560426148224,
          0.19252591047487452,
          0.20071708031485136,
          0.20096023406221142,
          0.1880805759704133
         ]
        },
        {
         "error_y": {
          "array": [
           0.014147711508133308,
           0.019889677390324264,
           0.018923855464249642,
           0.024676828874356828,
           0.0347217334943703,
           0.019043202251775047,
           0.020444620603265736,
           0.030593235728862234,
           0.022656282555556607,
           0.029384727032860027,
           0.02993787299841839,
           0.03345948645920791
          ],
          "visible": true
         },
         "line": {
          "color": "#fa8072"
         },
         "mode": "lines+markers",
         "text": [
          "L2_R2, 446",
          "L0B_R0B, 495",
          "L1_R1, 527",
          "R0G_L0G, 552",
          "R0R_L0R, 639",
          "L4, 676",
          "L3, 751",
          "R3, 805",
          "L5, 867",
          "R4, 908",
          "R5, 937",
          "L6_R6, 1012"
         ],
         "type": "scatter",
         "x": [
          446,
          495,
          527,
          552,
          639,
          676,
          751,
          805,
          867,
          908,
          937,
          1012
         ],
         "y": [
          0.06810384985388891,
          0.07983089003995478,
          0.09198149022527269,
          0.110632477415844,
          0.16653726919305725,
          0.17693180379584156,
          0.20125639763127076,
          0.2109560426148224,
          0.19252591047487452,
          0.20071708031485136,
          0.20096023406221142,
          0.1880805759704133
         ]
        }
       ],
       "layout": {
        "margin": {
         "b": 0,
         "l": 10,
         "r": 10,
         "t": 25
        },
        "paper_bgcolor": "rgba(254,252,245,1)",
        "plot_bgcolor": "rgba(0,0,50,0.05)",
        "template": {
         "data": {
          "bar": [
           {
            "error_x": {
             "color": "#2a3f5f"
            },
            "error_y": {
             "color": "#2a3f5f"
            },
            "marker": {
             "line": {
              "color": "#E5ECF6",
              "width": 0.5
             }
            },
            "type": "bar"
           }
          ],
          "barpolar": [
           {
            "marker": {
             "line": {
              "color": "#E5ECF6",
              "width": 0.5
             }
            },
            "type": "barpolar"
           }
          ],
          "carpet": [
           {
            "aaxis": {
             "endlinecolor": "#2a3f5f",
             "gridcolor": "white",
             "linecolor": "white",
             "minorgridcolor": "white",
             "startlinecolor": "#2a3f5f"
            },
            "baxis": {
             "endlinecolor": "#2a3f5f",
             "gridcolor": "white",
             "linecolor": "white",
             "minorgridcolor": "white",
             "startlinecolor": "#2a3f5f"
            },
            "type": "carpet"
           }
          ],
          "choropleth": [
           {
            "colorbar": {
             "outlinewidth": 0,
             "ticks": ""
            },
            "type": "choropleth"
           }
          ],
          "contour": [
           {
            "colorbar": {
             "outlinewidth": 0,
             "ticks": ""
            },
            "colorscale": [
             [
              0,
              "#0d0887"
             ],
             [
              0.1111111111111111,
              "#46039f"
             ],
             [
              0.2222222222222222,
              "#7201a8"
             ],
             [
              0.3333333333333333,
              "#9c179e"
             ],
             [
              0.4444444444444444,
              "#bd3786"
             ],
             [
              0.5555555555555556,
              "#d8576b"
             ],
             [
              0.6666666666666666,
              "#ed7953"
             ],
             [
              0.7777777777777778,
              "#fb9f3a"
             ],
             [
              0.8888888888888888,
              "#fdca26"
             ],
             [
              1,
              "#f0f921"
             ]
            ],
            "type": "contour"
           }
          ],
          "contourcarpet": [
           {
            "colorbar": {
             "outlinewidth": 0,
             "ticks": ""
            },
            "type": "contourcarpet"
           }
          ],
          "heatmap": [
           {
            "colorbar": {
             "outlinewidth": 0,
             "ticks": ""
            },
            "colorscale": [
             [
              0,
              "#0d0887"
             ],
             [
              0.1111111111111111,
              "#46039f"
             ],
             [
              0.2222222222222222,
              "#7201a8"
             ],
             [
              0.3333333333333333,
              "#9c179e"
             ],
             [
              0.4444444444444444,
              "#bd3786"
             ],
             [
              0.5555555555555556,
              "#d8576b"
             ],
             [
              0.6666666666666666,
              "#ed7953"
             ],
             [
              0.7777777777777778,
              "#fb9f3a"
             ],
             [
              0.8888888888888888,
              "#fdca26"
             ],
             [
              1,
              "#f0f921"
             ]
            ],
            "type": "heatmap"
           }
          ],
          "heatmapgl": [
           {
            "colorbar": {
             "outlinewidth": 0,
             "ticks": ""
            },
            "colorscale": [
             [
              0,
              "#0d0887"
             ],
             [
              0.1111111111111111,
              "#46039f"
             ],
             [
              0.2222222222222222,
              "#7201a8"
             ],
             [
              0.3333333333333333,
              "#9c179e"
             ],
             [
              0.4444444444444444,
              "#bd3786"
             ],
             [
              0.5555555555555556,
              "#d8576b"
             ],
             [
              0.6666666666666666,
              "#ed7953"
             ],
             [
              0.7777777777777778,
              "#fb9f3a"
             ],
             [
              0.8888888888888888,
              "#fdca26"
             ],
             [
              1,
              "#f0f921"
             ]
            ],
            "type": "heatmapgl"
           }
          ],
          "histogram": [
           {
            "marker": {
             "colorbar": {
              "outlinewidth": 0,
              "ticks": ""
             }
            },
            "type": "histogram"
           }
          ],
          "histogram2d": [
           {
            "colorbar": {
             "outlinewidth": 0,
             "ticks": ""
            },
            "colorscale": [
             [
              0,
              "#0d0887"
             ],
             [
              0.1111111111111111,
              "#46039f"
             ],
             [
              0.2222222222222222,
              "#7201a8"
             ],
             [
              0.3333333333333333,
              "#9c179e"
             ],
             [
              0.4444444444444444,
              "#bd3786"
             ],
             [
              0.5555555555555556,
              "#d8576b"
             ],
             [
              0.6666666666666666,
              "#ed7953"
             ],
             [
              0.7777777777777778,
              "#fb9f3a"
             ],
             [
              0.8888888888888888,
              "#fdca26"
             ],
             [
              1,
              "#f0f921"
             ]
            ],
            "type": "histogram2d"
           }
          ],
          "histogram2dcontour": [
           {
            "colorbar": {
             "outlinewidth": 0,
             "ticks": ""
            },
            "colorscale": [
             [
              0,
              "#0d0887"
             ],
             [
              0.1111111111111111,
              "#46039f"
             ],
             [
              0.2222222222222222,
              "#7201a8"
             ],
             [
              0.3333333333333333,
              "#9c179e"
             ],
             [
              0.4444444444444444,
              "#bd3786"
             ],
             [
              0.5555555555555556,
              "#d8576b"
             ],
             [
              0.6666666666666666,
              "#ed7953"
             ],
             [
              0.7777777777777778,
              "#fb9f3a"
             ],
             [
              0.8888888888888888,
              "#fdca26"
             ],
             [
              1,
              "#f0f921"
             ]
            ],
            "type": "histogram2dcontour"
           }
          ],
          "mesh3d": [
           {
            "colorbar": {
             "outlinewidth": 0,
             "ticks": ""
            },
            "type": "mesh3d"
           }
          ],
          "parcoords": [
           {
            "line": {
             "colorbar": {
              "outlinewidth": 0,
              "ticks": ""
             }
            },
            "type": "parcoords"
           }
          ],
          "pie": [
           {
            "automargin": true,
            "type": "pie"
           }
          ],
          "scatter": [
           {
            "marker": {
             "colorbar": {
              "outlinewidth": 0,
              "ticks": ""
             }
            },
            "type": "scatter"
           }
          ],
          "scatter3d": [
           {
            "line": {
             "colorbar": {
              "outlinewidth": 0,
              "ticks": ""
             }
            },
            "marker": {
             "colorbar": {
              "outlinewidth": 0,
              "ticks": ""
             }
            },
            "type": "scatter3d"
           }
          ],
          "scattercarpet": [
           {
            "marker": {
             "colorbar": {
              "outlinewidth": 0,
              "ticks": ""
             }
            },
            "type": "scattercarpet"
           }
          ],
          "scattergeo": [
           {
            "marker": {
             "colorbar": {
              "outlinewidth": 0,
              "ticks": ""
             }
            },
            "type": "scattergeo"
           }
          ],
          "scattergl": [
           {
            "marker": {
             "colorbar": {
              "outlinewidth": 0,
              "ticks": ""
             }
            },
            "type": "scattergl"
           }
          ],
          "scattermapbox": [
           {
            "marker": {
             "colorbar": {
              "outlinewidth": 0,
              "ticks": ""
             }
            },
            "type": "scattermapbox"
           }
          ],
          "scatterpolar": [
           {
            "marker": {
             "colorbar": {
              "outlinewidth": 0,
              "ticks": ""
             }
            },
            "type": "scatterpolar"
           }
          ],
          "scatterpolargl": [
           {
            "marker": {
             "colorbar": {
              "outlinewidth": 0,
              "ticks": ""
             }
            },
            "type": "scatterpolargl"
           }
          ],
          "scatterternary": [
           {
            "marker": {
             "colorbar": {
              "outlinewidth": 0,
              "ticks": ""
             }
            },
            "type": "scatterternary"
           }
          ],
          "surface": [
           {
            "colorbar": {
             "outlinewidth": 0,
             "ticks": ""
            },
            "colorscale": [
             [
              0,
              "#0d0887"
             ],
             [
              0.1111111111111111,
              "#46039f"
             ],
             [
              0.2222222222222222,
              "#7201a8"
             ],
             [
              0.3333333333333333,
              "#9c179e"
             ],
             [
              0.4444444444444444,
              "#bd3786"
             ],
             [
              0.5555555555555556,
              "#d8576b"
             ],
             [
              0.6666666666666666,
              "#ed7953"
             ],
             [
              0.7777777777777778,
              "#fb9f3a"
             ],
             [
              0.8888888888888888,
              "#fdca26"
             ],
             [
              1,
              "#f0f921"
             ]
            ],
            "type": "surface"
           }
          ],
          "table": [
           {
            "cells": {
             "fill": {
              "color": "#EBF0F8"
             },
             "line": {
              "color": "white"
             }
            },
            "header": {
             "fill": {
              "color": "#C8D4E3"
             },
             "line": {
              "color": "white"
             }
            },
            "type": "table"
           }
          ]
         },
         "layout": {
          "annotationdefaults": {
           "arrowcolor": "#2a3f5f",
           "arrowhead": 0,
           "arrowwidth": 1
          },
          "autotypenumbers": "strict",
          "coloraxis": {
           "colorbar": {
            "outlinewidth": 0,
            "ticks": ""
           }
          },
          "colorscale": {
           "diverging": [
            [
             0,
             "#8e0152"
            ],
            [
             0.1,
             "#c51b7d"
            ],
            [
             0.2,
             "#de77ae"
            ],
            [
             0.3,
             "#f1b6da"
            ],
            [
             0.4,
             "#fde0ef"
            ],
            [
             0.5,
             "#f7f7f7"
            ],
            [
             0.6,
             "#e6f5d0"
            ],
            [
             0.7,
             "#b8e186"
            ],
            [
             0.8,
             "#7fbc41"
            ],
            [
             0.9,
             "#4d9221"
            ],
            [
             1,
             "#276419"
            ]
           ],
           "sequential": [
            [
             0,
             "#0d0887"
            ],
            [
             0.1111111111111111,
             "#46039f"
            ],
            [
             0.2222222222222222,
             "#7201a8"
            ],
            [
             0.3333333333333333,
             "#9c179e"
            ],
            [
             0.4444444444444444,
             "#bd3786"
            ],
            [
             0.5555555555555556,
             "#d8576b"
            ],
            [
             0.6666666666666666,
             "#ed7953"
            ],
            [
             0.7777777777777778,
             "#fb9f3a"
            ],
            [
             0.8888888888888888,
             "#fdca26"
            ],
            [
             1,
             "#f0f921"
            ]
           ],
           "sequentialminus": [
            [
             0,
             "#0d0887"
            ],
            [
             0.1111111111111111,
             "#46039f"
            ],
            [
             0.2222222222222222,
             "#7201a8"
            ],
            [
             0.3333333333333333,
             "#9c179e"
            ],
            [
             0.4444444444444444,
             "#bd3786"
            ],
            [
             0.5555555555555556,
             "#d8576b"
            ],
            [
             0.6666666666666666,
             "#ed7953"
            ],
            [
             0.7777777777777778,
             "#fb9f3a"
            ],
            [
             0.8888888888888888,
             "#fdca26"
            ],
            [
             1,
             "#f0f921"
            ]
           ]
          },
          "colorway": [
           "#636efa",
           "#EF553B",
           "#00cc96",
           "#ab63fa",
           "#FFA15A",
           "#19d3f3",
           "#FF6692",
           "#B6E880",
           "#FF97FF",
           "#FECB52"
          ],
          "font": {
           "color": "#2a3f5f"
          },
          "geo": {
           "bgcolor": "white",
           "lakecolor": "white",
           "landcolor": "#E5ECF6",
           "showlakes": true,
           "showland": true,
           "subunitcolor": "white"
          },
          "hoverlabel": {
           "align": "left"
          },
          "hovermode": "closest",
          "mapbox": {
           "style": "light"
          },
          "paper_bgcolor": "white",
          "plot_bgcolor": "#E5ECF6",
          "polar": {
           "angularaxis": {
            "gridcolor": "white",
            "linecolor": "white",
            "ticks": ""
           },
           "bgcolor": "#E5ECF6",
           "radialaxis": {
            "gridcolor": "white",
            "linecolor": "white",
            "ticks": ""
           }
          },
          "scene": {
           "xaxis": {
            "backgroundcolor": "#E5ECF6",
            "gridcolor": "white",
            "gridwidth": 2,
            "linecolor": "white",
            "showbackground": true,
            "ticks": "",
            "zerolinecolor": "white"
           },
           "yaxis": {
            "backgroundcolor": "#E5ECF6",
            "gridcolor": "white",
            "gridwidth": 2,
            "linecolor": "white",
            "showbackground": true,
            "ticks": "",
            "zerolinecolor": "white"
           },
           "zaxis": {
            "backgroundcolor": "#E5ECF6",
            "gridcolor": "white",
            "gridwidth": 2,
            "linecolor": "white",
            "showbackground": true,
            "ticks": "",
            "zerolinecolor": "white"
           }
          },
          "shapedefaults": {
           "line": {
            "color": "#2a3f5f"
           }
          },
          "ternary": {
           "aaxis": {
            "gridcolor": "white",
            "linecolor": "white",
            "ticks": ""
           },
           "baxis": {
            "gridcolor": "white",
            "linecolor": "white",
            "ticks": ""
           },
           "bgcolor": "#E5ECF6",
           "caxis": {
            "gridcolor": "white",
            "linecolor": "white",
            "ticks": ""
           }
          },
          "title": {
           "x": 0.05
          },
          "xaxis": {
           "automargin": true,
           "gridcolor": "white",
           "linecolor": "white",
           "ticks": "",
           "title": {
            "standoff": 15
           },
           "zerolinecolor": "white",
           "zerolinewidth": 2
          },
          "yaxis": {
           "automargin": true,
           "gridcolor": "white",
           "linecolor": "white",
           "ticks": "",
           "title": {
            "standoff": 15
           },
           "zerolinecolor": "white",
           "zerolinewidth": 2
          }
         }
        },
        "xaxis": {
         "gridcolor": "rgba(0,0,50,0.05)",
         "linecolor": "rgba(0,0,25,0.18)",
         "linewidth": 2,
         "mirror": true,
         "showgrid": true,
         "showline": true,
         "spikecolor": "rgba(0,0,25,0.18)",
         "tickcolor": "rgba(36,28,1,1)",
         "tickfont": {
          "family": "Fira Mono"
         },
         "title": {
          "font": {
           "family": "Fira Mono"
          },
          "text": "wavelength"
         },
         "zerolinecolor": "rgba(0,0,25,0.18)"
        },
        "yaxis": {
         "gridcolor": "rgba(0,0,50,0.05)",
         "linecolor": "rgba(0,0,25,0.18)",
         "linewidth": 2,
         "mirror": true,
         "range": [
          0,
          0.2790598924687113
         ],
         "showgrid": true,
         "showline": true,
         "spikecolor": "rgba(0,0,25,0.18)",
         "tickcolor": "rgba(36,28,1,1)",
         "tickfont": {
          "family": "Fira Mono"
         },
         "title": {
          "font": {
           "family": "Fira Mono"
          },
          "text": "reflectance"
         },
         "zerolinecolor": "rgba(0,0,25,0.18)"
        }
       }
      },
      "text/html": [
       "<div>                            <div id=\"0e146a4f-58fb-4528-9d69-dd38972ea3c5\" class=\"plotly-graph-div\" style=\"height:525px; width:100%;\"></div>            <script type=\"text/javascript\">                require([\"plotly\"], function(Plotly) {                    window.PLOTLYENV=window.PLOTLYENV || {};                                    if (document.getElementById(\"0e146a4f-58fb-4528-9d69-dd38972ea3c5\")) {                    Plotly.newPlot(                        \"0e146a4f-58fb-4528-9d69-dd38972ea3c5\",                        [{\"error_y\": {\"array\": [0.014147711508133308, 0.019889677390324264, 0.018923855464249642, 0.024676828874356828, 0.0347217334943703, 0.019043202251775047, 0.020444620603265736, 0.030593235728862234, 0.022656282555556607, 0.029384727032860027, 0.02993787299841839, 0.03345948645920791], \"visible\": true}, \"line\": {\"color\": \"#fa8072\"}, \"mode\": \"lines+markers\", \"text\": [\"L2_R2, 446\", \"L0B_R0B, 495\", \"L1_R1, 527\", \"R0G_L0G, 552\", \"R0R_L0R, 639\", \"L4, 676\", \"L3, 751\", \"R3, 805\", \"L5, 867\", \"R4, 908\", \"R5, 937\", \"L6_R6, 1012\"], \"type\": \"scatter\", \"x\": [446, 495, 527, 552, 639, 676, 751, 805, 867, 908, 937, 1012], \"y\": [0.06810384985388891, 0.07983089003995478, 0.09198149022527269, 0.110632477415844, 0.16653726919305725, 0.17693180379584156, 0.20125639763127076, 0.2109560426148224, 0.19252591047487452, 0.20071708031485136, 0.20096023406221142, 0.1880805759704133]}, {\"error_y\": {\"array\": [0.014147711508133308, 0.019889677390324264, 0.018923855464249642, 0.024676828874356828, 0.0347217334943703, 0.019043202251775047, 0.020444620603265736, 0.030593235728862234, 0.022656282555556607, 0.029384727032860027, 0.02993787299841839, 0.03345948645920791], \"visible\": true}, \"line\": {\"color\": \"#fa8072\"}, \"mode\": \"lines+markers\", \"text\": [\"L2_R2, 446\", \"L0B_R0B, 495\", \"L1_R1, 527\", \"R0G_L0G, 552\", \"R0R_L0R, 639\", \"L4, 676\", \"L3, 751\", \"R3, 805\", \"L5, 867\", \"R4, 908\", \"R5, 937\", \"L6_R6, 1012\"], \"type\": \"scatter\", \"x\": [446, 495, 527, 552, 639, 676, 751, 805, 867, 908, 937, 1012], \"y\": [0.06810384985388891, 0.07983089003995478, 0.09198149022527269, 0.110632477415844, 0.16653726919305725, 0.17693180379584156, 0.20125639763127076, 0.2109560426148224, 0.19252591047487452, 0.20071708031485136, 0.20096023406221142, 0.1880805759704133]}, {\"error_y\": {\"array\": [0.014147711508133308, 0.019889677390324264, 0.018923855464249642, 0.024676828874356828, 0.0347217334943703, 0.019043202251775047, 0.020444620603265736, 0.030593235728862234, 0.022656282555556607, 0.029384727032860027, 0.02993787299841839, 0.03345948645920791], \"visible\": true}, \"line\": {\"color\": \"#fa8072\"}, \"mode\": \"lines+markers\", \"text\": [\"L2_R2, 446\", \"L0B_R0B, 495\", \"L1_R1, 527\", \"R0G_L0G, 552\", \"R0R_L0R, 639\", \"L4, 676\", \"L3, 751\", \"R3, 805\", \"L5, 867\", \"R4, 908\", \"R5, 937\", \"L6_R6, 1012\"], \"type\": \"scatter\", \"x\": [446, 495, 527, 552, 639, 676, 751, 805, 867, 908, 937, 1012], \"y\": [0.06810384985388891, 0.07983089003995478, 0.09198149022527269, 0.110632477415844, 0.16653726919305725, 0.17693180379584156, 0.20125639763127076, 0.2109560426148224, 0.19252591047487452, 0.20071708031485136, 0.20096023406221142, 0.1880805759704133]}, {\"error_y\": {\"array\": [0.014147711508133308, 0.019889677390324264, 0.018923855464249642, 0.024676828874356828, 0.0347217334943703, 0.019043202251775047, 0.020444620603265736, 0.030593235728862234, 0.022656282555556607, 0.029384727032860027, 0.02993787299841839, 0.03345948645920791], \"visible\": true}, \"line\": {\"color\": \"#fa8072\"}, \"mode\": \"lines+markers\", \"text\": [\"L2_R2, 446\", \"L0B_R0B, 495\", \"L1_R1, 527\", \"R0G_L0G, 552\", \"R0R_L0R, 639\", \"L4, 676\", \"L3, 751\", \"R3, 805\", \"L5, 867\", \"R4, 908\", \"R5, 937\", \"L6_R6, 1012\"], \"type\": \"scatter\", \"x\": [446, 495, 527, 552, 639, 676, 751, 805, 867, 908, 937, 1012], \"y\": [0.06810384985388891, 0.07983089003995478, 0.09198149022527269, 0.110632477415844, 0.16653726919305725, 0.17693180379584156, 0.20125639763127076, 0.2109560426148224, 0.19252591047487452, 0.20071708031485136, 0.20096023406221142, 0.1880805759704133]}, {\"error_y\": {\"array\": [0.014147711508133308, 0.019889677390324264, 0.018923855464249642, 0.024676828874356828, 0.0347217334943703, 0.019043202251775047, 0.020444620603265736, 0.030593235728862234, 0.022656282555556607, 0.029384727032860027, 0.02993787299841839, 0.03345948645920791], \"visible\": true}, \"line\": {\"color\": \"#fa8072\"}, \"mode\": \"lines+markers\", \"text\": [\"L2_R2, 446\", \"L0B_R0B, 495\", \"L1_R1, 527\", \"R0G_L0G, 552\", \"R0R_L0R, 639\", \"L4, 676\", \"L3, 751\", \"R3, 805\", \"L5, 867\", \"R4, 908\", \"R5, 937\", \"L6_R6, 1012\"], \"type\": \"scatter\", \"x\": [446, 495, 527, 552, 639, 676, 751, 805, 867, 908, 937, 1012], \"y\": [0.06810384985388891, 0.07983089003995478, 0.09198149022527269, 0.110632477415844, 0.16653726919305725, 0.17693180379584156, 0.20125639763127076, 0.2109560426148224, 0.19252591047487452, 0.20071708031485136, 0.20096023406221142, 0.1880805759704133]}, {\"error_y\": {\"array\": [0.014147711508133308, 0.019889677390324264, 0.018923855464249642, 0.024676828874356828, 0.0347217334943703, 0.019043202251775047, 0.020444620603265736, 0.030593235728862234, 0.022656282555556607, 0.029384727032860027, 0.02993787299841839, 0.03345948645920791], \"visible\": true}, \"line\": {\"color\": \"#fa8072\"}, \"mode\": \"lines+markers\", \"text\": [\"L2_R2, 446\", \"L0B_R0B, 495\", \"L1_R1, 527\", \"R0G_L0G, 552\", \"R0R_L0R, 639\", \"L4, 676\", \"L3, 751\", \"R3, 805\", \"L5, 867\", \"R4, 908\", \"R5, 937\", \"L6_R6, 1012\"], \"type\": \"scatter\", \"x\": [446, 495, 527, 552, 639, 676, 751, 805, 867, 908, 937, 1012], \"y\": [0.06810384985388891, 0.07983089003995478, 0.09198149022527269, 0.110632477415844, 0.16653726919305725, 0.17693180379584156, 0.20125639763127076, 0.2109560426148224, 0.19252591047487452, 0.20071708031485136, 0.20096023406221142, 0.1880805759704133]}, {\"error_y\": {\"array\": [0.014147711508133308, 0.019889677390324264, 0.018923855464249642, 0.024676828874356828, 0.0347217334943703, 0.019043202251775047, 0.020444620603265736, 0.030593235728862234, 0.022656282555556607, 0.029384727032860027, 0.02993787299841839, 0.03345948645920791], \"visible\": true}, \"line\": {\"color\": \"#fa8072\"}, \"mode\": \"lines+markers\", \"text\": [\"L2_R2, 446\", \"L0B_R0B, 495\", \"L1_R1, 527\", \"R0G_L0G, 552\", \"R0R_L0R, 639\", \"L4, 676\", \"L3, 751\", \"R3, 805\", \"L5, 867\", \"R4, 908\", \"R5, 937\", \"L6_R6, 1012\"], \"type\": \"scatter\", \"x\": [446, 495, 527, 552, 639, 676, 751, 805, 867, 908, 937, 1012], \"y\": [0.06810384985388891, 0.07983089003995478, 0.09198149022527269, 0.110632477415844, 0.16653726919305725, 0.17693180379584156, 0.20125639763127076, 0.2109560426148224, 0.19252591047487452, 0.20071708031485136, 0.20096023406221142, 0.1880805759704133]}],                        {\"margin\": {\"b\": 0, \"l\": 10, \"r\": 10, \"t\": 25}, \"paper_bgcolor\": \"rgba(254,252,245,1)\", \"plot_bgcolor\": \"rgba(0,0,50,0.05)\", \"template\": {\"data\": {\"bar\": [{\"error_x\": {\"color\": \"#2a3f5f\"}, \"error_y\": {\"color\": \"#2a3f5f\"}, \"marker\": {\"line\": {\"color\": \"#E5ECF6\", \"width\": 0.5}}, \"type\": \"bar\"}], \"barpolar\": [{\"marker\": {\"line\": {\"color\": \"#E5ECF6\", \"width\": 0.5}}, \"type\": \"barpolar\"}], \"carpet\": [{\"aaxis\": {\"endlinecolor\": \"#2a3f5f\", \"gridcolor\": \"white\", \"linecolor\": \"white\", \"minorgridcolor\": \"white\", \"startlinecolor\": \"#2a3f5f\"}, \"baxis\": {\"endlinecolor\": \"#2a3f5f\", \"gridcolor\": \"white\", \"linecolor\": \"white\", \"minorgridcolor\": \"white\", \"startlinecolor\": \"#2a3f5f\"}, \"type\": \"carpet\"}], \"choropleth\": [{\"colorbar\": {\"outlinewidth\": 0, \"ticks\": \"\"}, \"type\": \"choropleth\"}], \"contour\": [{\"colorbar\": {\"outlinewidth\": 0, \"ticks\": \"\"}, \"colorscale\": [[0.0, \"#0d0887\"], [0.1111111111111111, \"#46039f\"], [0.2222222222222222, \"#7201a8\"], [0.3333333333333333, \"#9c179e\"], [0.4444444444444444, \"#bd3786\"], [0.5555555555555556, \"#d8576b\"], [0.6666666666666666, \"#ed7953\"], [0.7777777777777778, \"#fb9f3a\"], [0.8888888888888888, \"#fdca26\"], [1.0, \"#f0f921\"]], \"type\": \"contour\"}], \"contourcarpet\": [{\"colorbar\": {\"outlinewidth\": 0, \"ticks\": \"\"}, \"type\": \"contourcarpet\"}], \"heatmap\": [{\"colorbar\": {\"outlinewidth\": 0, \"ticks\": \"\"}, \"colorscale\": [[0.0, \"#0d0887\"], [0.1111111111111111, \"#46039f\"], [0.2222222222222222, \"#7201a8\"], [0.3333333333333333, \"#9c179e\"], [0.4444444444444444, \"#bd3786\"], [0.5555555555555556, \"#d8576b\"], [0.6666666666666666, \"#ed7953\"], [0.7777777777777778, \"#fb9f3a\"], [0.8888888888888888, \"#fdca26\"], [1.0, \"#f0f921\"]], \"type\": \"heatmap\"}], \"heatmapgl\": [{\"colorbar\": {\"outlinewidth\": 0, \"ticks\": \"\"}, \"colorscale\": [[0.0, \"#0d0887\"], [0.1111111111111111, \"#46039f\"], [0.2222222222222222, \"#7201a8\"], [0.3333333333333333, \"#9c179e\"], [0.4444444444444444, \"#bd3786\"], [0.5555555555555556, \"#d8576b\"], [0.6666666666666666, \"#ed7953\"], [0.7777777777777778, \"#fb9f3a\"], [0.8888888888888888, \"#fdca26\"], [1.0, \"#f0f921\"]], \"type\": \"heatmapgl\"}], \"histogram\": [{\"marker\": {\"colorbar\": {\"outlinewidth\": 0, \"ticks\": \"\"}}, \"type\": \"histogram\"}], \"histogram2d\": [{\"colorbar\": {\"outlinewidth\": 0, \"ticks\": \"\"}, \"colorscale\": [[0.0, \"#0d0887\"], [0.1111111111111111, \"#46039f\"], [0.2222222222222222, \"#7201a8\"], [0.3333333333333333, \"#9c179e\"], [0.4444444444444444, \"#bd3786\"], [0.5555555555555556, \"#d8576b\"], [0.6666666666666666, \"#ed7953\"], [0.7777777777777778, \"#fb9f3a\"], [0.8888888888888888, \"#fdca26\"], [1.0, \"#f0f921\"]], \"type\": \"histogram2d\"}], \"histogram2dcontour\": [{\"colorbar\": {\"outlinewidth\": 0, \"ticks\": \"\"}, \"colorscale\": [[0.0, \"#0d0887\"], [0.1111111111111111, \"#46039f\"], [0.2222222222222222, \"#7201a8\"], [0.3333333333333333, \"#9c179e\"], [0.4444444444444444, \"#bd3786\"], [0.5555555555555556, \"#d8576b\"], [0.6666666666666666, \"#ed7953\"], [0.7777777777777778, \"#fb9f3a\"], [0.8888888888888888, \"#fdca26\"], [1.0, \"#f0f921\"]], \"type\": \"histogram2dcontour\"}], \"mesh3d\": [{\"colorbar\": {\"outlinewidth\": 0, \"ticks\": \"\"}, \"type\": \"mesh3d\"}], \"parcoords\": [{\"line\": {\"colorbar\": {\"outlinewidth\": 0, \"ticks\": \"\"}}, \"type\": \"parcoords\"}], \"pie\": [{\"automargin\": true, \"type\": \"pie\"}], \"scatter\": [{\"marker\": {\"colorbar\": {\"outlinewidth\": 0, \"ticks\": \"\"}}, \"type\": \"scatter\"}], \"scatter3d\": [{\"line\": {\"colorbar\": {\"outlinewidth\": 0, \"ticks\": \"\"}}, \"marker\": {\"colorbar\": {\"outlinewidth\": 0, \"ticks\": \"\"}}, \"type\": \"scatter3d\"}], \"scattercarpet\": [{\"marker\": {\"colorbar\": {\"outlinewidth\": 0, \"ticks\": \"\"}}, \"type\": \"scattercarpet\"}], \"scattergeo\": [{\"marker\": {\"colorbar\": {\"outlinewidth\": 0, \"ticks\": \"\"}}, \"type\": \"scattergeo\"}], \"scattergl\": [{\"marker\": {\"colorbar\": {\"outlinewidth\": 0, \"ticks\": \"\"}}, \"type\": \"scattergl\"}], \"scattermapbox\": [{\"marker\": {\"colorbar\": {\"outlinewidth\": 0, \"ticks\": \"\"}}, \"type\": \"scattermapbox\"}], \"scatterpolar\": [{\"marker\": {\"colorbar\": {\"outlinewidth\": 0, \"ticks\": \"\"}}, \"type\": \"scatterpolar\"}], \"scatterpolargl\": [{\"marker\": {\"colorbar\": {\"outlinewidth\": 0, \"ticks\": \"\"}}, \"type\": \"scatterpolargl\"}], \"scatterternary\": [{\"marker\": {\"colorbar\": {\"outlinewidth\": 0, \"ticks\": \"\"}}, \"type\": \"scatterternary\"}], \"surface\": [{\"colorbar\": {\"outlinewidth\": 0, \"ticks\": \"\"}, \"colorscale\": [[0.0, \"#0d0887\"], [0.1111111111111111, \"#46039f\"], [0.2222222222222222, \"#7201a8\"], [0.3333333333333333, \"#9c179e\"], [0.4444444444444444, \"#bd3786\"], [0.5555555555555556, \"#d8576b\"], [0.6666666666666666, \"#ed7953\"], [0.7777777777777778, \"#fb9f3a\"], [0.8888888888888888, \"#fdca26\"], [1.0, \"#f0f921\"]], \"type\": \"surface\"}], \"table\": [{\"cells\": {\"fill\": {\"color\": \"#EBF0F8\"}, \"line\": {\"color\": \"white\"}}, \"header\": {\"fill\": {\"color\": \"#C8D4E3\"}, \"line\": {\"color\": \"white\"}}, \"type\": \"table\"}]}, \"layout\": {\"annotationdefaults\": {\"arrowcolor\": \"#2a3f5f\", \"arrowhead\": 0, \"arrowwidth\": 1}, \"autotypenumbers\": \"strict\", \"coloraxis\": {\"colorbar\": {\"outlinewidth\": 0, \"ticks\": \"\"}}, \"colorscale\": {\"diverging\": [[0, \"#8e0152\"], [0.1, \"#c51b7d\"], [0.2, \"#de77ae\"], [0.3, \"#f1b6da\"], [0.4, \"#fde0ef\"], [0.5, \"#f7f7f7\"], [0.6, \"#e6f5d0\"], [0.7, \"#b8e186\"], [0.8, \"#7fbc41\"], [0.9, \"#4d9221\"], [1, \"#276419\"]], \"sequential\": [[0.0, \"#0d0887\"], [0.1111111111111111, \"#46039f\"], [0.2222222222222222, \"#7201a8\"], [0.3333333333333333, \"#9c179e\"], [0.4444444444444444, \"#bd3786\"], [0.5555555555555556, \"#d8576b\"], [0.6666666666666666, \"#ed7953\"], [0.7777777777777778, \"#fb9f3a\"], [0.8888888888888888, \"#fdca26\"], [1.0, \"#f0f921\"]], \"sequentialminus\": [[0.0, \"#0d0887\"], [0.1111111111111111, \"#46039f\"], [0.2222222222222222, \"#7201a8\"], [0.3333333333333333, \"#9c179e\"], [0.4444444444444444, \"#bd3786\"], [0.5555555555555556, \"#d8576b\"], [0.6666666666666666, \"#ed7953\"], [0.7777777777777778, \"#fb9f3a\"], [0.8888888888888888, \"#fdca26\"], [1.0, \"#f0f921\"]]}, \"colorway\": [\"#636efa\", \"#EF553B\", \"#00cc96\", \"#ab63fa\", \"#FFA15A\", \"#19d3f3\", \"#FF6692\", \"#B6E880\", \"#FF97FF\", \"#FECB52\"], \"font\": {\"color\": \"#2a3f5f\"}, \"geo\": {\"bgcolor\": \"white\", \"lakecolor\": \"white\", \"landcolor\": \"#E5ECF6\", \"showlakes\": true, \"showland\": true, \"subunitcolor\": \"white\"}, \"hoverlabel\": {\"align\": \"left\"}, \"hovermode\": \"closest\", \"mapbox\": {\"style\": \"light\"}, \"paper_bgcolor\": \"white\", \"plot_bgcolor\": \"#E5ECF6\", \"polar\": {\"angularaxis\": {\"gridcolor\": \"white\", \"linecolor\": \"white\", \"ticks\": \"\"}, \"bgcolor\": \"#E5ECF6\", \"radialaxis\": {\"gridcolor\": \"white\", \"linecolor\": \"white\", \"ticks\": \"\"}}, \"scene\": {\"xaxis\": {\"backgroundcolor\": \"#E5ECF6\", \"gridcolor\": \"white\", \"gridwidth\": 2, \"linecolor\": \"white\", \"showbackground\": true, \"ticks\": \"\", \"zerolinecolor\": \"white\"}, \"yaxis\": {\"backgroundcolor\": \"#E5ECF6\", \"gridcolor\": \"white\", \"gridwidth\": 2, \"linecolor\": \"white\", \"showbackground\": true, \"ticks\": \"\", \"zerolinecolor\": \"white\"}, \"zaxis\": {\"backgroundcolor\": \"#E5ECF6\", \"gridcolor\": \"white\", \"gridwidth\": 2, \"linecolor\": \"white\", \"showbackground\": true, \"ticks\": \"\", \"zerolinecolor\": \"white\"}}, \"shapedefaults\": {\"line\": {\"color\": \"#2a3f5f\"}}, \"ternary\": {\"aaxis\": {\"gridcolor\": \"white\", \"linecolor\": \"white\", \"ticks\": \"\"}, \"baxis\": {\"gridcolor\": \"white\", \"linecolor\": \"white\", \"ticks\": \"\"}, \"bgcolor\": \"#E5ECF6\", \"caxis\": {\"gridcolor\": \"white\", \"linecolor\": \"white\", \"ticks\": \"\"}}, \"title\": {\"x\": 0.05}, \"xaxis\": {\"automargin\": true, \"gridcolor\": \"white\", \"linecolor\": \"white\", \"ticks\": \"\", \"title\": {\"standoff\": 15}, \"zerolinecolor\": \"white\", \"zerolinewidth\": 2}, \"yaxis\": {\"automargin\": true, \"gridcolor\": \"white\", \"linecolor\": \"white\", \"ticks\": \"\", \"title\": {\"standoff\": 15}, \"zerolinecolor\": \"white\", \"zerolinewidth\": 2}}}, \"xaxis\": {\"gridcolor\": \"rgba(0,0,50,0.05)\", \"linecolor\": \"rgba(0,0,25,0.18)\", \"linewidth\": 2, \"mirror\": true, \"showgrid\": true, \"showline\": true, \"spikecolor\": \"rgba(0,0,25,0.18)\", \"tickcolor\": \"rgba(36,28,1,1)\", \"tickfont\": {\"family\": \"Fira Mono\"}, \"title\": {\"font\": {\"family\": \"Fira Mono\"}, \"text\": \"wavelength\"}, \"zerolinecolor\": \"rgba(0,0,25,0.18)\"}, \"yaxis\": {\"gridcolor\": \"rgba(0,0,50,0.05)\", \"linecolor\": \"rgba(0,0,25,0.18)\", \"linewidth\": 2, \"mirror\": true, \"range\": [0, 0.2790598924687113], \"showgrid\": true, \"showline\": true, \"spikecolor\": \"rgba(0,0,25,0.18)\", \"tickcolor\": \"rgba(36,28,1,1)\", \"tickfont\": {\"family\": \"Fira Mono\"}, \"title\": {\"font\": {\"family\": \"Fira Mono\"}, \"text\": \"reflectance\"}, \"zerolinecolor\": \"rgba(0,0,25,0.18)\"}},                        {\"responsive\": true}                    ).then(function(){\n",
       "                            \n",
       "var gd = document.getElementById('0e146a4f-58fb-4528-9d69-dd38972ea3c5');\n",
       "var x = new MutationObserver(function (mutations, observer) {{\n",
       "        var display = window.getComputedStyle(gd).display;\n",
       "        if (!display || display === 'none') {{\n",
       "            console.log([gd, 'removed!']);\n",
       "            Plotly.purge(gd);\n",
       "            observer.disconnect();\n",
       "        }}\n",
       "}});\n",
       "\n",
       "// Listen for the removal of the full notebook cells\n",
       "var notebookContainer = gd.closest('#notebook-container');\n",
       "if (notebookContainer) {{\n",
       "    x.observe(notebookContainer, {childList: true});\n",
       "}}\n",
       "\n",
       "// Listen for the clearing of the current output cell\n",
       "var outputEl = gd.closest('.output');\n",
       "if (outputEl) {{\n",
       "    x.observe(outputEl, {childList: true});\n",
       "}}\n",
       "\n",
       "                        })                };                });            </script>        </div>"
      ]
     },
     "metadata": {},
     "output_type": "display_data"
    }
   ],
   "source": [
    "%time fig.add_trace(scatter)"
   ]
  },
  {
   "cell_type": "code",
   "execution_count": 93,
   "metadata": {},
   "outputs": [
    {
     "data": {
      "text/plain": [
       "Layout({\n",
       "    'margin': {'b': 0, 'l': 10, 'r': 10, 't': 25},\n",
       "    'paper_bgcolor': 'rgba(254,252,245,1)',\n",
       "    'plot_bgcolor': 'rgba(0,0,50,0.05)',\n",
       "    'template': '...',\n",
       "    'xaxis': {'gridcolor': 'rgba(0,0,50,0.05)',\n",
       "              'linecolor': 'rgba(0,0,25,0.18)',\n",
       "              'linewidth': 2,\n",
       "              'mirror': True,\n",
       "              'showgrid': True,\n",
       "              'showline': True,\n",
       "              'spikecolor': 'rgba(0,0,25,0.18)',\n",
       "              'tickcolor': 'rgba(36,28,1,1)',\n",
       "              'tickfont': {'family': 'Fira Mono'},\n",
       "              'title': {'font': {'family': 'Fira Mono'}, 'text': 'wavelength'},\n",
       "              'zerolinecolor': 'rgba(0,0,25,0.18)'},\n",
       "    'yaxis': {'gridcolor': 'rgba(0,0,50,0.05)',\n",
       "              'linecolor': 'rgba(0,0,25,0.18)',\n",
       "              'linewidth': 2,\n",
       "              'mirror': True,\n",
       "              'range': [0, 0.2790598924687113],\n",
       "              'showgrid': True,\n",
       "              'showline': True,\n",
       "              'spikecolor': 'rgba(0,0,25,0.18)',\n",
       "              'tickcolor': 'rgba(36,28,1,1)',\n",
       "              'tickfont': {'family': 'Fira Mono'},\n",
       "              'title': {'font': {'family': 'Fira Mono'}, 'text': 'reflectance'},\n",
       "              'zerolinecolor': 'rgba(0,0,25,0.18)'}\n",
       "})"
      ]
     },
     "execution_count": 93,
     "metadata": {},
     "output_type": "execute_result"
    }
   ],
   "source": [
    "fig.layout"
   ]
  },
  {
   "cell_type": "code",
   "execution_count": 90,
   "metadata": {},
   "outputs": [
    {
     "name": "stdout",
     "output_type": "stream",
     "text": [
      "CPU times: user 1.64 ms, sys: 281 µs, total: 1.92 ms\n",
      "Wall time: 1.93 ms\n",
      "CPU times: user 3.25 ms, sys: 0 ns, total: 3.25 ms\n",
      "Wall time: 3.26 ms\n",
      "CPU times: user 2.88 ms, sys: 0 ns, total: 2.88 ms\n",
      "Wall time: 2.9 ms\n",
      "CPU times: user 579 µs, sys: 0 ns, total: 579 µs\n",
      "Wall time: 582 µs\n"
     ]
    },
    {
     "data": {
      "application/vnd.plotly.v1+json": {
       "config": {
        "plotlyServerURL": "https://plot.ly"
       },
       "data": [
        {
         "error_y": {
          "array": [
           0.014147711508133308,
           0.019889677390324264,
           0.018923855464249642,
           0.024676828874356828,
           0.0347217334943703,
           0.019043202251775047,
           0.020444620603265736,
           0.030593235728862234,
           0.022656282555556607,
           0.029384727032860027,
           0.02993787299841839,
           0.03345948645920791
          ],
          "visible": true
         },
         "line": {
          "color": "#fa8072"
         },
         "mode": "lines+markers",
         "text": [
          "L2_R2, 446",
          "L0B_R0B, 495",
          "L1_R1, 527",
          "R0G_L0G, 552",
          "R0R_L0R, 639",
          "L4, 676",
          "L3, 751",
          "R3, 805",
          "L5, 867",
          "R4, 908",
          "R5, 937",
          "L6_R6, 1012"
         ],
         "type": "scatter",
         "x": [
          446,
          495,
          527,
          552,
          639,
          676,
          751,
          805,
          867,
          908,
          937,
          1012
         ],
         "y": [
          0.06810384985388891,
          0.07983089003995478,
          0.09198149022527269,
          0.110632477415844,
          0.16653726919305725,
          0.17693180379584156,
          0.20125639763127076,
          0.2109560426148224,
          0.19252591047487452,
          0.20071708031485136,
          0.20096023406221142,
          0.1880805759704133
         ]
        },
        {
         "error_y": {
          "array": [
           0.014147711508133308,
           0.019889677390324264,
           0.018923855464249642,
           0.024676828874356828,
           0.0347217334943703,
           0.019043202251775047,
           0.020444620603265736,
           0.030593235728862234,
           0.022656282555556607,
           0.029384727032860027,
           0.02993787299841839,
           0.03345948645920791
          ],
          "visible": true
         },
         "line": {
          "color": "#fa8072"
         },
         "mode": "lines+markers",
         "text": [
          "L2_R2, 446",
          "L0B_R0B, 495",
          "L1_R1, 527",
          "R0G_L0G, 552",
          "R0R_L0R, 639",
          "L4, 676",
          "L3, 751",
          "R3, 805",
          "L5, 867",
          "R4, 908",
          "R5, 937",
          "L6_R6, 1012"
         ],
         "type": "scatter",
         "x": [
          446,
          495,
          527,
          552,
          639,
          676,
          751,
          805,
          867,
          908,
          937,
          1012
         ],
         "y": [
          0.06810384985388891,
          0.07983089003995478,
          0.09198149022527269,
          0.110632477415844,
          0.16653726919305725,
          0.17693180379584156,
          0.20125639763127076,
          0.2109560426148224,
          0.19252591047487452,
          0.20071708031485136,
          0.20096023406221142,
          0.1880805759704133
         ]
        },
        {
         "error_y": {
          "array": [
           0.014147711508133308,
           0.019889677390324264,
           0.018923855464249642,
           0.024676828874356828,
           0.0347217334943703,
           0.019043202251775047,
           0.020444620603265736,
           0.030593235728862234,
           0.022656282555556607,
           0.029384727032860027,
           0.02993787299841839,
           0.03345948645920791
          ],
          "visible": true
         },
         "line": {
          "color": "#fa8072"
         },
         "mode": "lines+markers",
         "text": [
          "L2_R2, 446",
          "L0B_R0B, 495",
          "L1_R1, 527",
          "R0G_L0G, 552",
          "R0R_L0R, 639",
          "L4, 676",
          "L3, 751",
          "R3, 805",
          "L5, 867",
          "R4, 908",
          "R5, 937",
          "L6_R6, 1012"
         ],
         "type": "scatter",
         "x": [
          446,
          495,
          527,
          552,
          639,
          676,
          751,
          805,
          867,
          908,
          937,
          1012
         ],
         "y": [
          0.06810384985388891,
          0.07983089003995478,
          0.09198149022527269,
          0.110632477415844,
          0.16653726919305725,
          0.17693180379584156,
          0.20125639763127076,
          0.2109560426148224,
          0.19252591047487452,
          0.20071708031485136,
          0.20096023406221142,
          0.1880805759704133
         ]
        },
        {
         "error_y": {
          "array": [
           0.014147711508133308,
           0.019889677390324264,
           0.018923855464249642,
           0.024676828874356828,
           0.0347217334943703,
           0.019043202251775047,
           0.020444620603265736,
           0.030593235728862234,
           0.022656282555556607,
           0.029384727032860027,
           0.02993787299841839,
           0.03345948645920791
          ],
          "visible": true
         },
         "line": {
          "color": "#fa8072"
         },
         "mode": "lines+markers",
         "text": [
          "L2_R2, 446",
          "L0B_R0B, 495",
          "L1_R1, 527",
          "R0G_L0G, 552",
          "R0R_L0R, 639",
          "L4, 676",
          "L3, 751",
          "R3, 805",
          "L5, 867",
          "R4, 908",
          "R5, 937",
          "L6_R6, 1012"
         ],
         "type": "scatter",
         "x": [
          446,
          495,
          527,
          552,
          639,
          676,
          751,
          805,
          867,
          908,
          937,
          1012
         ],
         "y": [
          0.06810384985388891,
          0.07983089003995478,
          0.09198149022527269,
          0.110632477415844,
          0.16653726919305725,
          0.17693180379584156,
          0.20125639763127076,
          0.2109560426148224,
          0.19252591047487452,
          0.20071708031485136,
          0.20096023406221142,
          0.1880805759704133
         ]
        },
        {
         "error_y": {
          "array": [
           0.014147711508133308,
           0.019889677390324264,
           0.018923855464249642,
           0.024676828874356828,
           0.0347217334943703,
           0.019043202251775047,
           0.020444620603265736,
           0.030593235728862234,
           0.022656282555556607,
           0.029384727032860027,
           0.02993787299841839,
           0.03345948645920791
          ],
          "visible": true
         },
         "line": {
          "color": "#fa8072"
         },
         "mode": "lines+markers",
         "text": [
          "L2_R2, 446",
          "L0B_R0B, 495",
          "L1_R1, 527",
          "R0G_L0G, 552",
          "R0R_L0R, 639",
          "L4, 676",
          "L3, 751",
          "R3, 805",
          "L5, 867",
          "R4, 908",
          "R5, 937",
          "L6_R6, 1012"
         ],
         "type": "scatter",
         "x": [
          446,
          495,
          527,
          552,
          639,
          676,
          751,
          805,
          867,
          908,
          937,
          1012
         ],
         "y": [
          0.06810384985388891,
          0.07983089003995478,
          0.09198149022527269,
          0.110632477415844,
          0.16653726919305725,
          0.17693180379584156,
          0.20125639763127076,
          0.2109560426148224,
          0.19252591047487452,
          0.20071708031485136,
          0.20096023406221142,
          0.1880805759704133
         ]
        },
        {
         "error_y": {
          "array": [
           0.014147711508133308,
           0.019889677390324264,
           0.018923855464249642,
           0.024676828874356828,
           0.0347217334943703,
           0.019043202251775047,
           0.020444620603265736,
           0.030593235728862234,
           0.022656282555556607,
           0.029384727032860027,
           0.02993787299841839,
           0.03345948645920791
          ],
          "visible": true
         },
         "line": {
          "color": "#fa8072"
         },
         "mode": "lines+markers",
         "text": [
          "L2_R2, 446",
          "L0B_R0B, 495",
          "L1_R1, 527",
          "R0G_L0G, 552",
          "R0R_L0R, 639",
          "L4, 676",
          "L3, 751",
          "R3, 805",
          "L5, 867",
          "R4, 908",
          "R5, 937",
          "L6_R6, 1012"
         ],
         "type": "scatter",
         "x": [
          446,
          495,
          527,
          552,
          639,
          676,
          751,
          805,
          867,
          908,
          937,
          1012
         ],
         "y": [
          0.06810384985388891,
          0.07983089003995478,
          0.09198149022527269,
          0.110632477415844,
          0.16653726919305725,
          0.17693180379584156,
          0.20125639763127076,
          0.2109560426148224,
          0.19252591047487452,
          0.20071708031485136,
          0.20096023406221142,
          0.1880805759704133
         ]
        },
        {
         "error_y": {
          "array": [
           0.014147711508133308,
           0.019889677390324264,
           0.018923855464249642,
           0.024676828874356828,
           0.0347217334943703,
           0.019043202251775047,
           0.020444620603265736,
           0.030593235728862234,
           0.022656282555556607,
           0.029384727032860027,
           0.02993787299841839,
           0.03345948645920791
          ],
          "visible": true
         },
         "line": {
          "color": "#fa8072"
         },
         "mode": "lines+markers",
         "text": [
          "L2_R2, 446",
          "L0B_R0B, 495",
          "L1_R1, 527",
          "R0G_L0G, 552",
          "R0R_L0R, 639",
          "L4, 676",
          "L3, 751",
          "R3, 805",
          "L5, 867",
          "R4, 908",
          "R5, 937",
          "L6_R6, 1012"
         ],
         "type": "scatter",
         "x": [
          446,
          495,
          527,
          552,
          639,
          676,
          751,
          805,
          867,
          908,
          937,
          1012
         ],
         "y": [
          0.06810384985388891,
          0.07983089003995478,
          0.09198149022527269,
          0.110632477415844,
          0.16653726919305725,
          0.17693180379584156,
          0.20125639763127076,
          0.2109560426148224,
          0.19252591047487452,
          0.20071708031485136,
          0.20096023406221142,
          0.1880805759704133
         ]
        }
       ],
       "layout": {
        "margin": {
         "b": 0,
         "l": 10,
         "r": 10,
         "t": 25
        },
        "paper_bgcolor": "rgba(254,252,245,1)",
        "plot_bgcolor": "rgba(0,0,50,0.05)",
        "template": {
         "data": {
          "bar": [
           {
            "error_x": {
             "color": "#2a3f5f"
            },
            "error_y": {
             "color": "#2a3f5f"
            },
            "marker": {
             "line": {
              "color": "#E5ECF6",
              "width": 0.5
             }
            },
            "type": "bar"
           }
          ],
          "barpolar": [
           {
            "marker": {
             "line": {
              "color": "#E5ECF6",
              "width": 0.5
             }
            },
            "type": "barpolar"
           }
          ],
          "carpet": [
           {
            "aaxis": {
             "endlinecolor": "#2a3f5f",
             "gridcolor": "white",
             "linecolor": "white",
             "minorgridcolor": "white",
             "startlinecolor": "#2a3f5f"
            },
            "baxis": {
             "endlinecolor": "#2a3f5f",
             "gridcolor": "white",
             "linecolor": "white",
             "minorgridcolor": "white",
             "startlinecolor": "#2a3f5f"
            },
            "type": "carpet"
           }
          ],
          "choropleth": [
           {
            "colorbar": {
             "outlinewidth": 0,
             "ticks": ""
            },
            "type": "choropleth"
           }
          ],
          "contour": [
           {
            "colorbar": {
             "outlinewidth": 0,
             "ticks": ""
            },
            "colorscale": [
             [
              0,
              "#0d0887"
             ],
             [
              0.1111111111111111,
              "#46039f"
             ],
             [
              0.2222222222222222,
              "#7201a8"
             ],
             [
              0.3333333333333333,
              "#9c179e"
             ],
             [
              0.4444444444444444,
              "#bd3786"
             ],
             [
              0.5555555555555556,
              "#d8576b"
             ],
             [
              0.6666666666666666,
              "#ed7953"
             ],
             [
              0.7777777777777778,
              "#fb9f3a"
             ],
             [
              0.8888888888888888,
              "#fdca26"
             ],
             [
              1,
              "#f0f921"
             ]
            ],
            "type": "contour"
           }
          ],
          "contourcarpet": [
           {
            "colorbar": {
             "outlinewidth": 0,
             "ticks": ""
            },
            "type": "contourcarpet"
           }
          ],
          "heatmap": [
           {
            "colorbar": {
             "outlinewidth": 0,
             "ticks": ""
            },
            "colorscale": [
             [
              0,
              "#0d0887"
             ],
             [
              0.1111111111111111,
              "#46039f"
             ],
             [
              0.2222222222222222,
              "#7201a8"
             ],
             [
              0.3333333333333333,
              "#9c179e"
             ],
             [
              0.4444444444444444,
              "#bd3786"
             ],
             [
              0.5555555555555556,
              "#d8576b"
             ],
             [
              0.6666666666666666,
              "#ed7953"
             ],
             [
              0.7777777777777778,
              "#fb9f3a"
             ],
             [
              0.8888888888888888,
              "#fdca26"
             ],
             [
              1,
              "#f0f921"
             ]
            ],
            "type": "heatmap"
           }
          ],
          "heatmapgl": [
           {
            "colorbar": {
             "outlinewidth": 0,
             "ticks": ""
            },
            "colorscale": [
             [
              0,
              "#0d0887"
             ],
             [
              0.1111111111111111,
              "#46039f"
             ],
             [
              0.2222222222222222,
              "#7201a8"
             ],
             [
              0.3333333333333333,
              "#9c179e"
             ],
             [
              0.4444444444444444,
              "#bd3786"
             ],
             [
              0.5555555555555556,
              "#d8576b"
             ],
             [
              0.6666666666666666,
              "#ed7953"
             ],
             [
              0.7777777777777778,
              "#fb9f3a"
             ],
             [
              0.8888888888888888,
              "#fdca26"
             ],
             [
              1,
              "#f0f921"
             ]
            ],
            "type": "heatmapgl"
           }
          ],
          "histogram": [
           {
            "marker": {
             "colorbar": {
              "outlinewidth": 0,
              "ticks": ""
             }
            },
            "type": "histogram"
           }
          ],
          "histogram2d": [
           {
            "colorbar": {
             "outlinewidth": 0,
             "ticks": ""
            },
            "colorscale": [
             [
              0,
              "#0d0887"
             ],
             [
              0.1111111111111111,
              "#46039f"
             ],
             [
              0.2222222222222222,
              "#7201a8"
             ],
             [
              0.3333333333333333,
              "#9c179e"
             ],
             [
              0.4444444444444444,
              "#bd3786"
             ],
             [
              0.5555555555555556,
              "#d8576b"
             ],
             [
              0.6666666666666666,
              "#ed7953"
             ],
             [
              0.7777777777777778,
              "#fb9f3a"
             ],
             [
              0.8888888888888888,
              "#fdca26"
             ],
             [
              1,
              "#f0f921"
             ]
            ],
            "type": "histogram2d"
           }
          ],
          "histogram2dcontour": [
           {
            "colorbar": {
             "outlinewidth": 0,
             "ticks": ""
            },
            "colorscale": [
             [
              0,
              "#0d0887"
             ],
             [
              0.1111111111111111,
              "#46039f"
             ],
             [
              0.2222222222222222,
              "#7201a8"
             ],
             [
              0.3333333333333333,
              "#9c179e"
             ],
             [
              0.4444444444444444,
              "#bd3786"
             ],
             [
              0.5555555555555556,
              "#d8576b"
             ],
             [
              0.6666666666666666,
              "#ed7953"
             ],
             [
              0.7777777777777778,
              "#fb9f3a"
             ],
             [
              0.8888888888888888,
              "#fdca26"
             ],
             [
              1,
              "#f0f921"
             ]
            ],
            "type": "histogram2dcontour"
           }
          ],
          "mesh3d": [
           {
            "colorbar": {
             "outlinewidth": 0,
             "ticks": ""
            },
            "type": "mesh3d"
           }
          ],
          "parcoords": [
           {
            "line": {
             "colorbar": {
              "outlinewidth": 0,
              "ticks": ""
             }
            },
            "type": "parcoords"
           }
          ],
          "pie": [
           {
            "automargin": true,
            "type": "pie"
           }
          ],
          "scatter": [
           {
            "marker": {
             "colorbar": {
              "outlinewidth": 0,
              "ticks": ""
             }
            },
            "type": "scatter"
           }
          ],
          "scatter3d": [
           {
            "line": {
             "colorbar": {
              "outlinewidth": 0,
              "ticks": ""
             }
            },
            "marker": {
             "colorbar": {
              "outlinewidth": 0,
              "ticks": ""
             }
            },
            "type": "scatter3d"
           }
          ],
          "scattercarpet": [
           {
            "marker": {
             "colorbar": {
              "outlinewidth": 0,
              "ticks": ""
             }
            },
            "type": "scattercarpet"
           }
          ],
          "scattergeo": [
           {
            "marker": {
             "colorbar": {
              "outlinewidth": 0,
              "ticks": ""
             }
            },
            "type": "scattergeo"
           }
          ],
          "scattergl": [
           {
            "marker": {
             "colorbar": {
              "outlinewidth": 0,
              "ticks": ""
             }
            },
            "type": "scattergl"
           }
          ],
          "scattermapbox": [
           {
            "marker": {
             "colorbar": {
              "outlinewidth": 0,
              "ticks": ""
             }
            },
            "type": "scattermapbox"
           }
          ],
          "scatterpolar": [
           {
            "marker": {
             "colorbar": {
              "outlinewidth": 0,
              "ticks": ""
             }
            },
            "type": "scatterpolar"
           }
          ],
          "scatterpolargl": [
           {
            "marker": {
             "colorbar": {
              "outlinewidth": 0,
              "ticks": ""
             }
            },
            "type": "scatterpolargl"
           }
          ],
          "scatterternary": [
           {
            "marker": {
             "colorbar": {
              "outlinewidth": 0,
              "ticks": ""
             }
            },
            "type": "scatterternary"
           }
          ],
          "surface": [
           {
            "colorbar": {
             "outlinewidth": 0,
             "ticks": ""
            },
            "colorscale": [
             [
              0,
              "#0d0887"
             ],
             [
              0.1111111111111111,
              "#46039f"
             ],
             [
              0.2222222222222222,
              "#7201a8"
             ],
             [
              0.3333333333333333,
              "#9c179e"
             ],
             [
              0.4444444444444444,
              "#bd3786"
             ],
             [
              0.5555555555555556,
              "#d8576b"
             ],
             [
              0.6666666666666666,
              "#ed7953"
             ],
             [
              0.7777777777777778,
              "#fb9f3a"
             ],
             [
              0.8888888888888888,
              "#fdca26"
             ],
             [
              1,
              "#f0f921"
             ]
            ],
            "type": "surface"
           }
          ],
          "table": [
           {
            "cells": {
             "fill": {
              "color": "#EBF0F8"
             },
             "line": {
              "color": "white"
             }
            },
            "header": {
             "fill": {
              "color": "#C8D4E3"
             },
             "line": {
              "color": "white"
             }
            },
            "type": "table"
           }
          ]
         },
         "layout": {
          "annotationdefaults": {
           "arrowcolor": "#2a3f5f",
           "arrowhead": 0,
           "arrowwidth": 1
          },
          "autotypenumbers": "strict",
          "coloraxis": {
           "colorbar": {
            "outlinewidth": 0,
            "ticks": ""
           }
          },
          "colorscale": {
           "diverging": [
            [
             0,
             "#8e0152"
            ],
            [
             0.1,
             "#c51b7d"
            ],
            [
             0.2,
             "#de77ae"
            ],
            [
             0.3,
             "#f1b6da"
            ],
            [
             0.4,
             "#fde0ef"
            ],
            [
             0.5,
             "#f7f7f7"
            ],
            [
             0.6,
             "#e6f5d0"
            ],
            [
             0.7,
             "#b8e186"
            ],
            [
             0.8,
             "#7fbc41"
            ],
            [
             0.9,
             "#4d9221"
            ],
            [
             1,
             "#276419"
            ]
           ],
           "sequential": [
            [
             0,
             "#0d0887"
            ],
            [
             0.1111111111111111,
             "#46039f"
            ],
            [
             0.2222222222222222,
             "#7201a8"
            ],
            [
             0.3333333333333333,
             "#9c179e"
            ],
            [
             0.4444444444444444,
             "#bd3786"
            ],
            [
             0.5555555555555556,
             "#d8576b"
            ],
            [
             0.6666666666666666,
             "#ed7953"
            ],
            [
             0.7777777777777778,
             "#fb9f3a"
            ],
            [
             0.8888888888888888,
             "#fdca26"
            ],
            [
             1,
             "#f0f921"
            ]
           ],
           "sequentialminus": [
            [
             0,
             "#0d0887"
            ],
            [
             0.1111111111111111,
             "#46039f"
            ],
            [
             0.2222222222222222,
             "#7201a8"
            ],
            [
             0.3333333333333333,
             "#9c179e"
            ],
            [
             0.4444444444444444,
             "#bd3786"
            ],
            [
             0.5555555555555556,
             "#d8576b"
            ],
            [
             0.6666666666666666,
             "#ed7953"
            ],
            [
             0.7777777777777778,
             "#fb9f3a"
            ],
            [
             0.8888888888888888,
             "#fdca26"
            ],
            [
             1,
             "#f0f921"
            ]
           ]
          },
          "colorway": [
           "#636efa",
           "#EF553B",
           "#00cc96",
           "#ab63fa",
           "#FFA15A",
           "#19d3f3",
           "#FF6692",
           "#B6E880",
           "#FF97FF",
           "#FECB52"
          ],
          "font": {
           "color": "#2a3f5f"
          },
          "geo": {
           "bgcolor": "white",
           "lakecolor": "white",
           "landcolor": "#E5ECF6",
           "showlakes": true,
           "showland": true,
           "subunitcolor": "white"
          },
          "hoverlabel": {
           "align": "left"
          },
          "hovermode": "closest",
          "mapbox": {
           "style": "light"
          },
          "paper_bgcolor": "white",
          "plot_bgcolor": "#E5ECF6",
          "polar": {
           "angularaxis": {
            "gridcolor": "white",
            "linecolor": "white",
            "ticks": ""
           },
           "bgcolor": "#E5ECF6",
           "radialaxis": {
            "gridcolor": "white",
            "linecolor": "white",
            "ticks": ""
           }
          },
          "scene": {
           "xaxis": {
            "backgroundcolor": "#E5ECF6",
            "gridcolor": "white",
            "gridwidth": 2,
            "linecolor": "white",
            "showbackground": true,
            "ticks": "",
            "zerolinecolor": "white"
           },
           "yaxis": {
            "backgroundcolor": "#E5ECF6",
            "gridcolor": "white",
            "gridwidth": 2,
            "linecolor": "white",
            "showbackground": true,
            "ticks": "",
            "zerolinecolor": "white"
           },
           "zaxis": {
            "backgroundcolor": "#E5ECF6",
            "gridcolor": "white",
            "gridwidth": 2,
            "linecolor": "white",
            "showbackground": true,
            "ticks": "",
            "zerolinecolor": "white"
           }
          },
          "shapedefaults": {
           "line": {
            "color": "#2a3f5f"
           }
          },
          "ternary": {
           "aaxis": {
            "gridcolor": "white",
            "linecolor": "white",
            "ticks": ""
           },
           "baxis": {
            "gridcolor": "white",
            "linecolor": "white",
            "ticks": ""
           },
           "bgcolor": "#E5ECF6",
           "caxis": {
            "gridcolor": "white",
            "linecolor": "white",
            "ticks": ""
           }
          },
          "title": {
           "x": 0.05
          },
          "xaxis": {
           "automargin": true,
           "gridcolor": "white",
           "linecolor": "white",
           "ticks": "",
           "title": {
            "standoff": 15
           },
           "zerolinecolor": "white",
           "zerolinewidth": 2
          },
          "yaxis": {
           "automargin": true,
           "gridcolor": "white",
           "linecolor": "white",
           "ticks": "",
           "title": {
            "standoff": 15
           },
           "zerolinecolor": "white",
           "zerolinewidth": 2
          }
         }
        },
        "xaxis": {
         "gridcolor": "rgba(0,0,50,0.05)",
         "linecolor": "rgba(0,0,25,0.18)",
         "linewidth": 2,
         "mirror": true,
         "showgrid": true,
         "showline": true,
         "spikecolor": "rgba(0,0,25,0.18)",
         "tickcolor": "rgba(36,28,1,1)",
         "tickfont": {
          "family": "Fira Mono"
         },
         "title": {
          "font": {
           "family": "Fira Mono"
          },
          "text": "wavelength"
         },
         "zerolinecolor": "rgba(0,0,25,0.18)"
        },
        "yaxis": {
         "gridcolor": "rgba(0,0,50,0.05)",
         "linecolor": "rgba(0,0,25,0.18)",
         "linewidth": 2,
         "mirror": true,
         "range": [
          0,
          0.2790598924687113
         ],
         "showgrid": true,
         "showline": true,
         "spikecolor": "rgba(0,0,25,0.18)",
         "tickcolor": "rgba(36,28,1,1)",
         "tickfont": {
          "family": "Fira Mono"
         },
         "title": {
          "font": {
           "family": "Fira Mono"
          },
          "text": "reflectance"
         },
         "zerolinecolor": "rgba(0,0,25,0.18)"
        }
       }
      },
      "text/html": [
       "<div>                            <div id=\"6b99884e-6204-4295-9a7c-8cee69bf07f5\" class=\"plotly-graph-div\" style=\"height:525px; width:100%;\"></div>            <script type=\"text/javascript\">                require([\"plotly\"], function(Plotly) {                    window.PLOTLYENV=window.PLOTLYENV || {};                                    if (document.getElementById(\"6b99884e-6204-4295-9a7c-8cee69bf07f5\")) {                    Plotly.newPlot(                        \"6b99884e-6204-4295-9a7c-8cee69bf07f5\",                        [{\"error_y\": {\"array\": [0.014147711508133308, 0.019889677390324264, 0.018923855464249642, 0.024676828874356828, 0.0347217334943703, 0.019043202251775047, 0.020444620603265736, 0.030593235728862234, 0.022656282555556607, 0.029384727032860027, 0.02993787299841839, 0.03345948645920791], \"visible\": true}, \"line\": {\"color\": \"#fa8072\"}, \"mode\": \"lines+markers\", \"text\": [\"L2_R2, 446\", \"L0B_R0B, 495\", \"L1_R1, 527\", \"R0G_L0G, 552\", \"R0R_L0R, 639\", \"L4, 676\", \"L3, 751\", \"R3, 805\", \"L5, 867\", \"R4, 908\", \"R5, 937\", \"L6_R6, 1012\"], \"type\": \"scatter\", \"x\": [446, 495, 527, 552, 639, 676, 751, 805, 867, 908, 937, 1012], \"y\": [0.06810384985388891, 0.07983089003995478, 0.09198149022527269, 0.110632477415844, 0.16653726919305725, 0.17693180379584156, 0.20125639763127076, 0.2109560426148224, 0.19252591047487452, 0.20071708031485136, 0.20096023406221142, 0.1880805759704133]}, {\"error_y\": {\"array\": [0.014147711508133308, 0.019889677390324264, 0.018923855464249642, 0.024676828874356828, 0.0347217334943703, 0.019043202251775047, 0.020444620603265736, 0.030593235728862234, 0.022656282555556607, 0.029384727032860027, 0.02993787299841839, 0.03345948645920791], \"visible\": true}, \"line\": {\"color\": \"#fa8072\"}, \"mode\": \"lines+markers\", \"text\": [\"L2_R2, 446\", \"L0B_R0B, 495\", \"L1_R1, 527\", \"R0G_L0G, 552\", \"R0R_L0R, 639\", \"L4, 676\", \"L3, 751\", \"R3, 805\", \"L5, 867\", \"R4, 908\", \"R5, 937\", \"L6_R6, 1012\"], \"type\": \"scatter\", \"x\": [446, 495, 527, 552, 639, 676, 751, 805, 867, 908, 937, 1012], \"y\": [0.06810384985388891, 0.07983089003995478, 0.09198149022527269, 0.110632477415844, 0.16653726919305725, 0.17693180379584156, 0.20125639763127076, 0.2109560426148224, 0.19252591047487452, 0.20071708031485136, 0.20096023406221142, 0.1880805759704133]}, {\"error_y\": {\"array\": [0.014147711508133308, 0.019889677390324264, 0.018923855464249642, 0.024676828874356828, 0.0347217334943703, 0.019043202251775047, 0.020444620603265736, 0.030593235728862234, 0.022656282555556607, 0.029384727032860027, 0.02993787299841839, 0.03345948645920791], \"visible\": true}, \"line\": {\"color\": \"#fa8072\"}, \"mode\": \"lines+markers\", \"text\": [\"L2_R2, 446\", \"L0B_R0B, 495\", \"L1_R1, 527\", \"R0G_L0G, 552\", \"R0R_L0R, 639\", \"L4, 676\", \"L3, 751\", \"R3, 805\", \"L5, 867\", \"R4, 908\", \"R5, 937\", \"L6_R6, 1012\"], \"type\": \"scatter\", \"x\": [446, 495, 527, 552, 639, 676, 751, 805, 867, 908, 937, 1012], \"y\": [0.06810384985388891, 0.07983089003995478, 0.09198149022527269, 0.110632477415844, 0.16653726919305725, 0.17693180379584156, 0.20125639763127076, 0.2109560426148224, 0.19252591047487452, 0.20071708031485136, 0.20096023406221142, 0.1880805759704133]}, {\"error_y\": {\"array\": [0.014147711508133308, 0.019889677390324264, 0.018923855464249642, 0.024676828874356828, 0.0347217334943703, 0.019043202251775047, 0.020444620603265736, 0.030593235728862234, 0.022656282555556607, 0.029384727032860027, 0.02993787299841839, 0.03345948645920791], \"visible\": true}, \"line\": {\"color\": \"#fa8072\"}, \"mode\": \"lines+markers\", \"text\": [\"L2_R2, 446\", \"L0B_R0B, 495\", \"L1_R1, 527\", \"R0G_L0G, 552\", \"R0R_L0R, 639\", \"L4, 676\", \"L3, 751\", \"R3, 805\", \"L5, 867\", \"R4, 908\", \"R5, 937\", \"L6_R6, 1012\"], \"type\": \"scatter\", \"x\": [446, 495, 527, 552, 639, 676, 751, 805, 867, 908, 937, 1012], \"y\": [0.06810384985388891, 0.07983089003995478, 0.09198149022527269, 0.110632477415844, 0.16653726919305725, 0.17693180379584156, 0.20125639763127076, 0.2109560426148224, 0.19252591047487452, 0.20071708031485136, 0.20096023406221142, 0.1880805759704133]}, {\"error_y\": {\"array\": [0.014147711508133308, 0.019889677390324264, 0.018923855464249642, 0.024676828874356828, 0.0347217334943703, 0.019043202251775047, 0.020444620603265736, 0.030593235728862234, 0.022656282555556607, 0.029384727032860027, 0.02993787299841839, 0.03345948645920791], \"visible\": true}, \"line\": {\"color\": \"#fa8072\"}, \"mode\": \"lines+markers\", \"text\": [\"L2_R2, 446\", \"L0B_R0B, 495\", \"L1_R1, 527\", \"R0G_L0G, 552\", \"R0R_L0R, 639\", \"L4, 676\", \"L3, 751\", \"R3, 805\", \"L5, 867\", \"R4, 908\", \"R5, 937\", \"L6_R6, 1012\"], \"type\": \"scatter\", \"x\": [446, 495, 527, 552, 639, 676, 751, 805, 867, 908, 937, 1012], \"y\": [0.06810384985388891, 0.07983089003995478, 0.09198149022527269, 0.110632477415844, 0.16653726919305725, 0.17693180379584156, 0.20125639763127076, 0.2109560426148224, 0.19252591047487452, 0.20071708031485136, 0.20096023406221142, 0.1880805759704133]}, {\"error_y\": {\"array\": [0.014147711508133308, 0.019889677390324264, 0.018923855464249642, 0.024676828874356828, 0.0347217334943703, 0.019043202251775047, 0.020444620603265736, 0.030593235728862234, 0.022656282555556607, 0.029384727032860027, 0.02993787299841839, 0.03345948645920791], \"visible\": true}, \"line\": {\"color\": \"#fa8072\"}, \"mode\": \"lines+markers\", \"text\": [\"L2_R2, 446\", \"L0B_R0B, 495\", \"L1_R1, 527\", \"R0G_L0G, 552\", \"R0R_L0R, 639\", \"L4, 676\", \"L3, 751\", \"R3, 805\", \"L5, 867\", \"R4, 908\", \"R5, 937\", \"L6_R6, 1012\"], \"type\": \"scatter\", \"x\": [446, 495, 527, 552, 639, 676, 751, 805, 867, 908, 937, 1012], \"y\": [0.06810384985388891, 0.07983089003995478, 0.09198149022527269, 0.110632477415844, 0.16653726919305725, 0.17693180379584156, 0.20125639763127076, 0.2109560426148224, 0.19252591047487452, 0.20071708031485136, 0.20096023406221142, 0.1880805759704133]}, {\"error_y\": {\"array\": [0.014147711508133308, 0.019889677390324264, 0.018923855464249642, 0.024676828874356828, 0.0347217334943703, 0.019043202251775047, 0.020444620603265736, 0.030593235728862234, 0.022656282555556607, 0.029384727032860027, 0.02993787299841839, 0.03345948645920791], \"visible\": true}, \"line\": {\"color\": \"#fa8072\"}, \"mode\": \"lines+markers\", \"text\": [\"L2_R2, 446\", \"L0B_R0B, 495\", \"L1_R1, 527\", \"R0G_L0G, 552\", \"R0R_L0R, 639\", \"L4, 676\", \"L3, 751\", \"R3, 805\", \"L5, 867\", \"R4, 908\", \"R5, 937\", \"L6_R6, 1012\"], \"type\": \"scatter\", \"x\": [446, 495, 527, 552, 639, 676, 751, 805, 867, 908, 937, 1012], \"y\": [0.06810384985388891, 0.07983089003995478, 0.09198149022527269, 0.110632477415844, 0.16653726919305725, 0.17693180379584156, 0.20125639763127076, 0.2109560426148224, 0.19252591047487452, 0.20071708031485136, 0.20096023406221142, 0.1880805759704133]}],                        {\"margin\": {\"b\": 0, \"l\": 10, \"r\": 10, \"t\": 25}, \"paper_bgcolor\": \"rgba(254,252,245,1)\", \"plot_bgcolor\": \"rgba(0,0,50,0.05)\", \"template\": {\"data\": {\"bar\": [{\"error_x\": {\"color\": \"#2a3f5f\"}, \"error_y\": {\"color\": \"#2a3f5f\"}, \"marker\": {\"line\": {\"color\": \"#E5ECF6\", \"width\": 0.5}}, \"type\": \"bar\"}], \"barpolar\": [{\"marker\": {\"line\": {\"color\": \"#E5ECF6\", \"width\": 0.5}}, \"type\": \"barpolar\"}], \"carpet\": [{\"aaxis\": {\"endlinecolor\": \"#2a3f5f\", \"gridcolor\": \"white\", \"linecolor\": \"white\", \"minorgridcolor\": \"white\", \"startlinecolor\": \"#2a3f5f\"}, \"baxis\": {\"endlinecolor\": \"#2a3f5f\", \"gridcolor\": \"white\", \"linecolor\": \"white\", \"minorgridcolor\": \"white\", \"startlinecolor\": \"#2a3f5f\"}, \"type\": \"carpet\"}], \"choropleth\": [{\"colorbar\": {\"outlinewidth\": 0, \"ticks\": \"\"}, \"type\": \"choropleth\"}], \"contour\": [{\"colorbar\": {\"outlinewidth\": 0, \"ticks\": \"\"}, \"colorscale\": [[0.0, \"#0d0887\"], [0.1111111111111111, \"#46039f\"], [0.2222222222222222, \"#7201a8\"], [0.3333333333333333, \"#9c179e\"], [0.4444444444444444, \"#bd3786\"], [0.5555555555555556, \"#d8576b\"], [0.6666666666666666, \"#ed7953\"], [0.7777777777777778, \"#fb9f3a\"], [0.8888888888888888, \"#fdca26\"], [1.0, \"#f0f921\"]], \"type\": \"contour\"}], \"contourcarpet\": [{\"colorbar\": {\"outlinewidth\": 0, \"ticks\": \"\"}, \"type\": \"contourcarpet\"}], \"heatmap\": [{\"colorbar\": {\"outlinewidth\": 0, \"ticks\": \"\"}, \"colorscale\": [[0.0, \"#0d0887\"], [0.1111111111111111, \"#46039f\"], [0.2222222222222222, \"#7201a8\"], [0.3333333333333333, \"#9c179e\"], [0.4444444444444444, \"#bd3786\"], [0.5555555555555556, \"#d8576b\"], [0.6666666666666666, \"#ed7953\"], [0.7777777777777778, \"#fb9f3a\"], [0.8888888888888888, \"#fdca26\"], [1.0, \"#f0f921\"]], \"type\": \"heatmap\"}], \"heatmapgl\": [{\"colorbar\": {\"outlinewidth\": 0, \"ticks\": \"\"}, \"colorscale\": [[0.0, \"#0d0887\"], [0.1111111111111111, \"#46039f\"], [0.2222222222222222, \"#7201a8\"], [0.3333333333333333, \"#9c179e\"], [0.4444444444444444, \"#bd3786\"], [0.5555555555555556, \"#d8576b\"], [0.6666666666666666, \"#ed7953\"], [0.7777777777777778, \"#fb9f3a\"], [0.8888888888888888, \"#fdca26\"], [1.0, \"#f0f921\"]], \"type\": \"heatmapgl\"}], \"histogram\": [{\"marker\": {\"colorbar\": {\"outlinewidth\": 0, \"ticks\": \"\"}}, \"type\": \"histogram\"}], \"histogram2d\": [{\"colorbar\": {\"outlinewidth\": 0, \"ticks\": \"\"}, \"colorscale\": [[0.0, \"#0d0887\"], [0.1111111111111111, \"#46039f\"], [0.2222222222222222, \"#7201a8\"], [0.3333333333333333, \"#9c179e\"], [0.4444444444444444, \"#bd3786\"], [0.5555555555555556, \"#d8576b\"], [0.6666666666666666, \"#ed7953\"], [0.7777777777777778, \"#fb9f3a\"], [0.8888888888888888, \"#fdca26\"], [1.0, \"#f0f921\"]], \"type\": \"histogram2d\"}], \"histogram2dcontour\": [{\"colorbar\": {\"outlinewidth\": 0, \"ticks\": \"\"}, \"colorscale\": [[0.0, \"#0d0887\"], [0.1111111111111111, \"#46039f\"], [0.2222222222222222, \"#7201a8\"], [0.3333333333333333, \"#9c179e\"], [0.4444444444444444, \"#bd3786\"], [0.5555555555555556, \"#d8576b\"], [0.6666666666666666, \"#ed7953\"], [0.7777777777777778, \"#fb9f3a\"], [0.8888888888888888, \"#fdca26\"], [1.0, \"#f0f921\"]], \"type\": \"histogram2dcontour\"}], \"mesh3d\": [{\"colorbar\": {\"outlinewidth\": 0, \"ticks\": \"\"}, \"type\": \"mesh3d\"}], \"parcoords\": [{\"line\": {\"colorbar\": {\"outlinewidth\": 0, \"ticks\": \"\"}}, \"type\": \"parcoords\"}], \"pie\": [{\"automargin\": true, \"type\": \"pie\"}], \"scatter\": [{\"marker\": {\"colorbar\": {\"outlinewidth\": 0, \"ticks\": \"\"}}, \"type\": \"scatter\"}], \"scatter3d\": [{\"line\": {\"colorbar\": {\"outlinewidth\": 0, \"ticks\": \"\"}}, \"marker\": {\"colorbar\": {\"outlinewidth\": 0, \"ticks\": \"\"}}, \"type\": \"scatter3d\"}], \"scattercarpet\": [{\"marker\": {\"colorbar\": {\"outlinewidth\": 0, \"ticks\": \"\"}}, \"type\": \"scattercarpet\"}], \"scattergeo\": [{\"marker\": {\"colorbar\": {\"outlinewidth\": 0, \"ticks\": \"\"}}, \"type\": \"scattergeo\"}], \"scattergl\": [{\"marker\": {\"colorbar\": {\"outlinewidth\": 0, \"ticks\": \"\"}}, \"type\": \"scattergl\"}], \"scattermapbox\": [{\"marker\": {\"colorbar\": {\"outlinewidth\": 0, \"ticks\": \"\"}}, \"type\": \"scattermapbox\"}], \"scatterpolar\": [{\"marker\": {\"colorbar\": {\"outlinewidth\": 0, \"ticks\": \"\"}}, \"type\": \"scatterpolar\"}], \"scatterpolargl\": [{\"marker\": {\"colorbar\": {\"outlinewidth\": 0, \"ticks\": \"\"}}, \"type\": \"scatterpolargl\"}], \"scatterternary\": [{\"marker\": {\"colorbar\": {\"outlinewidth\": 0, \"ticks\": \"\"}}, \"type\": \"scatterternary\"}], \"surface\": [{\"colorbar\": {\"outlinewidth\": 0, \"ticks\": \"\"}, \"colorscale\": [[0.0, \"#0d0887\"], [0.1111111111111111, \"#46039f\"], [0.2222222222222222, \"#7201a8\"], [0.3333333333333333, \"#9c179e\"], [0.4444444444444444, \"#bd3786\"], [0.5555555555555556, \"#d8576b\"], [0.6666666666666666, \"#ed7953\"], [0.7777777777777778, \"#fb9f3a\"], [0.8888888888888888, \"#fdca26\"], [1.0, \"#f0f921\"]], \"type\": \"surface\"}], \"table\": [{\"cells\": {\"fill\": {\"color\": \"#EBF0F8\"}, \"line\": {\"color\": \"white\"}}, \"header\": {\"fill\": {\"color\": \"#C8D4E3\"}, \"line\": {\"color\": \"white\"}}, \"type\": \"table\"}]}, \"layout\": {\"annotationdefaults\": {\"arrowcolor\": \"#2a3f5f\", \"arrowhead\": 0, \"arrowwidth\": 1}, \"autotypenumbers\": \"strict\", \"coloraxis\": {\"colorbar\": {\"outlinewidth\": 0, \"ticks\": \"\"}}, \"colorscale\": {\"diverging\": [[0, \"#8e0152\"], [0.1, \"#c51b7d\"], [0.2, \"#de77ae\"], [0.3, \"#f1b6da\"], [0.4, \"#fde0ef\"], [0.5, \"#f7f7f7\"], [0.6, \"#e6f5d0\"], [0.7, \"#b8e186\"], [0.8, \"#7fbc41\"], [0.9, \"#4d9221\"], [1, \"#276419\"]], \"sequential\": [[0.0, \"#0d0887\"], [0.1111111111111111, \"#46039f\"], [0.2222222222222222, \"#7201a8\"], [0.3333333333333333, \"#9c179e\"], [0.4444444444444444, \"#bd3786\"], [0.5555555555555556, \"#d8576b\"], [0.6666666666666666, \"#ed7953\"], [0.7777777777777778, \"#fb9f3a\"], [0.8888888888888888, \"#fdca26\"], [1.0, \"#f0f921\"]], \"sequentialminus\": [[0.0, \"#0d0887\"], [0.1111111111111111, \"#46039f\"], [0.2222222222222222, \"#7201a8\"], [0.3333333333333333, \"#9c179e\"], [0.4444444444444444, \"#bd3786\"], [0.5555555555555556, \"#d8576b\"], [0.6666666666666666, \"#ed7953\"], [0.7777777777777778, \"#fb9f3a\"], [0.8888888888888888, \"#fdca26\"], [1.0, \"#f0f921\"]]}, \"colorway\": [\"#636efa\", \"#EF553B\", \"#00cc96\", \"#ab63fa\", \"#FFA15A\", \"#19d3f3\", \"#FF6692\", \"#B6E880\", \"#FF97FF\", \"#FECB52\"], \"font\": {\"color\": \"#2a3f5f\"}, \"geo\": {\"bgcolor\": \"white\", \"lakecolor\": \"white\", \"landcolor\": \"#E5ECF6\", \"showlakes\": true, \"showland\": true, \"subunitcolor\": \"white\"}, \"hoverlabel\": {\"align\": \"left\"}, \"hovermode\": \"closest\", \"mapbox\": {\"style\": \"light\"}, \"paper_bgcolor\": \"white\", \"plot_bgcolor\": \"#E5ECF6\", \"polar\": {\"angularaxis\": {\"gridcolor\": \"white\", \"linecolor\": \"white\", \"ticks\": \"\"}, \"bgcolor\": \"#E5ECF6\", \"radialaxis\": {\"gridcolor\": \"white\", \"linecolor\": \"white\", \"ticks\": \"\"}}, \"scene\": {\"xaxis\": {\"backgroundcolor\": \"#E5ECF6\", \"gridcolor\": \"white\", \"gridwidth\": 2, \"linecolor\": \"white\", \"showbackground\": true, \"ticks\": \"\", \"zerolinecolor\": \"white\"}, \"yaxis\": {\"backgroundcolor\": \"#E5ECF6\", \"gridcolor\": \"white\", \"gridwidth\": 2, \"linecolor\": \"white\", \"showbackground\": true, \"ticks\": \"\", \"zerolinecolor\": \"white\"}, \"zaxis\": {\"backgroundcolor\": \"#E5ECF6\", \"gridcolor\": \"white\", \"gridwidth\": 2, \"linecolor\": \"white\", \"showbackground\": true, \"ticks\": \"\", \"zerolinecolor\": \"white\"}}, \"shapedefaults\": {\"line\": {\"color\": \"#2a3f5f\"}}, \"ternary\": {\"aaxis\": {\"gridcolor\": \"white\", \"linecolor\": \"white\", \"ticks\": \"\"}, \"baxis\": {\"gridcolor\": \"white\", \"linecolor\": \"white\", \"ticks\": \"\"}, \"bgcolor\": \"#E5ECF6\", \"caxis\": {\"gridcolor\": \"white\", \"linecolor\": \"white\", \"ticks\": \"\"}}, \"title\": {\"x\": 0.05}, \"xaxis\": {\"automargin\": true, \"gridcolor\": \"white\", \"linecolor\": \"white\", \"ticks\": \"\", \"title\": {\"standoff\": 15}, \"zerolinecolor\": \"white\", \"zerolinewidth\": 2}, \"yaxis\": {\"automargin\": true, \"gridcolor\": \"white\", \"linecolor\": \"white\", \"ticks\": \"\", \"title\": {\"standoff\": 15}, \"zerolinecolor\": \"white\", \"zerolinewidth\": 2}}}, \"xaxis\": {\"gridcolor\": \"rgba(0,0,50,0.05)\", \"linecolor\": \"rgba(0,0,25,0.18)\", \"linewidth\": 2, \"mirror\": true, \"showgrid\": true, \"showline\": true, \"spikecolor\": \"rgba(0,0,25,0.18)\", \"tickcolor\": \"rgba(36,28,1,1)\", \"tickfont\": {\"family\": \"Fira Mono\"}, \"title\": {\"font\": {\"family\": \"Fira Mono\"}, \"text\": \"wavelength\"}, \"zerolinecolor\": \"rgba(0,0,25,0.18)\"}, \"yaxis\": {\"gridcolor\": \"rgba(0,0,50,0.05)\", \"linecolor\": \"rgba(0,0,25,0.18)\", \"linewidth\": 2, \"mirror\": true, \"range\": [0, 0.2790598924687113], \"showgrid\": true, \"showline\": true, \"spikecolor\": \"rgba(0,0,25,0.18)\", \"tickcolor\": \"rgba(36,28,1,1)\", \"tickfont\": {\"family\": \"Fira Mono\"}, \"title\": {\"font\": {\"family\": \"Fira Mono\"}, \"text\": \"reflectance\"}, \"zerolinecolor\": \"rgba(0,0,25,0.18)\"}},                        {\"responsive\": true}                    ).then(function(){\n",
       "                            \n",
       "var gd = document.getElementById('6b99884e-6204-4295-9a7c-8cee69bf07f5');\n",
       "var x = new MutationObserver(function (mutations, observer) {{\n",
       "        var display = window.getComputedStyle(gd).display;\n",
       "        if (!display || display === 'none') {{\n",
       "            console.log([gd, 'removed!']);\n",
       "            Plotly.purge(gd);\n",
       "            observer.disconnect();\n",
       "        }}\n",
       "}});\n",
       "\n",
       "// Listen for the removal of the full notebook cells\n",
       "var notebookContainer = gd.closest('#notebook-container');\n",
       "if (notebookContainer) {{\n",
       "    x.observe(notebookContainer, {childList: true});\n",
       "}}\n",
       "\n",
       "// Listen for the clearing of the current output cell\n",
       "var outputEl = gd.closest('.output');\n",
       "if (outputEl) {{\n",
       "    x.observe(outputEl, {childList: true});\n",
       "}}\n",
       "\n",
       "                        })                };                });            </script>        </div>"
      ]
     },
     "metadata": {},
     "output_type": "display_data"
    }
   ],
   "source": [
    "# noinspection PyTypeChecker\n",
    "%time fig.update_layout(GRAPH_DISPLAY_DEFAULTS)\n",
    "%time fig.update_xaxes(AXIS_DISPLAY_DEFAULTS | {\"title_text\": \"wavelength\"})\n",
    "%time fig.update_yaxes(AXIS_DISPLAY_DEFAULTS | {\"title_text\": \"reflectance\"})\n",
    "%time fig.update_layout({\"yaxis\": {\"range\": [0, min(y_axis) + max(y_axis)]}})"
   ]
  },
  {
   "cell_type": "code",
   "execution_count": null,
   "metadata": {},
   "outputs": [],
   "source": []
  },
  {
   "cell_type": "code",
   "execution_count": null,
   "metadata": {},
   "outputs": [],
   "source": []
  },
  {
   "cell_type": "code",
   "execution_count": null,
   "metadata": {},
   "outputs": [],
   "source": []
  },
  {
   "cell_type": "code",
   "execution_count": null,
   "metadata": {},
   "outputs": [],
   "source": []
  },
  {
   "cell_type": "code",
   "execution_count": null,
   "metadata": {},
   "outputs": [],
   "source": []
  },
  {
   "cell_type": "code",
   "execution_count": null,
   "metadata": {},
   "outputs": [],
   "source": []
  },
  {
   "cell_type": "code",
   "execution_count": null,
   "metadata": {},
   "outputs": [],
   "source": []
  },
  {
   "cell_type": "code",
   "execution_count": null,
   "metadata": {},
   "outputs": [],
   "source": [
    "for spec in ZSpec.objects.all():\n",
    "    spec.delete()"
   ]
  },
  {
   "cell_type": "code",
   "execution_count": null,
   "metadata": {},
   "outputs": [],
   "source": [
    "input_fs = OSFS(\"/home/michael/Desktop/mcam_spect_data_conversion/data/zcam\")\n",
    "output_fs = OSFS('.')\n",
    "output_image_dir = output_fs.getsyspath(\"static_in_pro/our_static/img\")"
   ]
  },
  {
   "cell_type": "code",
   "execution_count": null,
   "metadata": {},
   "outputs": [],
   "source": [
    "def reg_seq_id(seq_id_str):\n",
    "    seq_id_str = seq_id_str.replace(\" \", \"\")\n",
    "    return 'zcam' + format(int(seq_id_str.split('zcam')[1]), \"0>5d\")\n",
    "\n",
    "metaframe = pd.read_csv(input_fs.getsyspath('Metadata-marslab.csv'))\n",
    "metaframe.columns = [column.lower() for column in metaframe.columns]\n",
    "# add NaNs back in so we can programmatically delete them\n",
    "metaframe.replace('-', np.nan, inplace=True)\n",
    "# we're turning these to ints when we ingest them,\n",
    "# but python doesn't like statements like int('3.0'),\n",
    "# so turn to float as an intermediate step\n",
    "for column in [\n",
    "    'sol', 'site', 'drive', 'rover_elevation', 'target_elevation', 'tau',\n",
    "    'focal_distance', 'incidence_angle', 'emission_angle',\n",
    "    'phase_angle', 'l_s', 'site', 'drive', 'lat', 'lon', 'odometry',\n",
    "]:\n",
    "    metaframe[column] = metaframe[column].astype('float')\n",
    "metaframe['ltst'] = metaframe['ltst'].astype('datetime64')\n",
    "metaframe['seq_id'] = metaframe['seq_id'].map(reg_seq_id)\n",
    "metaframe.loc[\n",
    "    metaframe['sclk'].notna(), 'sclk'\n",
    "] = metaframe.loc[metaframe['sclk'].notna(), 'sclk'].astype(float).astype(int)"
   ]
  },
  {
   "cell_type": "code",
   "execution_count": null,
   "metadata": {},
   "outputs": [],
   "source": [
    "temp_images = [\n",
    "    image for image in input_fs.listdir('temp_images')\n",
    "]"
   ]
  },
  {
   "cell_type": "code",
   "execution_count": null,
   "metadata": {
    "scrolled": false
   },
   "outputs": [],
   "source": [
    "spec_files = [\n",
    "    file for file in input_fs.listdir('') if (\n",
    "        file.endswith('-marslab.csv') and file.startswith('Sol'))\n",
    "]\n",
    "for spec_file in spec_files:\n",
    "    frame = pd.read_csv(input_fs.getsyspath(spec_file))\n",
    "    frame.columns = [column.lower() for column in frame.columns]\n",
    "    observation = metaframe.loc[metaframe['seq_id'] == frame['seq_id'][0]]\n",
    "    # hacky hacky -- but temporary\n",
    "    if len(observation) > 1: \n",
    "        pointing = re.search(r\"(?<=Pointing)\\d\", spec_file).group()\n",
    "        observation = observation.loc[observation['name'].str.contains(str(pointing))]\n",
    "    assert len(observation == 1)\n",
    "    for _, row in frame.iterrows():\n",
    "        if row['float'] == 'Y':\n",
    "            row['float'] = True\n",
    "        else:\n",
    "            row['float'] = False\n",
    "        row = row.replace(['-','',' '], np.nan).dropna()\n",
    "        # if there are missing filters anywhere in the column, including for other\n",
    "        # spectra, pandas will read the column\n",
    "        # as object / string, which will cause confusion when we\n",
    "        # compute averaged filters\n",
    "        for filt in ZSpec.filters:\n",
    "            if filt in row.index:\n",
    "                row[filt] = float(row[filt])\n",
    "        # because we're manually associating\n",
    "        row.drop(['sol', 'seq_id', 'instrument'], inplace=True)\n",
    "        metadata = dict(row) | observation.iloc[0].dropna().to_dict() | {\n",
    "            'filename': spec_file\n",
    "        }\n",
    "        spectrum = ZSpec(**metadata)\n",
    "        spectrum.clean()\n",
    "        spectrum.save()"
   ]
  },
  {
   "cell_type": "code",
   "execution_count": null,
   "metadata": {
    "scrolled": false
   },
   "outputs": [],
   "source": [
    "len(ZSpec.objects.all())"
   ]
  },
  {
   "cell_type": "code",
   "execution_count": null,
   "metadata": {},
   "outputs": [],
   "source": [
    "output_image_dir"
   ]
  },
  {
   "cell_type": "code",
   "execution_count": null,
   "metadata": {},
   "outputs": [],
   "source": [
    "z"
   ]
  },
  {
   "cell_type": "code",
   "execution_count": null,
   "metadata": {},
   "outputs": [],
   "source": [
    "spec.seq_id"
   ]
  },
  {
   "cell_type": "code",
   "execution_count": null,
   "metadata": {},
   "outputs": [],
   "source": [
    "os.listdir(output_image_dir)"
   ]
  },
  {
   "cell_type": "code",
   "execution_count": null,
   "metadata": {},
   "outputs": [],
   "source": [
    "spec.filename"
   ]
  },
  {
   "cell_type": "code",
   "execution_count": null,
   "metadata": {},
   "outputs": [],
   "source": [
    "import re"
   ]
  },
  {
   "cell_type": "code",
   "execution_count": null,
   "metadata": {
    "scrolled": false
   },
   "outputs": [],
   "source": [
    "for spec in ZSpec.objects.all():\n",
    "    images = [\n",
    "        image for image in os.listdir(output_image_dir + '/roi_browse')\n",
    "        if spec.seq_id in image\n",
    "    ]\n",
    "    if 'pointing' in spec.filename.lower():\n",
    "        pointing = re.search(r\"(?<=Pointing)\\d\", spec_file).group()\n",
    "        images = [image for image in images if 'pointing' + pointing in image]\n",
    "    image_dict = {}\n",
    "    for image in images:\n",
    "        if 'rgb' in image:\n",
    "            image_dict['rgb'] = image\n",
    "        if 'enhanced' in image:\n",
    "            image_dict['enhanced'] = image\n",
    "    spec.images = str(image_dict)\n",
    "    spec.clean()\n",
    "    spec.save()"
   ]
  },
  {
   "cell_type": "code",
   "execution_count": null,
   "metadata": {},
   "outputs": [],
   "source": []
  },
  {
   "cell_type": "code",
   "execution_count": null,
   "metadata": {},
   "outputs": [],
   "source": []
  },
  {
   "cell_type": "code",
   "execution_count": null,
   "metadata": {},
   "outputs": [],
   "source": []
  },
  {
   "cell_type": "code",
   "execution_count": null,
   "metadata": {},
   "outputs": [],
   "source": [
    "from random import choice"
   ]
  },
  {
   "cell_type": "code",
   "execution_count": null,
   "metadata": {},
   "outputs": [],
   "source": [
    "spec = choice(ZSpec.objects.all())"
   ]
  },
  {
   "cell_type": "code",
   "execution_count": null,
   "metadata": {},
   "outputs": [],
   "source": [
    "from plotter.spectrum_ops import *"
   ]
  },
  {
   "cell_type": "code",
   "execution_count": null,
   "metadata": {},
   "outputs": [],
   "source": [
    "unc = \"\"\"L0R:3.3\n",
    "L0G:3.3\n",
    "L0B:3.7\n",
    "L1:1.4\n",
    "L2:1.1\n",
    "L3:0.2\n",
    "L4:1.8\n",
    "L5:1.6\n",
    "L6:0.4\n",
    "R0R:3.7\n",
    "R0G:4.1\n",
    "R0B:4.6\n",
    "R1:0.4\n",
    "R2:0.3\n",
    "R3:0.6\n",
    "R4:0.5\n",
    "R5:0.8\n",
    "R6:0.4\"\"\".split(\"\\n\")"
   ]
  },
  {
   "cell_type": "code",
   "execution_count": null,
   "metadata": {},
   "outputs": [],
   "source": [
    "unc"
   ]
  },
  {
   "cell_type": "code",
   "execution_count": null,
   "metadata": {},
   "outputs": [],
   "source": [
    "{\n",
    "    pair.split(\":\")[0]: float(pair.split(\":\")[1])\n",
    "    for pair in unc\n",
    "}"
   ]
  },
  {
   "cell_type": "code",
   "execution_count": null,
   "metadata": {},
   "outputs": [],
   "source": [
    "filter_df = filter_df_from_queryset(\n",
    "    ZSpec.objects.all(),\n",
    "    average_filters=False,\n",
    "    scale_to=None,\n",
    "    r_star=True,\n",
    "    )"
   ]
  },
  {
   "cell_type": "code",
   "execution_count": null,
   "metadata": {},
   "outputs": [],
   "source": [
    "from marslab.compatibility import INSTRUMENT_UNCERTAINTIES\n",
    "from itertools import chain, product"
   ]
  },
  {
   "cell_type": "code",
   "execution_count": null,
   "metadata": {},
   "outputs": [],
   "source": [
    "spec_model = ZSpec\n",
    "instrument = spec_model.instrument\n",
    "unc = INSTRUMENT_UNCERTAINTIES[instrument]\n",
    "function = ratio\n",
    "# filters = ['L5', 'R3', 'L4']\n",
    "filters = ['L5', 'R3']"
   ]
  },
  {
   "cell_type": "code",
   "execution_count": null,
   "metadata": {},
   "outputs": [],
   "source": [
    "def compute_minmax_spec_error(filter_df, spec_model, spec_op, *filters):\n",
    "    # cartesian product of these sets gives all possible sign combos for error high, error low,\n",
    "    # i.e., crude bounds for the hull of the range of possible measurements\n",
    "    unc = INSTRUMENT_UNCERTAINTIES[spec_model.instrument]\n",
    "    corners = product(*[[1, -1] for filt in filters])\n",
    "    bounds_df_list = []\n",
    "    # apply these signs to uncertainty values, getting a list of dataframes\n",
    "    # giving values of all measurements in set at the upper / lower bound combinations\n",
    "    # for uncertainties associated with each relevant filter.\n",
    "    for corner in corners:\n",
    "        corner_series_list = []\n",
    "        for filt_ix, sign in enumerate(corner):\n",
    "            filt = filters[filt_ix]\n",
    "            corner_series_list.append(\n",
    "                filter_df[filt]  + filter_df[filt] * corner[filt_ix] * unc[filt] / 100\n",
    "            )\n",
    "        corner_df = pd.concat(corner_series_list, axis=1)\n",
    "        # record the value of the spectrum op for each of these bounding dataframes.\n",
    "        bounds_df_list.append(function(corner_df, spec_model, *filters)[0])   \n",
    "    # compute the nominal value and compare it to values at these bounds\n",
    "    possible_values = pd.concat(bounds_df_list, axis=1)\n",
    "    nominal_value = function(filter_df, spec_model, *filters)[0]\n",
    "    offsets = possible_values.sub(nominal_value, axis=0) \n",
    "    # then min / max of each of these gives us an error estimate for each spectrum\n",
    "    return offsets.min(axis=1), offsets.max(axis=1)"
   ]
  },
  {
   "cell_type": "code",
   "execution_count": null,
   "metadata": {},
   "outputs": [],
   "source": [
    "# cartesian product of these sets gives all possible sign combos for error high, error low,\n",
    "# i.e., crude bounds for the hull of the range of possible measurements\n",
    "corners = product(*[[1, -1] for filt in filters])\n",
    "bounds_df_list = []\n",
    "# apply these signs to uncertainty values, getting a list of dataframes\n",
    "# giving values of all measurements in set at the upper / lower bound combinations\n",
    "# for uncertainties associated with each relevant filter.\n",
    "for corner in corners:\n",
    "    corner_series_list = []\n",
    "    for filt_ix, sign in enumerate(corner):\n",
    "        filt = filters[filt_ix]\n",
    "        corner_series_list.append(\n",
    "            filter_df[filt]  + filter_df[filt] * corner[filt_ix] * unc[filt] / 100\n",
    "        )\n",
    "    corner_df = pd.concat(corner_series_list, axis=1)\n",
    "    # record the value of the spectrum op for each of these bounding dataframes.\n",
    "    bounds_df_list.append(function(corner_df, spec_model, *filters)[0])    "
   ]
  },
  {
   "cell_type": "code",
   "execution_count": null,
   "metadata": {},
   "outputs": [],
   "source": [
    "# compute the nominal value and compare it to values at these bounds\n",
    "possible_values = pd.concat(bounds_df_list, axis=1)\n",
    "nominal_value = function(filter_df, spec_model, *filters)[0]\n",
    "offsets = possible_values.sub(nominal_value, axis=0) \n",
    "# then min / max of each of these gives us an error estimate for each spectrum\n",
    "error_low = offsets.min(axis=1)\n",
    "error_high = offsets.max(axis=1)"
   ]
  },
  {
   "cell_type": "code",
   "execution_count": null,
   "metadata": {},
   "outputs": [],
   "source": [
    "nominal_value = function(filter_df, spec_model, *filters)[0]"
   ]
  },
  {
   "cell_type": "code",
   "execution_count": null,
   "metadata": {},
   "outputs": [],
   "source": [
    "possible_values"
   ]
  },
  {
   "cell_type": "code",
   "execution_count": null,
   "metadata": {},
   "outputs": [],
   "source": [
    "nominal_value"
   ]
  },
  {
   "cell_type": "code",
   "execution_count": null,
   "metadata": {},
   "outputs": [],
   "source": [
    "nominal_value = function(filter_df, spec_model, *filters)[0]\n",
    "bound = function(bounds_df_list[0], spec_model, *filters)[0] \n",
    "bound - nominal_value"
   ]
  },
  {
   "cell_type": "code",
   "execution_count": null,
   "metadata": {},
   "outputs": [],
   "source": []
  },
  {
   "cell_type": "code",
   "execution_count": null,
   "metadata": {},
   "outputs": [],
   "source": []
  },
  {
   "cell_type": "code",
   "execution_count": null,
   "metadata": {},
   "outputs": [],
   "source": [
    "# note that band_depth_min is a special case\n",
    "\n",
    "nominal_value = band_avg(filter_df, ZSpec, 'L1', 'R1')[0]\n",
    "band_avg(bounds_df_list[0], ZSpec, 'L1', 'R1')[0] - nominal_value"
   ]
  },
  {
   "cell_type": "code",
   "execution_count": null,
   "metadata": {},
   "outputs": [],
   "source": [
    "corner_df - nominal_value"
   ]
  },
  {
   "cell_type": "code",
   "execution_count": null,
   "metadata": {
    "scrolled": false
   },
   "outputs": [],
   "source": [
    "list(product(filter_df_low.columns, filter_df_high))"
   ]
  },
  {
   "cell_type": "code",
   "execution_count": null,
   "metadata": {},
   "outputs": [],
   "source": [
    "filter_df_low"
   ]
  }
 ],
 "metadata": {
  "kernelspec": {
   "display_name": "Python 3",
   "language": "python",
   "name": "python3"
  },
  "language_info": {
   "codemirror_mode": {
    "name": "ipython",
    "version": 3
   },
   "file_extension": ".py",
   "mimetype": "text/x-python",
   "name": "python",
   "nbconvert_exporter": "python",
   "pygments_lexer": "ipython3",
   "version": "3.9.4"
  },
  "varInspector": {
   "cols": {
    "lenName": 16,
    "lenType": 16,
    "lenVar": 40
   },
   "kernels_config": {
    "python": {
     "delete_cmd_postfix": "",
     "delete_cmd_prefix": "del ",
     "library": "var_list.py",
     "varRefreshCmd": "print(var_dic_list())"
    },
    "r": {
     "delete_cmd_postfix": ") ",
     "delete_cmd_prefix": "rm(",
     "library": "var_list.r",
     "varRefreshCmd": "cat(var_dic_list()) "
    }
   },
   "types_to_exclude": [
    "module",
    "function",
    "builtin_function_or_method",
    "instance",
    "_Feature"
   ],
   "window_display": false
  }
 },
 "nbformat": 4,
 "nbformat_minor": 4
}
