{
 "cells": [
  {
   "cell_type": "code",
   "execution_count": 2,
   "id": "9277542b",
   "metadata": {},
   "outputs": [],
   "source": [
    "import os\n",
    "from itertools import product\n",
    "import re\n",
    "\n",
    "import django\n",
    "import matplotlib.colors as mcolors\n",
    "import matplotlib.pyplot as plt\n",
    "import numpy as np\n",
    "import pandas as pd\n",
    "from matplotlib.cm import register_cmap\n",
    "from matplotlib.colors import ListedColormap\n",
    "from sklearn.decomposition import PCA, FactorAnalysis\n",
    "import marslab.spectops as ops\n",
    "from fit import correlation_matrix\n",
    "from marslab.imgops.imgutils import normalize_range\n",
    "from marslab.compat.xcam import DERIVED_CAM_DICT\n",
    "from sklearn.preprocessing import StandardScaler, Normalizer\n",
    "from sklearn.pipeline import Pipeline\n",
    "from marslab.imgops.pltutils import attach_axis, set_colorbar_font\n",
    "\n",
    "\n",
    "from correlate import (\n",
    "    s_from_midnight, explode_binary, translate_fields_for_corr_graphs,\n",
    "    preprocess_for_corrs, plot_dimensionality_matrices,\n",
    "    plot_mdex_pca\n",
    ")\n",
    "\n",
    "# os.chdir(\"..\")\n",
    "\n",
    "os.environ.setdefault(\"DJANGO_SETTINGS_MODULE\", \"multidex.settings\")\n",
    "os.environ[\"DJANGO_ALLOW_ASYNC_UNSAFE\"] = \"true\"\n",
    "\n",
    "django.setup()\n",
    "import plotter.models\n",
    "from plotter.spectrum_ops import filter_df_from_queryset\n",
    "from multidex_utils import model_metadata_df\n",
    "\n",
    "%matplotlib qt\n",
    "%matplotlib qt"
   ]
  },
  {
   "cell_type": "code",
   "execution_count": 3,
   "id": "66df9ce1",
   "metadata": {},
   "outputs": [],
   "source": [
    "def explained_variance_ratios(array):\n",
    "    variances = array.var(axis=0)\n",
    "    total = sum(variances)\n",
    "    return variances / total"
   ]
  },
  {
   "cell_type": "code",
   "execution_count": 5,
   "id": "d1a50cba",
   "metadata": {},
   "outputs": [],
   "source": [
    "instrument = \"ZCAM\"\n",
    "filter_info = DERIVED_CAM_DICT[instrument][\"filters\"]\n",
    "filters = list(filter_info.keys())\n",
    "narrowband = [filt for filt in filters if not re.match(r\"[LR]0[RGB]\", filt)]\n"
   ]
  },
  {
   "cell_type": "code",
   "execution_count": null,
   "id": "da8c765a",
   "metadata": {
    "scrolled": false
   },
   "outputs": [],
   "source": [
    "plt.rcParams[\"figure.figsize\"] = (11, 11)\n",
    "corrs = []\n",
    "transforms = []\n",
    "figlist = []\n",
    "for r_star, scale_to, search_terms, norm_values, filts in product(\n",
    "    [False, True],\n",
    "#     [None, (\"L1\", \"R1\")],\n",
    "    [None],\n",
    "    [None],\n",
    "#     [None, [(\"feature\", \"rock\")]],\n",
    "    [False, 'R6'],\n",
    "#     [PCA, FactorAnalysis]\n",
    "    [filters, narrowband]\n",
    "    \n",
    "):\n",
    "#     if search_terms is not None:\n",
    "#         explode_field = \"morphology\"\n",
    "#     else:\n",
    "#         explode_field = None\n",
    "    if (scale_to is not False) and (r_star is True):\n",
    "        continue     # pointless, move on\n",
    "    explode_field=None\n",
    "    method=PCA\n",
    "    correlations, transform, figs = plot_mdex_pca(\n",
    "        scale_to = scale_to,\n",
    "        instrument=instrument,\n",
    "        explode_field = explode_field,\n",
    "        r_star = r_star,\n",
    "        search_terms = search_terms,\n",
    "        corr_fields = filts + [\n",
    "            'incidence_angle'\n",
    "        ],\n",
    "        pca_fields=filts,\n",
    "        corr_cmap=\"orange_teal\",\n",
    "        fontsize=18,\n",
    "        method=method,\n",
    "        norm_values=norm_values\n",
    "        \n",
    "    )\n",
    "    corrs.append(correlations)\n",
    "    transforms.append(transform)\n",
    "    figlist.append(figs)"
   ]
  },
  {
   "cell_type": "code",
   "execution_count": null,
   "id": "d96e9f3d",
   "metadata": {},
   "outputs": [],
   "source": [
    "plt.close('all')"
   ]
  },
  {
   "cell_type": "code",
   "execution_count": null,
   "id": "04ca9e09",
   "metadata": {},
   "outputs": [],
   "source": [
    "for figs in figlist:\n",
    "    figs['pc correlations'].show()"
   ]
  },
  {
   "cell_type": "code",
   "execution_count": 24,
   "id": "65c7a723",
   "metadata": {},
   "outputs": [],
   "source": [
    "from fit import correlation_matrix"
   ]
  },
  {
   "cell_type": "code",
   "execution_count": 34,
   "id": "1cf45d64",
   "metadata": {},
   "outputs": [
    {
     "data": {
      "text/html": [
       "<div>\n",
       "<style scoped>\n",
       "    .dataframe tbody tr th:only-of-type {\n",
       "        vertical-align: middle;\n",
       "    }\n",
       "\n",
       "    .dataframe tbody tr th {\n",
       "        vertical-align: top;\n",
       "    }\n",
       "\n",
       "    .dataframe thead th {\n",
       "        text-align: right;\n",
       "    }\n",
       "</style>\n",
       "<table border=\"1\" class=\"dataframe\">\n",
       "  <thead>\n",
       "    <tr style=\"text-align: right;\">\n",
       "      <th></th>\n",
       "      <th>zoom</th>\n",
       "      <th>sol</th>\n",
       "    </tr>\n",
       "  </thead>\n",
       "  <tbody>\n",
       "    <tr>\n",
       "      <th>zoom</th>\n",
       "      <td>1.00</td>\n",
       "      <td>0.51</td>\n",
       "    </tr>\n",
       "    <tr>\n",
       "      <th>sol</th>\n",
       "      <td>0.51</td>\n",
       "      <td>1.00</td>\n",
       "    </tr>\n",
       "  </tbody>\n",
       "</table>\n",
       "</div>"
      ],
      "text/plain": [
       "      zoom   sol\n",
       "zoom  1.00  0.51\n",
       "sol   0.51  1.00"
      ]
     },
     "execution_count": 34,
     "metadata": {},
     "output_type": "execute_result"
    }
   ],
   "source": [
    "correlation_matrix(corpus[['zoom', 'sol']])"
   ]
  },
  {
   "cell_type": "code",
   "execution_count": 32,
   "id": "f2b3ffa3",
   "metadata": {},
   "outputs": [
    {
     "data": {
      "text/plain": [
       "1      110\n",
       "2      110\n",
       "3      110\n",
       "4      110\n",
       "5      110\n",
       "      ... \n",
       "317     34\n",
       "318     63\n",
       "319     63\n",
       "320     63\n",
       "321     63\n",
       "Name: zoom, Length: 321, dtype: object"
      ]
     },
     "execution_count": 32,
     "metadata": {},
     "output_type": "execute_result"
    }
   ],
   "source": [
    "corpus['zoom']"
   ]
  },
  {
   "cell_type": "code",
   "execution_count": 50,
   "id": "89ae4bc7",
   "metadata": {},
   "outputs": [],
   "source": [
    "instrument='ZCAM'\n",
    "spec_model = plotter.models.INSTRUMENT_MODEL_MAPPING[instrument]\n",
    "wave_mapping = pd.Series(DERIVED_CAM_DICT[instrument]['filters'])\n",
    "narrowband = [filt for filt in filters if not re.match(r\"[LR]0[RGB]\", filt)]\n",
    "filter_info = DERIVED_CAM_DICT[instrument][\"filters\"]\n",
    "filters = list(filter_info.keys())\n",
    "metadata_df = model_metadata_df(spec_model)\n",
    "search_terms=None\n",
    "norm_values = False\n",
    "pca_fields = filters\n",
    "# corr_fields = filters + [\"incidence_angle\", 'r16', 'r56', 'l645']\n",
    "# corr_fields = filters + [\"incidence_angle\", \"zoom\", 'sol']\n",
    "corr_fields = filters + [\"incidence_angle\", 'ltst', 'sclk']\n",
    "\n",
    "explode_field = None\n",
    "r_star=False\n",
    "# scale_to=('L1', 'R1')\n",
    "scale_to=None\n",
    "# scale_to=('L6', 'R6')\n",
    "\n",
    "data_df = filter_df_from_queryset(\n",
    "    spec_model.objects.all(), r_star=r_star, scale_to=scale_to\n",
    ")\n",
    "corpus = pd.concat([metadata_df, data_df], axis=1)\n",
    "corpus[\"ltst\"] = corpus[\"ltst\"].map(s_from_midnight)\n",
    "corpus[\"avg\"] = corpus[filters].mean(axis=1)\n",
    "corpus['r56'] = corpus['R5'] / corpus['R6']\n",
    "corpus['r16'] = corpus['R1'] / corpus['R6']\n",
    "corpus['l645'] = ops.band_depth(\n",
    "    corpus[['L6', 'L4', 'L5']].T,\n",
    "    None,\n",
    "    wave_mapping[['L6', 'L4', 'L5']]\n",
    ")[0]\n",
    "if 'zoom' in corpus.columns:\n",
    "    corpus['zoom'] = corpus['zoom'].astype('float16')\n",
    "if (explode_field is not None) and (explode_field in corpus.columns):\n",
    "    exploded = explode_binary(corpus, explode_field)\n",
    "    search = pd.concat([corpus.copy(), exploded], axis=1)\n",
    "else:\n",
    "    exploded = None\n",
    "    search = corpus.copy()\n",
    "\n",
    "# fields to do pca on\n",
    "pca_fields = translate_fields_for_corr_graphs(filters, pca_fields)\n",
    "\n",
    "# fields to compare with the PCs\n",
    "corr_fields = translate_fields_for_corr_graphs(filters, corr_fields)\n",
    "if exploded is not None:\n",
    "    corr_fields += list(exploded.columns)\n",
    "# corr_fields += [band + \"_err\" for band in filters]\n",
    "pca_data, corr_data = preprocess_for_corrs(\n",
    "    corr_fields, norm_values, pca_fields, search, search_terms\n",
    ")"
   ]
  },
  {
   "cell_type": "code",
   "execution_count": 51,
   "id": "861aaa9b",
   "metadata": {},
   "outputs": [
    {
     "data": {
      "text/plain": [
       "{'parameters': <Figure size 640x480 with 2 Axes>}"
      ]
     },
     "execution_count": 51,
     "metadata": {},
     "output_type": "execute_result"
    }
   ],
   "source": [
    "from sklearn.preprocessing import StandardScaler, Normalizer\n",
    "from sklearn.pipeline import Pipeline\n",
    "vectors = pca_data.T.to_dict(\"list\")\n",
    "vectarray = np.array(tuple(vectors.values()))\n",
    "pipe = Pipeline(steps=[\n",
    "    ('norm', Normalizer()),\n",
    "    ('scale', StandardScaler()),\n",
    "    ('reduce', PCA(n_components=8))\n",
    "])\n",
    "transform = pipe.fit_transform(vectarray)\n",
    "transform = pd.DataFrame(transform)\n",
    "transform.columns = [\"P\" + str(column + 1) for column in transform.columns]\n",
    "if \"explained_variance_ratio_\" in dir(pipe.named_steps['reduce']):\n",
    "    explained_variance = np.round(\n",
    "        pipe.named_steps['reduce'].explained_variance_ratio_ * 100, 2\n",
    "    )\n",
    "else:\n",
    "    explained_variance = None\n",
    "corr_frame = pd.concat([corr_data, transform], axis=1)\n",
    "correlations = correlation_matrix(corr_frame)\n",
    "\n",
    "plot_dimensionality_matrices(\n",
    "    correlations, \n",
    "    transform, \n",
    "    corr_fields, \n",
    "    explained_variance=explained_variance,\n",
    "    corr_cmap='orange_teal', \n",
    "    fontsize=20,\n",
    "    which='parameters',\n",
    "    title=\" \".join(pipe.named_steps.keys())\n",
    "\n",
    ")"
   ]
  },
  {
   "cell_type": "code",
   "execution_count": 107,
   "id": "70177d3a",
   "metadata": {},
   "outputs": [
    {
     "data": {
      "text/plain": [
       "{'parameters': <Figure size 640x480 with 2 Axes>}"
      ]
     },
     "execution_count": 107,
     "metadata": {},
     "output_type": "execute_result"
    }
   ],
   "source": [
    "from sklearn.decomposition import FastICA\n",
    "vectors = pca_data.T.to_dict(\"list\")\n",
    "vectarray = np.array(tuple(vectors.values()))\n",
    "pipe = Pipeline(steps=[\n",
    "    ('norm', Normalizer()),\n",
    "    ('scale', StandardScaler()),\n",
    "    ('ica', FastICA(n_components=8, whiten=True))\n",
    "])\n",
    "transform = pipe.fit_transform(vectarray)\n",
    "transform = pd.DataFrame(transform)\n",
    "transform.columns = [\"P\" + str(column + 1) for column in transform.columns]\n",
    "\n",
    "corr_frame = pd.concat([corr_data, transform], axis=1)\n",
    "correlations = correlation_matrix(corr_frame)\n",
    "\n",
    "plot_dimensionality_matrices(\n",
    "    correlations, \n",
    "    transform, \n",
    "    corr_fields, \n",
    "    corr_cmap='orange_teal', \n",
    "    fontsize=20,\n",
    "    which='parameters',\n",
    "    title=\" \".join(pipe.named_steps.keys())\n",
    "\n",
    ")"
   ]
  },
  {
   "cell_type": "code",
   "execution_count": 120,
   "id": "0076e5f5",
   "metadata": {},
   "outputs": [
    {
     "data": {
      "text/plain": [
       "{'parameters': <Figure size 640x480 with 2 Axes>}"
      ]
     },
     "execution_count": 120,
     "metadata": {},
     "output_type": "execute_result"
    }
   ],
   "source": [
    "from sklearn.decomposition import NMF\n",
    "vectors = pca_data.T.to_dict(\"list\")\n",
    "vectarray = np.array(tuple(vectors.values()))\n",
    "pipe = Pipeline(steps=[\n",
    "    ('norm', Normalizer()),\n",
    "#     ('scale', StandardScaler()),\n",
    "    ('nmf', NMF(n_components=16, init='random', max_iter=5000))\n",
    "])\n",
    "transform = pipe.fit_transform(vectarray)\n",
    "transform = pd.DataFrame(transform)\n",
    "transform.columns = [\"P\" + str(column + 1) for column in transform.columns]\n",
    "\n",
    "corr_frame = pd.concat([corr_data, transform], axis=1)\n",
    "correlations = correlation_matrix(corr_frame)\n",
    "\n",
    "plot_dimensionality_matrices(\n",
    "    correlations, \n",
    "    transform, \n",
    "    corr_fields, \n",
    "    corr_cmap='orange_teal', \n",
    "    fontsize=20,\n",
    "    which='parameters',\n",
    "    title=\" \".join(pipe.named_steps.keys())\n",
    "\n",
    ")"
   ]
  },
  {
   "cell_type": "code",
   "execution_count": 117,
   "id": "9ce26252",
   "metadata": {},
   "outputs": [
    {
     "data": {
      "text/plain": [
       "P1     0.194671\n",
       "P2     0.227756\n",
       "P3     0.028433\n",
       "P4     0.037464\n",
       "P5     0.032736\n",
       "P6     0.035942\n",
       "P7     0.019016\n",
       "P8     0.019965\n",
       "P9     0.025239\n",
       "P10    0.023616\n",
       "P11    0.051665\n",
       "P12    0.025683\n",
       "P13    0.086045\n",
       "P14    0.001573\n",
       "P15    0.036302\n",
       "P16    0.153895\n",
       "dtype: float64"
      ]
     },
     "execution_count": 117,
     "metadata": {},
     "output_type": "execute_result"
    }
   ],
   "source": [
    "explained_variance_ratios(transform)"
   ]
  },
  {
   "cell_type": "code",
   "execution_count": 103,
   "id": "3fbd2e41",
   "metadata": {
    "scrolled": true
   },
   "outputs": [
    {
     "data": {
      "text/plain": [
       "{'parameters': <Figure size 640x480 with 2 Axes>}"
      ]
     },
     "execution_count": 103,
     "metadata": {},
     "output_type": "execute_result"
    }
   ],
   "source": [
    "from sklearn.decomposition import KernelPCA\n",
    "vectors = pca_data.T.to_dict(\"list\")\n",
    "vectarray = np.array(tuple(vectors.values()))\n",
    "pipe = Pipeline(steps=[\n",
    "    ('norm', Normalizer()),\n",
    "    ('scale', StandardScaler()),\n",
    "    ('kernel', KernelPCA(n_components=16))\n",
    "])\n",
    "transform = pipe.fit_transform(vectarray)\n",
    "transform = pd.DataFrame(transform)\n",
    "transform.columns = [\"P\" + str(column + 1) for column in transform.columns]\n",
    "\n",
    "corr_frame = pd.concat([corr_data, transform], axis=1)\n",
    "correlations = correlation_matrix(corr_frame)\n",
    "\n",
    "plot_dimensionality_matrices(\n",
    "    correlations, \n",
    "    transform, \n",
    "    corr_fields, \n",
    "    corr_cmap='orange_teal', \n",
    "    fontsize=20,\n",
    "    which='parameters',\n",
    "    title=\" \".join(pipe.named_steps.keys())\n",
    "\n",
    ")"
   ]
  },
  {
   "cell_type": "code",
   "execution_count": 99,
   "id": "c933a63c",
   "metadata": {},
   "outputs": [
    {
     "data": {
      "text/plain": [
       "0.8"
      ]
     },
     "execution_count": 99,
     "metadata": {},
     "output_type": "execute_result"
    }
   ],
   "source": [
    "np.array([1,1,2,3,3]).var(axis=0)"
   ]
  },
  {
   "cell_type": "code",
   "execution_count": 101,
   "id": "ab0ca428",
   "metadata": {
    "scrolled": true
   },
   "outputs": [],
   "source": []
  },
  {
   "cell_type": "code",
   "execution_count": 104,
   "id": "f58c909a",
   "metadata": {},
   "outputs": [
    {
     "data": {
      "text/plain": [
       "P1     0.672857\n",
       "P2     0.190888\n",
       "P3     0.044724\n",
       "P4     0.035118\n",
       "P5     0.016631\n",
       "P6     0.012657\n",
       "P7     0.007040\n",
       "P8     0.006082\n",
       "P9     0.003611\n",
       "P10    0.002769\n",
       "P11    0.002035\n",
       "P12    0.001861\n",
       "P13    0.001277\n",
       "P14    0.001068\n",
       "P15    0.000794\n",
       "P16    0.000587\n",
       "dtype: float64"
      ]
     },
     "execution_count": 104,
     "metadata": {},
     "output_type": "execute_result"
    }
   ],
   "source": []
  },
  {
   "cell_type": "code",
   "execution_count": 66,
   "id": "41498b4b",
   "metadata": {},
   "outputs": [],
   "source": [
    "from sklearn.metrics import explained_variance_score"
   ]
  },
  {
   "cell_type": "code",
   "execution_count": 71,
   "id": "0d40da23",
   "metadata": {},
   "outputs": [
    {
     "data": {
      "text/html": [
       "<div>\n",
       "<style scoped>\n",
       "    .dataframe tbody tr th:only-of-type {\n",
       "        vertical-align: middle;\n",
       "    }\n",
       "\n",
       "    .dataframe tbody tr th {\n",
       "        vertical-align: top;\n",
       "    }\n",
       "\n",
       "    .dataframe thead th {\n",
       "        text-align: right;\n",
       "    }\n",
       "</style>\n",
       "<table border=\"1\" class=\"dataframe\">\n",
       "  <thead>\n",
       "    <tr style=\"text-align: right;\">\n",
       "      <th></th>\n",
       "      <th>P1</th>\n",
       "      <th>P2</th>\n",
       "      <th>P3</th>\n",
       "      <th>P4</th>\n",
       "      <th>P5</th>\n",
       "      <th>P6</th>\n",
       "      <th>P7</th>\n",
       "      <th>P8</th>\n",
       "    </tr>\n",
       "  </thead>\n",
       "  <tbody>\n",
       "    <tr>\n",
       "      <th>0</th>\n",
       "      <td>-2.267093</td>\n",
       "      <td>-1.724095</td>\n",
       "      <td>0.434542</td>\n",
       "      <td>-0.182625</td>\n",
       "      <td>-0.187267</td>\n",
       "      <td>-0.933902</td>\n",
       "      <td>-1.156069</td>\n",
       "      <td>0.546855</td>\n",
       "    </tr>\n",
       "    <tr>\n",
       "      <th>1</th>\n",
       "      <td>-2.526464</td>\n",
       "      <td>1.224259</td>\n",
       "      <td>0.746468</td>\n",
       "      <td>0.138954</td>\n",
       "      <td>0.066854</td>\n",
       "      <td>-0.306094</td>\n",
       "      <td>0.651362</td>\n",
       "      <td>-0.030773</td>\n",
       "    </tr>\n",
       "    <tr>\n",
       "      <th>2</th>\n",
       "      <td>-5.165960</td>\n",
       "      <td>-0.126977</td>\n",
       "      <td>-0.271500</td>\n",
       "      <td>0.345461</td>\n",
       "      <td>0.035312</td>\n",
       "      <td>-0.422036</td>\n",
       "      <td>0.446803</td>\n",
       "      <td>-0.135420</td>\n",
       "    </tr>\n",
       "    <tr>\n",
       "      <th>3</th>\n",
       "      <td>-1.344621</td>\n",
       "      <td>1.834564</td>\n",
       "      <td>0.297798</td>\n",
       "      <td>0.390662</td>\n",
       "      <td>0.517248</td>\n",
       "      <td>-0.801794</td>\n",
       "      <td>0.171038</td>\n",
       "      <td>0.062085</td>\n",
       "    </tr>\n",
       "    <tr>\n",
       "      <th>4</th>\n",
       "      <td>-3.907494</td>\n",
       "      <td>-0.984149</td>\n",
       "      <td>1.127406</td>\n",
       "      <td>0.517246</td>\n",
       "      <td>0.036090</td>\n",
       "      <td>-0.646001</td>\n",
       "      <td>0.476109</td>\n",
       "      <td>-0.586003</td>\n",
       "    </tr>\n",
       "    <tr>\n",
       "      <th>...</th>\n",
       "      <td>...</td>\n",
       "      <td>...</td>\n",
       "      <td>...</td>\n",
       "      <td>...</td>\n",
       "      <td>...</td>\n",
       "      <td>...</td>\n",
       "      <td>...</td>\n",
       "      <td>...</td>\n",
       "    </tr>\n",
       "    <tr>\n",
       "      <th>308</th>\n",
       "      <td>0.505675</td>\n",
       "      <td>-0.630974</td>\n",
       "      <td>-0.267743</td>\n",
       "      <td>0.622051</td>\n",
       "      <td>0.131681</td>\n",
       "      <td>0.234267</td>\n",
       "      <td>-0.224845</td>\n",
       "      <td>-0.177420</td>\n",
       "    </tr>\n",
       "    <tr>\n",
       "      <th>309</th>\n",
       "      <td>-0.012375</td>\n",
       "      <td>-0.093916</td>\n",
       "      <td>-0.510644</td>\n",
       "      <td>0.184119</td>\n",
       "      <td>-0.180987</td>\n",
       "      <td>0.051594</td>\n",
       "      <td>-0.162309</td>\n",
       "      <td>-0.410684</td>\n",
       "    </tr>\n",
       "    <tr>\n",
       "      <th>310</th>\n",
       "      <td>-1.503885</td>\n",
       "      <td>-0.517673</td>\n",
       "      <td>-0.687886</td>\n",
       "      <td>-0.109053</td>\n",
       "      <td>-0.038638</td>\n",
       "      <td>0.236416</td>\n",
       "      <td>0.069289</td>\n",
       "      <td>-0.567178</td>\n",
       "    </tr>\n",
       "    <tr>\n",
       "      <th>311</th>\n",
       "      <td>-5.692225</td>\n",
       "      <td>0.172917</td>\n",
       "      <td>-0.866286</td>\n",
       "      <td>0.416134</td>\n",
       "      <td>0.062320</td>\n",
       "      <td>0.049577</td>\n",
       "      <td>-0.089146</td>\n",
       "      <td>-0.441941</td>\n",
       "    </tr>\n",
       "    <tr>\n",
       "      <th>312</th>\n",
       "      <td>-2.304130</td>\n",
       "      <td>-1.905600</td>\n",
       "      <td>-0.546364</td>\n",
       "      <td>0.426618</td>\n",
       "      <td>0.428281</td>\n",
       "      <td>-0.292633</td>\n",
       "      <td>-0.132225</td>\n",
       "      <td>-0.387490</td>\n",
       "    </tr>\n",
       "  </tbody>\n",
       "</table>\n",
       "<p>313 rows × 8 columns</p>\n",
       "</div>"
      ],
      "text/plain": [
       "           P1        P2        P3        P4        P5        P6        P7  \\\n",
       "0   -2.267093 -1.724095  0.434542 -0.182625 -0.187267 -0.933902 -1.156069   \n",
       "1   -2.526464  1.224259  0.746468  0.138954  0.066854 -0.306094  0.651362   \n",
       "2   -5.165960 -0.126977 -0.271500  0.345461  0.035312 -0.422036  0.446803   \n",
       "3   -1.344621  1.834564  0.297798  0.390662  0.517248 -0.801794  0.171038   \n",
       "4   -3.907494 -0.984149  1.127406  0.517246  0.036090 -0.646001  0.476109   \n",
       "..        ...       ...       ...       ...       ...       ...       ...   \n",
       "308  0.505675 -0.630974 -0.267743  0.622051  0.131681  0.234267 -0.224845   \n",
       "309 -0.012375 -0.093916 -0.510644  0.184119 -0.180987  0.051594 -0.162309   \n",
       "310 -1.503885 -0.517673 -0.687886 -0.109053 -0.038638  0.236416  0.069289   \n",
       "311 -5.692225  0.172917 -0.866286  0.416134  0.062320  0.049577 -0.089146   \n",
       "312 -2.304130 -1.905600 -0.546364  0.426618  0.428281 -0.292633 -0.132225   \n",
       "\n",
       "           P8  \n",
       "0    0.546855  \n",
       "1   -0.030773  \n",
       "2   -0.135420  \n",
       "3    0.062085  \n",
       "4   -0.586003  \n",
       "..        ...  \n",
       "308 -0.177420  \n",
       "309 -0.410684  \n",
       "310 -0.567178  \n",
       "311 -0.441941  \n",
       "312 -0.387490  \n",
       "\n",
       "[313 rows x 8 columns]"
      ]
     },
     "execution_count": 71,
     "metadata": {},
     "output_type": "execute_result"
    }
   ],
   "source": [
    "transform"
   ]
  },
  {
   "cell_type": "code",
   "execution_count": 73,
   "id": "402f24f6",
   "metadata": {},
   "outputs": [
    {
     "data": {
      "text/plain": [
       "(313, 18)"
      ]
     },
     "execution_count": 73,
     "metadata": {},
     "output_type": "execute_result"
    }
   ],
   "source": [
    "vectarray.shape"
   ]
  },
  {
   "cell_type": "code",
   "execution_count": 77,
   "id": "96f1b427",
   "metadata": {},
   "outputs": [],
   "source": [
    "from fit import coef_det"
   ]
  },
  {
   "cell_type": "code",
   "execution_count": null,
   "id": "97cdfe75",
   "metadata": {},
   "outputs": [],
   "source": [
    "plot_dimensionality_matrices?"
   ]
  }
 ],
 "metadata": {
  "kernelspec": {
   "display_name": "Python 3",
   "language": "python",
   "name": "python3"
  },
  "language_info": {
   "codemirror_mode": {
    "name": "ipython",
    "version": 3
   },
   "file_extension": ".py",
   "mimetype": "text/x-python",
   "name": "python",
   "nbconvert_exporter": "python",
   "pygments_lexer": "ipython3",
   "version": "3.9.4"
  }
 },
 "nbformat": 4,
 "nbformat_minor": 5
}
