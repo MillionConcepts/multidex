{
 "cells": [
  {
   "cell_type": "code",
   "execution_count": 1,
   "id": "9277542b",
   "metadata": {},
   "outputs": [
    {
     "ename": "ImportError",
     "evalue": "cannot import name 'preprocess_for_corrs' from 'correlate' (/home/michael/Desktop/multidex_future/multidex/scratch/correlate.py)",
     "output_type": "error",
     "traceback": [
      "\u001b[0;31m---------------------------------------------------------------------------\u001b[0m",
      "\u001b[0;31mImportError\u001b[0m                               Traceback (most recent call last)",
      "\u001b[0;32m<ipython-input-1-6b8d8a08a1b7>\u001b[0m in \u001b[0;36m<module>\u001b[0;34m\u001b[0m\n\u001b[1;32m     23\u001b[0m \u001b[0;34m\u001b[0m\u001b[0m\n\u001b[1;32m     24\u001b[0m \u001b[0;34m\u001b[0m\u001b[0m\n\u001b[0;32m---> 25\u001b[0;31m from correlate import (\n\u001b[0m\u001b[1;32m     26\u001b[0m     \u001b[0ms_from_midnight\u001b[0m\u001b[0;34m,\u001b[0m \u001b[0mexplode_binary\u001b[0m\u001b[0;34m,\u001b[0m \u001b[0mtranslate_fields_for_corr_graphs\u001b[0m\u001b[0;34m,\u001b[0m\u001b[0;34m\u001b[0m\u001b[0;34m\u001b[0m\u001b[0m\n\u001b[1;32m     27\u001b[0m     \u001b[0mpreprocess_for_corrs\u001b[0m\u001b[0;34m,\u001b[0m \u001b[0mplot_dimensionality_matrices\u001b[0m\u001b[0;34m,\u001b[0m\u001b[0;34m\u001b[0m\u001b[0;34m\u001b[0m\u001b[0m\n",
      "\u001b[0;31mImportError\u001b[0m: cannot import name 'preprocess_for_corrs' from 'correlate' (/home/michael/Desktop/multidex_future/multidex/scratch/correlate.py)"
     ]
    }
   ],
   "source": [
    "import os\n",
    "from itertools import product\n",
    "import re\n",
    "from fit import correlation_matrix\n",
    "from fit import fit_line\n",
    "from sklearn.preprocessing import StandardScaler, Normalizer\n",
    "from sklearn.pipeline import Pipeline\n",
    "import django\n",
    "import matplotlib.colors as mcolors\n",
    "import matplotlib.pyplot as plt\n",
    "import numpy as np\n",
    "import pandas as pd\n",
    "from matplotlib.cm import register_cmap\n",
    "from matplotlib.colors import ListedColormap\n",
    "from sklearn.decomposition import PCA, FactorAnalysis\n",
    "import marslab.spectops as ops\n",
    "from fit import correlation_matrix\n",
    "from marslab.imgops.imgutils import normalize_range\n",
    "from marslab.compat.xcam import DERIVED_CAM_DICT\n",
    "from sklearn.preprocessing import StandardScaler, Normalizer\n",
    "from sklearn.pipeline import Pipeline\n",
    "from marslab.imgops.pltutils import attach_axis, set_colorbar_font\n",
    "\n",
    "\n",
    "from correlate import (\n",
    "    s_from_midnight, explode_binary, translate_fields_for_corr_graphs,\n",
    "    preprocess_for_corrs, plot_dimensionality_matrices,\n",
    "    plot_mdex_pca\n",
    ")\n",
    "\n",
    "# os.chdir(\"..\")\n",
    "\n",
    "os.environ.setdefault(\"DJANGO_SETTINGS_MODULE\", \"multidex.settings\")\n",
    "os.environ[\"DJANGO_ALLOW_ASYNC_UNSAFE\"] = \"true\"\n",
    "\n",
    "django.setup()\n",
    "import plotter.models\n",
    "from plotter.spectrum_ops import filter_df_from_queryset\n",
    "from multidex_utils import model_metadata_df\n",
    "\n",
    "%matplotlib qt\n",
    "%matplotlib qt"
   ]
  },
  {
   "cell_type": "code",
   "execution_count": null,
   "id": "66df9ce1",
   "metadata": {},
   "outputs": [],
   "source": [
    "def explained_variance_ratios(array):\n",
    "    variances = array.var(axis=0)\n",
    "    total = sum(variances)\n",
    "    return variances / total"
   ]
  },
  {
   "cell_type": "code",
   "execution_count": null,
   "id": "d1a50cba",
   "metadata": {},
   "outputs": [],
   "source": [
    "instrument = \"ZCAM\"\n",
    "filter_info = DERIVED_CAM_DICT[instrument][\"filters\"]\n",
    "filters = list(filter_info.keys())\n",
    "narrowband = [filt for filt in filters if not re.match(r\"[LR]0[RGB]\", filt)]\n"
   ]
  },
  {
   "cell_type": "code",
   "execution_count": null,
   "id": "da8c765a",
   "metadata": {
    "scrolled": false
   },
   "outputs": [],
   "source": [
    "plt.rcParams[\"figure.figsize\"] = (11, 11)\n",
    "corrs = []\n",
    "transforms = []\n",
    "figlist = []\n",
    "for r_star, scale_to, search_terms, norm_values, filts in product(\n",
    "    [False, True],\n",
    "#     [None, (\"L1\", \"R1\")],\n",
    "    [None],\n",
    "    [None],\n",
    "#     [None, [(\"feature\", \"rock\")]],\n",
    "    [False, 'R6'],\n",
    "#     [PCA, FactorAnalysis]\n",
    "    [filters, narrowband]\n",
    "    \n",
    "):\n",
    "#     if search_terms is not None:\n",
    "#         explode_field = \"morphology\"\n",
    "#     else:\n",
    "#         explode_field = None\n",
    "    if (scale_to is not False) and (r_star is True):\n",
    "        continue     # pointless, move on\n",
    "    explode_field='None'\n",
    "    method=PCA\n",
    "    correlations, transform, figs = plot_mdex_pca(\n",
    "        scale_to = scale_to,\n",
    "        instrument=instrument,\n",
    "        explode_field = explode_field,\n",
    "        r_star = r_star,\n",
    "        search_terms = search_terms,\n",
    "        corr_fields = filts + [\n",
    "            'incidence_angle'\n",
    "        ],\n",
    "        pca_fields=filts,\n",
    "        corr_cmap=\"orange_teal\",\n",
    "        fontsize=18,\n",
    "        method=method,\n",
    "        norm_values=norm_values\n",
    "        \n",
    "    )\n",
    "    corrs.append(correlations)\n",
    "    transforms.append(transform)\n",
    "    figlist.append(figs)"
   ]
  },
  {
   "cell_type": "code",
   "execution_count": null,
   "id": "d96e9f3d",
   "metadata": {},
   "outputs": [],
   "source": [
    "plt.close('all')"
   ]
  },
  {
   "cell_type": "code",
   "execution_count": null,
   "id": "04ca9e09",
   "metadata": {},
   "outputs": [],
   "source": [
    "for figs in figlist:\n",
    "    figs['pc correlations'].show()"
   ]
  },
  {
   "cell_type": "code",
   "execution_count": null,
   "id": "e69f4494",
   "metadata": {},
   "outputs": [],
   "source": [
    "correlation_matrix(corpus[['zoom', 'sol']])"
   ]
  },
  {
   "cell_type": "code",
   "execution_count": null,
   "id": "66994f80",
   "metadata": {},
   "outputs": [],
   "source": [
    "corpus['zoom']"
   ]
  },
  {
   "cell_type": "code",
   "execution_count": null,
   "id": "8c8441cf",
   "metadata": {},
   "outputs": [],
   "source": []
  },
  {
   "cell_type": "code",
   "execution_count": null,
   "id": "a7c793cb",
   "metadata": {},
   "outputs": [],
   "source": []
  },
  {
   "cell_type": "code",
   "execution_count": null,
   "id": "89ae4bc7",
   "metadata": {},
   "outputs": [],
   "source": [
    "narrowband = [filt for filt in filters if not re.match(r\"[LR]0[RGB]\", filt)]\n",
    "search_terms=None\n",
    "norm_values = False\n",
    "pca_fields = filters\n",
    "corr_fields = filters + [\"incidence_angle\", 'r16', 'r56', 'l645']\n",
    "\n",
    "# corr_fields = filters + ['incidence_angle']\n",
    "\n",
    "corr_fields = filters \n",
    "explode_field = 'feature'\n",
    "\n",
    "# scale_to=('L1', 'R1')\n",
    "\n",
    "# corpus[\"ltst\"] = corpus[\"ltst\"].map(s_from_midnight)\n",
    "corpus['r56'] = corpus['R5'] / corpus['R6']\n",
    "corpus['r16'] = corpus['R1'] / corpus['R6']\n",
    "corpus['l645'] = ops.band_depth(\n",
    "    corpus[['L6', 'L4', 'L5']].T,\n",
    "    None,\n",
    "    wave_mapping[['L6', 'L4', 'L5']]\n",
    ")[0]\n",
    "\n",
    "\n",
    "if 'zoom' in corpus.columns:\n",
    "    corpus['zoom'] = corpus['zoom'].astype('float16')\n",
    "\n",
    "# search = search.loc[search['feature'] == 'soil']\n",
    "# fields to do pca on\n",
    "\n",
    "pca_fields = translate_fields_for_corr_graphs(filters, pca_fields)\n",
    "\n",
    "# fields to compare with the PCs\n",
    "corr_fields = translate_fields_for_corr_graphs(filters, corr_fields)\n",
    "if exploded is not None:\n",
    "    corr_fields += list(exploded.columns)\n",
    "\n",
    "# corr_fields += [band + \"_err\" for band in filters]\n",
    "pca_data, corr_data = preprocess_for_corrs(\n",
    "    corr_fields, norm_values, pca_fields, search, None\n",
    ")\n",
    "pca_data = search[pca_fields].dropna(axis=0)\n",
    "corr_data = search[corr_fields].dropna(axis=0)"
   ]
  },
  {
   "cell_type": "code",
   "execution_count": null,
   "id": "ba24c6b9",
   "metadata": {},
   "outputs": [],
   "source": [
    "corpu"
   ]
  },
  {
   "cell_type": "code",
   "execution_count": null,
   "id": "b7449a70",
   "metadata": {},
   "outputs": [],
   "source": [
    "instrument = 'ZCAM'\n",
    "spec_model = plotter.models.INSTRUMENT_MODEL_MAPPING[instrument]\n",
    "wave_mapping = pd.Series(DERIVED_CAM_DICT[instrument]['filters'])\n",
    "metadata_df = model_metadata_df(spec_model)\n",
    "filter_info = DERIVED_CAM_DICT[instrument][\"filters\"]\n",
    "filters = list(filter_info.keys())"
   ]
  },
  {
   "cell_type": "code",
   "execution_count": null,
   "id": "c2a7b380",
   "metadata": {},
   "outputs": [],
   "source": [
    "r_star=False\n",
    "scale_to=None\n",
    "# scale_to=('L6', 'R6')\n",
    "explode_field='feature'\n",
    "data_df = filter_df_from_queryset(\n",
    "    spec_model.objects.all(), r_star=r_star, scale_to=scale_to\n",
    ")\n",
    "corpus = pd.concat([metadata_df, data_df], axis=1)\n",
    "\n",
    "if (explode_field is not None) and (explode_field in corpus.columns):\n",
    "    exploded = explode_binary(corpus, explode_field)\n",
    "    search = pd.concat([corpus.copy(), exploded], axis=1)\n",
    "else:\n",
    "    exploded = None\n",
    "    search = corpus.copy()\n",
    "corr_fields = filters + list(exploded.columns)\n",
    "\n",
    "search = corpus.copy()\n",
    "search = search.dropna(\n",
    "    subset=filters+['incidence_angle'], axis=0\n",
    ")\n",
    "search[\"avg\"] = search[filters].mean(axis=1)\n",
    "\n",
    "# search = search.loc[search['incidence_angle'] < 40].copy()\n",
    "# search = search.loc[search['avg'] < 0.3].copy()\n",
    "corr_data = search[corr_fields].dropna(axis=1)\n",
    "correlations = correlation_matrix(corr_data)\n",
    "\n",
    "avg = search['avg']\n",
    "theta = search['incidence_angle']"
   ]
  },
  {
   "cell_type": "code",
   "execution_count": null,
   "id": "31d326ff",
   "metadata": {},
   "outputs": [],
   "source": [
    "exploded"
   ]
  },
  {
   "cell_type": "code",
   "execution_count": null,
   "id": "8489b870",
   "metadata": {},
   "outputs": [],
   "source": [
    "# average of err across all filters as a parameter"
   ]
  },
  {
   "cell_type": "code",
   "execution_count": null,
   "id": "c967b216",
   "metadata": {},
   "outputs": [],
   "source": [
    "pipe = Pipeline(steps=[\n",
    "    ('norm', Normalizer()),\n",
    "    ('scale', StandardScaler()),\n",
    "    ('reduce', PCA(n_components=8))\n",
    "])"
   ]
  },
  {
   "cell_type": "code",
   "execution_count": null,
   "id": "faef8fb1",
   "metadata": {},
   "outputs": [],
   "source": [
    "vectors = pca_data.T.to_dict(\"list\")\n",
    "vectarray = np.array(tuple(vectors.values()))\n",
    "transform = pipe.fit_transform(vectarray)\n",
    "transform = pd.DataFrame(transform)\n",
    "transform.columns = [\"P\" + str(column + 1) for column in transform.columns]\n"
   ]
  },
  {
   "cell_type": "code",
   "execution_count": null,
   "id": "bbf546fd",
   "metadata": {},
   "outputs": [],
   "source": [
    "plot_dimensionality_matrices(\n",
    "    correlations, \n",
    "    None,\n",
    "#     transform, \n",
    "    corr_fields, \n",
    "    corr_cmap='orange_teal', \n",
    "    fontsize=20,\n",
    "    which='features',\n",
    "    title=\" \".join(pipe.named_steps.keys())\n",
    "\n",
    ")"
   ]
  },
  {
   "cell_type": "code",
   "execution_count": null,
   "id": "35227410",
   "metadata": {},
   "outputs": [],
   "source": [
    "1/np.cos(np.radians(30))"
   ]
  },
  {
   "cell_type": "code",
   "execution_count": null,
   "id": "826c41df",
   "metadata": {},
   "outputs": [],
   "source": [
    "plt.figure()\n",
    "plt.title('no R*')\n",
    "fit_line(avg, theta)"
   ]
  },
  {
   "cell_type": "code",
   "execution_count": null,
   "id": "eb55bcdc",
   "metadata": {},
   "outputs": [],
   "source": [
    "plt.figure()\n",
    "plt.title('R*')\n",
    "fit_line(avg/np.cos(np.radians(theta)), theta)"
   ]
  },
  {
   "cell_type": "code",
   "execution_count": null,
   "id": "6983b82e",
   "metadata": {},
   "outputs": [],
   "source": [
    "explained_variance_ratios(transform)"
   ]
  },
  {
   "cell_type": "code",
   "execution_count": null,
   "id": "650b17a8",
   "metadata": {
    "scrolled": true
   },
   "outputs": [],
   "source": [
    "corr_data"
   ]
  },
  {
   "cell_type": "code",
   "execution_count": null,
   "id": "861aaa9b",
   "metadata": {},
   "outputs": [],
   "source": [
    "# pipe = noscalepipe\n",
    "# vectors = pca_data.T.to_dict(\"list\")\n",
    "# vectarray = np.array(tuple(vectors.values()))\n",
    "# transform = pipe.fit_transform(vectarray)\n",
    "# transform = pd.DataFrame(transform)\n",
    "# transform.columns = [\n",
    "#     \"P\" + str(column + 1) for column in transform.columns\n",
    "# ]\n",
    "# explained_variance_ratios(transform)\n",
    "# if \"explained_variance_ratio_\" in dir(pipe.named_steps['reduce']):\n",
    "#     explained_variance = np.round(\n",
    "#         pipe.named_steps['reduce'].explained_variance_ratio_ * 100, 2\n",
    "#     )\n",
    "# else:\n",
    "#     explained_variance = None\n",
    "# corr_frame = pd.concat([corr_data, transform], axis=1)\n",
    "corr_frame = corr_data\n",
    "correlations = correlation_matrix(corr_frame)\n",
    "\n"
   ]
  },
  {
   "cell_type": "code",
   "execution_count": null,
   "id": "d710fd49",
   "metadata": {},
   "outputs": [],
   "source": []
  },
  {
   "cell_type": "code",
   "execution_count": null,
   "id": "ab9253a0",
   "metadata": {},
   "outputs": [],
   "source": []
  },
  {
   "cell_type": "code",
   "execution_count": null,
   "id": "70177d3a",
   "metadata": {},
   "outputs": [],
   "source": [
    "from sklearn.decomposition import FastICA\n",
    "vectors = pca_data.T.to_dict(\"list\")\n",
    "vectarray = np.array(tuple(vectors.values()))\n",
    "pipe = Pipeline(steps=[\n",
    "    ('norm', Normalizer()),\n",
    "    ('scale', StandardScaler()),\n",
    "    ('ica', FastICA(n_components=8, whiten=True))\n",
    "])\n",
    "transform = pipe.fit_transform(vectarray)\n",
    "transform = pd.DataFrame(transform)\n",
    "transform.columns = [\"P\" + str(column + 1) for column in transform.columns]\n",
    "\n",
    "# corr_frame = pd.concat([corr_data, transform], axis=1)\n",
    "correlations = correlation_matrix(corr_frame)\n",
    "\n",
    "plot_dimensionality_matrices(\n",
    "    correlations, \n",
    "    transform, \n",
    "    corr_fields, \n",
    "    corr_cmap='orange_teal', \n",
    "    fontsize=20,\n",
    "    which='parameters',\n",
    "    title=\" \".join(pipe.named_steps.keys())\n",
    "\n",
    ")"
   ]
  },
  {
   "cell_type": "code",
   "execution_count": null,
   "id": "0076e5f5",
   "metadata": {},
   "outputs": [],
   "source": [
    "from sklearn.decomposition import NMF\n",
    "vectors = pca_data.T.to_dict(\"list\")\n",
    "vectarray = np.array(tuple(vectors.values()))\n",
    "pipe = Pipeline(steps=[\n",
    "    ('norm', Normalizer()),\n",
    "#     ('scale', StandardScaler()),\n",
    "    ('nmf', NMF(n_components=16, init='random', max_iter=5000))\n",
    "])\n",
    "transform = pipe.fit_transform(vectarray)\n",
    "transform = pd.DataFrame(transform)\n",
    "transform.columns = [\"P\" + str(column + 1) for column in transform.columns]\n",
    "\n",
    "corr_frame = pd.concat([corr_data, transform], axis=1)\n",
    "correlations = correlation_matrix(corr_frame)\n",
    "\n",
    "plot_dimensionality_matrices(\n",
    "    correlations, \n",
    "    transform, \n",
    "    corr_fields, \n",
    "    corr_cmap='orange_teal', \n",
    "    fontsize=20,\n",
    "    which='parameters',\n",
    "    title=\" \".join(pipe.named_steps.keys())\n",
    "\n",
    ")"
   ]
  },
  {
   "cell_type": "code",
   "execution_count": null,
   "id": "9ce26252",
   "metadata": {},
   "outputs": [],
   "source": [
    "explained_variance_ratios(transform)"
   ]
  },
  {
   "cell_type": "code",
   "execution_count": null,
   "id": "3fbd2e41",
   "metadata": {
    "scrolled": true
   },
   "outputs": [],
   "source": [
    "from sklearn.decomposition import KernelPCA\n",
    "vectors = pca_data.T.to_dict(\"list\")\n",
    "vectarray = np.array(tuple(vectors.values()))\n",
    "pipe = Pipeline(steps=[\n",
    "    ('norm', Normalizer()),\n",
    "    ('scale', StandardScaler()),\n",
    "    ('kernel', KernelPCA(n_components=16))\n",
    "])\n",
    "transform = pipe.fit_transform(vectarray)\n",
    "transform = pd.DataFrame(transform)\n",
    "transform.columns = [\"P\" + str(column + 1) for column in transform.columns]\n",
    "\n",
    "corr_frame = pd.concat([corr_data, transform], axis=1)\n",
    "correlations = correlation_matrix(corr_frame)\n",
    "\n",
    "plot_dimensionality_matrices(\n",
    "    correlations, \n",
    "    transform, \n",
    "    corr_fields, \n",
    "    corr_cmap='orange_teal', \n",
    "    fontsize=20,\n",
    "    which='parameters',\n",
    "    title=\" \".join(pipe.named_steps.keys())\n",
    "\n",
    ")"
   ]
  },
  {
   "cell_type": "code",
   "execution_count": null,
   "id": "c933a63c",
   "metadata": {},
   "outputs": [],
   "source": [
    "np.array([1,1,2,3,3]).var(axis=0)"
   ]
  },
  {
   "cell_type": "code",
   "execution_count": null,
   "id": "ab0ca428",
   "metadata": {
    "scrolled": true
   },
   "outputs": [],
   "source": []
  },
  {
   "cell_type": "code",
   "execution_count": null,
   "id": "f58c909a",
   "metadata": {},
   "outputs": [],
   "source": []
  },
  {
   "cell_type": "code",
   "execution_count": null,
   "id": "41498b4b",
   "metadata": {},
   "outputs": [],
   "source": [
    "from sklearn.metrics import explained_variance_score"
   ]
  },
  {
   "cell_type": "code",
   "execution_count": null,
   "id": "0d40da23",
   "metadata": {},
   "outputs": [],
   "source": [
    "transform"
   ]
  },
  {
   "cell_type": "code",
   "execution_count": null,
   "id": "402f24f6",
   "metadata": {},
   "outputs": [],
   "source": [
    "vectarray.shape"
   ]
  },
  {
   "cell_type": "code",
   "execution_count": null,
   "id": "96f1b427",
   "metadata": {},
   "outputs": [],
   "source": [
    "from fit import coef_det"
   ]
  },
  {
   "cell_type": "code",
   "execution_count": null,
   "id": "97cdfe75",
   "metadata": {},
   "outputs": [],
   "source": [
    "plot_dimensionality_matrices?"
   ]
  }
 ],
 "metadata": {
  "kernelspec": {
   "display_name": "Python 3",
   "language": "python",
   "name": "python3"
  },
  "language_info": {
   "codemirror_mode": {
    "name": "ipython",
    "version": 3
   },
   "file_extension": ".py",
   "mimetype": "text/x-python",
   "name": "python",
   "nbconvert_exporter": "python",
   "pygments_lexer": "ipython3",
   "version": "3.9.4"
  }
 },
 "nbformat": 4,
 "nbformat_minor": 5
}
