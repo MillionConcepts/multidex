{
 "cells": [
  {
   "cell_type": "code",
   "execution_count": 2,
   "id": "9277542b",
   "metadata": {},
   "outputs": [],
   "source": [
    "import os\n",
    "from itertools import product\n",
    "import re\n",
    "\n",
    "import django\n",
    "import matplotlib.colors as mcolors\n",
    "import matplotlib.pyplot as plt\n",
    "import numpy as np\n",
    "import pandas as pd\n",
    "from matplotlib.cm import register_cmap\n",
    "from matplotlib.colors import ListedColormap\n",
    "from sklearn.decomposition import PCA, FactorAnalysis\n",
    "import marslab.spectops as ops\n",
    "from fit import correlation_matrix\n",
    "from marslab.imgops.imgutils import normalize_range\n",
    "from marslab.compat.xcam import DERIVED_CAM_DICT\n",
    "from sklearn.preprocessing import StandardScaler, Normalizer\n",
    "from sklearn.pipeline import Pipeline\n",
    "from marslab.imgops.pltutils import attach_axis, set_colorbar_font\n",
    "\n",
    "\n",
    "from correlate import (\n",
    "    s_from_midnight, explode_binary, translate_fields_for_corr_graphs,\n",
    "    preprocess_for_corrs, plot_dimensionality_matrices,\n",
    "    plot_mdex_pca\n",
    ")\n",
    "\n",
    "# os.chdir(\"..\")\n",
    "\n",
    "os.environ.setdefault(\"DJANGO_SETTINGS_MODULE\", \"multidex.settings\")\n",
    "os.environ[\"DJANGO_ALLOW_ASYNC_UNSAFE\"] = \"true\"\n",
    "\n",
    "django.setup()\n",
    "import plotter.models\n",
    "from plotter.spectrum_ops import filter_df_from_queryset\n",
    "from multidex_utils import model_metadata_df\n",
    "\n",
    "%matplotlib qt\n",
    "%matplotlib qt"
   ]
  },
  {
   "cell_type": "code",
   "execution_count": 3,
   "id": "66df9ce1",
   "metadata": {},
   "outputs": [],
   "source": [
    "def explained_variance_ratios(array):\n",
    "    variances = array.var(axis=0)\n",
    "    total = sum(variances)\n",
    "    return variances / total"
   ]
  },
  {
   "cell_type": "code",
   "execution_count": 5,
   "id": "d1a50cba",
   "metadata": {},
   "outputs": [],
   "source": [
    "instrument = \"ZCAM\"\n",
    "filter_info = DERIVED_CAM_DICT[instrument][\"filters\"]\n",
    "filters = list(filter_info.keys())\n",
    "narrowband = [filt for filt in filters if not re.match(r\"[LR]0[RGB]\", filt)]\n"
   ]
  },
  {
   "cell_type": "code",
   "execution_count": null,
   "id": "da8c765a",
   "metadata": {
    "scrolled": false
   },
   "outputs": [],
   "source": [
    "plt.rcParams[\"figure.figsize\"] = (11, 11)\n",
    "corrs = []\n",
    "transforms = []\n",
    "figlist = []\n",
    "for r_star, scale_to, search_terms, norm_values, filts in product(\n",
    "    [False, True],\n",
    "#     [None, (\"L1\", \"R1\")],\n",
    "    [None],\n",
    "    [None],\n",
    "#     [None, [(\"feature\", \"rock\")]],\n",
    "    [False, 'R6'],\n",
    "#     [PCA, FactorAnalysis]\n",
    "    [filters, narrowband]\n",
    "    \n",
    "):\n",
    "#     if search_terms is not None:\n",
    "#         explode_field = \"morphology\"\n",
    "#     else:\n",
    "#         explode_field = None\n",
    "    if (scale_to is not False) and (r_star is True):\n",
    "        continue     # pointless, move on\n",
    "    explode_field=None\n",
    "    method=PCA\n",
    "    correlations, transform, figs = plot_mdex_pca(\n",
    "        scale_to = scale_to,\n",
    "        instrument=instrument,\n",
    "        explode_field = explode_field,\n",
    "        r_star = r_star,\n",
    "        search_terms = search_terms,\n",
    "        corr_fields = filts + [\n",
    "            'incidence_angle'\n",
    "        ],\n",
    "        pca_fields=filts,\n",
    "        corr_cmap=\"orange_teal\",\n",
    "        fontsize=18,\n",
    "        method=method,\n",
    "        norm_values=norm_values\n",
    "        \n",
    "    )\n",
    "    corrs.append(correlations)\n",
    "    transforms.append(transform)\n",
    "    figlist.append(figs)"
   ]
  },
  {
   "cell_type": "code",
   "execution_count": null,
   "id": "d96e9f3d",
   "metadata": {},
   "outputs": [],
   "source": [
    "plt.close('all')"
   ]
  },
  {
   "cell_type": "code",
   "execution_count": null,
   "id": "04ca9e09",
   "metadata": {},
   "outputs": [],
   "source": [
    "for figs in figlist:\n",
    "    figs['pc correlations'].show()"
   ]
  },
  {
   "cell_type": "code",
   "execution_count": 24,
   "id": "65c7a723",
   "metadata": {},
   "outputs": [],
   "source": [
    "from fit import correlation_matrix"
   ]
  },
  {
   "cell_type": "code",
   "execution_count": 34,
   "id": "940d8390",
   "metadata": {},
   "outputs": [
    {
     "data": {
      "text/html": [
       "<div>\n",
       "<style scoped>\n",
       "    .dataframe tbody tr th:only-of-type {\n",
       "        vertical-align: middle;\n",
       "    }\n",
       "\n",
       "    .dataframe tbody tr th {\n",
       "        vertical-align: top;\n",
       "    }\n",
       "\n",
       "    .dataframe thead th {\n",
       "        text-align: right;\n",
       "    }\n",
       "</style>\n",
       "<table border=\"1\" class=\"dataframe\">\n",
       "  <thead>\n",
       "    <tr style=\"text-align: right;\">\n",
       "      <th></th>\n",
       "      <th>zoom</th>\n",
       "      <th>sol</th>\n",
       "    </tr>\n",
       "  </thead>\n",
       "  <tbody>\n",
       "    <tr>\n",
       "      <th>zoom</th>\n",
       "      <td>1.00</td>\n",
       "      <td>0.51</td>\n",
       "    </tr>\n",
       "    <tr>\n",
       "      <th>sol</th>\n",
       "      <td>0.51</td>\n",
       "      <td>1.00</td>\n",
       "    </tr>\n",
       "  </tbody>\n",
       "</table>\n",
       "</div>"
      ],
      "text/plain": [
       "      zoom   sol\n",
       "zoom  1.00  0.51\n",
       "sol   0.51  1.00"
      ]
     },
     "execution_count": 34,
     "metadata": {},
     "output_type": "execute_result"
    }
   ],
   "source": [
    "correlation_matrix(corpus[['zoom', 'sol']])"
   ]
  },
  {
   "cell_type": "code",
   "execution_count": 32,
   "id": "56a50a2a",
   "metadata": {},
   "outputs": [
    {
     "data": {
      "text/plain": [
       "1      110\n",
       "2      110\n",
       "3      110\n",
       "4      110\n",
       "5      110\n",
       "      ... \n",
       "317     34\n",
       "318     63\n",
       "319     63\n",
       "320     63\n",
       "321     63\n",
       "Name: zoom, Length: 321, dtype: object"
      ]
     },
     "execution_count": 32,
     "metadata": {},
     "output_type": "execute_result"
    }
   ],
   "source": [
    "corpus['zoom']"
   ]
  },
  {
   "cell_type": "code",
   "execution_count": 186,
   "id": "89ae4bc7",
   "metadata": {},
   "outputs": [],
   "source": [
    "instrument='ZCAM'\n",
    "spec_model = plotter.models.INSTRUMENT_MODEL_MAPPING[instrument]\n",
    "wave_mapping = pd.Series(DERIVED_CAM_DICT[instrument]['filters'])\n",
    "narrowband = [filt for filt in filters if not re.match(r\"[LR]0[RGB]\", filt)]\n",
    "filter_info = DERIVED_CAM_DICT[instrument][\"filters\"]\n",
    "filters = list(filter_info.keys())\n",
    "metadata_df = model_metadata_df(spec_model)\n",
    "search_terms=None\n",
    "norm_values = False\n",
    "pca_fields = filters\n",
    "# corr_fields = filters + [\"incidence_angle\", 'r16', 'r56', 'l645']\n",
    "# corr_fields = filters + [\"incidence_angle\", \"zoom\", 'sol']\n",
    "# corr_fields = filters + [\"incidence_angle\", 'ltst', 'sclk']\n",
    "corr_fields = filters + ['feature']\n",
    "explode_field = None\n",
    "r_star=True\n",
    "# scale_to=('L1', 'R1')\n",
    "scale_to=None\n",
    "# scale_to=('L6', 'R6')\n",
    "\n",
    "data_df = filter_df_from_queryset(\n",
    "    spec_model.objects.all(), r_star=r_star, scale_to=scale_to\n",
    ")\n",
    "corpus = pd.concat([metadata_df, data_df], axis=1)\n",
    "# corpus[\"ltst\"] = corpus[\"ltst\"].map(s_from_midnight)\n",
    "# corpus[\"avg\"] = corpus[filters].mean(axis=1)\n",
    "# corpus['r56'] = corpus['R5'] / corpus['R6']\n",
    "# corpus['r16'] = corpus['R1'] / corpus['R6']\n",
    "# corpus['l645'] = ops.band_depth(\n",
    "#     corpus[['L6', 'L4', 'L5']].T,\n",
    "#     None,\n",
    "#     wave_mapping[['L6', 'L4', 'L5']]\n",
    "# )[0]\n",
    "# if 'zoom' in corpus.columns:\n",
    "#     corpus['zoom'] = corpus['zoom'].astype('float16')\n",
    "if (explode_field is not None) and (explode_field in corpus.columns):\n",
    "    exploded = explode_binary(corpus, explode_field)\n",
    "    search = pd.concat([corpus.copy(), exploded], axis=1)\n",
    "else:\n",
    "    exploded = None\n",
    "    search = corpus.copy()\n",
    "\n",
    "# fields to do pca on\n",
    "pca_fields = translate_fields_for_corr_graphs(filters, pca_fields)\n",
    "\n",
    "# fields to compare with the PCs\n",
    "corr_fields = translate_fields_for_corr_graphs(filters, corr_fields)\n",
    "if exploded is not None:\n",
    "    corr_fields += list(exploded.columns)\n",
    "# corr_fields += [band + \"_err\" for band in filters]\n",
    "# pca_data, corr_data = preprocess_for_corrs(\n",
    "#     corr_fields, norm_values, pca_fields, search, search_terms\n",
    "# )\n",
    "# pca_data = search[pca_fields].dropna(axis=0)\n",
    "corr_data = search[corr_fields].dropna(axis=0)"
   ]
  },
  {
   "cell_type": "code",
   "execution_count": 187,
   "id": "3bdf6567",
   "metadata": {},
   "outputs": [
    {
     "data": {
      "text/html": [
       "<div>\n",
       "<style scoped>\n",
       "    .dataframe tbody tr th:only-of-type {\n",
       "        vertical-align: middle;\n",
       "    }\n",
       "\n",
       "    .dataframe tbody tr th {\n",
       "        vertical-align: top;\n",
       "    }\n",
       "\n",
       "    .dataframe thead th {\n",
       "        text-align: right;\n",
       "    }\n",
       "</style>\n",
       "<table border=\"1\" class=\"dataframe\">\n",
       "  <thead>\n",
       "    <tr style=\"text-align: right;\">\n",
       "      <th></th>\n",
       "      <th>L6</th>\n",
       "      <th>L0B</th>\n",
       "      <th>R0B</th>\n",
       "      <th>L5</th>\n",
       "      <th>L0G</th>\n",
       "      <th>R0G</th>\n",
       "      <th>L4</th>\n",
       "      <th>L0R</th>\n",
       "      <th>R0R</th>\n",
       "      <th>L3</th>\n",
       "      <th>L2</th>\n",
       "      <th>L1</th>\n",
       "      <th>R1</th>\n",
       "      <th>R2</th>\n",
       "      <th>R3</th>\n",
       "      <th>R4</th>\n",
       "      <th>R5</th>\n",
       "      <th>R6</th>\n",
       "      <th>feature</th>\n",
       "    </tr>\n",
       "  </thead>\n",
       "  <tbody>\n",
       "    <tr>\n",
       "      <th>1</th>\n",
       "      <td>0.072222</td>\n",
       "      <td>0.080999</td>\n",
       "      <td>0.082412</td>\n",
       "      <td>0.099139</td>\n",
       "      <td>0.116740</td>\n",
       "      <td>0.119189</td>\n",
       "      <td>0.180036</td>\n",
       "      <td>0.200325</td>\n",
       "      <td>0.194455</td>\n",
       "      <td>0.235365</td>\n",
       "      <td>0.243744</td>\n",
       "      <td>0.233042</td>\n",
       "      <td>0.243213</td>\n",
       "      <td>0.226327</td>\n",
       "      <td>0.222173</td>\n",
       "      <td>0.226166</td>\n",
       "      <td>0.228479</td>\n",
       "      <td>0.235168</td>\n",
       "      <td>rock</td>\n",
       "    </tr>\n",
       "    <tr>\n",
       "      <th>2</th>\n",
       "      <td>0.088154</td>\n",
       "      <td>0.095664</td>\n",
       "      <td>0.086872</td>\n",
       "      <td>0.111945</td>\n",
       "      <td>0.128799</td>\n",
       "      <td>0.126195</td>\n",
       "      <td>0.177291</td>\n",
       "      <td>0.194865</td>\n",
       "      <td>0.202656</td>\n",
       "      <td>0.221459</td>\n",
       "      <td>0.243827</td>\n",
       "      <td>0.242504</td>\n",
       "      <td>0.240988</td>\n",
       "      <td>0.238397</td>\n",
       "      <td>0.240533</td>\n",
       "      <td>0.236284</td>\n",
       "      <td>0.245700</td>\n",
       "      <td>0.242829</td>\n",
       "      <td>rock</td>\n",
       "    </tr>\n",
       "    <tr>\n",
       "      <th>3</th>\n",
       "      <td>0.065467</td>\n",
       "      <td>0.079607</td>\n",
       "      <td>0.083772</td>\n",
       "      <td>0.109189</td>\n",
       "      <td>0.128300</td>\n",
       "      <td>0.129443</td>\n",
       "      <td>0.200457</td>\n",
       "      <td>0.218309</td>\n",
       "      <td>0.232699</td>\n",
       "      <td>0.256118</td>\n",
       "      <td>0.281261</td>\n",
       "      <td>0.281770</td>\n",
       "      <td>0.287497</td>\n",
       "      <td>0.272505</td>\n",
       "      <td>0.279499</td>\n",
       "      <td>0.276099</td>\n",
       "      <td>0.279329</td>\n",
       "      <td>0.283034</td>\n",
       "      <td>rock</td>\n",
       "    </tr>\n",
       "    <tr>\n",
       "      <th>4</th>\n",
       "      <td>0.096357</td>\n",
       "      <td>0.102721</td>\n",
       "      <td>0.106567</td>\n",
       "      <td>0.113464</td>\n",
       "      <td>0.131139</td>\n",
       "      <td>0.137448</td>\n",
       "      <td>0.176554</td>\n",
       "      <td>0.198964</td>\n",
       "      <td>0.206228</td>\n",
       "      <td>0.223834</td>\n",
       "      <td>0.239356</td>\n",
       "      <td>0.237405</td>\n",
       "      <td>0.246907</td>\n",
       "      <td>0.230447</td>\n",
       "      <td>0.241505</td>\n",
       "      <td>0.242392</td>\n",
       "      <td>0.240957</td>\n",
       "      <td>0.243196</td>\n",
       "      <td>rock</td>\n",
       "    </tr>\n",
       "    <tr>\n",
       "      <th>5</th>\n",
       "      <td>0.063126</td>\n",
       "      <td>0.073812</td>\n",
       "      <td>0.070695</td>\n",
       "      <td>0.095568</td>\n",
       "      <td>0.109957</td>\n",
       "      <td>0.106322</td>\n",
       "      <td>0.168386</td>\n",
       "      <td>0.180775</td>\n",
       "      <td>0.185341</td>\n",
       "      <td>0.208744</td>\n",
       "      <td>0.238193</td>\n",
       "      <td>0.234631</td>\n",
       "      <td>0.230979</td>\n",
       "      <td>0.218020</td>\n",
       "      <td>0.219707</td>\n",
       "      <td>0.217391</td>\n",
       "      <td>0.221618</td>\n",
       "      <td>0.227225</td>\n",
       "      <td>rock</td>\n",
       "    </tr>\n",
       "    <tr>\n",
       "      <th>...</th>\n",
       "      <td>...</td>\n",
       "      <td>...</td>\n",
       "      <td>...</td>\n",
       "      <td>...</td>\n",
       "      <td>...</td>\n",
       "      <td>...</td>\n",
       "      <td>...</td>\n",
       "      <td>...</td>\n",
       "      <td>...</td>\n",
       "      <td>...</td>\n",
       "      <td>...</td>\n",
       "      <td>...</td>\n",
       "      <td>...</td>\n",
       "      <td>...</td>\n",
       "      <td>...</td>\n",
       "      <td>...</td>\n",
       "      <td>...</td>\n",
       "      <td>...</td>\n",
       "      <td>...</td>\n",
       "    </tr>\n",
       "    <tr>\n",
       "      <th>317</th>\n",
       "      <td>0.090819</td>\n",
       "      <td>0.104868</td>\n",
       "      <td>0.105656</td>\n",
       "      <td>0.132851</td>\n",
       "      <td>0.144694</td>\n",
       "      <td>0.146213</td>\n",
       "      <td>0.207485</td>\n",
       "      <td>0.217992</td>\n",
       "      <td>0.223417</td>\n",
       "      <td>0.244759</td>\n",
       "      <td>0.257619</td>\n",
       "      <td>0.250467</td>\n",
       "      <td>0.260452</td>\n",
       "      <td>0.245925</td>\n",
       "      <td>0.242965</td>\n",
       "      <td>0.241346</td>\n",
       "      <td>0.241438</td>\n",
       "      <td>0.237125</td>\n",
       "      <td>pebble</td>\n",
       "    </tr>\n",
       "    <tr>\n",
       "      <th>318</th>\n",
       "      <td>0.091603</td>\n",
       "      <td>0.105510</td>\n",
       "      <td>0.106637</td>\n",
       "      <td>0.133381</td>\n",
       "      <td>0.150925</td>\n",
       "      <td>0.155868</td>\n",
       "      <td>0.216670</td>\n",
       "      <td>0.229963</td>\n",
       "      <td>0.234644</td>\n",
       "      <td>0.253368</td>\n",
       "      <td>0.268797</td>\n",
       "      <td>0.261489</td>\n",
       "      <td>0.271283</td>\n",
       "      <td>0.258299</td>\n",
       "      <td>0.257945</td>\n",
       "      <td>0.256944</td>\n",
       "      <td>0.259069</td>\n",
       "      <td>0.257204</td>\n",
       "      <td>rock</td>\n",
       "    </tr>\n",
       "    <tr>\n",
       "      <th>319</th>\n",
       "      <td>0.082933</td>\n",
       "      <td>0.102542</td>\n",
       "      <td>0.105261</td>\n",
       "      <td>0.137470</td>\n",
       "      <td>0.157088</td>\n",
       "      <td>0.163465</td>\n",
       "      <td>0.233388</td>\n",
       "      <td>0.251349</td>\n",
       "      <td>0.256410</td>\n",
       "      <td>0.276584</td>\n",
       "      <td>0.295920</td>\n",
       "      <td>0.294129</td>\n",
       "      <td>0.299777</td>\n",
       "      <td>0.287696</td>\n",
       "      <td>0.286022</td>\n",
       "      <td>0.285333</td>\n",
       "      <td>0.286627</td>\n",
       "      <td>0.285842</td>\n",
       "      <td>rock</td>\n",
       "    </tr>\n",
       "    <tr>\n",
       "      <th>320</th>\n",
       "      <td>0.077842</td>\n",
       "      <td>0.099373</td>\n",
       "      <td>0.103351</td>\n",
       "      <td>0.138536</td>\n",
       "      <td>0.164123</td>\n",
       "      <td>0.173747</td>\n",
       "      <td>0.266175</td>\n",
       "      <td>0.290157</td>\n",
       "      <td>0.304784</td>\n",
       "      <td>0.332353</td>\n",
       "      <td>0.366180</td>\n",
       "      <td>0.364294</td>\n",
       "      <td>0.384236</td>\n",
       "      <td>0.367852</td>\n",
       "      <td>0.368574</td>\n",
       "      <td>0.368751</td>\n",
       "      <td>0.372142</td>\n",
       "      <td>0.369796</td>\n",
       "      <td>rock</td>\n",
       "    </tr>\n",
       "    <tr>\n",
       "      <th>321</th>\n",
       "      <td>0.057804</td>\n",
       "      <td>0.069889</td>\n",
       "      <td>0.072115</td>\n",
       "      <td>0.093274</td>\n",
       "      <td>0.107708</td>\n",
       "      <td>0.112771</td>\n",
       "      <td>0.167966</td>\n",
       "      <td>0.182081</td>\n",
       "      <td>0.187178</td>\n",
       "      <td>0.206742</td>\n",
       "      <td>0.223385</td>\n",
       "      <td>0.218900</td>\n",
       "      <td>0.225724</td>\n",
       "      <td>0.209898</td>\n",
       "      <td>0.206909</td>\n",
       "      <td>0.204895</td>\n",
       "      <td>0.205202</td>\n",
       "      <td>0.208499</td>\n",
       "      <td>soil</td>\n",
       "    </tr>\n",
       "  </tbody>\n",
       "</table>\n",
       "<p>313 rows × 19 columns</p>\n",
       "</div>"
      ],
      "text/plain": [
       "           L6       L0B       R0B        L5       L0G       R0G        L4  \\\n",
       "1    0.072222  0.080999  0.082412  0.099139  0.116740  0.119189  0.180036   \n",
       "2    0.088154  0.095664  0.086872  0.111945  0.128799  0.126195  0.177291   \n",
       "3    0.065467  0.079607  0.083772  0.109189  0.128300  0.129443  0.200457   \n",
       "4    0.096357  0.102721  0.106567  0.113464  0.131139  0.137448  0.176554   \n",
       "5    0.063126  0.073812  0.070695  0.095568  0.109957  0.106322  0.168386   \n",
       "..        ...       ...       ...       ...       ...       ...       ...   \n",
       "317  0.090819  0.104868  0.105656  0.132851  0.144694  0.146213  0.207485   \n",
       "318  0.091603  0.105510  0.106637  0.133381  0.150925  0.155868  0.216670   \n",
       "319  0.082933  0.102542  0.105261  0.137470  0.157088  0.163465  0.233388   \n",
       "320  0.077842  0.099373  0.103351  0.138536  0.164123  0.173747  0.266175   \n",
       "321  0.057804  0.069889  0.072115  0.093274  0.107708  0.112771  0.167966   \n",
       "\n",
       "          L0R       R0R        L3        L2        L1        R1        R2  \\\n",
       "1    0.200325  0.194455  0.235365  0.243744  0.233042  0.243213  0.226327   \n",
       "2    0.194865  0.202656  0.221459  0.243827  0.242504  0.240988  0.238397   \n",
       "3    0.218309  0.232699  0.256118  0.281261  0.281770  0.287497  0.272505   \n",
       "4    0.198964  0.206228  0.223834  0.239356  0.237405  0.246907  0.230447   \n",
       "5    0.180775  0.185341  0.208744  0.238193  0.234631  0.230979  0.218020   \n",
       "..        ...       ...       ...       ...       ...       ...       ...   \n",
       "317  0.217992  0.223417  0.244759  0.257619  0.250467  0.260452  0.245925   \n",
       "318  0.229963  0.234644  0.253368  0.268797  0.261489  0.271283  0.258299   \n",
       "319  0.251349  0.256410  0.276584  0.295920  0.294129  0.299777  0.287696   \n",
       "320  0.290157  0.304784  0.332353  0.366180  0.364294  0.384236  0.367852   \n",
       "321  0.182081  0.187178  0.206742  0.223385  0.218900  0.225724  0.209898   \n",
       "\n",
       "           R3        R4        R5        R6 feature  \n",
       "1    0.222173  0.226166  0.228479  0.235168    rock  \n",
       "2    0.240533  0.236284  0.245700  0.242829    rock  \n",
       "3    0.279499  0.276099  0.279329  0.283034    rock  \n",
       "4    0.241505  0.242392  0.240957  0.243196    rock  \n",
       "5    0.219707  0.217391  0.221618  0.227225    rock  \n",
       "..        ...       ...       ...       ...     ...  \n",
       "317  0.242965  0.241346  0.241438  0.237125  pebble  \n",
       "318  0.257945  0.256944  0.259069  0.257204    rock  \n",
       "319  0.286022  0.285333  0.286627  0.285842    rock  \n",
       "320  0.368574  0.368751  0.372142  0.369796    rock  \n",
       "321  0.206909  0.204895  0.205202  0.208499    soil  \n",
       "\n",
       "[313 rows x 19 columns]"
      ]
     },
     "execution_count": 187,
     "metadata": {},
     "output_type": "execute_result"
    }
   ],
   "source": [
    "corr_data"
   ]
  },
  {
   "cell_type": "code",
   "execution_count": 143,
   "id": "26c112eb",
   "metadata": {},
   "outputs": [],
   "source": [
    "pca_data = corr_data[pca_fields]"
   ]
  },
  {
   "cell_type": "code",
   "execution_count": 118,
   "id": "3d8d91fa",
   "metadata": {},
   "outputs": [],
   "source": [
    "from sklearn.preprocessing import StandardScaler, Normalizer\n",
    "from sklearn.pipeline import Pipeline"
   ]
  },
  {
   "cell_type": "code",
   "execution_count": 135,
   "id": "fbef3af7",
   "metadata": {},
   "outputs": [],
   "source": [
    "def explained_variance_ratios(array):\n",
    "    variances = array.var(axis=0)\n",
    "    total = sum(variances)\n",
    "    return variances / total"
   ]
  },
  {
   "cell_type": "code",
   "execution_count": 179,
   "id": "021b5832",
   "metadata": {},
   "outputs": [
    {
     "data": {
      "text/plain": [
       "0.08399890072858918"
      ]
     },
     "execution_count": 179,
     "metadata": {},
     "output_type": "execute_result"
    }
   ],
   "source": [
    "pca_data['L2'].mean()"
   ]
  },
  {
   "cell_type": "code",
   "execution_count": 160,
   "id": "5e344b0f",
   "metadata": {},
   "outputs": [],
   "source": [
    "pca_data = pca_data.sort_values(by=\"L2\")"
   ]
  },
  {
   "cell_type": "code",
   "execution_count": 164,
   "id": "e6ff00c7",
   "metadata": {},
   "outputs": [],
   "source": [
    "vectors = pca_data.T.to_dict(\"list\")\n",
    "vectarray = np.array(tuple(vectors.values()))\n",
    "transform = pipe.fit_transform(vectarray)"
   ]
  },
  {
   "cell_type": "code",
   "execution_count": 175,
   "id": "89da515e",
   "metadata": {},
   "outputs": [
    {
     "data": {
      "text/plain": [
       "0.08399890072858918"
      ]
     },
     "execution_count": 175,
     "metadata": {},
     "output_type": "execute_result"
    }
   ],
   "source": [
    "pca_data['L2'].mean()"
   ]
  },
  {
   "cell_type": "code",
   "execution_count": 180,
   "id": "097041dc",
   "metadata": {},
   "outputs": [],
   "source": [
    "from plotter.reduction import default_multidex_pipeline"
   ]
  },
  {
   "cell_type": "code",
   "execution_count": 182,
   "id": "b92105e8",
   "metadata": {},
   "outputs": [],
   "source": [
    "pipe = default_multidex_pipeline()"
   ]
  },
  {
   "cell_type": "code",
   "execution_count": 178,
   "id": "bd189e2a",
   "metadata": {},
   "outputs": [
    {
     "data": {
      "text/plain": [
       "0.09292413975327307"
      ]
     },
     "execution_count": 178,
     "metadata": {},
     "output_type": "execute_result"
    }
   ],
   "source": [
    "pca_data['R2'].mean()"
   ]
  },
  {
   "cell_type": "code",
   "execution_count": 176,
   "id": "ad9c5836",
   "metadata": {},
   "outputs": [
    {
     "data": {
      "text/plain": [
       "Pipeline(steps=[('norm', Normalizer()), ('scale', StandardScaler()),\n",
       "                ('reduce', PCA(n_components=8))])"
      ]
     },
     "execution_count": 176,
     "metadata": {},
     "output_type": "execute_result"
    }
   ],
   "source": [
    "pipe"
   ]
  },
  {
   "cell_type": "code",
   "execution_count": 165,
   "id": "861aaa9b",
   "metadata": {},
   "outputs": [
    {
     "data": {
      "text/plain": [
       "{'parameters': <Figure size 640x480 with 2 Axes>}"
      ]
     },
     "execution_count": 165,
     "metadata": {},
     "output_type": "execute_result"
    }
   ],
   "source": [
    "\n",
    "transform = pd.DataFrame(transform)\n",
    "transform.columns = [\n",
    "    \"P\" + str(column + 1) for column in transform.columns\n",
    "]\n",
    "# explained_variance_ratios(transform)\n",
    "# if \"explained_variance_ratio_\" in dir(pipe.named_steps['reduce']):\n",
    "#     explained_variance = np.round(\n",
    "#         pipe.named_steps['reduce'].explained_variance_ratio_ * 100, 2\n",
    "#     )\n",
    "# else:\n",
    "#     explained_variance = None\n",
    "# corr_frame = pd.concat([corr_data, transform], axis=1)\n",
    "# correlations = correlation_matrix(corr_frame)\n",
    "\n",
    "plot_dimensionality_matrices(\n",
    "    correlations, \n",
    "    transform, \n",
    "    corr_fields, \n",
    "    explained_variance=explained_variance,\n",
    "    corr_cmap='orange_teal', \n",
    "    fontsize=20,\n",
    "    which='parameters',\n",
    "    title=\" \".join(pipe.named_steps.keys())\n",
    "\n",
    ")"
   ]
  },
  {
   "cell_type": "code",
   "execution_count": 147,
   "id": "9b0a2fd9",
   "metadata": {},
   "outputs": [
    {
     "data": {
      "text/plain": [
       "P1    0.661730\n",
       "P2    0.206868\n",
       "P3    0.090439\n",
       "P4    0.014780\n",
       "P5    0.011854\n",
       "P6    0.005445\n",
       "P7    0.004849\n",
       "P8    0.004037\n",
       "dtype: float64"
      ]
     },
     "execution_count": 147,
     "metadata": {},
     "output_type": "execute_result"
    }
   ],
   "source": [
    "explained_variance_ratios(transform)"
   ]
  },
  {
   "cell_type": "code",
   "execution_count": 185,
   "id": "8e1f0cec",
   "metadata": {},
   "outputs": [],
   "source": [
    "PCA??"
   ]
  },
  {
   "cell_type": "code",
   "execution_count": 107,
   "id": "70177d3a",
   "metadata": {},
   "outputs": [
    {
     "data": {
      "text/plain": [
       "{'parameters': <Figure size 640x480 with 2 Axes>}"
      ]
     },
     "execution_count": 107,
     "metadata": {},
     "output_type": "execute_result"
    }
   ],
   "source": [
    "from sklearn.decomposition import FastICA\n",
    "vectors = pca_data.T.to_dict(\"list\")\n",
    "vectarray = np.array(tuple(vectors.values()))\n",
    "pipe = Pipeline(steps=[\n",
    "    ('norm', Normalizer()),\n",
    "    ('scale', StandardScaler()),\n",
    "    ('ica', FastICA(n_components=8, whiten=True))\n",
    "])\n",
    "transform = pipe.fit_transform(vectarray)\n",
    "transform = pd.DataFrame(transform)\n",
    "transform.columns = [\"P\" + str(column + 1) for column in transform.columns]\n",
    "\n",
    "corr_frame = pd.concat([corr_data, transform], axis=1)\n",
    "correlations = correlation_matrix(corr_frame)\n",
    "\n",
    "plot_dimensionality_matrices(\n",
    "    correlations, \n",
    "    transform, \n",
    "    corr_fields, \n",
    "    corr_cmap='orange_teal', \n",
    "    fontsize=20,\n",
    "    which='parameters',\n",
    "    title=\" \".join(pipe.named_steps.keys())\n",
    "\n",
    ")"
   ]
  },
  {
   "cell_type": "code",
   "execution_count": 120,
   "id": "0076e5f5",
   "metadata": {},
   "outputs": [
    {
     "data": {
      "text/plain": [
       "{'parameters': <Figure size 640x480 with 2 Axes>}"
      ]
     },
     "execution_count": 120,
     "metadata": {},
     "output_type": "execute_result"
    }
   ],
   "source": [
    "from sklearn.decomposition import NMF\n",
    "vectors = pca_data.T.to_dict(\"list\")\n",
    "vectarray = np.array(tuple(vectors.values()))\n",
    "pipe = Pipeline(steps=[\n",
    "    ('norm', Normalizer()),\n",
    "#     ('scale', StandardScaler()),\n",
    "    ('nmf', NMF(n_components=16, init='random', max_iter=5000))\n",
    "])\n",
    "transform = pipe.fit_transform(vectarray)\n",
    "transform = pd.DataFrame(transform)\n",
    "transform.columns = [\"P\" + str(column + 1) for column in transform.columns]\n",
    "\n",
    "corr_frame = pd.concat([corr_data, transform], axis=1)\n",
    "correlations = correlation_matrix(corr_frame)\n",
    "\n",
    "plot_dimensionality_matrices(\n",
    "    correlations, \n",
    "    transform, \n",
    "    corr_fields, \n",
    "    corr_cmap='orange_teal', \n",
    "    fontsize=20,\n",
    "    which='parameters',\n",
    "    title=\" \".join(pipe.named_steps.keys())\n",
    "\n",
    ")"
   ]
  },
  {
   "cell_type": "code",
   "execution_count": 117,
   "id": "9ce26252",
   "metadata": {},
   "outputs": [
    {
     "data": {
      "text/plain": [
       "P1     0.194671\n",
       "P2     0.227756\n",
       "P3     0.028433\n",
       "P4     0.037464\n",
       "P5     0.032736\n",
       "P6     0.035942\n",
       "P7     0.019016\n",
       "P8     0.019965\n",
       "P9     0.025239\n",
       "P10    0.023616\n",
       "P11    0.051665\n",
       "P12    0.025683\n",
       "P13    0.086045\n",
       "P14    0.001573\n",
       "P15    0.036302\n",
       "P16    0.153895\n",
       "dtype: float64"
      ]
     },
     "execution_count": 117,
     "metadata": {},
     "output_type": "execute_result"
    }
   ],
   "source": [
    "explained_variance_ratios(transform)"
   ]
  },
  {
   "cell_type": "code",
   "execution_count": 103,
   "id": "3fbd2e41",
   "metadata": {
    "scrolled": true
   },
   "outputs": [
    {
     "data": {
      "text/plain": [
       "{'parameters': <Figure size 640x480 with 2 Axes>}"
      ]
     },
     "execution_count": 103,
     "metadata": {},
     "output_type": "execute_result"
    }
   ],
   "source": [
    "from sklearn.decomposition import KernelPCA\n",
    "vectors = pca_data.T.to_dict(\"list\")\n",
    "vectarray = np.array(tuple(vectors.values()))\n",
    "pipe = Pipeline(steps=[\n",
    "    ('norm', Normalizer()),\n",
    "    ('scale', StandardScaler()),\n",
    "    ('kernel', KernelPCA(n_components=16))\n",
    "])\n",
    "transform = pipe.fit_transform(vectarray)\n",
    "transform = pd.DataFrame(transform)\n",
    "transform.columns = [\"P\" + str(column + 1) for column in transform.columns]\n",
    "\n",
    "corr_frame = pd.concat([corr_data, transform], axis=1)\n",
    "correlations = correlation_matrix(corr_frame)\n",
    "\n",
    "plot_dimensionality_matrices(\n",
    "    correlations, \n",
    "    transform, \n",
    "    corr_fields, \n",
    "    corr_cmap='orange_teal', \n",
    "    fontsize=20,\n",
    "    which='parameters',\n",
    "    title=\" \".join(pipe.named_steps.keys())\n",
    "\n",
    ")"
   ]
  },
  {
   "cell_type": "code",
   "execution_count": 99,
   "id": "c933a63c",
   "metadata": {},
   "outputs": [
    {
     "data": {
      "text/plain": [
       "0.8"
      ]
     },
     "execution_count": 99,
     "metadata": {},
     "output_type": "execute_result"
    }
   ],
   "source": [
    "np.array([1,1,2,3,3]).var(axis=0)"
   ]
  },
  {
   "cell_type": "code",
   "execution_count": 101,
   "id": "ab0ca428",
   "metadata": {
    "scrolled": true
   },
   "outputs": [],
   "source": []
  },
  {
   "cell_type": "code",
   "execution_count": 104,
   "id": "f58c909a",
   "metadata": {},
   "outputs": [
    {
     "data": {
      "text/plain": [
       "P1     0.672857\n",
       "P2     0.190888\n",
       "P3     0.044724\n",
       "P4     0.035118\n",
       "P5     0.016631\n",
       "P6     0.012657\n",
       "P7     0.007040\n",
       "P8     0.006082\n",
       "P9     0.003611\n",
       "P10    0.002769\n",
       "P11    0.002035\n",
       "P12    0.001861\n",
       "P13    0.001277\n",
       "P14    0.001068\n",
       "P15    0.000794\n",
       "P16    0.000587\n",
       "dtype: float64"
      ]
     },
     "execution_count": 104,
     "metadata": {},
     "output_type": "execute_result"
    }
   ],
   "source": []
  },
  {
   "cell_type": "code",
   "execution_count": 66,
   "id": "41498b4b",
   "metadata": {},
   "outputs": [],
   "source": [
    "from sklearn.metrics import explained_variance_score"
   ]
  },
  {
   "cell_type": "code",
   "execution_count": 71,
   "id": "0d40da23",
   "metadata": {},
   "outputs": [
    {
     "data": {
      "text/html": [
       "<div>\n",
       "<style scoped>\n",
       "    .dataframe tbody tr th:only-of-type {\n",
       "        vertical-align: middle;\n",
       "    }\n",
       "\n",
       "    .dataframe tbody tr th {\n",
       "        vertical-align: top;\n",
       "    }\n",
       "\n",
       "    .dataframe thead th {\n",
       "        text-align: right;\n",
       "    }\n",
       "</style>\n",
       "<table border=\"1\" class=\"dataframe\">\n",
       "  <thead>\n",
       "    <tr style=\"text-align: right;\">\n",
       "      <th></th>\n",
       "      <th>P1</th>\n",
       "      <th>P2</th>\n",
       "      <th>P3</th>\n",
       "      <th>P4</th>\n",
       "      <th>P5</th>\n",
       "      <th>P6</th>\n",
       "      <th>P7</th>\n",
       "      <th>P8</th>\n",
       "    </tr>\n",
       "  </thead>\n",
       "  <tbody>\n",
       "    <tr>\n",
       "      <th>0</th>\n",
       "      <td>-2.267093</td>\n",
       "      <td>-1.724095</td>\n",
       "      <td>0.434542</td>\n",
       "      <td>-0.182625</td>\n",
       "      <td>-0.187267</td>\n",
       "      <td>-0.933902</td>\n",
       "      <td>-1.156069</td>\n",
       "      <td>0.546855</td>\n",
       "    </tr>\n",
       "    <tr>\n",
       "      <th>1</th>\n",
       "      <td>-2.526464</td>\n",
       "      <td>1.224259</td>\n",
       "      <td>0.746468</td>\n",
       "      <td>0.138954</td>\n",
       "      <td>0.066854</td>\n",
       "      <td>-0.306094</td>\n",
       "      <td>0.651362</td>\n",
       "      <td>-0.030773</td>\n",
       "    </tr>\n",
       "    <tr>\n",
       "      <th>2</th>\n",
       "      <td>-5.165960</td>\n",
       "      <td>-0.126977</td>\n",
       "      <td>-0.271500</td>\n",
       "      <td>0.345461</td>\n",
       "      <td>0.035312</td>\n",
       "      <td>-0.422036</td>\n",
       "      <td>0.446803</td>\n",
       "      <td>-0.135420</td>\n",
       "    </tr>\n",
       "    <tr>\n",
       "      <th>3</th>\n",
       "      <td>-1.344621</td>\n",
       "      <td>1.834564</td>\n",
       "      <td>0.297798</td>\n",
       "      <td>0.390662</td>\n",
       "      <td>0.517248</td>\n",
       "      <td>-0.801794</td>\n",
       "      <td>0.171038</td>\n",
       "      <td>0.062085</td>\n",
       "    </tr>\n",
       "    <tr>\n",
       "      <th>4</th>\n",
       "      <td>-3.907494</td>\n",
       "      <td>-0.984149</td>\n",
       "      <td>1.127406</td>\n",
       "      <td>0.517246</td>\n",
       "      <td>0.036090</td>\n",
       "      <td>-0.646001</td>\n",
       "      <td>0.476109</td>\n",
       "      <td>-0.586003</td>\n",
       "    </tr>\n",
       "    <tr>\n",
       "      <th>...</th>\n",
       "      <td>...</td>\n",
       "      <td>...</td>\n",
       "      <td>...</td>\n",
       "      <td>...</td>\n",
       "      <td>...</td>\n",
       "      <td>...</td>\n",
       "      <td>...</td>\n",
       "      <td>...</td>\n",
       "    </tr>\n",
       "    <tr>\n",
       "      <th>308</th>\n",
       "      <td>0.505675</td>\n",
       "      <td>-0.630974</td>\n",
       "      <td>-0.267743</td>\n",
       "      <td>0.622051</td>\n",
       "      <td>0.131681</td>\n",
       "      <td>0.234267</td>\n",
       "      <td>-0.224845</td>\n",
       "      <td>-0.177420</td>\n",
       "    </tr>\n",
       "    <tr>\n",
       "      <th>309</th>\n",
       "      <td>-0.012375</td>\n",
       "      <td>-0.093916</td>\n",
       "      <td>-0.510644</td>\n",
       "      <td>0.184119</td>\n",
       "      <td>-0.180987</td>\n",
       "      <td>0.051594</td>\n",
       "      <td>-0.162309</td>\n",
       "      <td>-0.410684</td>\n",
       "    </tr>\n",
       "    <tr>\n",
       "      <th>310</th>\n",
       "      <td>-1.503885</td>\n",
       "      <td>-0.517673</td>\n",
       "      <td>-0.687886</td>\n",
       "      <td>-0.109053</td>\n",
       "      <td>-0.038638</td>\n",
       "      <td>0.236416</td>\n",
       "      <td>0.069289</td>\n",
       "      <td>-0.567178</td>\n",
       "    </tr>\n",
       "    <tr>\n",
       "      <th>311</th>\n",
       "      <td>-5.692225</td>\n",
       "      <td>0.172917</td>\n",
       "      <td>-0.866286</td>\n",
       "      <td>0.416134</td>\n",
       "      <td>0.062320</td>\n",
       "      <td>0.049577</td>\n",
       "      <td>-0.089146</td>\n",
       "      <td>-0.441941</td>\n",
       "    </tr>\n",
       "    <tr>\n",
       "      <th>312</th>\n",
       "      <td>-2.304130</td>\n",
       "      <td>-1.905600</td>\n",
       "      <td>-0.546364</td>\n",
       "      <td>0.426618</td>\n",
       "      <td>0.428281</td>\n",
       "      <td>-0.292633</td>\n",
       "      <td>-0.132225</td>\n",
       "      <td>-0.387490</td>\n",
       "    </tr>\n",
       "  </tbody>\n",
       "</table>\n",
       "<p>313 rows × 8 columns</p>\n",
       "</div>"
      ],
      "text/plain": [
       "           P1        P2        P3        P4        P5        P6        P7  \\\n",
       "0   -2.267093 -1.724095  0.434542 -0.182625 -0.187267 -0.933902 -1.156069   \n",
       "1   -2.526464  1.224259  0.746468  0.138954  0.066854 -0.306094  0.651362   \n",
       "2   -5.165960 -0.126977 -0.271500  0.345461  0.035312 -0.422036  0.446803   \n",
       "3   -1.344621  1.834564  0.297798  0.390662  0.517248 -0.801794  0.171038   \n",
       "4   -3.907494 -0.984149  1.127406  0.517246  0.036090 -0.646001  0.476109   \n",
       "..        ...       ...       ...       ...       ...       ...       ...   \n",
       "308  0.505675 -0.630974 -0.267743  0.622051  0.131681  0.234267 -0.224845   \n",
       "309 -0.012375 -0.093916 -0.510644  0.184119 -0.180987  0.051594 -0.162309   \n",
       "310 -1.503885 -0.517673 -0.687886 -0.109053 -0.038638  0.236416  0.069289   \n",
       "311 -5.692225  0.172917 -0.866286  0.416134  0.062320  0.049577 -0.089146   \n",
       "312 -2.304130 -1.905600 -0.546364  0.426618  0.428281 -0.292633 -0.132225   \n",
       "\n",
       "           P8  \n",
       "0    0.546855  \n",
       "1   -0.030773  \n",
       "2   -0.135420  \n",
       "3    0.062085  \n",
       "4   -0.586003  \n",
       "..        ...  \n",
       "308 -0.177420  \n",
       "309 -0.410684  \n",
       "310 -0.567178  \n",
       "311 -0.441941  \n",
       "312 -0.387490  \n",
       "\n",
       "[313 rows x 8 columns]"
      ]
     },
     "execution_count": 71,
     "metadata": {},
     "output_type": "execute_result"
    }
   ],
   "source": [
    "transform"
   ]
  },
  {
   "cell_type": "code",
   "execution_count": 73,
   "id": "402f24f6",
   "metadata": {},
   "outputs": [
    {
     "data": {
      "text/plain": [
       "(313, 18)"
      ]
     },
     "execution_count": 73,
     "metadata": {},
     "output_type": "execute_result"
    }
   ],
   "source": [
    "vectarray.shape"
   ]
  },
  {
   "cell_type": "code",
   "execution_count": 77,
   "id": "96f1b427",
   "metadata": {},
   "outputs": [],
   "source": [
    "from fit import coef_det"
   ]
  },
  {
   "cell_type": "code",
   "execution_count": null,
   "id": "97cdfe75",
   "metadata": {},
   "outputs": [],
   "source": [
    "plot_dimensionality_matrices?"
   ]
  }
 ],
 "metadata": {
  "kernelspec": {
   "display_name": "Python 3",
   "language": "python",
   "name": "python3"
  },
  "language_info": {
   "codemirror_mode": {
    "name": "ipython",
    "version": 3
   },
   "file_extension": ".py",
   "mimetype": "text/x-python",
   "name": "python",
   "nbconvert_exporter": "python",
   "pygments_lexer": "ipython3",
   "version": "3.9.4"
  }
 },
 "nbformat": 4,
 "nbformat_minor": 5
}
