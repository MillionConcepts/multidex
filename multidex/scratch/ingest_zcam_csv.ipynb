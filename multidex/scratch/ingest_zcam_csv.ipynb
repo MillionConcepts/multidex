{
 "cells": [
  {
   "cell_type": "code",
   "execution_count": null,
   "metadata": {},
   "outputs": [],
   "source": [
    "import os\n",
    "import re\n",
    "\n",
    "import django\n",
    "import fs.path\n",
    "import numpy as np\n",
    "import pandas as pd\n",
    "from django.core.exceptions import ObjectDoesNotExist\n",
    "from fs.osfs import OSFS\n",
    "from more_itertools import sample\n",
    "\n",
    "if not os.getcwd().endswith('multidex'):\n",
    "    os.chdir('..')\n",
    "\n",
    "os.environ.setdefault(\"DJANGO_SETTINGS_MODULE\", \"multidex.settings\")\n",
    "os.environ[\"DJANGO_ALLOW_ASYNC_UNSAFE\"] = \"true\"\n",
    "\n",
    "django.setup()\n",
    "\n",
    "from plotter.models import ZSpec\n",
    "from plotter_utils import model_metadata_df"
   ]
  },
  {
   "cell_type": "code",
   "execution_count": null,
   "metadata": {},
   "outputs": [],
   "source": [
    "for spec in ZSpec.objects.all():\n",
    "    spec.delete()"
   ]
  },
  {
   "cell_type": "code",
   "execution_count": null,
   "metadata": {},
   "outputs": [],
   "source": [
    "[spec.filename for spec in ZSpec.objects.all()]"
   ]
  },
  {
   "cell_type": "code",
   "execution_count": null,
   "metadata": {},
   "outputs": [],
   "source": [
    "from ast import literal_eval"
   ]
  },
  {
   "cell_type": "code",
   "execution_count": null,
   "metadata": {},
   "outputs": [],
   "source": []
  },
  {
   "cell_type": "code",
   "execution_count": null,
   "metadata": {},
   "outputs": [],
   "source": [
    "for x in ZSpec.objects.filter(seq_id__icontains=\"03129\").values_list(\"images\", \"filename\"):\n",
    "    print(literal_eval(x[0]))\n",
    "    print(x[1])\n",
    "    print(\"\\n\")\n"
   ]
  },
  {
   "cell_type": "code",
   "execution_count": null,
   "metadata": {},
   "outputs": [],
   "source": [
    "\n",
    "no_images = ZSpec.objects.filter(images__iexact=\"{}\")\n",
    "for x in no_images.values_list('filename'):\n",
    "    print(x)"
   ]
  },
  {
   "cell_type": "code",
   "execution_count": null,
   "metadata": {},
   "outputs": [],
   "source": [
    "ZSpec.field_names()\n"
   ]
  },
  {
   "cell_type": "code",
   "execution_count": null,
   "metadata": {},
   "outputs": [],
   "source": [
    "zdf = model_metadata_df(ZSpec)"
   ]
  },
  {
   "cell_type": "code",
   "execution_count": null,
   "metadata": {},
   "outputs": [],
   "source": [
    "zdf.loc[zdf['name'] == 'Peppermint']"
   ]
  },
  {
   "cell_type": "code",
   "execution_count": null,
   "metadata": {},
   "outputs": [],
   "source": []
  },
  {
   "cell_type": "code",
   "execution_count": null,
   "metadata": {},
   "outputs": [],
   "source": [
    "from ingest.cli import find_ingest_files\n",
    "from pathlib import Path\n",
    "\n",
    "root = Path(\"/home/michael/Desktop/asdf_output-20210518T223003Z-001\")\n",
    "# output_image_dir = output_fs.getsyspath(\"static_in_pro/our_static/img\")"
   ]
  },
  {
   "cell_type": "code",
   "execution_count": null,
   "metadata": {},
   "outputs": [],
   "source": [
    "from ingest.cli import *\n",
    "from ingest.thumbpipe import default_thumbnailer"
   ]
  },
  {
   "cell_type": "code",
   "execution_count": null,
   "metadata": {},
   "outputs": [],
   "source": [
    "marslab_files, context_files = find_ingest_files(root, recursive=True)\n",
    "context_df = process_context_files(context_files, default_thumbnailer(), make_thumbnails=True)\n",
    "marslab_files = tuple(marslab_files)"
   ]
  },
  {
   "cell_type": "code",
   "execution_count": null,
   "metadata": {},
   "outputs": [],
   "source": [
    "for marslab_file in marslab_files:\n",
    "    if '03110' not in marslab_file:\n",
    "        continue\n",
    "    print(marslab_file, '\\n')\n",
    "    obs_images = str(match_obs_images(marslab_file, context_df))\n",
    "    if obs_images != \"{}\":\n",
    "#         pass\n",
    "        print(\"found matching images: \" + obs_images)\n",
    "    else:\n",
    "        print(\"no matching images found for \" + marslab_file)\n",
    "    print('\\n\\n')"
   ]
  },
  {
   "cell_type": "code",
   "execution_count": null,
   "metadata": {},
   "outputs": [],
   "source": [
    "seq = [marslab_file for marslab_file in marslab_files if '03129' in marslab_file]"
   ]
  },
  {
   "cell_type": "code",
   "execution_count": null,
   "metadata": {},
   "outputs": [],
   "source": [
    "seq[0]"
   ]
  },
  {
   "cell_type": "code",
   "execution_count": null,
   "metadata": {},
   "outputs": [],
   "source": [
    "match_obs_images(seq[0], context_df)"
   ]
  },
  {
   "cell_type": "code",
   "execution_count": null,
   "metadata": {},
   "outputs": [],
   "source": [
    "obs_images"
   ]
  },
  {
   "cell_type": "code",
   "execution_count": null,
   "metadata": {},
   "outputs": [],
   "source": [
    "context_df.loc[context_df['stem']==match_obs_images(seq[0], context_df)"
   ]
  },
  {
   "cell_type": "code",
   "execution_count": null,
   "metadata": {},
   "outputs": [],
   "source": [
    "file_stem = fs.path.split(marslab_file)[-1].replace(\"-marslab.csv\", \"\")"
   ]
  },
  {
   "cell_type": "code",
   "execution_count": null,
   "metadata": {},
   "outputs": [],
   "source": [
    "file_stem"
   ]
  },
  {
   "cell_type": "code",
   "execution_count": null,
   "metadata": {},
   "outputs": [],
   "source": []
  },
  {
   "cell_type": "code",
   "execution_count": null,
   "metadata": {},
   "outputs": [],
   "source": [
    "from plotter_utils import model_metadata_df"
   ]
  },
  {
   "cell_type": "code",
   "execution_count": null,
   "metadata": {},
   "outputs": [],
   "source": [
    "ZSpec.objects.all()"
   ]
  },
  {
   "cell_type": "code",
   "execution_count": null,
   "metadata": {},
   "outputs": [],
   "source": [
    "len(ZSpec.objects.all())"
   ]
  },
  {
   "cell_type": "code",
   "execution_count": null,
   "metadata": {},
   "outputs": [],
   "source": [
    "ZSpec._meta.fields"
   ]
  },
  {
   "cell_type": "code",
   "execution_count": null,
   "metadata": {},
   "outputs": [],
   "source": [
    "obs_images"
   ]
  },
  {
   "cell_type": "code",
   "execution_count": null,
   "metadata": {},
   "outputs": [],
   "source": [
    "obs_images"
   ]
  },
  {
   "cell_type": "code",
   "execution_count": null,
   "metadata": {},
   "outputs": [],
   "source": [
    "images = {\n",
    "    'left': \n",
    "}"
   ]
  },
  {
   "cell_type": "code",
   "execution_count": null,
   "metadata": {},
   "outputs": [],
   "source": [
    "pd.DataFrame.to_dict?"
   ]
  },
  {
   "cell_type": "code",
   "execution_count": null,
   "metadata": {},
   "outputs": [],
   "source": []
  },
  {
   "cell_type": "code",
   "execution_count": null,
   "metadata": {},
   "outputs": [],
   "source": []
  },
  {
   "cell_type": "code",
   "execution_count": null,
   "metadata": {},
   "outputs": [],
   "source": []
  },
  {
   "cell_type": "code",
   "execution_count": null,
   "metadata": {},
   "outputs": [],
   "source": []
  },
  {
   "cell_type": "code",
   "execution_count": null,
   "metadata": {},
   "outputs": [],
   "source": []
  },
  {
   "cell_type": "code",
   "execution_count": null,
   "metadata": {},
   "outputs": [],
   "source": [
    "context_df"
   ]
  },
  {
   "cell_type": "code",
   "execution_count": null,
   "metadata": {},
   "outputs": [],
   "source": [
    "conte"
   ]
  },
  {
   "cell_type": "code",
   "execution_count": null,
   "metadata": {},
   "outputs": [],
   "source": []
  },
  {
   "cell_type": "code",
   "execution_count": null,
   "metadata": {},
   "outputs": [],
   "source": [
    "frame.columns = [column.lower() for column in frame.columns]"
   ]
  },
  {
   "cell_type": "code",
   "execution_count": null,
   "metadata": {},
   "outputs": [],
   "source": [
    "spec_files = [\n",
    "    file for file in input_fs.listdir('') if (\n",
    "        file.endswith('-marslab.csv') and file.startswith('Sol'))\n",
    "]\n",
    "for spec_file in spec_files:\n",
    "    frame = pd.read_csv(input_fs.getsyspath(spec_file))\n",
    "    frame.columns = [column.lower() for column in frame.columns]\n",
    "    observation = metaframe.loc[metaframe['seq_id'] == frame['seq_id'][0]]\n",
    "    # hacky hacky -- but temporary\n",
    "    if len(observation) > 1: \n",
    "        pointing = re.search(r\"(?<=Pointing)\\d\", spec_file).group()\n",
    "        observation = observation.loc[observation['name'].str.contains(str(pointing))]\n",
    "    assert len(observation == 1)\n",
    "    for _, row in frame.iterrows():\n",
    "        if row['float'] == 'Y':\n",
    "            row['float'] = True\n",
    "        else:\n",
    "            row['float'] = False\n",
    "        row = row.replace(['-','',' '], np.nan).dropna()\n",
    "        # if there are missing filters anywhere in the column, including for other\n",
    "        # spectra, pandas will read the column\n",
    "        # as object / string, which will cause confusion when we\n",
    "        # compute averaged filters\n",
    "        for filt in ZSpec.filters:\n",
    "            if filt in row.index:\n",
    "                row[filt] = float(row[filt])\n",
    "        # because we're manually associating\n",
    "        row.drop(['sol', 'seq_id', 'instrument'], inplace=True)\n",
    "        metadata = dict(row) | observation.iloc[0].dropna().to_dict() | {\n",
    "            'filename': spec_file\n",
    "        }\n",
    "        spectrum = ZSpec(**metadata)\n",
    "        spectrum.clean()\n",
    "        spectrum.save()"
   ]
  },
  {
   "cell_type": "code",
   "execution_count": null,
   "metadata": {},
   "outputs": [],
   "source": []
  },
  {
   "cell_type": "code",
   "execution_count": null,
   "metadata": {},
   "outputs": [],
   "source": []
  },
  {
   "cell_type": "code",
   "execution_count": null,
   "metadata": {},
   "outputs": [],
   "source": []
  },
  {
   "cell_type": "code",
   "execution_count": null,
   "metadata": {},
   "outputs": [],
   "source": []
  },
  {
   "cell_type": "code",
   "execution_count": null,
   "metadata": {},
   "outputs": [],
   "source": []
  },
  {
   "cell_type": "code",
   "execution_count": null,
   "metadata": {},
   "outputs": [],
   "source": []
  },
  {
   "cell_type": "code",
   "execution_count": null,
   "metadata": {},
   "outputs": [],
   "source": [
    "path = \n",
    "\n",
    "input_fs = OSFS(\"/home/michael/Desktop/mcam_spect_data_conversion/data/zcam\")\n",
    "output_fs = OSFS('.')\n"
   ]
  },
  {
   "cell_type": "code",
   "execution_count": null,
   "metadata": {},
   "outputs": [],
   "source": []
  },
  {
   "cell_type": "code",
   "execution_count": null,
   "metadata": {},
   "outputs": [],
   "source": []
  },
  {
   "cell_type": "code",
   "execution_count": null,
   "metadata": {},
   "outputs": [],
   "source": []
  },
  {
   "cell_type": "code",
   "execution_count": null,
   "metadata": {},
   "outputs": [],
   "source": []
  },
  {
   "cell_type": "code",
   "execution_count": null,
   "metadata": {},
   "outputs": [],
   "source": []
  },
  {
   "cell_type": "code",
   "execution_count": null,
   "metadata": {},
   "outputs": [],
   "source": []
  },
  {
   "cell_type": "code",
   "execution_count": null,
   "metadata": {},
   "outputs": [],
   "source": []
  },
  {
   "cell_type": "code",
   "execution_count": null,
   "metadata": {},
   "outputs": [],
   "source": []
  },
  {
   "cell_type": "code",
   "execution_count": null,
   "metadata": {},
   "outputs": [],
   "source": []
  },
  {
   "cell_type": "code",
   "execution_count": null,
   "metadata": {},
   "outputs": [],
   "source": []
  },
  {
   "cell_type": "code",
   "execution_count": null,
   "metadata": {},
   "outputs": [],
   "source": []
  },
  {
   "cell_type": "code",
   "execution_count": null,
   "metadata": {},
   "outputs": [],
   "source": []
  },
  {
   "cell_type": "code",
   "execution_count": null,
   "metadata": {},
   "outputs": [],
   "source": []
  },
  {
   "cell_type": "code",
   "execution_count": null,
   "metadata": {},
   "outputs": [],
   "source": []
  },
  {
   "cell_type": "code",
   "execution_count": null,
   "metadata": {},
   "outputs": [],
   "source": []
  },
  {
   "cell_type": "code",
   "execution_count": null,
   "metadata": {},
   "outputs": [],
   "source": []
  },
  {
   "cell_type": "code",
   "execution_count": null,
   "metadata": {},
   "outputs": [],
   "source": []
  },
  {
   "cell_type": "code",
   "execution_count": null,
   "metadata": {},
   "outputs": [],
   "source": []
  },
  {
   "cell_type": "code",
   "execution_count": null,
   "metadata": {},
   "outputs": [],
   "source": []
  },
  {
   "cell_type": "code",
   "execution_count": null,
   "metadata": {},
   "outputs": [],
   "source": []
  },
  {
   "cell_type": "code",
   "execution_count": null,
   "metadata": {},
   "outputs": [],
   "source": []
  },
  {
   "cell_type": "code",
   "execution_count": null,
   "metadata": {},
   "outputs": [],
   "source": []
  },
  {
   "cell_type": "code",
   "execution_count": null,
   "metadata": {},
   "outputs": [],
   "source": [
    "for spec in ZSpec.objects.all():\n",
    "    spec.delete()"
   ]
  },
  {
   "cell_type": "code",
   "execution_count": null,
   "metadata": {},
   "outputs": [],
   "source": [
    "input_fs = OSFS(\"/home/michael/Desktop/mcam_spect_data_conversion/data/zcam\")\n",
    "output_fs = OSFS('.')\n",
    "output_image_dir = output_fs.getsyspath(\"static_in_pro/our_static/img\")"
   ]
  },
  {
   "cell_type": "code",
   "execution_count": null,
   "metadata": {},
   "outputs": [],
   "source": [
    "def reg_seq_id(seq_id_str):\n",
    "    seq_id_str = seq_id_str.replace(\" \", \"\")\n",
    "    return 'zcam' + format(int(seq_id_str.split('zcam')[1]), \"0>5d\")\n",
    "\n",
    "metaframe = pd.read_csv(input_fs.getsyspath('Metadata-marslab.csv'))\n",
    "metaframe.columns = [column.lower() for column in metaframe.columns]\n",
    "# add NaNs back in so we can programmatically delete them\n",
    "metaframe.replace('-', np.nan, inplace=True)\n",
    "# we're turning these to ints when we ingest them,\n",
    "# but python doesn't like statements like int('3.0'),\n",
    "# so turn to float as an intermediate step\n",
    "for column in [\n",
    "    'sol', 'site', 'drive', 'rover_elevation', 'target_elevation', 'tau',\n",
    "    'focal_distance', 'incidence_angle', 'emission_angle',\n",
    "    'phase_angle', 'l_s', 'site', 'drive', 'lat', 'lon', 'odometry',\n",
    "]:\n",
    "    metaframe[column] = metaframe[column].astype('float')\n",
    "metaframe['ltst'] = metaframe['ltst'].astype('datetime64')\n",
    "metaframe['seq_id'] = metaframe['seq_id'].map(reg_seq_id)\n",
    "metaframe.loc[\n",
    "    metaframe['sclk'].notna(), 'sclk'\n",
    "] = metaframe.loc[metaframe['sclk'].notna(), 'sclk'].astype(float).astype(int)"
   ]
  },
  {
   "cell_type": "code",
   "execution_count": null,
   "metadata": {},
   "outputs": [],
   "source": [
    "temp_images = [\n",
    "    image for image in input_fs.listdir('temp_images')\n",
    "]"
   ]
  },
  {
   "cell_type": "code",
   "execution_count": null,
   "metadata": {
    "scrolled": false
   },
   "outputs": [],
   "source": [
    "spec_files = [\n",
    "    file for file in input_fs.listdir('') if (\n",
    "        file.endswith('-marslab.csv') and file.startswith('Sol'))\n",
    "]\n",
    "for spec_file in spec_files:\n",
    "    frame = pd.read_csv(input_fs.getsyspath(spec_file))\n",
    "    frame.columns = [column.lower() for column in frame.columns]\n",
    "    observation = metaframe.loc[metaframe['seq_id'] == frame['seq_id'][0]]\n",
    "    # hacky hacky -- but temporary\n",
    "    if len(observation) > 1: \n",
    "        pointing = re.search(r\"(?<=Pointing)\\d\", spec_file).group()\n",
    "        observation = observation.loc[observation['name'].str.contains(str(pointing))]\n",
    "    assert len(observation == 1)\n",
    "    for _, row in frame.iterrows():\n",
    "        if row['float'] == 'Y':\n",
    "            row['float'] = True\n",
    "        else:\n",
    "            row['float'] = False\n",
    "        row = row.replace(['-','',' '], np.nan).dropna()\n",
    "        # if there are missing filters anywhere in the column, including for other\n",
    "        # spectra, pandas will read the column\n",
    "        # as object / string, which will cause confusion when we\n",
    "        # compute averaged filters\n",
    "        for filt in ZSpec.filters:\n",
    "            if filt in row.index:\n",
    "                row[filt] = float(row[filt])\n",
    "        # because we're manually associating\n",
    "        row.drop(['sol', 'seq_id', 'instrument'], inplace=True)\n",
    "        metadata = dict(row) | observation.iloc[0].dropna().to_dict() | {\n",
    "            'filename': spec_file\n",
    "        }\n",
    "        spectrum = ZSpec(**metadata)\n",
    "        spectrum.clean()\n",
    "        spectrum.save()"
   ]
  },
  {
   "cell_type": "code",
   "execution_count": null,
   "metadata": {
    "scrolled": false
   },
   "outputs": [],
   "source": [
    "len(ZSpec.objects.all())"
   ]
  },
  {
   "cell_type": "code",
   "execution_count": null,
   "metadata": {},
   "outputs": [],
   "source": [
    "output_image_dir"
   ]
  },
  {
   "cell_type": "code",
   "execution_count": null,
   "metadata": {},
   "outputs": [],
   "source": [
    "z"
   ]
  },
  {
   "cell_type": "code",
   "execution_count": null,
   "metadata": {},
   "outputs": [],
   "source": [
    "spec.seq_id"
   ]
  },
  {
   "cell_type": "code",
   "execution_count": null,
   "metadata": {},
   "outputs": [],
   "source": [
    "os.listdir(output_image_dir)"
   ]
  },
  {
   "cell_type": "code",
   "execution_count": null,
   "metadata": {},
   "outputs": [],
   "source": [
    "spec.filename"
   ]
  },
  {
   "cell_type": "code",
   "execution_count": null,
   "metadata": {},
   "outputs": [],
   "source": [
    "import re"
   ]
  },
  {
   "cell_type": "code",
   "execution_count": null,
   "metadata": {
    "scrolled": false
   },
   "outputs": [],
   "source": [
    "for spec in ZSpec.objects.all():\n",
    "    images = [\n",
    "        image for image in os.listdir(output_image_dir + '/roi_browse')\n",
    "        if spec.seq_id in image\n",
    "    ]\n",
    "    if 'pointing' in spec.filename.lower():\n",
    "        pointing = re.search(r\"(?<=Pointing)\\d\", spec_file).group()\n",
    "        images = [image for image in images if 'pointing' + pointing in image]\n",
    "    image_dict = {}\n",
    "    for image in images:\n",
    "        if 'rgb' in image:\n",
    "            image_dict['rgb'] = image\n",
    "        if 'enhanced' in image:\n",
    "            image_dict['enhanced'] = image\n",
    "    spec.images = str(image_dict)\n",
    "    spec.clean()\n",
    "    spec.save()"
   ]
  },
  {
   "cell_type": "code",
   "execution_count": null,
   "metadata": {},
   "outputs": [],
   "source": []
  },
  {
   "cell_type": "code",
   "execution_count": null,
   "metadata": {},
   "outputs": [],
   "source": []
  },
  {
   "cell_type": "code",
   "execution_count": null,
   "metadata": {},
   "outputs": [],
   "source": []
  },
  {
   "cell_type": "code",
   "execution_count": null,
   "metadata": {},
   "outputs": [],
   "source": [
    "from random import choice"
   ]
  },
  {
   "cell_type": "code",
   "execution_count": null,
   "metadata": {},
   "outputs": [],
   "source": [
    "spec = choice(ZSpec.objects.all())"
   ]
  },
  {
   "cell_type": "code",
   "execution_count": null,
   "metadata": {},
   "outputs": [],
   "source": [
    "from plotter.spectrum_ops import *"
   ]
  },
  {
   "cell_type": "code",
   "execution_count": null,
   "metadata": {},
   "outputs": [],
   "source": [
    "unc = \"\"\"L0R:3.3\n",
    "L0G:3.3\n",
    "L0B:3.7\n",
    "L1:1.4\n",
    "L2:1.1\n",
    "L3:0.2\n",
    "L4:1.8\n",
    "L5:1.6\n",
    "L6:0.4\n",
    "R0R:3.7\n",
    "R0G:4.1\n",
    "R0B:4.6\n",
    "R1:0.4\n",
    "R2:0.3\n",
    "R3:0.6\n",
    "R4:0.5\n",
    "R5:0.8\n",
    "R6:0.4\"\"\".split(\"\\n\")"
   ]
  },
  {
   "cell_type": "code",
   "execution_count": null,
   "metadata": {},
   "outputs": [],
   "source": [
    "unc"
   ]
  },
  {
   "cell_type": "code",
   "execution_count": null,
   "metadata": {},
   "outputs": [],
   "source": [
    "{\n",
    "    pair.split(\":\")[0]: float(pair.split(\":\")[1])\n",
    "    for pair in unc\n",
    "}"
   ]
  },
  {
   "cell_type": "code",
   "execution_count": null,
   "metadata": {},
   "outputs": [],
   "source": [
    "filter_df = filter_df_from_queryset(\n",
    "    ZSpec.objects.all(),\n",
    "    average_filters=False,\n",
    "    scale_to=None,\n",
    "    r_star=True,\n",
    "    )"
   ]
  },
  {
   "cell_type": "code",
   "execution_count": null,
   "metadata": {},
   "outputs": [],
   "source": [
    "from marslab.compatibility import INSTRUMENT_UNCERTAINTIES\n",
    "from itertools import chain, product"
   ]
  },
  {
   "cell_type": "code",
   "execution_count": null,
   "metadata": {},
   "outputs": [],
   "source": [
    "spec_model = ZSpec\n",
    "instrument = spec_model.instrument\n",
    "unc = INSTRUMENT_UNCERTAINTIES[instrument]\n",
    "function = ratio\n",
    "# filters = ['L5', 'R3', 'L4']\n",
    "filters = ['L5', 'R3']"
   ]
  },
  {
   "cell_type": "code",
   "execution_count": null,
   "metadata": {},
   "outputs": [],
   "source": [
    "def compute_minmax_spec_error(filter_df, spec_model, spec_op, *filters):\n",
    "    # cartesian product of these sets gives all possible sign combos for error high, error low,\n",
    "    # i.e., crude bounds for the hull of the range of possible measurements\n",
    "    unc = INSTRUMENT_UNCERTAINTIES[spec_model.instrument]\n",
    "    corners = product(*[[1, -1] for filt in filters])\n",
    "    bounds_df_list = []\n",
    "    # apply these signs to uncertainty values, getting a list of dataframes\n",
    "    # giving values of all measurements in set at the upper / lower bound combinations\n",
    "    # for uncertainties associated with each relevant filter.\n",
    "    for corner in corners:\n",
    "        corner_series_list = []\n",
    "        for filt_ix, sign in enumerate(corner):\n",
    "            filt = filters[filt_ix]\n",
    "            corner_series_list.append(\n",
    "                filter_df[filt]  + filter_df[filt] * corner[filt_ix] * unc[filt] / 100\n",
    "            )\n",
    "        corner_df = pd.concat(corner_series_list, axis=1)\n",
    "        # record the value of the spectrum op for each of these bounding dataframes.\n",
    "        bounds_df_list.append(function(corner_df, spec_model, *filters)[0])   \n",
    "    # compute the nominal value and compare it to values at these bounds\n",
    "    possible_values = pd.concat(bounds_df_list, axis=1)\n",
    "    nominal_value = function(filter_df, spec_model, *filters)[0]\n",
    "    offsets = possible_values.sub(nominal_value, axis=0) \n",
    "    # then min / max of each of these gives us an error estimate for each spectrum\n",
    "    return offsets.min(axis=1), offsets.max(axis=1)"
   ]
  },
  {
   "cell_type": "code",
   "execution_count": null,
   "metadata": {},
   "outputs": [],
   "source": [
    "# cartesian product of these sets gives all possible sign combos for error high, error low,\n",
    "# i.e., crude bounds for the hull of the range of possible measurements\n",
    "corners = product(*[[1, -1] for filt in filters])\n",
    "bounds_df_list = []\n",
    "# apply these signs to uncertainty values, getting a list of dataframes\n",
    "# giving values of all measurements in set at the upper / lower bound combinations\n",
    "# for uncertainties associated with each relevant filter.\n",
    "for corner in corners:\n",
    "    corner_series_list = []\n",
    "    for filt_ix, sign in enumerate(corner):\n",
    "        filt = filters[filt_ix]\n",
    "        corner_series_list.append(\n",
    "            filter_df[filt]  + filter_df[filt] * corner[filt_ix] * unc[filt] / 100\n",
    "        )\n",
    "    corner_df = pd.concat(corner_series_list, axis=1)\n",
    "    # record the value of the spectrum op for each of these bounding dataframes.\n",
    "    bounds_df_list.append(function(corner_df, spec_model, *filters)[0])    "
   ]
  },
  {
   "cell_type": "code",
   "execution_count": null,
   "metadata": {},
   "outputs": [],
   "source": [
    "# compute the nominal value and compare it to values at these bounds\n",
    "possible_values = pd.concat(bounds_df_list, axis=1)\n",
    "nominal_value = function(filter_df, spec_model, *filters)[0]\n",
    "offsets = possible_values.sub(nominal_value, axis=0) \n",
    "# then min / max of each of these gives us an error estimate for each spectrum\n",
    "error_low = offsets.min(axis=1)\n",
    "error_high = offsets.max(axis=1)"
   ]
  },
  {
   "cell_type": "code",
   "execution_count": null,
   "metadata": {},
   "outputs": [],
   "source": [
    "nominal_value = function(filter_df, spec_model, *filters)[0]"
   ]
  },
  {
   "cell_type": "code",
   "execution_count": null,
   "metadata": {},
   "outputs": [],
   "source": [
    "possible_values"
   ]
  },
  {
   "cell_type": "code",
   "execution_count": null,
   "metadata": {},
   "outputs": [],
   "source": [
    "nominal_value"
   ]
  },
  {
   "cell_type": "code",
   "execution_count": null,
   "metadata": {},
   "outputs": [],
   "source": [
    "nominal_value = function(filter_df, spec_model, *filters)[0]\n",
    "bound = function(bounds_df_list[0], spec_model, *filters)[0] \n",
    "bound - nominal_value"
   ]
  },
  {
   "cell_type": "code",
   "execution_count": null,
   "metadata": {},
   "outputs": [],
   "source": []
  },
  {
   "cell_type": "code",
   "execution_count": null,
   "metadata": {},
   "outputs": [],
   "source": []
  },
  {
   "cell_type": "code",
   "execution_count": null,
   "metadata": {},
   "outputs": [],
   "source": [
    "# note that band_depth_min is a special case\n",
    "\n",
    "nominal_value = band_avg(filter_df, ZSpec, 'L1', 'R1')[0]\n",
    "band_avg(bounds_df_list[0], ZSpec, 'L1', 'R1')[0] - nominal_value"
   ]
  },
  {
   "cell_type": "code",
   "execution_count": null,
   "metadata": {},
   "outputs": [],
   "source": [
    "corner_df - nominal_value"
   ]
  },
  {
   "cell_type": "code",
   "execution_count": null,
   "metadata": {
    "scrolled": false
   },
   "outputs": [],
   "source": [
    "list(product(filter_df_low.columns, filter_df_high))"
   ]
  },
  {
   "cell_type": "code",
   "execution_count": null,
   "metadata": {},
   "outputs": [],
   "source": [
    "filter_df_low"
   ]
  }
 ],
 "metadata": {
  "kernelspec": {
   "display_name": "Python 3",
   "language": "python",
   "name": "python3"
  },
  "language_info": {
   "codemirror_mode": {
    "name": "ipython",
    "version": 3
   },
   "file_extension": ".py",
   "mimetype": "text/x-python",
   "name": "python",
   "nbconvert_exporter": "python",
   "pygments_lexer": "ipython3",
   "version": "3.9.4"
  },
  "varInspector": {
   "cols": {
    "lenName": 16,
    "lenType": 16,
    "lenVar": 40
   },
   "kernels_config": {
    "python": {
     "delete_cmd_postfix": "",
     "delete_cmd_prefix": "del ",
     "library": "var_list.py",
     "varRefreshCmd": "print(var_dic_list())"
    },
    "r": {
     "delete_cmd_postfix": ") ",
     "delete_cmd_prefix": "rm(",
     "library": "var_list.r",
     "varRefreshCmd": "cat(var_dic_list()) "
    }
   },
   "types_to_exclude": [
    "module",
    "function",
    "builtin_function_or_method",
    "instance",
    "_Feature"
   ],
   "window_display": false
  }
 },
 "nbformat": 4,
 "nbformat_minor": 4
}
