{
 "cells": [
  {
   "cell_type": "code",
   "execution_count": 1,
   "id": "bcc08d1c",
   "metadata": {},
   "outputs": [],
   "source": [
    "from correlate import plot_dimensionality_matrices, explode_binary\n",
    "from plotter.reduction import default_multidex_pipeline, \\\n",
    "    explained_variance_ratios, transform_df\n",
    "import plotter.models\n",
    "from plotter.spectrum_ops import filter_df_from_queryset\n",
    "from multidex_utils import model_metadata_df\n",
    "from marslab.compat.xcam import DERIVED_CAM_DICT\n",
    "import marslab.spectops as ops\n",
    "from fit import correlation_matrix\n",
    "import pandas as pd\n",
    "import numpy as np\n",
    "import matplotlib.pyplot as plt\n",
    "import matplotlib.colors as mcolor\n",
    "from sklearn.linear_model import LogisticRegression\n",
    "\n",
    "from marslab.imgops.pltutils import attach_axis\n",
    "from marslab.imgops.pltutils import set_label\n",
    "import matplotlib.font_manager as mplf\n",
    "\n",
    "\n",
    "%matplotlib qt\n",
    "%matplotlib qt"
   ]
  },
  {
   "cell_type": "code",
   "execution_count": 95,
   "id": "f2cef141",
   "metadata": {},
   "outputs": [],
   "source": [
    "DEFAULT_CORR_NORM = mcolor.TwoSlopeNorm(\n",
    "    vmin=-1, vcenter=0, vmax=1\n",
    ")\n",
    "\n",
    "def make_corr_chart(\n",
    "    matrix, explained_variance=None, norm=DEFAULT_CORR_NORM,\n",
    "    cmap='orange_teal'\n",
    "):\n",
    "    fig, ax = plt.subplots()\n",
    "    corrchart = ax.imshow(matrix, norm=norm, cmap=cmap)\n",
    "    ax.set_yticks(np.arange(len(matrix.index)))\n",
    "    ax.set_yticklabels([ix for ix in matrix.index])\n",
    "    ax.set_xticks(np.arange(len(matrix.columns)))\n",
    "    ax.set_xticklabels([ix for ix in matrix.columns])\n",
    "    # plt.title(plot_type + \"\\n\" + title)\n",
    "    cax = attach_axis(ax, \"right\", \"8%\")\n",
    "    plt.colorbar(corrchart, cax=cax)\n",
    "    if (explained_variance is not None):\n",
    "        for ix, ev in enumerate(explained_variance):\n",
    "            ax.annotate(\n",
    "                str(ev),\n",
    "                (0, ix),\n",
    "                # xytext=(0, 0),\n",
    "                color=\"white\",\n",
    "                # textcoords=\"offset points\",\n",
    "            )\n",
    "    return fig\n",
    "\n",
    "\n",
    "def explode_sequential(df, column, remove_nan=True):\n",
    "    if remove_nan is True:\n",
    "        unique_values = df[column].dropna().unique()\n",
    "    else:\n",
    "        unique_values = df[column].unique()\n",
    "    exploded = pd.Series(index=df.index, dtype='uint8')\n",
    "    for ix, value in enumerate(unique_values):\n",
    "        exploded.loc[df[column] == value] = ix\n",
    "    return exploded"
   ]
  },
  {
   "cell_type": "code",
   "execution_count": 96,
   "id": "75b24af5",
   "metadata": {},
   "outputs": [],
   "source": [
    "instrument = \"ZCAM\"\n",
    "spec_model = plotter.models.INSTRUMENT_MODEL_MAPPING[instrument]\n",
    "metadata_df = model_metadata_df(spec_model)\n",
    "filter_info = DERIVED_CAM_DICT[instrument][\"filters\"]\n",
    "filters = list(filter_info.keys())"
   ]
  },
  {
   "cell_type": "code",
   "execution_count": 98,
   "id": "0dd210fe",
   "metadata": {},
   "outputs": [],
   "source": [
    "data_df = filter_df_from_queryset(\n",
    "    spec_model.objects.all(), r_star=False, scale_to=None\n",
    ")\n",
    "corpus = pd.concat([metadata_df, data_df], axis=1).copy()\n",
    "wave_mapping = pd.Series(DERIVED_CAM_DICT[instrument]['filters'])\n",
    "corpus['r56'] = corpus['R5'] / corpus['R6']\n",
    "corpus['r16'] = corpus['R1'] / corpus['R6']\n",
    "corpus['l645'] = ops.band_depth(\n",
    "    corpus[['L6', 'L4', 'L5']].T,\n",
    "    None,\n",
    "    wave_mapping[['L6', 'L4', 'L5']]\n",
    ")[0]\n",
    "corpus['r153'] = ops.band_depth(\n",
    "    corpus[['R1', 'R5', 'R3']].T,\n",
    "    None,\n",
    "    wave_mapping[['R1', 'R5', 'R3']]\n",
    ")[0]\n",
    "corpus['r465'] = ops.band_depth(\n",
    "    corpus[['R4', 'R6', 'R5']].T,\n",
    "    None,\n",
    "    wave_mapping[['R4', 'R6', 'R5']]\n",
    ")[0]\n",
    "\n",
    "params = ['r56', 'r16', 'l645', 'r153', 'r465']\n",
    "corpus = corpus.dropna(subset=params)\n",
    "\n"
   ]
  },
  {
   "cell_type": "code",
   "execution_count": 218,
   "id": "43270eee",
   "metadata": {},
   "outputs": [
    {
     "data": {
      "text/plain": [
       "Text(0.5, 0, 'zcam rocks, logit regression on params and morph classes')"
      ]
     },
     "execution_count": 218,
     "metadata": {},
     "output_type": "execute_result"
    }
   ],
   "source": [
    "corpus = corpus.loc[corpus['feature']=='rock'].reset_index(drop=True)\n",
    "# corpus = corpus.loc[~corpus['feature'].isin(['crater rim', 'delta'])]\n",
    "corpus = corpus.reset_index(drop=True)\n",
    "log_r = LogisticRegression(multi_class='multinomial', max_iter=5000, class_weight='balanced')\n",
    "dependent_name = 'seq_id'\n",
    "dependent = corpus[dependent_name].dropna().unique()\n",
    "exploded = explode_sequential(corpus, dependent_name)\n",
    "# independent = filters\n",
    "independent = params\n",
    "# scaling changes these models but does not appear\n",
    "# to make them more predictive\n",
    "log_r.fit(corpus[independent], exploded)\n",
    "log_coefficients = pd.DataFrame(\n",
    "    log_r.coef_,\n",
    "    columns = independent,\n",
    "    index = dependent\n",
    ")\n",
    "score = log_r.score(corpus[independent], exploded)\n",
    "morph_chart = make_corr_chart(log_coefficients)\n",
    "set_label(\n",
    "    morph_chart, \n",
    "    'zcam rocks, logit regression on params and morph classes' ,\n",
    "    fontproperties=mplf.FontProperties(size=24),\n",
    "    x_or_y = 'x'\n",
    ")"
   ]
  },
  {
   "cell_type": "code",
   "execution_count": 81,
   "id": "93302df4",
   "metadata": {},
   "outputs": [],
   "source": [
    "from sklearn.preprocessing import StandardScaler"
   ]
  },
  {
   "cell_type": "code",
   "execution_count": 219,
   "id": "8fd4b646",
   "metadata": {},
   "outputs": [
    {
     "data": {
      "text/plain": [
       "0.25308641975308643"
      ]
     },
     "execution_count": 219,
     "metadata": {},
     "output_type": "execute_result"
    }
   ],
   "source": [
    "log_r.score(corpus[independent], exploded)"
   ]
  },
  {
   "cell_type": "code",
   "execution_count": 8,
   "id": "4e194019",
   "metadata": {},
   "outputs": [],
   "source": [
    "ind_coefficients = correlation_matrix(corpus[independent])"
   ]
  },
  {
   "cell_type": "code",
   "execution_count": 37,
   "id": "039cf39f",
   "metadata": {},
   "outputs": [
    {
     "data": {
      "text/plain": [
       "Text(0.5, 0, 'zcam rocks, correlation matrix')"
      ]
     },
     "execution_count": 37,
     "metadata": {},
     "output_type": "execute_result"
    }
   ],
   "source": [
    "plt.rcParams['font.size'] = 18\n",
    "corrs = correlation_matrix(corpus[independent])\n",
    "corrs = corrs.rename(\n",
    "    columns={\"incidence_angle\": \"\\u03b8i\"},\n",
    "    index={\"incidence_angle\": \"\\u03b8i\"},\n",
    ")\n",
    "corr_chart = make_corr_chart(corrs)\n",
    "set_label(\n",
    "    corr_chart, \n",
    "    'zcam rocks, correlation matrix',\n",
    "    fontproperties=mplf.FontProperties(size=24),\n",
    "    x_or_y = 'x'\n",
    ")"
   ]
  },
  {
   "cell_type": "code",
   "execution_count": 38,
   "id": "0171eab9",
   "metadata": {},
   "outputs": [],
   "source": [
    "corr_chart.tight_layout()\n",
    "corr_chart.savefig(\n",
    "    'zcam_rocks_corr_matrix_big', dpi=220, bbox_inches=\"tight\", pad_inches=0\n",
    ")"
   ]
  },
  {
   "cell_type": "code",
   "execution_count": 50,
   "id": "0991d32e",
   "metadata": {},
   "outputs": [
    {
     "data": {
      "text/plain": [
       "Text(0.5, 0, 'zcam rocks, logit regression on params and morph classes')"
      ]
     },
     "execution_count": 50,
     "metadata": {},
     "output_type": "execute_result"
    }
   ],
   "source": []
  },
  {
   "cell_type": "code",
   "execution_count": 24,
   "id": "d31414d7",
   "metadata": {},
   "outputs": [],
   "source": [
    "morph_chart.tight_layout()\n",
    "morph_chart.savefig(\n",
    "    'zcam_morph_logit', dpi=220, bbox_inches=\"tight\", pad_inches=0\n",
    ")"
   ]
  },
  {
   "cell_type": "code",
   "execution_count": null,
   "id": "5bf4ef59",
   "metadata": {},
   "outputs": [],
   "source": []
  },
  {
   "cell_type": "code",
   "execution_count": null,
   "id": "c42b174c",
   "metadata": {},
   "outputs": [],
   "source": [
    "vsplit = np.array_split(ind_coefficients.values, 2)[0]\n",
    "hsplit = np.array_split(np.flipud(vsplit), 2, axis=1)[0]\n",
    "corrs = pd.DataFrame(hsplit)\n",
    "corrs.columns = independent[:len(corrs.columns)]\n",
    "corrs.index = list(reversed(independent[:len(corrs.index)]))"
   ]
  },
  {
   "cell_type": "code",
   "execution_count": null,
   "id": "7229b0e1",
   "metadata": {},
   "outputs": [],
   "source": []
  },
  {
   "cell_type": "code",
   "execution_count": null,
   "id": "b9dd616e",
   "metadata": {},
   "outputs": [],
   "source": []
  },
  {
   "cell_type": "code",
   "execution_count": null,
   "id": "b3f9e267",
   "metadata": {},
   "outputs": [],
   "source": []
  },
  {
   "cell_type": "code",
   "execution_count": null,
   "id": "f4042bb4",
   "metadata": {},
   "outputs": [],
   "source": []
  },
  {
   "cell_type": "code",
   "execution_count": null,
   "id": "f04534fb",
   "metadata": {
    "scrolled": false
   },
   "outputs": [],
   "source": [
    "pca_fields = filters\n",
    "param_fields = ['r56', 'r16', 'l645', 'r153', 'r465']\n",
    "corr_fields = param_fields + list(exploded.columns)\n",
    "corr_fields += ['incidence_angle']\n",
    "corr_fields += filters\n",
    "\n",
    "corpus = corpus.dropna(\n",
    "    subset = set(pca_fields).union(corr_fields), axis=0\n",
    ").reset_index(drop=True)\n",
    "corpus = corpus.rename(\n",
    "            index={\"incidence_angle\": \"\\u03b8i\"}\n",
    "        )\n",
    "pca_data = corpus[pca_fields].copy()\n",
    "corr_data = corpus[corr_fields].copy()\n",
    "\n",
    "\n",
    "pipeline = default_multidex_pipeline()\n",
    "transform = transform_df(pca_data, pipeline)\n",
    "corr_data = pd.concat([corr_data, transform], axis=1)\n",
    "correlations = correlation_matrix(corr_data)\n",
    "evr = np.round(explained_variance_ratios(transform)*100, 2)"
   ]
  },
  {
   "cell_type": "code",
   "execution_count": null,
   "id": "59d35a54",
   "metadata": {},
   "outputs": [],
   "source": [
    "corr_fields = [f for f in corr_fields if f in correlations.columns]\n",
    "feature_quadrant = correlations.loc[corr_fields, corr_fields].copy()"
   ]
  },
  {
   "cell_type": "code",
   "execution_count": null,
   "id": "73d5137d",
   "metadata": {},
   "outputs": [],
   "source": [
    "feature_quadrant = correlations.loc[corr_fields, corr_fields].copy()"
   ]
  },
  {
   "cell_type": "code",
   "execution_count": null,
   "id": "93d05687",
   "metadata": {},
   "outputs": [],
   "source": []
  },
  {
   "cell_type": "code",
   "execution_count": 160,
   "id": "a3f67092",
   "metadata": {},
   "outputs": [
    {
     "ename": "NameError",
     "evalue": "name 'transform' is not defined",
     "output_type": "error",
     "traceback": [
      "\u001b[0;31m---------------------------------------------------------------------------\u001b[0m",
      "\u001b[0;31mNameError\u001b[0m                                 Traceback (most recent call last)",
      "\u001b[0;32m<ipython-input-160-af49089a3b7a>\u001b[0m in \u001b[0;36m<module>\u001b[0;34m\u001b[0m\n\u001b[0;32m----> 1\u001b[0;31m \u001b[0mcorrelations\u001b[0m \u001b[0;34m=\u001b[0m \u001b[0mpd\u001b[0m\u001b[0;34m.\u001b[0m\u001b[0mconcat\u001b[0m\u001b[0;34m(\u001b[0m\u001b[0;34m[\u001b[0m\u001b[0mcorrelations\u001b[0m\u001b[0;34m,\u001b[0m \u001b[0mtransform\u001b[0m\u001b[0;34m]\u001b[0m\u001b[0;34m,\u001b[0m \u001b[0maxis\u001b[0m\u001b[0;34m=\u001b[0m\u001b[0;36m0\u001b[0m\u001b[0;34m)\u001b[0m\u001b[0;34m\u001b[0m\u001b[0;34m\u001b[0m\u001b[0m\n\u001b[0m\u001b[1;32m      2\u001b[0m \u001b[0;34m\u001b[0m\u001b[0m\n\u001b[1;32m      3\u001b[0m figs = plot_dimensionality_matrices(\n\u001b[1;32m      4\u001b[0m     \u001b[0mcorrelations\u001b[0m\u001b[0;34m,\u001b[0m \u001b[0mtransform\u001b[0m\u001b[0;34m,\u001b[0m \u001b[0mcorr_fields\u001b[0m\u001b[0;34m,\u001b[0m \u001b[0mevr\u001b[0m\u001b[0;34m,\u001b[0m\u001b[0;34m\u001b[0m\u001b[0;34m\u001b[0m\u001b[0m\n\u001b[1;32m      5\u001b[0m     \u001b[0mcorr_cmap\u001b[0m\u001b[0;34m=\u001b[0m\u001b[0;34m\"orange_teal\"\u001b[0m\u001b[0;34m,\u001b[0m \u001b[0mfontsize\u001b[0m\u001b[0;34m=\u001b[0m\u001b[0;36m16\u001b[0m\u001b[0;34m\u001b[0m\u001b[0;34m\u001b[0m\u001b[0m\n",
      "\u001b[0;31mNameError\u001b[0m: name 'transform' is not defined"
     ]
    }
   ],
   "source": [
    "correlations = pd.concat([correlations, transform], axis=0)\n",
    "\n",
    "figs = plot_dimensionality_matrices(\n",
    "    correlations, transform, corr_fields, evr,\n",
    "    corr_cmap=\"orange_teal\", fontsize=16\n",
    ")\n",
    "\n",
    "plt.close('all')"
   ]
  },
  {
   "cell_type": "code",
   "execution_count": 159,
   "id": "00f5b94c",
   "metadata": {},
   "outputs": [
    {
     "ename": "NameError",
     "evalue": "name 'figs' is not defined",
     "output_type": "error",
     "traceback": [
      "\u001b[0;31m---------------------------------------------------------------------------\u001b[0m",
      "\u001b[0;31mNameError\u001b[0m                                 Traceback (most recent call last)",
      "\u001b[0;32m<ipython-input-159-ca399828ff85>\u001b[0m in \u001b[0;36m<module>\u001b[0;34m\u001b[0m\n\u001b[0;32m----> 1\u001b[0;31m \u001b[0mfig\u001b[0m \u001b[0;34m=\u001b[0m \u001b[0mfigs\u001b[0m\u001b[0;34m[\u001b[0m\u001b[0;34m'features'\u001b[0m\u001b[0;34m]\u001b[0m\u001b[0;34m\u001b[0m\u001b[0;34m\u001b[0m\u001b[0m\n\u001b[0m\u001b[1;32m      2\u001b[0m \u001b[0mfig\u001b[0m\u001b[0;34m.\u001b[0m\u001b[0mtight_layout\u001b[0m\u001b[0;34m(\u001b[0m\u001b[0;34m)\u001b[0m\u001b[0;34m\u001b[0m\u001b[0;34m\u001b[0m\u001b[0m\n\u001b[1;32m      3\u001b[0m \u001b[0mfig\u001b[0m\u001b[0;34m.\u001b[0m\u001b[0mshow\u001b[0m\u001b[0;34m(\u001b[0m\u001b[0;34m)\u001b[0m\u001b[0;34m\u001b[0m\u001b[0;34m\u001b[0m\u001b[0m\n",
      "\u001b[0;31mNameError\u001b[0m: name 'figs' is not defined"
     ]
    }
   ],
   "source": [
    "fig = figs['features']\n",
    "fig.tight_layout()\n",
    "fig.show()"
   ]
  },
  {
   "cell_type": "code",
   "execution_count": null,
   "id": "fbe93f0c",
   "metadata": {},
   "outputs": [],
   "source": [
    "fig = figs['parameters']\n",
    "fig.tight_layout()\n",
    "fig.show()"
   ]
  },
  {
   "cell_type": "code",
   "execution_count": null,
   "id": "403662a7",
   "metadata": {},
   "outputs": [],
   "source": [
    "fig.tight_layout()\n"
   ]
  },
  {
   "cell_type": "code",
   "execution_count": null,
   "id": "f100e658",
   "metadata": {},
   "outputs": [],
   "source": [
    "correlations"
   ]
  },
  {
   "cell_type": "code",
   "execution_count": null,
   "id": "3c9bc940",
   "metadata": {},
   "outputs": [],
   "source": [
    "fig.savefig('test.png', dpi=275, bbox_inches=\"tight\", pad_inches=0)"
   ]
  },
  {
   "cell_type": "code",
   "execution_count": null,
   "id": "ba0a9f54",
   "metadata": {},
   "outputs": [],
   "source": [
    "DERIVED_CAM_DICT['ZCAM']"
   ]
  }
 ],
 "metadata": {
  "kernelspec": {
   "display_name": "Python 3",
   "language": "python",
   "name": "python3"
  },
  "language_info": {
   "codemirror_mode": {
    "name": "ipython",
    "version": 3
   },
   "file_extension": ".py",
   "mimetype": "text/x-python",
   "name": "python",
   "nbconvert_exporter": "python",
   "pygments_lexer": "ipython3",
   "version": "3.9.4"
  }
 },
 "nbformat": 4,
 "nbformat_minor": 5
}
