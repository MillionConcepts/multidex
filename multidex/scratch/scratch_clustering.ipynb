{
 "cells": [
  {
   "cell_type": "code",
   "execution_count": 1,
   "id": "atmospheric-champagne",
   "metadata": {},
   "outputs": [],
   "source": [
    "import os\n",
    "from time import time\n",
    "from sklearn import metrics\n",
    "from sklearn.pipeline import make_pipeline\n",
    "from sklearn.preprocessing import StandardScaler\n",
    "\n",
    "from sklearn.cluster import KMeans\n",
    "from sklearn.decomposition import PCA\n",
    "\n",
    "import django\n",
    "import numpy as np\n",
    "import pandas as pd\n",
    "from sklearn.datasets import load_digits\n",
    "\n",
    "os.chdir('..')\n",
    "\n",
    "\n",
    "os.environ.setdefault(\"DJANGO_SETTINGS_MODULE\", \"multidex.settings\")\n",
    "os.environ[\"DJANGO_ALLOW_ASYNC_UNSAFE\"] = \"true\"\n",
    "\n",
    "django.setup()\n",
    "\n",
    "from plotter.models import MSpec, ZSpec\n",
    "from plotter.spectrum_ops import filter_df_from_queryset\n",
    "\n",
    "from marslab.compat.xcam import DERIVED_CAM_DICT\n",
    "\n",
    "from multidex_utils import modeldict, model_metadata_df\n",
    "pd.set_option('display.max_rows', 200)"
   ]
  },
  {
   "cell_type": "code",
   "execution_count": null,
   "id": "0f7f7d4a",
   "metadata": {},
   "outputs": [],
   "source": [
    "import numpy as np\n",
    "from sklearn.decomposition import PCA\n",
    "X = np.array([[-1, -1], [-2, -1], [-3, -2], [1, 1], [2, 1], [3, 2]])\n",
    "pca = PCA(n_components=2)\n",
    "pca.fit(X)\n",
    "print(pca.explained_variance_ratio_)\n",
    "print(pca.singular_values_)\n"
   ]
  },
  {
   "cell_type": "code",
   "execution_count": null,
   "id": "f4daa9d7",
   "metadata": {},
   "outputs": [],
   "source": [
    "\n",
    "filter_info = DERIVED_CAM_DICT['ZCAM']['filters']\n",
    "filts = list(filter_info.keys())\n",
    "metadata_df = model_metadata_df(ZSpec)\n",
    "data_df = filter_df_from_queryset(ZSpec.objects.all(), r_star=True)\n",
    "corpus = pd.concat([metadata_df, data_df], axis=1)\n",
    "\n"
   ]
  },
  {
   "cell_type": "code",
   "execution_count": null,
   "id": "6a627df8",
   "metadata": {},
   "outputs": [],
   "source": [
    "filter_df_from_queryset?"
   ]
  },
  {
   "cell_type": "code",
   "execution_count": null,
   "id": "40b9bf52",
   "metadata": {},
   "outputs": [],
   "source": [
    "data_df = filter_df_from_queryset(\n",
    "    ZSpec.objects.all(), r_star=False, scale_to='L1_R1'\n",
    ")\n",
    "corpus = pd.concat([metadata_df, data_df], axis=1)\n",
    "\n",
    "search = corpus.copy().dropna(subset=filts)"
   ]
  },
  {
   "cell_type": "code",
   "execution_count": null,
   "id": "d8d89294",
   "metadata": {},
   "outputs": [],
   "source": [
    "np.cos(np.radians(corpus['incidence_angle']))"
   ]
  },
  {
   "cell_type": "code",
   "execution_count": null,
   "id": "831e8485",
   "metadata": {},
   "outputs": [],
   "source": [
    "queryset = ZSpec.objects.all()"
   ]
  },
  {
   "cell_type": "code",
   "execution_count": null,
   "id": "dd06ae97",
   "metadata": {},
   "outputs": [],
   "source": [
    "queryset[0].incidence_angle"
   ]
  },
  {
   "cell_type": "code",
   "execution_count": null,
   "id": "00884769",
   "metadata": {},
   "outputs": [],
   "source": [
    "from multidex_utils import qlist"
   ]
  },
  {
   "cell_type": "code",
   "execution_count": null,
   "id": "0ef55dea",
   "metadata": {},
   "outputs": [],
   "source": []
  },
  {
   "cell_type": "code",
   "execution_count": null,
   "id": "8abf77a9",
   "metadata": {},
   "outputs": [],
   "source": [
    "%%time\n",
    "[\n",
    "    getattr(spec, 'incidence_angle')\n",
    "    for spec in queryset\n",
    "]"
   ]
  },
  {
   "cell_type": "code",
   "execution_count": null,
   "id": "ee4d385f",
   "metadata": {},
   "outputs": [],
   "source": [
    ".23 / np.cos(np.radians(-7.922798))"
   ]
  },
  {
   "cell_type": "code",
   "execution_count": null,
   "id": "1d2f2607",
   "metadata": {},
   "outputs": [],
   "source": [
    "corpus[[\"L1\", \"R1\", \"incidence_angle\"]]"
   ]
  },
  {
   "cell_type": "code",
   "execution_count": null,
   "id": "5b5d76ba",
   "metadata": {},
   "outputs": [],
   "source": []
  },
  {
   "cell_type": "code",
   "execution_count": null,
   "id": "40998791",
   "metadata": {},
   "outputs": [],
   "source": [
    "data_df[['L1', 'R1']]"
   ]
  },
  {
   "cell_type": "code",
   "execution_count": null,
   "id": "6375b505",
   "metadata": {},
   "outputs": [],
   "source": []
  },
  {
   "cell_type": "code",
   "execution_count": null,
   "id": "28b0c2ff",
   "metadata": {},
   "outputs": [],
   "source": [
    "means = search[filts]"
   ]
  },
  {
   "cell_type": "code",
   "execution_count": null,
   "id": "1ec42998",
   "metadata": {
    "scrolled": false
   },
   "outputs": [],
   "source": [
    "vectors = means.T.to_dict('list')"
   ]
  },
  {
   "cell_type": "code",
   "execution_count": null,
   "id": "8d38c029",
   "metadata": {},
   "outputs": [],
   "source": [
    "vectarray = np.array(tuple(vectors.values()))"
   ]
  },
  {
   "cell_type": "code",
   "execution_count": null,
   "id": "ff5bc79b",
   "metadata": {},
   "outputs": [],
   "source": [
    "pca = PCA(n_components=3, whiten=True)\n",
    "%time transform = pca.fit_transform(vectarray)\n",
    "print(pca.explained_variance_ratio_)\n",
    "print(pca.singular_values_)\n"
   ]
  },
  {
   "cell_type": "code",
   "execution_count": null,
   "id": "b141c232",
   "metadata": {},
   "outputs": [],
   "source": [
    "transform"
   ]
  },
  {
   "cell_type": "code",
   "execution_count": null,
   "id": "fixed-mistress",
   "metadata": {},
   "outputs": [],
   "source": [
    "def bench_k_means(kmeans, name, data, labels):\n",
    "    \"\"\"Benchmark to evaluate the KMeans initialization methods.\n",
    "\n",
    "    Parameters\n",
    "    ----------\n",
    "    kmeans : KMeans instance\n",
    "        A :class:`~sklearn.cluster.KMeans` instance with the initialization\n",
    "        already set.\n",
    "    name : str\n",
    "        Name given to the strategy. It will be used to show the results in a\n",
    "        table.\n",
    "    data : ndarray of shape (n_samples, n_features)\n",
    "        The data to cluster.\n",
    "    labels : ndarray of shape (n_samples,)\n",
    "        The labels used to compute the clustering metrics which requires some\n",
    "        supervision.\n",
    "    \"\"\"\n",
    "    t0 = time()\n",
    "    estimator = make_pipeline(StandardScaler(), kmeans).fit(data)\n",
    "    fit_time = time() - t0\n",
    "    results = [name, fit_time, estimator[-1].inertia_]\n",
    "\n",
    "    # Define the metrics which require only the true labels and estimator\n",
    "    # labels\n",
    "    clustering_metrics = [\n",
    "        metrics.homogeneity_score,\n",
    "        metrics.completeness_score,\n",
    "        metrics.v_measure_score,\n",
    "        metrics.adjusted_rand_score,\n",
    "        metrics.adjusted_mutual_info_score,\n",
    "    ]\n",
    "    results += [m(labels, estimator[-1].labels_) for m in clustering_metrics]\n",
    "\n",
    "    # The silhouette score requires the full dataset\n",
    "    results += [\n",
    "        metrics.silhouette_score(data, estimator[-1].labels_,\n",
    "                                 metric=\"euclidean\", sample_size=300,)\n",
    "    ]\n",
    "\n",
    "    # Show the results\n",
    "    formatter_result = (\"{:9s}\\t{:.3f}s\\t{:.0f}\\t{:.3f}\\t{:.3f}\"\n",
    "                        \"\\t{:.3f}\\t{:.3f}\\t{:.3f}\\t{:.3f}\")\n",
    "    print(formatter_result.format(*results))"
   ]
  },
  {
   "cell_type": "code",
   "execution_count": null,
   "id": "signal-summary",
   "metadata": {},
   "outputs": [],
   "source": [
    "data, labels = load_digits(return_X_y=True)\n",
    "(n_samples, n_features), n_digits = data.shape, np.unique(labels).size\n",
    "\n",
    "print(\n",
    "    f\"# digits: {n_digits}; # samples: {n_samples}; # features {n_features}\"\n",
    ")\n",
    "\n",
    "print(82 * '_')\n",
    "print('init\\t\\ttime\\tinertia\\thomo\\tcompl\\tv-meas\\tARI\\tAMI\\tsilhouette')\n",
    "\n",
    "kmeans = KMeans(init=\"k-means++\", n_clusters=n_digits, n_init=4,\n",
    "                random_state=0)\n",
    "bench_k_means(kmeans=kmeans, name=\"k-means++\", data=data, labels=labels)\n",
    "\n",
    "kmeans = KMeans(init=\"random\", n_clusters=n_digits, n_init=4, random_state=0)\n",
    "bench_k_means(kmeans=kmeans, name=\"random\", data=data, labels=labels)\n",
    "\n",
    "pca = PCA(n_components=n_digits).fit(data)\n",
    "kmeans = KMeans(init=pca.components_, n_clusters=n_digits, n_init=1)\n",
    "bench_k_means(kmeans=kmeans, name=\"PCA-based\", data=data, labels=labels)\n",
    "\n",
    "print(82 * '_')"
   ]
  },
  {
   "cell_type": "code",
   "execution_count": null,
   "id": "younger-antique",
   "metadata": {},
   "outputs": [],
   "source": [
    "from sklearn.datasets import make_blobs"
   ]
  },
  {
   "cell_type": "code",
   "execution_count": null,
   "id": "healthy-gather",
   "metadata": {},
   "outputs": [],
   "source": [
    "data_df = filter_df_from_queryset(ZSpec.objects.all(), r_star=True)\n",
    "data_df.drop(columns=[col for col in data_df.columns if \"err\" in col], inplace=True)"
   ]
  },
  {
   "cell_type": "code",
   "execution_count": null,
   "id": "northern-momentum",
   "metadata": {},
   "outputs": [],
   "source": [
    "data_df"
   ]
  },
  {
   "cell_type": "code",
   "execution_count": null,
   "id": "formal-favorite",
   "metadata": {},
   "outputs": [],
   "source": []
  },
  {
   "cell_type": "code",
   "execution_count": null,
   "id": "viral-forty",
   "metadata": {},
   "outputs": [],
   "source": []
  },
  {
   "cell_type": "code",
   "execution_count": null,
   "id": "grave-cartoon",
   "metadata": {
    "scrolled": true
   },
   "outputs": [],
   "source": [
    "km = KMeans(n_clusters=10)\n",
    "metadata_df = model_metadata_df(ZSpec, [\"observation\"])\n",
    "metadata_df['km'] = km.fit_predict(data_df)\n",
    "metadata_df[['feature', 'name', 'km']]"
   ]
  },
  {
   "cell_type": "code",
   "execution_count": null,
   "id": "concerned-notification",
   "metadata": {},
   "outputs": [],
   "source": []
  },
  {
   "cell_type": "code",
   "execution_count": null,
   "id": "neither-firmware",
   "metadata": {
    "scrolled": false
   },
   "outputs": [],
   "source": []
  }
 ],
 "metadata": {
  "kernelspec": {
   "display_name": "Python 3",
   "language": "python",
   "name": "python3"
  },
  "language_info": {
   "codemirror_mode": {
    "name": "ipython",
    "version": 3
   },
   "file_extension": ".py",
   "mimetype": "text/x-python",
   "name": "python",
   "nbconvert_exporter": "python",
   "pygments_lexer": "ipython3",
   "version": "3.9.4"
  }
 },
 "nbformat": 4,
 "nbformat_minor": 5
}
