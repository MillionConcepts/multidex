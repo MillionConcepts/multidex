{
 "cells": [
  {
   "cell_type": "code",
   "execution_count": 1,
   "metadata": {},
   "outputs": [
    {
     "ename": "ModuleNotFoundError",
     "evalue": "No module named 'sympy'",
     "output_type": "error",
     "traceback": [
      "\u001b[0;31m---------------------------------------------------------------------------\u001b[0m",
      "\u001b[0;31mModuleNotFoundError\u001b[0m                       Traceback (most recent call last)",
      "\u001b[0;32m<ipython-input-1-be380f6580ec>\u001b[0m in \u001b[0;36m<module>\u001b[0;34m\u001b[0m\n\u001b[1;32m      4\u001b[0m \u001b[0;32mimport\u001b[0m \u001b[0mre\u001b[0m\u001b[0;34m\u001b[0m\u001b[0;34m\u001b[0m\u001b[0m\n\u001b[1;32m      5\u001b[0m \u001b[0;34m\u001b[0m\u001b[0m\n\u001b[0;32m----> 6\u001b[0;31m \u001b[0;32mfrom\u001b[0m \u001b[0mrhfe_tools\u001b[0m\u001b[0;34m.\u001b[0m\u001b[0marecibo\u001b[0m\u001b[0;34m.\u001b[0m\u001b[0mfit_funcs\u001b[0m \u001b[0;32mimport\u001b[0m \u001b[0;34m*\u001b[0m\u001b[0;34m\u001b[0m\u001b[0;34m\u001b[0m\u001b[0m\n\u001b[0m\u001b[1;32m      7\u001b[0m \u001b[0;32mfrom\u001b[0m \u001b[0mrhfe_tools\u001b[0m\u001b[0;34m.\u001b[0m\u001b[0marecibo\u001b[0m\u001b[0;34m.\u001b[0m\u001b[0mao_lunar_plot\u001b[0m \u001b[0;32mimport\u001b[0m \u001b[0;34m*\u001b[0m\u001b[0;34m\u001b[0m\u001b[0;34m\u001b[0m\u001b[0m\n\u001b[1;32m      8\u001b[0m \u001b[0;32mfrom\u001b[0m \u001b[0mrhfe_tools\u001b[0m\u001b[0;34m.\u001b[0m\u001b[0mfit\u001b[0m \u001b[0;32mimport\u001b[0m \u001b[0mfit_line\u001b[0m\u001b[0;34m,\u001b[0m \u001b[0mplot_mesh\u001b[0m\u001b[0;34m,\u001b[0m \u001b[0mcorrelation_matrix\u001b[0m\u001b[0;34m,\u001b[0m \u001b[0mFit\u001b[0m\u001b[0;34m,\u001b[0m \u001b[0mnumeric_columns\u001b[0m\u001b[0;34m\u001b[0m\u001b[0;34m\u001b[0m\u001b[0m\n",
      "\u001b[0;32m~/Desktop/rhfe/src/rhfe_tools/__init__.py\u001b[0m in \u001b[0;36m<module>\u001b[0;34m\u001b[0m\n\u001b[0;32m----> 1\u001b[0;31m \u001b[0;32mfrom\u001b[0m \u001b[0;34m.\u001b[0m\u001b[0mgtools\u001b[0m \u001b[0;32mimport\u001b[0m \u001b[0;34m*\u001b[0m\u001b[0;34m\u001b[0m\u001b[0;34m\u001b[0m\u001b[0m\n\u001b[0m",
      "\u001b[0;32m~/Desktop/rhfe/src/rhfe_tools/gtools.py\u001b[0m in \u001b[0;36m<module>\u001b[0;34m\u001b[0m\n\u001b[1;32m     10\u001b[0m \u001b[0;32mimport\u001b[0m \u001b[0mnumpy\u001b[0m \u001b[0;32mas\u001b[0m \u001b[0mnp\u001b[0m\u001b[0;34m\u001b[0m\u001b[0;34m\u001b[0m\u001b[0m\n\u001b[1;32m     11\u001b[0m \u001b[0;32mimport\u001b[0m \u001b[0mpandas\u001b[0m \u001b[0;32mas\u001b[0m \u001b[0mpd\u001b[0m\u001b[0;34m\u001b[0m\u001b[0;34m\u001b[0m\u001b[0m\n\u001b[0;32m---> 12\u001b[0;31m \u001b[0;32mimport\u001b[0m \u001b[0msympy\u001b[0m \u001b[0;32mas\u001b[0m \u001b[0msp\u001b[0m\u001b[0;34m\u001b[0m\u001b[0;34m\u001b[0m\u001b[0m\n\u001b[0m\u001b[1;32m     13\u001b[0m \u001b[0;32mfrom\u001b[0m \u001b[0mIPython\u001b[0m\u001b[0;34m.\u001b[0m\u001b[0mcore\u001b[0m\u001b[0;34m.\u001b[0m\u001b[0mdisplay\u001b[0m \u001b[0;32mimport\u001b[0m \u001b[0mclear_output\u001b[0m\u001b[0;34m\u001b[0m\u001b[0;34m\u001b[0m\u001b[0m\n\u001b[1;32m     14\u001b[0m \u001b[0;32mfrom\u001b[0m \u001b[0mastropy\u001b[0m\u001b[0;34m.\u001b[0m\u001b[0mcoordinates\u001b[0m\u001b[0;34m.\u001b[0m\u001b[0mangle_utilities\u001b[0m \u001b[0;32mimport\u001b[0m \u001b[0mangular_separation\u001b[0m\u001b[0;34m\u001b[0m\u001b[0;34m\u001b[0m\u001b[0m\n",
      "\u001b[0;31mModuleNotFoundError\u001b[0m: No module named 'sympy'"
     ]
    }
   ],
   "source": [
    "from itertools import combinations, permutations\n",
    "import os\n",
    "from random import choice\n",
    "import re\n",
    "\n",
    "from rhfe_tools.arecibo.fit_funcs import *\n",
    "from rhfe_tools.arecibo.ao_lunar_plot import *\n",
    "from rhfe_tools.fit import fit_line, plot_mesh, correlation_matrix, Fit, numeric_columns\n",
    "from rhfe_tools.project import ortho_transform, LUNAR_RADIUS\n",
    "from scipy.stats import binned_statistic_2d\n",
    "import django\n",
    "import fs.path\n",
    "import numpy as np\n",
    "import pandas as pd\n",
    "from django.core.exceptions import ObjectDoesNotExist\n",
    "from fs.osfs import OSFS\n",
    "\n",
    "os.environ.setdefault(\"DJANGO_SETTINGS_MODULE\", \"multidex.settings\")\n",
    "os.environ[\"DJANGO_ALLOW_ASYNC_UNSAFE\"] = \"true\"\n",
    "\n",
    "django.setup()\n",
    "\n",
    "from plotter.models import *\n",
    "# from mastspec.views import *\n",
    "# from mastspec.forms import *\n",
    "from plotter.spectrum_ops import *\n",
    "from plotter_utils import modeldict, model_metadata_df\n"
   ]
  },
  {
   "cell_type": "code",
   "execution_count": null,
   "metadata": {},
   "outputs": [],
   "source": [
    "filter_df_from_queryset??"
   ]
  },
  {
   "cell_type": "code",
   "execution_count": null,
   "metadata": {},
   "outputs": [],
   "source": [
    "metadata_df = model_metadata_df(ZSpec, [\"observation\"])\n",
    "data_df = filter_df_from_queryset(ZSpec.objects.all(), r_star=True, scale_to='L0B_R0B')\n",
    "zdf = pd.concat([metadata_df, data_df], axis=1)"
   ]
  },
  {
   "cell_type": "code",
   "execution_count": null,
   "metadata": {},
   "outputs": [],
   "source": [
    "choice(ZSpec.objects.all()).filter_values()"
   ]
  },
  {
   "cell_type": "code",
   "execution_count": null,
   "metadata": {},
   "outputs": [],
   "source": [
    "data_df"
   ]
  },
  {
   "cell_type": "code",
   "execution_count": null,
   "metadata": {},
   "outputs": [],
   "source": [
    "ZSpec.virtual_filter_mapping"
   ]
  },
  {
   "cell_type": "code",
   "execution_count": null,
   "metadata": {},
   "outputs": [],
   "source": [
    "for feature in zdf['feature'].unique():\n",
    "    zdf[feature] = 0\n",
    "    zdf.loc[zdf['feature'] == feature, feature] = 1"
   ]
  },
  {
   "cell_type": "code",
   "execution_count": null,
   "metadata": {},
   "outputs": [],
   "source": [
    "keep_columns = [\n",
    "    \"incidence_angle\",\"emission_angle\",\"phase_angle\",\n",
    "    *zdf.feature.unique()\n",
    "    ]"
   ]
  },
  {
   "cell_type": "code",
   "execution_count": null,
   "metadata": {},
   "outputs": [],
   "source": [
    "zfilts = [f for f in ZSpec.filters]\n",
    "zcomb = list(combinations(zfilts, 2))\n",
    "zper3 = list(permutations(zfilts, 3))"
   ]
  },
  {
   "cell_type": "code",
   "execution_count": null,
   "metadata": {},
   "outputs": [],
   "source": [
    "ratframe = []\n",
    "for f1, f2 in zcomb:\n",
    "    series = ratio(zdf, ZSpec, f1, f2)[0]\n",
    "    series.name = 'r ' + f1 + ' ' + f2\n",
    "    ratframe.append(series)\n",
    "ratframe = pd.concat(ratframe, axis=1)\n",
    "full_ratframe = pd.concat([\n",
    "    zdf[keep_columns], ratframe\n",
    "], axis=1)"
   ]
  },
  {
   "cell_type": "code",
   "execution_count": null,
   "metadata": {},
   "outputs": [],
   "source": [
    "bandframe = []\n",
    "for f1, f2, f3 in zper3:\n",
    "    try:\n",
    "        series = band_depth_custom(zdf, ZSpec, f1, f2, f3)[0]\n",
    "    except ValueError: # usually bd outside range\n",
    "        continue\n",
    "    series.name = 'bd ' + f1 + ' ' + f3 + ' ' + f2\n",
    "    bandframe.append(series)\n",
    "bandframe = pd.concat(bandframe, axis=1)\n",
    "full_bandframe = pd.concat([\n",
    "    zdf[keep_columns], bandframe\n",
    "], axis=1)"
   ]
  },
  {
   "cell_type": "code",
   "execution_count": null,
   "metadata": {},
   "outputs": [],
   "source": [
    "slopeframe = []\n",
    "for f1, f2 in zcomb:\n",
    "    try:\n",
    "        series = slope(zdf, ZSpec, f1, f2)[0]\n",
    "    except ValueError: # usually bd outside range\n",
    "        continue\n",
    "    series.name = 'sl ' + f1 + ' ' + f2\n",
    "    slopeframe.append(series)\n",
    "slopeframe = pd.concat(slopeframe, axis=1)\n",
    "full_slopeframe = pd.concat([\n",
    "    zdf[keep_columns], slopeframe\n",
    "], axis=1)"
   ]
  },
  {
   "cell_type": "code",
   "execution_count": null,
   "metadata": {},
   "outputs": [],
   "source": [
    "correlation_matrix??"
   ]
  },
  {
   "cell_type": "code",
   "execution_count": null,
   "metadata": {
    "scrolled": true
   },
   "outputs": [],
   "source": [
    "ratio_corrs = correlation_matrix(full_ratframe)\n",
    "ratio_corr_feats = ratio_corrs[zdf.feature.unique()].drop(zdf.feature.unique(), axis=0)\n",
    "bd_corrs = correlation_matrix(full_bandframe)\n",
    "bd_corr_feats = bd_corrs[zdf.feature.unique()].drop(zdf.feature.unique(), axis=0)\n",
    "slope_corrs = correlation_matrix(full_slopeframe)\n",
    "slope_corr_feats = slope_corrs[zdf.feature.unique()].drop(zdf.feature.unique(), axis=0)"
   ]
  },
  {
   "cell_type": "code",
   "execution_count": null,
   "metadata": {},
   "outputs": [],
   "source": [
    "pd.concat([\n",
    "    ratio_corr_feats,\n",
    "    bd_corr_feats.drop(['incidence_angle', 'emission_angle', 'phase_angle'], axis=0),\n",
    "    slope_corr_feats.drop(['incidence_angle', 'emission_angle', 'phase_angle'], axis=0)\n",
    "]).to_csv('feature_correlation_matrix_2021_04_08_scaled_l1_r1.csv')"
   ]
  },
  {
   "cell_type": "code",
   "execution_count": null,
   "metadata": {},
   "outputs": [],
   "source": [
    "[\n",
    "    spec.filter_values() for spec in\n",
    "    mspec.filter(observation__seq_id__iexact='mcam00126')\n",
    "]"
   ]
  },
  {
   "cell_type": "code",
   "execution_count": null,
   "metadata": {},
   "outputs": [],
   "source": [
    "m = choice(MSpec.objects.all())"
   ]
  },
  {
   "cell_type": "code",
   "execution_count": null,
   "metadata": {},
   "outputs": [],
   "source": []
  },
  {
   "cell_type": "code",
   "execution_count": null,
   "metadata": {},
   "outputs": [],
   "source": [
    "n.model"
   ]
  },
  {
   "cell_type": "code",
   "execution_count": null,
   "metadata": {},
   "outputs": [],
   "source": [
    "search_list = [{'field': 'lon', 'term': [], 'begin': 137.35, 'end': 137.4},\n",
    " {'field': 'member', 'term': ['Dillinger']}]"
   ]
  },
  {
   "cell_type": "code",
   "execution_count": null,
   "metadata": {},
   "outputs": [],
   "source": []
  },
  {
   "cell_type": "code",
   "execution_count": null,
   "metadata": {},
   "outputs": [],
   "source": [
    "print(pretty_print_search_params(search_list))"
   ]
  },
  {
   "cell_type": "code",
   "execution_count": null,
   "metadata": {},
   "outputs": [],
   "source": [
    "MSpec.objects.get(id__iexact=2338).filter_values(average_filters=True, scale_to=('l2','r2'))"
   ]
  },
  {
   "cell_type": "code",
   "execution_count": null,
   "metadata": {},
   "outputs": [],
   "source": [
    "filter_df = filter_df_from_queryset(MSpec.objects.all(), average_filters=True, scale_to=('l2','r2'))\n",
    "band_depth_min(filter_df, MSpec, 'l1_r1', 'l6_r6')"
   ]
  },
  {
   "cell_type": "code",
   "execution_count": null,
   "metadata": {},
   "outputs": [],
   "source": [
    "from plotter_utils import filter_nan_rows, qlist"
   ]
  },
  {
   "cell_type": "code",
   "execution_count": null,
   "metadata": {},
   "outputs": [],
   "source": [
    "%time qlist(MSpec.objects.all(), 'id')"
   ]
  },
  {
   "cell_type": "code",
   "execution_count": null,
   "metadata": {},
   "outputs": [],
   "source": [
    "%%time\n",
    "filter_nan_rows(\n",
    "    MSpec.objects.all(),\n",
    "    filter_df,\n",
    "    ['l3', 'r5']\n",
    ")"
   ]
  },
  {
   "cell_type": "code",
   "execution_count": null,
   "metadata": {},
   "outputs": [],
   "source": [
    "queryset = MSpec.objects.all()\n",
    "%time [i[0] for i in queryset.values_list('id')]"
   ]
  },
  {
   "cell_type": "code",
   "execution_count": null,
   "metadata": {},
   "outputs": [],
   "source": [
    "filt_args = ['l3', 'r5']\n",
    "queryset = MSpec.objects.all()\n",
    "%time relevant_filters = filter_df[filt_args]\n",
    "%time queryset_ids = [spec.id for spec in queryset]\n",
    "%time queryset_relevant_filters = relevant_filters.loc[queryset_ids]\n",
    "%time queryset.model.objects.filter(id__in=queryset_relevant_filters.dropna().index)"
   ]
  },
  {
   "cell_type": "code",
   "execution_count": null,
   "metadata": {},
   "outputs": [],
   "source": [
    "from plotter.graph import truncate_queryset_for_missing_properties"
   ]
  },
  {
   "cell_type": "code",
   "execution_count": null,
   "metadata": {},
   "outputs": [],
   "source": [
    "truncate_queryset_for_missing_properties?"
   ]
  },
  {
   "cell_type": "code",
   "execution_count": null,
   "metadata": {},
   "outputs": [],
   "source": [
    "settings = {\n",
    "    'main-filter-1-marker.value': 'l2', \n",
    "    'main-filter-2-marker.value': 'l2', \n",
    "    'main-filter-3-marker.value': 'l2', \n",
    "    'main-graph-option-marker.value': 'ref', \n",
    "    'main-color.value': 'aggrnyl', \n",
    "    'main-highlight-save.n_clicks': None, \n",
    "    'main-highlight-toggle.value': 'off'\n",
    "}\n",
    "prefix = 'main'\n",
    "suffix = 'marker.value'"
   ]
  },
  {
   "cell_type": "code",
   "execution_count": null,
   "metadata": {},
   "outputs": [],
   "source": [
    "a = MSpec.objects.filter(observation__seq_id__iexact='mcam00128')"
   ]
  },
  {
   "cell_type": "code",
   "execution_count": null,
   "metadata": {},
   "outputs": [],
   "source": [
    "modeldict(a[0])"
   ]
  },
  {
   "cell_type": "code",
   "execution_count": null,
   "metadata": {},
   "outputs": [],
   "source": [
    "%%time\n",
    "queryset = MSpec.objects.all()\n",
    "filter_df = filter_df_from_queryset(queryset)\n"
   ]
  },
  {
   "cell_type": "code",
   "execution_count": null,
   "metadata": {},
   "outputs": [],
   "source": [
    "%%time\n",
    "queryset = truncate_queryset_for_missing_properties(\n",
    "    settings,\n",
    "    queryset,\n",
    "    prefix,\n",
    "    suffix,\n",
    "    filter_df\n",
    ")\n",
    "queryset = truncate_queryset_for_missing_properties(\n",
    "    settings,\n",
    "    queryset,\n",
    "    prefix,\n",
    "    suffix,\n",
    "    filter_df\n",
    ")\n",
    "queryset = truncate_queryset_for_missing_properties(\n",
    "    settings,\n",
    "    queryset,\n",
    "    prefix,\n",
    "    suffix,\n",
    "    filter_df\n",
    ")"
   ]
  },
  {
   "cell_type": "code",
   "execution_count": null,
   "metadata": {},
   "outputs": [],
   "source": [
    "%lter_df['l1']"
   ]
  },
  {
   "cell_type": "code",
   "execution_count": null,
   "metadata": {},
   "outputs": [],
   "source": [
    "%%time\n",
    "m.filters"
   ]
  },
  {
   "cell_type": "code",
   "execution_count": null,
   "metadata": {},
   "outputs": [],
   "source": [
    "%%time\n",
    "a = []\n",
    "for m in MSpec.objects.all():\n",
    "    m.filter_values(None, False)"
   ]
  },
  {
   "cell_type": "code",
   "execution_count": null,
   "metadata": {},
   "outputs": [],
   "source": [
    "%debug"
   ]
  },
  {
   "cell_type": "code",
   "execution_count": null,
   "metadata": {},
   "outputs": [],
   "source": [
    "2000 * 500"
   ]
  },
  {
   "cell_type": "code",
   "execution_count": null,
   "metadata": {},
   "outputs": [],
   "source": [
    "len(MSpec.objects.all())"
   ]
  },
  {
   "cell_type": "code",
   "execution_count": null,
   "metadata": {
    "scrolled": false
   },
   "outputs": [],
   "source": [
    "modeldict(m)"
   ]
  },
  {
   "cell_type": "code",
   "execution_count": null,
   "metadata": {},
   "outputs": [],
   "source": [
    "spectrum.filters"
   ]
  },
  {
   "cell_type": "code",
   "execution_count": null,
   "metadata": {},
   "outputs": [],
   "source": [
    "%debug"
   ]
  },
  {
   "cell_type": "code",
   "execution_count": null,
   "metadata": {},
   "outputs": [],
   "source": [
    "m = pd.read_csv(input_fs.getsyspath(spec_file))"
   ]
  },
  {
   "cell_type": "code",
   "execution_count": null,
   "metadata": {},
   "outputs": [],
   "source": [
    "m['R4'].astype(float)"
   ]
  },
  {
   "cell_type": "code",
   "execution_count": null,
   "metadata": {},
   "outputs": [],
   "source": [
    "spec_file"
   ]
  },
  {
   "cell_type": "code",
   "execution_count": null,
   "metadata": {},
   "outputs": [],
   "source": [
    "metadata"
   ]
  },
  {
   "cell_type": "code",
   "execution_count": null,
   "metadata": {},
   "outputs": [],
   "source": [
    "modeldict(\n",
    "    MSpec.objects.all()[0]\n",
    ")"
   ]
  },
  {
   "cell_type": "code",
   "execution_count": null,
   "metadata": {
    "scrolled": true
   },
   "outputs": [],
   "source": [
    "seq_id"
   ]
  },
  {
   "cell_type": "code",
   "execution_count": null,
   "metadata": {},
   "outputs": [],
   "source": [
    "frame"
   ]
  },
  {
   "cell_type": "code",
   "execution_count": null,
   "metadata": {},
   "outputs": [],
   "source": [
    "obs = MSpec.objects.filter(observation__seq_id__iexact='mcam06328')"
   ]
  },
  {
   "cell_type": "code",
   "execution_count": null,
   "metadata": {},
   "outputs": [],
   "source": [
    "obs"
   ]
  },
  {
   "cell_type": "code",
   "execution_count": null,
   "metadata": {},
   "outputs": [],
   "source": [
    "from time import time"
   ]
  },
  {
   "cell_type": "code",
   "execution_count": null,
   "metadata": {},
   "outputs": [],
   "source": [
    "t = time()\n",
    "time() - t"
   ]
  },
  {
   "cell_type": "code",
   "execution_count": null,
   "metadata": {},
   "outputs": [],
   "source": [
    "m = obs[0]"
   ]
  },
  {
   "cell_type": "code",
   "execution_count": null,
   "metadata": {},
   "outputs": [],
   "source": [
    "m.as_table()"
   ]
  },
  {
   "cell_type": "code",
   "execution_count": null,
   "metadata": {},
   "outputs": [],
   "source": [
    "modeldict(\n",
    "    obs[0]\n",
    ")"
   ]
  },
  {
   "cell_type": "code",
   "execution_count": 2,
   "metadata": {},
   "outputs": [],
   "source": [
    "all_named_css = \"aliceblue, antiquewhite, aqua, aquamarine, azure, beige, bisque, black, blanchedalmond, blue, blueviolet, brown, burlywood, cadetblue, chartreuse, chocolate, coral, cornflowerblue, cornsilk, crimson, cyan, darkblue, darkcyan, darkgoldenrod, darkgray, darkgrey, darkgreen, darkkhaki, darkmagenta, darkolivegreen, darkorange, darkorchid, darkred, darksalmon, darkseagreen, darkslateblue, darkslategray, darkslategrey, darkturquoise, darkviolet, deeppink, deepskyblue, dimgray, dimgrey, dodgerblue, firebrick, floralwhite, forestgreen, fuchsia, gainsboro, ghostwhite, gold, goldenrod, gray, grey, green, greenyellow, honeydew, hotpink, indianred, indigo, ivory, khaki, lavender, lavenderblush, lawngreen, lemonchiffon, lightblue, lightcoral, lightcyan, lightgoldenrodyellow, lightgray, lightgrey, lightgreen, lightpink, lightsalmon, lightseagreen, lightskyblue, lightslategray, lightslategrey, lightsteelblue, lightyellow, lime, limegreen, linen, magenta, maroon, mediumaquamarine, mediumblue, mediumorchid, mediumpurple, mediumseagreen, mediumslateblue, mediumspringgreen, mediumturquoise, mediumvioletred, midnightblue, mintcream, mistyrose, moccasin, navajowhite, navy, oldlace, olive, olivedrab, orange, orangered, orchid, palegoldenrod, palegreen, paleturquoise, palevioletred, papayawhip, peachpuff, peru, pink, plum, powderblue, purple, red, rosybrown, royalblue, rebeccapurple, saddlebrown, salmon, sandybrown, seagreen, seashell, sienna, silver, skyblue, slateblue, slategray, slategrey, snow, springgreen, steelblue, tan, teal, thistle, tomato, turquoise, violet, wheat, white, whitesmoke, yellow, yellowgreen\""
   ]
  },
  {
   "cell_type": "code",
   "execution_count": 9,
   "metadata": {
    "collapsed": true
   },
   "outputs": [
    {
     "name": "stdout",
     "output_type": "stream",
     "text": [
      "{\"label\": \"aliceblue\", \"value\": \"aliceblue\"},\n",
      "{\"label\": \"antiquewhite\", \"value\": \"antiquewhite\"},\n",
      "{\"label\": \"aqua\", \"value\": \"aqua\"},\n",
      "{\"label\": \"aquamarine\", \"value\": \"aquamarine\"},\n",
      "{\"label\": \"azure\", \"value\": \"azure\"},\n",
      "{\"label\": \"beige\", \"value\": \"beige\"},\n",
      "{\"label\": \"bisque\", \"value\": \"bisque\"},\n",
      "{\"label\": \"black\", \"value\": \"black\"},\n",
      "{\"label\": \"blanchedalmond\", \"value\": \"blanchedalmond\"},\n",
      "{\"label\": \"blue\", \"value\": \"blue\"},\n",
      "{\"label\": \"blueviolet\", \"value\": \"blueviolet\"},\n",
      "{\"label\": \"brown\", \"value\": \"brown\"},\n",
      "{\"label\": \"burlywood\", \"value\": \"burlywood\"},\n",
      "{\"label\": \"cadetblue\", \"value\": \"cadetblue\"},\n",
      "{\"label\": \"chartreuse\", \"value\": \"chartreuse\"},\n",
      "{\"label\": \"chocolate\", \"value\": \"chocolate\"},\n",
      "{\"label\": \"coral\", \"value\": \"coral\"},\n",
      "{\"label\": \"cornflowerblue\", \"value\": \"cornflowerblue\"},\n",
      "{\"label\": \"cornsilk\", \"value\": \"cornsilk\"},\n",
      "{\"label\": \"crimson\", \"value\": \"crimson\"},\n",
      "{\"label\": \"cyan\", \"value\": \"cyan\"},\n",
      "{\"label\": \"darkblue\", \"value\": \"darkblue\"},\n",
      "{\"label\": \"darkcyan\", \"value\": \"darkcyan\"},\n",
      "{\"label\": \"darkgoldenrod\", \"value\": \"darkgoldenrod\"},\n",
      "{\"label\": \"darkgray\", \"value\": \"darkgray\"},\n",
      "{\"label\": \"darkgrey\", \"value\": \"darkgrey\"},\n",
      "{\"label\": \"darkgreen\", \"value\": \"darkgreen\"},\n",
      "{\"label\": \"darkkhaki\", \"value\": \"darkkhaki\"},\n",
      "{\"label\": \"darkmagenta\", \"value\": \"darkmagenta\"},\n",
      "{\"label\": \"darkolivegreen\", \"value\": \"darkolivegreen\"},\n",
      "{\"label\": \"darkorange\", \"value\": \"darkorange\"},\n",
      "{\"label\": \"darkorchid\", \"value\": \"darkorchid\"},\n",
      "{\"label\": \"darkred\", \"value\": \"darkred\"},\n",
      "{\"label\": \"darksalmon\", \"value\": \"darksalmon\"},\n",
      "{\"label\": \"darkseagreen\", \"value\": \"darkseagreen\"},\n",
      "{\"label\": \"darkslateblue\", \"value\": \"darkslateblue\"},\n",
      "{\"label\": \"darkslategray\", \"value\": \"darkslategray\"},\n",
      "{\"label\": \"darkslategrey\", \"value\": \"darkslategrey\"},\n",
      "{\"label\": \"darkturquoise\", \"value\": \"darkturquoise\"},\n",
      "{\"label\": \"darkviolet\", \"value\": \"darkviolet\"},\n",
      "{\"label\": \"deeppink\", \"value\": \"deeppink\"},\n",
      "{\"label\": \"deepskyblue\", \"value\": \"deepskyblue\"},\n",
      "{\"label\": \"dimgray\", \"value\": \"dimgray\"},\n",
      "{\"label\": \"dimgrey\", \"value\": \"dimgrey\"},\n",
      "{\"label\": \"dodgerblue\", \"value\": \"dodgerblue\"},\n",
      "{\"label\": \"firebrick\", \"value\": \"firebrick\"},\n",
      "{\"label\": \"floralwhite\", \"value\": \"floralwhite\"},\n",
      "{\"label\": \"forestgreen\", \"value\": \"forestgreen\"},\n",
      "{\"label\": \"fuchsia\", \"value\": \"fuchsia\"},\n",
      "{\"label\": \"gainsboro\", \"value\": \"gainsboro\"},\n",
      "{\"label\": \"ghostwhite\", \"value\": \"ghostwhite\"},\n",
      "{\"label\": \"gold\", \"value\": \"gold\"},\n",
      "{\"label\": \"goldenrod\", \"value\": \"goldenrod\"},\n",
      "{\"label\": \"gray\", \"value\": \"gray\"},\n",
      "{\"label\": \"grey\", \"value\": \"grey\"},\n",
      "{\"label\": \"green\", \"value\": \"green\"},\n",
      "{\"label\": \"greenyellow\", \"value\": \"greenyellow\"},\n",
      "{\"label\": \"honeydew\", \"value\": \"honeydew\"},\n",
      "{\"label\": \"hotpink\", \"value\": \"hotpink\"},\n",
      "{\"label\": \"indianred\", \"value\": \"indianred\"},\n",
      "{\"label\": \"indigo\", \"value\": \"indigo\"},\n",
      "{\"label\": \"ivory\", \"value\": \"ivory\"},\n",
      "{\"label\": \"khaki\", \"value\": \"khaki\"},\n",
      "{\"label\": \"lavender\", \"value\": \"lavender\"},\n",
      "{\"label\": \"lavenderblush\", \"value\": \"lavenderblush\"},\n",
      "{\"label\": \"lawngreen\", \"value\": \"lawngreen\"},\n",
      "{\"label\": \"lemonchiffon\", \"value\": \"lemonchiffon\"},\n",
      "{\"label\": \"lightblue\", \"value\": \"lightblue\"},\n",
      "{\"label\": \"lightcoral\", \"value\": \"lightcoral\"},\n",
      "{\"label\": \"lightcyan\", \"value\": \"lightcyan\"},\n",
      "{\"label\": \"lightgoldenrodyellow\", \"value\": \"lightgoldenrodyellow\"},\n",
      "{\"label\": \"lightgray\", \"value\": \"lightgray\"},\n",
      "{\"label\": \"lightgrey\", \"value\": \"lightgrey\"},\n",
      "{\"label\": \"lightgreen\", \"value\": \"lightgreen\"},\n",
      "{\"label\": \"lightpink\", \"value\": \"lightpink\"},\n",
      "{\"label\": \"lightsalmon\", \"value\": \"lightsalmon\"},\n",
      "{\"label\": \"lightseagreen\", \"value\": \"lightseagreen\"},\n",
      "{\"label\": \"lightskyblue\", \"value\": \"lightskyblue\"},\n",
      "{\"label\": \"lightslategray\", \"value\": \"lightslategray\"},\n",
      "{\"label\": \"lightslategrey\", \"value\": \"lightslategrey\"},\n",
      "{\"label\": \"lightsteelblue\", \"value\": \"lightsteelblue\"},\n",
      "{\"label\": \"lightyellow\", \"value\": \"lightyellow\"},\n",
      "{\"label\": \"lime\", \"value\": \"lime\"},\n",
      "{\"label\": \"limegreen\", \"value\": \"limegreen\"},\n",
      "{\"label\": \"linen\", \"value\": \"linen\"},\n",
      "{\"label\": \"magenta\", \"value\": \"magenta\"},\n",
      "{\"label\": \"maroon\", \"value\": \"maroon\"},\n",
      "{\"label\": \"mediumaquamarine\", \"value\": \"mediumaquamarine\"},\n",
      "{\"label\": \"mediumblue\", \"value\": \"mediumblue\"},\n",
      "{\"label\": \"mediumorchid\", \"value\": \"mediumorchid\"},\n",
      "{\"label\": \"mediumpurple\", \"value\": \"mediumpurple\"},\n",
      "{\"label\": \"mediumseagreen\", \"value\": \"mediumseagreen\"},\n",
      "{\"label\": \"mediumslateblue\", \"value\": \"mediumslateblue\"},\n",
      "{\"label\": \"mediumspringgreen\", \"value\": \"mediumspringgreen\"},\n",
      "{\"label\": \"mediumturquoise\", \"value\": \"mediumturquoise\"},\n",
      "{\"label\": \"mediumvioletred\", \"value\": \"mediumvioletred\"},\n",
      "{\"label\": \"midnightblue\", \"value\": \"midnightblue\"},\n",
      "{\"label\": \"mintcream\", \"value\": \"mintcream\"},\n",
      "{\"label\": \"mistyrose\", \"value\": \"mistyrose\"},\n",
      "{\"label\": \"moccasin\", \"value\": \"moccasin\"},\n",
      "{\"label\": \"navajowhite\", \"value\": \"navajowhite\"},\n",
      "{\"label\": \"navy\", \"value\": \"navy\"},\n",
      "{\"label\": \"oldlace\", \"value\": \"oldlace\"},\n",
      "{\"label\": \"olive\", \"value\": \"olive\"},\n",
      "{\"label\": \"olivedrab\", \"value\": \"olivedrab\"},\n",
      "{\"label\": \"orange\", \"value\": \"orange\"},\n",
      "{\"label\": \"orangered\", \"value\": \"orangered\"},\n",
      "{\"label\": \"orchid\", \"value\": \"orchid\"},\n",
      "{\"label\": \"palegoldenrod\", \"value\": \"palegoldenrod\"},\n",
      "{\"label\": \"palegreen\", \"value\": \"palegreen\"},\n",
      "{\"label\": \"paleturquoise\", \"value\": \"paleturquoise\"},\n",
      "{\"label\": \"palevioletred\", \"value\": \"palevioletred\"},\n",
      "{\"label\": \"papayawhip\", \"value\": \"papayawhip\"},\n",
      "{\"label\": \"peachpuff\", \"value\": \"peachpuff\"},\n",
      "{\"label\": \"peru\", \"value\": \"peru\"},\n",
      "{\"label\": \"pink\", \"value\": \"pink\"},\n",
      "{\"label\": \"plum\", \"value\": \"plum\"},\n",
      "{\"label\": \"powderblue\", \"value\": \"powderblue\"},\n",
      "{\"label\": \"purple\", \"value\": \"purple\"},\n",
      "{\"label\": \"red\", \"value\": \"red\"},\n",
      "{\"label\": \"rosybrown\", \"value\": \"rosybrown\"},\n",
      "{\"label\": \"royalblue\", \"value\": \"royalblue\"},\n",
      "{\"label\": \"rebeccapurple\", \"value\": \"rebeccapurple\"},\n",
      "{\"label\": \"saddlebrown\", \"value\": \"saddlebrown\"},\n",
      "{\"label\": \"salmon\", \"value\": \"salmon\"},\n",
      "{\"label\": \"sandybrown\", \"value\": \"sandybrown\"},\n",
      "{\"label\": \"seagreen\", \"value\": \"seagreen\"},\n",
      "{\"label\": \"seashell\", \"value\": \"seashell\"},\n",
      "{\"label\": \"sienna\", \"value\": \"sienna\"},\n",
      "{\"label\": \"silver\", \"value\": \"silver\"},\n",
      "{\"label\": \"skyblue\", \"value\": \"skyblue\"},\n",
      "{\"label\": \"slateblue\", \"value\": \"slateblue\"},\n",
      "{\"label\": \"slategray\", \"value\": \"slategray\"},\n",
      "{\"label\": \"slategrey\", \"value\": \"slategrey\"},\n",
      "{\"label\": \"snow\", \"value\": \"snow\"},\n",
      "{\"label\": \"springgreen\", \"value\": \"springgreen\"},\n",
      "{\"label\": \"steelblue\", \"value\": \"steelblue\"},\n",
      "{\"label\": \"tan\", \"value\": \"tan\"},\n",
      "{\"label\": \"teal\", \"value\": \"teal\"},\n",
      "{\"label\": \"thistle\", \"value\": \"thistle\"},\n",
      "{\"label\": \"tomato\", \"value\": \"tomato\"},\n",
      "{\"label\": \"turquoise\", \"value\": \"turquoise\"},\n",
      "{\"label\": \"violet\", \"value\": \"violet\"},\n",
      "{\"label\": \"wheat\", \"value\": \"wheat\"},\n",
      "{\"label\": \"white\", \"value\": \"white\"},\n",
      "{\"label\": \"whitesmoke\", \"value\": \"whitesmoke\"},\n",
      "{\"label\": \"yellow\", \"value\": \"yellow\"},\n",
      "{\"label\": \"yellowgreen\", \"value\": \"yellowgreen\"},\n"
     ]
    }
   ],
   "source": [
    "for color in all_named_css.split(\", \"):\n",
    "    print(\"{\\\"label\\\": \\\"\" + color + \"\\\", \\\"value\\\": \\\"\" + color + \"\\\"},\")"
   ]
  },
  {
   "cell_type": "code",
   "execution_count": 11,
   "metadata": {},
   "outputs": [],
   "source": [
    "all_marker_types = [0, '0', 'circle', 100, '100', 'circle-open', 200, '200', 'circle-dot', 300, '300', 'circle-open-dot', 1, '1', 'square', 101, '101', 'square-open', 201, '201', 'square-dot', 301, '301', 'square-open-dot', 2, '2', 'diamond', 102, '102', 'diamond-open', 202, '202', 'diamond-dot', 302, '302', 'diamond-open-dot', 3, '3', 'cross', 103, '103', 'cross-open', 203, '203', 'cross-dot', 303, '303', 'cross-open-dot', 4, '4', 'x', 104, '104', 'x-open', 204, '204', 'x-dot', 304, '304', 'x-open-dot', 5, '5', 'triangle-up', 105, '105', 'triangle-up-open', 205, '205', 'triangle-up-dot', 305, '305', 'triangle-up-open-dot', 6, '6', 'triangle-down', 106, '106', 'triangle-down-open', 206, '206', 'triangle-down-dot', 306, '306', 'triangle-down-open-dot', 7, '7', 'triangle-left', 107, '107', 'triangle-left-open', 207, '207', 'triangle-left-dot', 307, '307', 'triangle-left-open-dot', 8, '8', 'triangle-right', 108, '108', 'triangle-right-open', 208, '208', 'triangle-right-dot', 308, '308', 'triangle-right-open-dot', 9, '9', 'triangle-ne', 109, '109', 'triangle-ne-open', 209, '209', 'triangle-ne-dot', 309, '309', 'triangle-ne-open-dot', 10, '10', 'triangle-se', 110, '110', 'triangle-se-open', 210, '210', 'triangle-se-dot', 310, '310', 'triangle-se-open-dot', 11, '11', 'triangle-sw', 111, '111', 'triangle-sw-open', 211, '211', 'triangle-sw-dot', 311, '311', 'triangle-sw-open-dot', 12, '12', 'triangle-nw', 112, '112', 'triangle-nw-open', 212, '212', 'triangle-nw-dot', 312, '312', 'triangle-nw-open-dot', 13, '13', 'pentagon', 113, '113', 'pentagon-open', 213, '213', 'pentagon-dot', 313, '313', 'pentagon-open-dot', 14, '14', 'hexagon', 114, '114', 'hexagon-open', 214, '214', 'hexagon-dot', 314, '314', 'hexagon-open-dot', 15, '15', 'hexagon2', 115, '115', 'hexagon2-open', 215, '215', 'hexagon2-dot', 315, '315', 'hexagon2-open-dot', 16, '16', 'octagon', 116, '116', 'octagon-open', 216, '216', 'octagon-dot', 316, '316', 'octagon-open-dot', 17, '17', 'star', 117, '117', 'star-open', 217, '217', 'star-dot', 317, '317', 'star-open-dot', 18, '18', 'hexagram', 118, '118', 'hexagram-open', 218, '218', 'hexagram-dot', 318, '318', 'hexagram-open-dot', 19, '19', 'star-triangle-up', 119, '119', 'star-triangle-up-open', 219, '219', 'star-triangle-up-dot', 319, '319', 'star-triangle-up-open-dot', 20, '20', 'star-triangle-down', 120, '120', 'star-triangle-down-open', 220, '220', 'star-triangle-down-dot', 320, '320', 'star-triangle-down-open-dot', 21, '21', 'star-square', 121, '121', 'star-square-open', 221, '221', 'star-square-dot', 321, '321', 'star-square-open-dot', 22, '22', 'star-diamond', 122, '122', 'star-diamond-open', 222, '222', 'star-diamond-dot', 322, '322', 'star-diamond-open-dot', 23, '23', 'diamond-tall', 123, '123', 'diamond-tall-open', 223, '223', 'diamond-tall-dot', 323, '323', 'diamond-tall-open-dot', 24, '24', 'diamond-wide', 124, '124', 'diamond-wide-open', 224, '224', 'diamond-wide-dot', 324, '324', 'diamond-wide-open-dot', 25, '25', 'hourglass', 125, '125', 'hourglass-open', 26, '26', 'bowtie', 126, '126', 'bowtie-open', 27, '27', 'circle-cross', 127, '127', 'circle-cross-open', 28, '28', 'circle-x', 128, '128', 'circle-x-open', 29, '29', 'square-cross', 129, '129', 'square-cross-open', 30, '30', 'square-x', 130, '130', 'square-x-open', 31, '31', 'diamond-cross', 131, '131', 'diamond-cross-open', 32, '32', 'diamond-x', 132, '132', 'diamond-x-open', 33, '33', 'cross-thin', 133, '133', 'cross-thin-open', 34, '34', 'x-thin', 134, '134', 'x-thin-open', 35, '35', 'asterisk', 135, '135', 'asterisk-open', 36, '36', 'hash', 136, '136', 'hash-open', 236, '236', 'hash-dot', 336, '336', 'hash-open-dot', 37, '37', 'y-up', 137, '137', 'y-up-open', 38, '38', 'y-down', 138, '138', 'y-down-open', 39, '39', 'y-left', 139, '139', 'y-left-open', 40, '40', 'y-right', 140, '140', 'y-right-open', 41, '41', 'line-ew', 141, '141', 'line-ew-open', 42, '42', 'line-ns', 142, '142', 'line-ns-open', 43, '43', 'line-ne', 143, '143', 'line-ne-open', 44, '44', 'line-nw', 144, '144', 'line-nw-open', 45, '45', 'arrow-up', 145, '145', 'arrow-up-open', 46, '46', 'arrow-down', 146, '146', 'arrow-down-open', 47, '47', 'arrow-left', 147, '147', 'arrow-left-open', 48, '48', 'arrow-right', 148, '148', 'arrow-right-open', 49, '49', 'arrow-bar-up', 149, '149', 'arrow-bar-up-open', 50, '50', 'arrow-bar-down', 150, '150', 'arrow-bar-down-open', 51, '51', 'arrow-bar-left', 151, '151', 'arrow-bar-left-open', 52, '52', 'arrow-bar-right', 152, '152', 'arrow-bar-right-open']\n",
    "marker_str = []\n",
    "for marker_type in all_marker_types:\n",
    "    try: \n",
    "        int(marker_type)\n",
    "    except ValueError:\n",
    "        marker_str.append(\n",
    "            {\"label\": \"\\\"\" + marker_type + \"\\\"\", \"value\": \"\\\"\" + marker_type + \"\\\"\"}\n",
    "        )\n",
    "        "
   ]
  },
  {
   "cell_type": "code",
   "execution_count": 13,
   "metadata": {
    "scrolled": false
   },
   "outputs": [
    {
     "data": {
      "text/plain": [
       "({'label': '\"circle\"', 'value': '\"circle\"'},\n",
       " {'label': '\"circle-open\"', 'value': '\"circle-open\"'},\n",
       " {'label': '\"circle-dot\"', 'value': '\"circle-dot\"'},\n",
       " {'label': '\"circle-open-dot\"', 'value': '\"circle-open-dot\"'},\n",
       " {'label': '\"square\"', 'value': '\"square\"'},\n",
       " {'label': '\"square-open\"', 'value': '\"square-open\"'},\n",
       " {'label': '\"square-dot\"', 'value': '\"square-dot\"'},\n",
       " {'label': '\"square-open-dot\"', 'value': '\"square-open-dot\"'},\n",
       " {'label': '\"diamond\"', 'value': '\"diamond\"'},\n",
       " {'label': '\"diamond-open\"', 'value': '\"diamond-open\"'},\n",
       " {'label': '\"diamond-dot\"', 'value': '\"diamond-dot\"'},\n",
       " {'label': '\"diamond-open-dot\"', 'value': '\"diamond-open-dot\"'},\n",
       " {'label': '\"cross\"', 'value': '\"cross\"'},\n",
       " {'label': '\"cross-open\"', 'value': '\"cross-open\"'},\n",
       " {'label': '\"cross-dot\"', 'value': '\"cross-dot\"'},\n",
       " {'label': '\"cross-open-dot\"', 'value': '\"cross-open-dot\"'},\n",
       " {'label': '\"x\"', 'value': '\"x\"'},\n",
       " {'label': '\"x-open\"', 'value': '\"x-open\"'},\n",
       " {'label': '\"x-dot\"', 'value': '\"x-dot\"'},\n",
       " {'label': '\"x-open-dot\"', 'value': '\"x-open-dot\"'},\n",
       " {'label': '\"triangle-up\"', 'value': '\"triangle-up\"'},\n",
       " {'label': '\"triangle-up-open\"', 'value': '\"triangle-up-open\"'},\n",
       " {'label': '\"triangle-up-dot\"', 'value': '\"triangle-up-dot\"'},\n",
       " {'label': '\"triangle-up-open-dot\"', 'value': '\"triangle-up-open-dot\"'},\n",
       " {'label': '\"triangle-down\"', 'value': '\"triangle-down\"'},\n",
       " {'label': '\"triangle-down-open\"', 'value': '\"triangle-down-open\"'},\n",
       " {'label': '\"triangle-down-dot\"', 'value': '\"triangle-down-dot\"'},\n",
       " {'label': '\"triangle-down-open-dot\"', 'value': '\"triangle-down-open-dot\"'},\n",
       " {'label': '\"triangle-left\"', 'value': '\"triangle-left\"'},\n",
       " {'label': '\"triangle-left-open\"', 'value': '\"triangle-left-open\"'},\n",
       " {'label': '\"triangle-left-dot\"', 'value': '\"triangle-left-dot\"'},\n",
       " {'label': '\"triangle-left-open-dot\"', 'value': '\"triangle-left-open-dot\"'},\n",
       " {'label': '\"triangle-right\"', 'value': '\"triangle-right\"'},\n",
       " {'label': '\"triangle-right-open\"', 'value': '\"triangle-right-open\"'},\n",
       " {'label': '\"triangle-right-dot\"', 'value': '\"triangle-right-dot\"'},\n",
       " {'label': '\"triangle-right-open-dot\"', 'value': '\"triangle-right-open-dot\"'},\n",
       " {'label': '\"triangle-ne\"', 'value': '\"triangle-ne\"'},\n",
       " {'label': '\"triangle-ne-open\"', 'value': '\"triangle-ne-open\"'},\n",
       " {'label': '\"triangle-ne-dot\"', 'value': '\"triangle-ne-dot\"'},\n",
       " {'label': '\"triangle-ne-open-dot\"', 'value': '\"triangle-ne-open-dot\"'},\n",
       " {'label': '\"triangle-se\"', 'value': '\"triangle-se\"'},\n",
       " {'label': '\"triangle-se-open\"', 'value': '\"triangle-se-open\"'},\n",
       " {'label': '\"triangle-se-dot\"', 'value': '\"triangle-se-dot\"'},\n",
       " {'label': '\"triangle-se-open-dot\"', 'value': '\"triangle-se-open-dot\"'},\n",
       " {'label': '\"triangle-sw\"', 'value': '\"triangle-sw\"'},\n",
       " {'label': '\"triangle-sw-open\"', 'value': '\"triangle-sw-open\"'},\n",
       " {'label': '\"triangle-sw-dot\"', 'value': '\"triangle-sw-dot\"'},\n",
       " {'label': '\"triangle-sw-open-dot\"', 'value': '\"triangle-sw-open-dot\"'},\n",
       " {'label': '\"triangle-nw\"', 'value': '\"triangle-nw\"'},\n",
       " {'label': '\"triangle-nw-open\"', 'value': '\"triangle-nw-open\"'},\n",
       " {'label': '\"triangle-nw-dot\"', 'value': '\"triangle-nw-dot\"'},\n",
       " {'label': '\"triangle-nw-open-dot\"', 'value': '\"triangle-nw-open-dot\"'},\n",
       " {'label': '\"pentagon\"', 'value': '\"pentagon\"'},\n",
       " {'label': '\"pentagon-open\"', 'value': '\"pentagon-open\"'},\n",
       " {'label': '\"pentagon-dot\"', 'value': '\"pentagon-dot\"'},\n",
       " {'label': '\"pentagon-open-dot\"', 'value': '\"pentagon-open-dot\"'},\n",
       " {'label': '\"hexagon\"', 'value': '\"hexagon\"'},\n",
       " {'label': '\"hexagon-open\"', 'value': '\"hexagon-open\"'},\n",
       " {'label': '\"hexagon-dot\"', 'value': '\"hexagon-dot\"'},\n",
       " {'label': '\"hexagon-open-dot\"', 'value': '\"hexagon-open-dot\"'},\n",
       " {'label': '\"hexagon2\"', 'value': '\"hexagon2\"'},\n",
       " {'label': '\"hexagon2-open\"', 'value': '\"hexagon2-open\"'},\n",
       " {'label': '\"hexagon2-dot\"', 'value': '\"hexagon2-dot\"'},\n",
       " {'label': '\"hexagon2-open-dot\"', 'value': '\"hexagon2-open-dot\"'},\n",
       " {'label': '\"octagon\"', 'value': '\"octagon\"'},\n",
       " {'label': '\"octagon-open\"', 'value': '\"octagon-open\"'},\n",
       " {'label': '\"octagon-dot\"', 'value': '\"octagon-dot\"'},\n",
       " {'label': '\"octagon-open-dot\"', 'value': '\"octagon-open-dot\"'},\n",
       " {'label': '\"star\"', 'value': '\"star\"'},\n",
       " {'label': '\"star-open\"', 'value': '\"star-open\"'},\n",
       " {'label': '\"star-dot\"', 'value': '\"star-dot\"'},\n",
       " {'label': '\"star-open-dot\"', 'value': '\"star-open-dot\"'},\n",
       " {'label': '\"hexagram\"', 'value': '\"hexagram\"'},\n",
       " {'label': '\"hexagram-open\"', 'value': '\"hexagram-open\"'},\n",
       " {'label': '\"hexagram-dot\"', 'value': '\"hexagram-dot\"'},\n",
       " {'label': '\"hexagram-open-dot\"', 'value': '\"hexagram-open-dot\"'},\n",
       " {'label': '\"star-triangle-up\"', 'value': '\"star-triangle-up\"'},\n",
       " {'label': '\"star-triangle-up-open\"', 'value': '\"star-triangle-up-open\"'},\n",
       " {'label': '\"star-triangle-up-dot\"', 'value': '\"star-triangle-up-dot\"'},\n",
       " {'label': '\"star-triangle-up-open-dot\"',\n",
       "  'value': '\"star-triangle-up-open-dot\"'},\n",
       " {'label': '\"star-triangle-down\"', 'value': '\"star-triangle-down\"'},\n",
       " {'label': '\"star-triangle-down-open\"', 'value': '\"star-triangle-down-open\"'},\n",
       " {'label': '\"star-triangle-down-dot\"', 'value': '\"star-triangle-down-dot\"'},\n",
       " {'label': '\"star-triangle-down-open-dot\"',\n",
       "  'value': '\"star-triangle-down-open-dot\"'},\n",
       " {'label': '\"star-square\"', 'value': '\"star-square\"'},\n",
       " {'label': '\"star-square-open\"', 'value': '\"star-square-open\"'},\n",
       " {'label': '\"star-square-dot\"', 'value': '\"star-square-dot\"'},\n",
       " {'label': '\"star-square-open-dot\"', 'value': '\"star-square-open-dot\"'},\n",
       " {'label': '\"star-diamond\"', 'value': '\"star-diamond\"'},\n",
       " {'label': '\"star-diamond-open\"', 'value': '\"star-diamond-open\"'},\n",
       " {'label': '\"star-diamond-dot\"', 'value': '\"star-diamond-dot\"'},\n",
       " {'label': '\"star-diamond-open-dot\"', 'value': '\"star-diamond-open-dot\"'},\n",
       " {'label': '\"diamond-tall\"', 'value': '\"diamond-tall\"'},\n",
       " {'label': '\"diamond-tall-open\"', 'value': '\"diamond-tall-open\"'},\n",
       " {'label': '\"diamond-tall-dot\"', 'value': '\"diamond-tall-dot\"'},\n",
       " {'label': '\"diamond-tall-open-dot\"', 'value': '\"diamond-tall-open-dot\"'},\n",
       " {'label': '\"diamond-wide\"', 'value': '\"diamond-wide\"'},\n",
       " {'label': '\"diamond-wide-open\"', 'value': '\"diamond-wide-open\"'},\n",
       " {'label': '\"diamond-wide-dot\"', 'value': '\"diamond-wide-dot\"'},\n",
       " {'label': '\"diamond-wide-open-dot\"', 'value': '\"diamond-wide-open-dot\"'},\n",
       " {'label': '\"hourglass\"', 'value': '\"hourglass\"'},\n",
       " {'label': '\"hourglass-open\"', 'value': '\"hourglass-open\"'},\n",
       " {'label': '\"bowtie\"', 'value': '\"bowtie\"'},\n",
       " {'label': '\"bowtie-open\"', 'value': '\"bowtie-open\"'},\n",
       " {'label': '\"circle-cross\"', 'value': '\"circle-cross\"'},\n",
       " {'label': '\"circle-cross-open\"', 'value': '\"circle-cross-open\"'},\n",
       " {'label': '\"circle-x\"', 'value': '\"circle-x\"'},\n",
       " {'label': '\"circle-x-open\"', 'value': '\"circle-x-open\"'},\n",
       " {'label': '\"square-cross\"', 'value': '\"square-cross\"'},\n",
       " {'label': '\"square-cross-open\"', 'value': '\"square-cross-open\"'},\n",
       " {'label': '\"square-x\"', 'value': '\"square-x\"'},\n",
       " {'label': '\"square-x-open\"', 'value': '\"square-x-open\"'},\n",
       " {'label': '\"diamond-cross\"', 'value': '\"diamond-cross\"'},\n",
       " {'label': '\"diamond-cross-open\"', 'value': '\"diamond-cross-open\"'},\n",
       " {'label': '\"diamond-x\"', 'value': '\"diamond-x\"'},\n",
       " {'label': '\"diamond-x-open\"', 'value': '\"diamond-x-open\"'},\n",
       " {'label': '\"cross-thin\"', 'value': '\"cross-thin\"'},\n",
       " {'label': '\"cross-thin-open\"', 'value': '\"cross-thin-open\"'},\n",
       " {'label': '\"x-thin\"', 'value': '\"x-thin\"'},\n",
       " {'label': '\"x-thin-open\"', 'value': '\"x-thin-open\"'},\n",
       " {'label': '\"asterisk\"', 'value': '\"asterisk\"'},\n",
       " {'label': '\"asterisk-open\"', 'value': '\"asterisk-open\"'},\n",
       " {'label': '\"hash\"', 'value': '\"hash\"'},\n",
       " {'label': '\"hash-open\"', 'value': '\"hash-open\"'},\n",
       " {'label': '\"hash-dot\"', 'value': '\"hash-dot\"'},\n",
       " {'label': '\"hash-open-dot\"', 'value': '\"hash-open-dot\"'},\n",
       " {'label': '\"y-up\"', 'value': '\"y-up\"'},\n",
       " {'label': '\"y-up-open\"', 'value': '\"y-up-open\"'},\n",
       " {'label': '\"y-down\"', 'value': '\"y-down\"'},\n",
       " {'label': '\"y-down-open\"', 'value': '\"y-down-open\"'},\n",
       " {'label': '\"y-left\"', 'value': '\"y-left\"'},\n",
       " {'label': '\"y-left-open\"', 'value': '\"y-left-open\"'},\n",
       " {'label': '\"y-right\"', 'value': '\"y-right\"'},\n",
       " {'label': '\"y-right-open\"', 'value': '\"y-right-open\"'},\n",
       " {'label': '\"line-ew\"', 'value': '\"line-ew\"'},\n",
       " {'label': '\"line-ew-open\"', 'value': '\"line-ew-open\"'},\n",
       " {'label': '\"line-ns\"', 'value': '\"line-ns\"'},\n",
       " {'label': '\"line-ns-open\"', 'value': '\"line-ns-open\"'},\n",
       " {'label': '\"line-ne\"', 'value': '\"line-ne\"'},\n",
       " {'label': '\"line-ne-open\"', 'value': '\"line-ne-open\"'},\n",
       " {'label': '\"line-nw\"', 'value': '\"line-nw\"'},\n",
       " {'label': '\"line-nw-open\"', 'value': '\"line-nw-open\"'},\n",
       " {'label': '\"arrow-up\"', 'value': '\"arrow-up\"'},\n",
       " {'label': '\"arrow-up-open\"', 'value': '\"arrow-up-open\"'},\n",
       " {'label': '\"arrow-down\"', 'value': '\"arrow-down\"'},\n",
       " {'label': '\"arrow-down-open\"', 'value': '\"arrow-down-open\"'},\n",
       " {'label': '\"arrow-left\"', 'value': '\"arrow-left\"'},\n",
       " {'label': '\"arrow-left-open\"', 'value': '\"arrow-left-open\"'},\n",
       " {'label': '\"arrow-right\"', 'value': '\"arrow-right\"'},\n",
       " {'label': '\"arrow-right-open\"', 'value': '\"arrow-right-open\"'},\n",
       " {'label': '\"arrow-bar-up\"', 'value': '\"arrow-bar-up\"'},\n",
       " {'label': '\"arrow-bar-up-open\"', 'value': '\"arrow-bar-up-open\"'},\n",
       " {'label': '\"arrow-bar-down\"', 'value': '\"arrow-bar-down\"'},\n",
       " {'label': '\"arrow-bar-down-open\"', 'value': '\"arrow-bar-down-open\"'},\n",
       " {'label': '\"arrow-bar-left\"', 'value': '\"arrow-bar-left\"'},\n",
       " {'label': '\"arrow-bar-left-open\"', 'value': '\"arrow-bar-left-open\"'},\n",
       " {'label': '\"arrow-bar-right\"', 'value': '\"arrow-bar-right\"'},\n",
       " {'label': '\"arrow-bar-right-open\"', 'value': '\"arrow-bar-right-open\"'})"
      ]
     },
     "execution_count": 13,
     "metadata": {},
     "output_type": "execute_result"
    }
   ],
   "source": [
    "tuple(marker_str)"
   ]
  }
 ],
 "metadata": {
  "kernelspec": {
   "display_name": "Python 3",
   "language": "python",
   "name": "python3"
  },
  "language_info": {
   "codemirror_mode": {
    "name": "ipython",
    "version": 3
   },
   "file_extension": ".py",
   "mimetype": "text/x-python",
   "name": "python",
   "nbconvert_exporter": "python",
   "pygments_lexer": "ipython3",
   "version": "3.9.2"
  },
  "varInspector": {
   "cols": {
    "lenName": 16,
    "lenType": 16,
    "lenVar": 40
   },
   "kernels_config": {
    "python": {
     "delete_cmd_postfix": "",
     "delete_cmd_prefix": "del ",
     "library": "var_list.py",
     "varRefreshCmd": "print(var_dic_list())"
    },
    "r": {
     "delete_cmd_postfix": ") ",
     "delete_cmd_prefix": "rm(",
     "library": "var_list.r",
     "varRefreshCmd": "cat(var_dic_list()) "
    }
   },
   "types_to_exclude": [
    "module",
    "function",
    "builtin_function_or_method",
    "instance",
    "_Feature"
   ],
   "window_display": false
  }
 },
 "nbformat": 4,
 "nbformat_minor": 4
}
