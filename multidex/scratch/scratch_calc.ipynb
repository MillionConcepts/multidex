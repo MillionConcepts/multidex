{
 "cells": [
  {
   "cell_type": "code",
   "execution_count": 1,
   "metadata": {},
   "outputs": [],
   "source": [
    "from itertools import combinations, permutations\n",
    "import os\n",
    "from random import choice\n",
    "import re\n",
    "\n",
    "os.chdir(\"..\")\n",
    "#\n",
    "# from rhfe_tools.arecibo.fit_funcs import *\n",
    "# from rhfe_tools.arecibo.ao_lunar_plot import *\n",
    "# from rhfe_tools.fit import fit_line, plot_mesh, correlation_matrix, Fit, numeric_columns\n",
    "# from rhfe_tools.project import ortho_transform, LUNAR_RADIUS\n",
    "# from scipy.stats import binned_statistic_2d\n",
    "import django\n",
    "import fs.path\n",
    "import numpy as np\n",
    "import pandas as pd\n",
    "from django.core.exceptions import ObjectDoesNotExist\n",
    "from fs.osfs import OSFS\n",
    "\n",
    "os.environ.setdefault(\"DJANGO_SETTINGS_MODULE\", \"multidex.settings\")\n",
    "os.environ[\"DJANGO_ALLOW_ASYNC_UNSAFE\"] = \"true\"\n",
    "\n",
    "django.setup()\n",
    "\n",
    "from plotter.models import *\n",
    "from plotter.spectrum_ops import *\n",
    "from plotter_utils import modeldict, model_metadata_df\n"
   ]
  },
  {
   "cell_type": "code",
   "execution_count": 2,
   "metadata": {},
   "outputs": [],
   "source": [
    "from marslab.compat.xcam import polish_xcam_spectrum, make_virtual_filters"
   ]
  },
  {
   "cell_type": "code",
   "execution_count": 2,
   "metadata": {},
   "outputs": [],
   "source": [
    "m = MSpec.objects.all()[0]"
   ]
  },
  {
   "cell_type": "code",
   "execution_count": 5,
   "metadata": {},
   "outputs": [
    {
     "data": {
      "text/plain": [
       "({'wave': 554, 'mean': 0.1272485, 'err': 0.011032735618603118},\n",
       " {'wave': 551, 'mean': 0.1272485, 'err': 0.012702880774543021})"
      ]
     },
     "execution_count": 5,
     "metadata": {},
     "output_type": "execute_result"
    }
   ],
   "source": [
    "# f = m.filter_values()\n",
    "scale_to = ('L0G', 'R0G')\n",
    "g = m.filter_values(scale_to = scale_to)\n",
    "# f[scale_to[0]], f[scale_to[1]]\n",
    "g[scale_to[0]], g[scale_to[1]],"
   ]
  },
  {
   "cell_type": "code",
   "execution_count": 6,
   "metadata": {
    "pycharm": {
     "name": "#%%\n"
    }
   },
   "outputs": [
    {
     "data": {
      "text/plain": [
       "{'L2_R2': ('L2', 'R2'),\n",
       " 'L0B_R0B': ('L0B', 'R0B'),\n",
       " 'L1_R1': ('L1', 'R1'),\n",
       " 'R0G_L0G': ('R0G', 'L0G'),\n",
       " 'R0R_L0R': ('R0R', 'L0R'),\n",
       " 'L6_R6': ('L6', 'R6')}"
      ]
     },
     "execution_count": 6,
     "metadata": {},
     "output_type": "execute_result"
    }
   ],
   "source": [
    "spec_model.virtual_filter_mapping"
   ]
  },
  {
   "cell_type": "code",
   "execution_count": 5,
   "metadata": {
    "pycharm": {
     "name": "#%%\n"
    }
   },
   "outputs": [
    {
     "data": {
      "text/plain": [
       "{'L2_R2': 446,\n",
       " 'L0B_R0B': 495,\n",
       " 'L1_R1': 527,\n",
       " 'L0G_R0G': 552,\n",
       " 'L0R_R0R': 639,\n",
       " 'L6_R6': 1012}"
      ]
     },
     "execution_count": 5,
     "metadata": {},
     "output_type": "execute_result"
    }
   ],
   "source": [
    "make_virtual_filters('MCAM')"
   ]
  },
  {
   "cell_type": "code",
   "execution_count": 3,
   "metadata": {},
   "outputs": [],
   "source": [
    "metadata_df = model_metadata_df(MSpec)\n",
    "data_df = filter_df_from_queryset(MSpec.objects.all(), r_star=True)\n",
    "mdf = pd.concat([metadata_df, data_df], axis=1)"
   ]
  },
  {
   "cell_type": "code",
   "execution_count": 4,
   "metadata": {},
   "outputs": [],
   "source": [
    "mdf.to_csv('mcam_corpus_2021_05_20_r_star.csv', index=False)"
   ]
  },
  {
   "cell_type": "code",
   "execution_count": null,
   "metadata": {},
   "outputs": [],
   "source": [
    "parameters = {\n",
    "    'bd527': {'op': 'band_depth',  'bands': ('L2', 'L0G', 'L1')},\n",
    "    's751_805': {'op': 'slope',  'bands': ('L3', 'R3')},\n",
    "    'bd867': {'op': 'band_depth',  'bands': ('L3', 'L6', 'L5')},\n",
    "    's751_1012': {'op': 'slope',  'bands': ('L3', 'L6')},\n",
    "    'r805_1013': {'op': 'slope',  'bands': ('R3', 'R6')},\n",
    "    'r1012_751': {'op': 'ratio',  'bands': ('L2', 'L0G', 'L1')}\n",
    "}"
   ]
  },
  {
   "cell_type": "code",
   "execution_count": null,
   "metadata": {},
   "outputs": [],
   "source": [
    "from marslab.compat.xcam import DERIVED_CAM_DICT\n",
    "import marslab.spectops as spect"
   ]
  },
  {
   "cell_type": "code",
   "execution_count": null,
   "metadata": {},
   "outputs": [],
   "source": [
    "instrument = 'MCAM'\n",
    "filts = DERIVED_CAM_DICT['MCAM']['filters']"
   ]
  },
  {
   "cell_type": "code",
   "execution_count": null,
   "metadata": {},
   "outputs": [],
   "source": [
    "def get_spectop(spectop_name):\n",
    "    return spect.get(spectop_name)"
   ]
  },
  {
   "cell_type": "code",
   "execution_count": null,
   "metadata": {},
   "outputs": [],
   "source": [
    "from marslab.pipeline import Pipeline"
   ]
  },
  {
   "cell_type": "code",
   "execution_count": null,
   "metadata": {},
   "outputs": [],
   "source": []
  },
  {
   "cell_type": "code",
   "execution_count": null,
   "metadata": {},
   "outputs": [],
   "source": [
    "steps = {\n",
    "    op_name: get_spectop(parameter['op'])  for op_name, parameter in \n",
    "}"
   ]
  },
  {
   "cell_type": "code",
   "execution_count": null,
   "metadata": {},
   "outputs": [],
   "source": [
    "slope"
   ]
  },
  {
   "cell_type": "code",
   "execution_count": null,
   "metadata": {},
   "outputs": [],
   "source": [
    "\n",
    "rr.spectop_look??"
   ]
  },
  {
   "cell_type": "code",
   "execution_count": null,
   "metadata": {},
   "outputs": [],
   "source": [
    "perform_sp"
   ]
  },
  {
   "cell_type": "code",
   "execution_count": null,
   "metadata": {},
   "outputs": [],
   "source": [
    "ratio(mdf, MSpec)"
   ]
  },
  {
   "cell_type": "markdown",
   "metadata": {},
   "source": [
    "* 527nm Band Depth (shoulders at 447 and 551nm)\n",
    "* 751nm to 805nm slope\n",
    "* 867nm Band Depth (shoulders at 751 and 1012nm)\n",
    "* 751nm to 1012nm slope\n",
    "* 805nm to 1013nm slope\n",
    "* 1012/751 ratio"
   ]
  },
  {
   "cell_type": "code",
   "execution_count": null,
   "metadata": {},
   "outputs": [],
   "source": [
    "MSpec.filters"
   ]
  },
  {
   "cell_type": "code",
   "execution_count": null,
   "metadata": {},
   "outputs": [],
   "source": [
    "bandframe = []\n",
    "for f1, f2, f3 in zper3:\n",
    "    try:\n",
    "        series = band_depth_custom(zdf, ZSpec, f1, f2, f3)[0]\n",
    "    except ValueError: # usually bd outside range\n",
    "        continue\n",
    "    series.name = 'bd ' + f1 + ' ' + f3 + ' ' + f2\n",
    "    bandframe.append(series)\n",
    "bandframe = pd.concat(bandframe, axis=1)\n",
    "full_bandframe = pd.concat([\n",
    "    zdf[keep_columns], bandframe\n",
    "], axis=1)"
   ]
  },
  {
   "cell_type": "code",
   "execution_count": null,
   "metadata": {},
   "outputs": [],
   "source": []
  },
  {
   "cell_type": "code",
   "execution_count": null,
   "metadata": {},
   "outputs": [],
   "source": []
  },
  {
   "cell_type": "code",
   "execution_count": null,
   "metadata": {},
   "outputs": [],
   "source": []
  },
  {
   "cell_type": "code",
   "execution_count": null,
   "metadata": {},
   "outputs": [],
   "source": [
    "metadata_df = model_metadata_df(ZSpec)\n",
    "data_df = filter_df_from_queryset(ZSpec.objects.all(), r_star=True, scale_to='L0B_R0B')\n",
    "zdf = pd.concat([metadata_df, data_df], axis=1)"
   ]
  },
  {
   "cell_type": "code",
   "execution_count": null,
   "metadata": {},
   "outputs": [],
   "source": [
    "zdf"
   ]
  },
  {
   "cell_type": "code",
   "execution_count": null,
   "metadata": {},
   "outputs": [],
   "source": [
    "choice(ZSpec.objects.all()).filter_values()"
   ]
  },
  {
   "cell_type": "code",
   "execution_count": null,
   "metadata": {},
   "outputs": [],
   "source": [
    "data_df"
   ]
  },
  {
   "cell_type": "code",
   "execution_count": null,
   "metadata": {},
   "outputs": [],
   "source": [
    "ZSpec.virtual_filter_mapping"
   ]
  },
  {
   "cell_type": "code",
   "execution_count": null,
   "metadata": {},
   "outputs": [],
   "source": [
    "for feature in zdf['feature'].unique():\n",
    "    zdf[feature] = 0\n",
    "    zdf.loc[zdf['feature'] == feature, feature] = 1"
   ]
  },
  {
   "cell_type": "code",
   "execution_count": null,
   "metadata": {},
   "outputs": [],
   "source": [
    "keep_columns = [\n",
    "    \"incidence_angle\",\"emission_angle\",\"phase_angle\",\n",
    "    *zdf.feature.unique()\n",
    "    ]"
   ]
  },
  {
   "cell_type": "code",
   "execution_count": null,
   "metadata": {},
   "outputs": [],
   "source": [
    "zfilts = [f for f in ZSpec.filters]\n",
    "zcomb = list(combinations(zfilts, 2))\n",
    "zper3 = list(permutations(zfilts, 3))"
   ]
  },
  {
   "cell_type": "code",
   "execution_count": null,
   "metadata": {},
   "outputs": [],
   "source": [
    "ratframe = []\n",
    "for f1, f2 in zcomb:\n",
    "    series = ratio(zdf, ZSpec, f1, f2)[0]\n",
    "    series.name = 'r ' + f1 + ' ' + f2\n",
    "    ratframe.append(series)\n",
    "ratframe = pd.concat(ratframe, axis=1)\n",
    "full_ratframe = pd.concat([\n",
    "    zdf[keep_columns], ratframe\n",
    "], axis=1)"
   ]
  },
  {
   "cell_type": "code",
   "execution_count": null,
   "metadata": {},
   "outputs": [],
   "source": [
    "bandframe = []\n",
    "for f1, f2, f3 in zper3:\n",
    "    try:\n",
    "        series = band_depth_custom(zdf, ZSpec, f1, f2, f3)[0]\n",
    "    except ValueError: # usually bd outside range\n",
    "        continue\n",
    "    series.name = 'bd ' + f1 + ' ' + f3 + ' ' + f2\n",
    "    bandframe.append(series)\n",
    "bandframe = pd.concat(bandframe, axis=1)\n",
    "full_bandframe = pd.concat([\n",
    "    zdf[keep_columns], bandframe\n",
    "], axis=1)"
   ]
  },
  {
   "cell_type": "code",
   "execution_count": null,
   "metadata": {},
   "outputs": [],
   "source": [
    "slopeframe = []\n",
    "for f1, f2 in zcomb:\n",
    "    try:\n",
    "        series = slope(zdf, ZSpec, f1, f2)[0]\n",
    "    except ValueError: # usually bd outside range\n",
    "        continue\n",
    "    series.name = 'sl ' + f1 + ' ' + f2\n",
    "    slopeframe.append(series)\n",
    "slopeframe = pd.concat(slopeframe, axis=1)\n",
    "full_slopeframe = pd.concat([\n",
    "    zdf[keep_columns], slopeframe\n",
    "], axis=1)"
   ]
  },
  {
   "cell_type": "code",
   "execution_count": null,
   "metadata": {},
   "outputs": [],
   "source": [
    "correlation_matrix??"
   ]
  },
  {
   "cell_type": "code",
   "execution_count": null,
   "metadata": {
    "scrolled": true
   },
   "outputs": [],
   "source": [
    "ratio_corrs = correlation_matrix(full_ratframe)\n",
    "ratio_corr_feats = ratio_corrs[zdf.feature.unique()].drop(zdf.feature.unique(), axis=0)\n",
    "bd_corrs = correlation_matrix(full_bandframe)\n",
    "bd_corr_feats = bd_corrs[zdf.feature.unique()].drop(zdf.feature.unique(), axis=0)\n",
    "slope_corrs = correlation_matrix(full_slopeframe)\n",
    "slope_corr_feats = slope_corrs[zdf.feature.unique()].drop(zdf.feature.unique(), axis=0)"
   ]
  },
  {
   "cell_type": "code",
   "execution_count": null,
   "metadata": {},
   "outputs": [],
   "source": [
    "pd.concat([\n",
    "    ratio_corr_feats,\n",
    "    bd_corr_feats.drop(['incidence_angle', 'emission_angle', 'phase_angle'], axis=0),\n",
    "    slope_corr_feats.drop(['incidence_angle', 'emission_angle', 'phase_angle'], axis=0)\n",
    "]).to_csv('feature_correlation_matrix_2021_04_08_scaled_l1_r1.csv')"
   ]
  },
  {
   "cell_type": "code",
   "execution_count": null,
   "metadata": {},
   "outputs": [],
   "source": [
    "[\n",
    "    spec.filter_values() for spec in\n",
    "    mspec.filter(observation__seq_id__iexact='mcam00126')\n",
    "]"
   ]
  },
  {
   "cell_type": "code",
   "execution_count": null,
   "metadata": {},
   "outputs": [],
   "source": [
    "m = choice(MSpec.objects.all())"
   ]
  },
  {
   "cell_type": "code",
   "execution_count": null,
   "metadata": {},
   "outputs": [],
   "source": []
  },
  {
   "cell_type": "code",
   "execution_count": null,
   "metadata": {},
   "outputs": [],
   "source": [
    "n.model"
   ]
  },
  {
   "cell_type": "code",
   "execution_count": null,
   "metadata": {},
   "outputs": [],
   "source": [
    "search_list = [{'field': 'lon', 'term': [], 'begin': 137.35, 'end': 137.4},\n",
    " {'field': 'member', 'term': ['Dillinger']}]"
   ]
  },
  {
   "cell_type": "code",
   "execution_count": null,
   "metadata": {},
   "outputs": [],
   "source": []
  },
  {
   "cell_type": "code",
   "execution_count": null,
   "metadata": {},
   "outputs": [],
   "source": [
    "print(pretty_print_search_params(search_list))"
   ]
  },
  {
   "cell_type": "code",
   "execution_count": null,
   "metadata": {},
   "outputs": [],
   "source": [
    "MSpec.objects.get(id__iexact=2338).filter_values(average_filters=True, scale_to=('l2','r2'))"
   ]
  },
  {
   "cell_type": "code",
   "execution_count": null,
   "metadata": {},
   "outputs": [],
   "source": [
    "filter_df = filter_df_from_queryset(MSpec.objects.all(), average_filters=True, scale_to=('l2','r2'))\n",
    "band_depth_min(filter_df, MSpec, 'l1_r1', 'l6_r6')"
   ]
  },
  {
   "cell_type": "code",
   "execution_count": null,
   "metadata": {},
   "outputs": [],
   "source": [
    "from plotter_utils import filter_nan_rows, qlist"
   ]
  },
  {
   "cell_type": "code",
   "execution_count": null,
   "metadata": {},
   "outputs": [],
   "source": [
    "%time qlist(MSpec.objects.all(), 'id')"
   ]
  },
  {
   "cell_type": "code",
   "execution_count": null,
   "metadata": {},
   "outputs": [],
   "source": [
    "%%time\n",
    "filter_nan_rows(\n",
    "    MSpec.objects.all(),\n",
    "    filter_df,\n",
    "    ['l3', 'r5']\n",
    ")"
   ]
  },
  {
   "cell_type": "code",
   "execution_count": null,
   "metadata": {},
   "outputs": [],
   "source": [
    "queryset = MSpec.objects.all()\n",
    "%time [i[0] for i in queryset.values_list('id')]"
   ]
  },
  {
   "cell_type": "code",
   "execution_count": null,
   "metadata": {},
   "outputs": [],
   "source": [
    "filt_args = ['l3', 'r5']\n",
    "queryset = MSpec.objects.all()\n",
    "%time relevant_filters = filter_df[filt_args]\n",
    "%time queryset_ids = [spec.id for spec in queryset]\n",
    "%time queryset_relevant_filters = relevant_filters.loc[queryset_ids]\n",
    "%time queryset.model.objects.filter(id__in=queryset_relevant_filters.dropna().index)"
   ]
  },
  {
   "cell_type": "code",
   "execution_count": null,
   "metadata": {},
   "outputs": [],
   "source": [
    "from plotter.graph import truncate_queryset_for_missing_properties"
   ]
  },
  {
   "cell_type": "code",
   "execution_count": null,
   "metadata": {},
   "outputs": [],
   "source": [
    "truncate_queryset_for_missing_properties?"
   ]
  },
  {
   "cell_type": "code",
   "execution_count": null,
   "metadata": {},
   "outputs": [],
   "source": [
    "settings = {\n",
    "    'main-filter-1-marker.value': 'l2', \n",
    "    'main-filter-2-marker.value': 'l2', \n",
    "    'main-filter-3-marker.value': 'l2', \n",
    "    'main-graph-option-marker.value': 'ref', \n",
    "    'main-color.value': 'aggrnyl', \n",
    "    'main-highlight-save.n_clicks': None, \n",
    "    'main-highlight-toggle.value': 'off'\n",
    "}\n",
    "prefix = 'main'\n",
    "suffix = 'marker.value'"
   ]
  },
  {
   "cell_type": "code",
   "execution_count": null,
   "metadata": {},
   "outputs": [],
   "source": [
    "a = MSpec.objects.filter(observation__seq_id__iexact='mcam00128')"
   ]
  },
  {
   "cell_type": "code",
   "execution_count": null,
   "metadata": {},
   "outputs": [],
   "source": [
    "modeldict(a[0])"
   ]
  },
  {
   "cell_type": "code",
   "execution_count": null,
   "metadata": {},
   "outputs": [],
   "source": [
    "%%time\n",
    "queryset = MSpec.objects.all()\n",
    "filter_df = filter_df_from_queryset(queryset)\n"
   ]
  },
  {
   "cell_type": "code",
   "execution_count": null,
   "metadata": {},
   "outputs": [],
   "source": [
    "%%time\n",
    "queryset = truncate_queryset_for_missing_properties(\n",
    "    settings,\n",
    "    queryset,\n",
    "    prefix,\n",
    "    suffix,\n",
    "    filter_df\n",
    ")\n",
    "queryset = truncate_queryset_for_missing_properties(\n",
    "    settings,\n",
    "    queryset,\n",
    "    prefix,\n",
    "    suffix,\n",
    "    filter_df\n",
    ")\n",
    "queryset = truncate_queryset_for_missing_properties(\n",
    "    settings,\n",
    "    queryset,\n",
    "    prefix,\n",
    "    suffix,\n",
    "    filter_df\n",
    ")"
   ]
  },
  {
   "cell_type": "code",
   "execution_count": null,
   "metadata": {},
   "outputs": [],
   "source": [
    "%lter_df['l1']"
   ]
  },
  {
   "cell_type": "code",
   "execution_count": null,
   "metadata": {},
   "outputs": [],
   "source": [
    "%%time\n",
    "m.filters"
   ]
  },
  {
   "cell_type": "code",
   "execution_count": null,
   "metadata": {},
   "outputs": [],
   "source": [
    "%%time\n",
    "a = []\n",
    "for m in MSpec.objects.all():\n",
    "    m.filter_values(None, False)"
   ]
  },
  {
   "cell_type": "code",
   "execution_count": null,
   "metadata": {},
   "outputs": [],
   "source": [
    "%debug"
   ]
  },
  {
   "cell_type": "code",
   "execution_count": null,
   "metadata": {},
   "outputs": [],
   "source": [
    "2000 * 500"
   ]
  },
  {
   "cell_type": "code",
   "execution_count": null,
   "metadata": {},
   "outputs": [],
   "source": [
    "len(MSpec.objects.all())"
   ]
  },
  {
   "cell_type": "code",
   "execution_count": null,
   "metadata": {
    "scrolled": false
   },
   "outputs": [],
   "source": [
    "modeldict(m)"
   ]
  },
  {
   "cell_type": "code",
   "execution_count": null,
   "metadata": {},
   "outputs": [],
   "source": [
    "spectrum.filters"
   ]
  },
  {
   "cell_type": "code",
   "execution_count": null,
   "metadata": {},
   "outputs": [],
   "source": [
    "%debug"
   ]
  },
  {
   "cell_type": "code",
   "execution_count": null,
   "metadata": {},
   "outputs": [],
   "source": [
    "m = pd.read_csv(input_fs.getsyspath(spec_file))"
   ]
  },
  {
   "cell_type": "code",
   "execution_count": null,
   "metadata": {},
   "outputs": [],
   "source": [
    "m['R4'].astype(float)"
   ]
  },
  {
   "cell_type": "code",
   "execution_count": null,
   "metadata": {},
   "outputs": [],
   "source": [
    "spec_file"
   ]
  },
  {
   "cell_type": "code",
   "execution_count": null,
   "metadata": {},
   "outputs": [],
   "source": [
    "metadata"
   ]
  },
  {
   "cell_type": "code",
   "execution_count": null,
   "metadata": {},
   "outputs": [],
   "source": [
    "modeldict(\n",
    "    MSpec.objects.all()[0]\n",
    ")"
   ]
  },
  {
   "cell_type": "code",
   "execution_count": null,
   "metadata": {
    "scrolled": true
   },
   "outputs": [],
   "source": [
    "seq_id"
   ]
  },
  {
   "cell_type": "code",
   "execution_count": null,
   "metadata": {},
   "outputs": [],
   "source": [
    "frame"
   ]
  },
  {
   "cell_type": "code",
   "execution_count": null,
   "metadata": {},
   "outputs": [],
   "source": [
    "obs = MSpec.objects.filter(observation__seq_id__iexact='mcam06328')"
   ]
  },
  {
   "cell_type": "code",
   "execution_count": null,
   "metadata": {},
   "outputs": [],
   "source": [
    "obs"
   ]
  },
  {
   "cell_type": "code",
   "execution_count": null,
   "metadata": {},
   "outputs": [],
   "source": [
    "from time import time"
   ]
  },
  {
   "cell_type": "code",
   "execution_count": null,
   "metadata": {},
   "outputs": [],
   "source": [
    "t = time()\n",
    "time() - t"
   ]
  },
  {
   "cell_type": "code",
   "execution_count": null,
   "metadata": {},
   "outputs": [],
   "source": [
    "m = obs[0]"
   ]
  },
  {
   "cell_type": "code",
   "execution_count": null,
   "metadata": {},
   "outputs": [],
   "source": [
    "m.as_table()"
   ]
  },
  {
   "cell_type": "code",
   "execution_count": null,
   "metadata": {},
   "outputs": [],
   "source": [
    "modeldict(\n",
    "    obs[0]\n",
    ")"
   ]
  },
  {
   "cell_type": "code",
   "execution_count": null,
   "metadata": {},
   "outputs": [],
   "source": [
    "all_named_css = \"aliceblue, antiquewhite, aqua, aquamarine, azure, beige, bisque, black, blanchedalmond, blue, blueviolet, brown, burlywood, cadetblue, chartreuse, chocolate, coral, cornflowerblue, cornsilk, crimson, cyan, darkblue, darkcyan, darkgoldenrod, darkgray, darkgrey, darkgreen, darkkhaki, darkmagenta, darkolivegreen, darkorange, darkorchid, darkred, darksalmon, darkseagreen, darkslateblue, darkslategray, darkslategrey, darkturquoise, darkviolet, deeppink, deepskyblue, dimgray, dimgrey, dodgerblue, firebrick, floralwhite, forestgreen, fuchsia, gainsboro, ghostwhite, gold, goldenrod, gray, grey, green, greenyellow, honeydew, hotpink, indianred, indigo, ivory, khaki, lavender, lavenderblush, lawngreen, lemonchiffon, lightblue, lightcoral, lightcyan, lightgoldenrodyellow, lightgray, lightgrey, lightgreen, lightpink, lightsalmon, lightseagreen, lightskyblue, lightslategray, lightslategrey, lightsteelblue, lightyellow, lime, limegreen, linen, magenta, maroon, mediumaquamarine, mediumblue, mediumorchid, mediumpurple, mediumseagreen, mediumslateblue, mediumspringgreen, mediumturquoise, mediumvioletred, midnightblue, mintcream, mistyrose, moccasin, navajowhite, navy, oldlace, olive, olivedrab, orange, orangered, orchid, palegoldenrod, palegreen, paleturquoise, palevioletred, papayawhip, peachpuff, peru, pink, plum, powderblue, purple, red, rosybrown, royalblue, rebeccapurple, saddlebrown, salmon, sandybrown, seagreen, seashell, sienna, silver, skyblue, slateblue, slategray, slategrey, snow, springgreen, steelblue, tan, teal, thistle, tomato, turquoise, violet, wheat, white, whitesmoke, yellow, yellowgreen\""
   ]
  },
  {
   "cell_type": "code",
   "execution_count": null,
   "metadata": {},
   "outputs": [],
   "source": [
    "for color in all_named_css.split(\", \"):\n",
    "    print(\"{\\\"label\\\": \\\"\" + color + \"\\\", \\\"value\\\": \\\"\" + color + \"\\\"},\")"
   ]
  },
  {
   "cell_type": "code",
   "execution_count": null,
   "metadata": {},
   "outputs": [],
   "source": [
    "all_marker_types = [0, '0', 'circle', 100, '100', 'circle-open', 200, '200', 'circle-dot', 300, '300', 'circle-open-dot', 1, '1', 'square', 101, '101', 'square-open', 201, '201', 'square-dot', 301, '301', 'square-open-dot', 2, '2', 'diamond', 102, '102', 'diamond-open', 202, '202', 'diamond-dot', 302, '302', 'diamond-open-dot', 3, '3', 'cross', 103, '103', 'cross-open', 203, '203', 'cross-dot', 303, '303', 'cross-open-dot', 4, '4', 'x', 104, '104', 'x-open', 204, '204', 'x-dot', 304, '304', 'x-open-dot', 5, '5', 'triangle-up', 105, '105', 'triangle-up-open', 205, '205', 'triangle-up-dot', 305, '305', 'triangle-up-open-dot', 6, '6', 'triangle-down', 106, '106', 'triangle-down-open', 206, '206', 'triangle-down-dot', 306, '306', 'triangle-down-open-dot', 7, '7', 'triangle-left', 107, '107', 'triangle-left-open', 207, '207', 'triangle-left-dot', 307, '307', 'triangle-left-open-dot', 8, '8', 'triangle-right', 108, '108', 'triangle-right-open', 208, '208', 'triangle-right-dot', 308, '308', 'triangle-right-open-dot', 9, '9', 'triangle-ne', 109, '109', 'triangle-ne-open', 209, '209', 'triangle-ne-dot', 309, '309', 'triangle-ne-open-dot', 10, '10', 'triangle-se', 110, '110', 'triangle-se-open', 210, '210', 'triangle-se-dot', 310, '310', 'triangle-se-open-dot', 11, '11', 'triangle-sw', 111, '111', 'triangle-sw-open', 211, '211', 'triangle-sw-dot', 311, '311', 'triangle-sw-open-dot', 12, '12', 'triangle-nw', 112, '112', 'triangle-nw-open', 212, '212', 'triangle-nw-dot', 312, '312', 'triangle-nw-open-dot', 13, '13', 'pentagon', 113, '113', 'pentagon-open', 213, '213', 'pentagon-dot', 313, '313', 'pentagon-open-dot', 14, '14', 'hexagon', 114, '114', 'hexagon-open', 214, '214', 'hexagon-dot', 314, '314', 'hexagon-open-dot', 15, '15', 'hexagon2', 115, '115', 'hexagon2-open', 215, '215', 'hexagon2-dot', 315, '315', 'hexagon2-open-dot', 16, '16', 'octagon', 116, '116', 'octagon-open', 216, '216', 'octagon-dot', 316, '316', 'octagon-open-dot', 17, '17', 'star', 117, '117', 'star-open', 217, '217', 'star-dot', 317, '317', 'star-open-dot', 18, '18', 'hexagram', 118, '118', 'hexagram-open', 218, '218', 'hexagram-dot', 318, '318', 'hexagram-open-dot', 19, '19', 'star-triangle-up', 119, '119', 'star-triangle-up-open', 219, '219', 'star-triangle-up-dot', 319, '319', 'star-triangle-up-open-dot', 20, '20', 'star-triangle-down', 120, '120', 'star-triangle-down-open', 220, '220', 'star-triangle-down-dot', 320, '320', 'star-triangle-down-open-dot', 21, '21', 'star-square', 121, '121', 'star-square-open', 221, '221', 'star-square-dot', 321, '321', 'star-square-open-dot', 22, '22', 'star-diamond', 122, '122', 'star-diamond-open', 222, '222', 'star-diamond-dot', 322, '322', 'star-diamond-open-dot', 23, '23', 'diamond-tall', 123, '123', 'diamond-tall-open', 223, '223', 'diamond-tall-dot', 323, '323', 'diamond-tall-open-dot', 24, '24', 'diamond-wide', 124, '124', 'diamond-wide-open', 224, '224', 'diamond-wide-dot', 324, '324', 'diamond-wide-open-dot', 25, '25', 'hourglass', 125, '125', 'hourglass-open', 26, '26', 'bowtie', 126, '126', 'bowtie-open', 27, '27', 'circle-cross', 127, '127', 'circle-cross-open', 28, '28', 'circle-x', 128, '128', 'circle-x-open', 29, '29', 'square-cross', 129, '129', 'square-cross-open', 30, '30', 'square-x', 130, '130', 'square-x-open', 31, '31', 'diamond-cross', 131, '131', 'diamond-cross-open', 32, '32', 'diamond-x', 132, '132', 'diamond-x-open', 33, '33', 'cross-thin', 133, '133', 'cross-thin-open', 34, '34', 'x-thin', 134, '134', 'x-thin-open', 35, '35', 'asterisk', 135, '135', 'asterisk-open', 36, '36', 'hash', 136, '136', 'hash-open', 236, '236', 'hash-dot', 336, '336', 'hash-open-dot', 37, '37', 'y-up', 137, '137', 'y-up-open', 38, '38', 'y-down', 138, '138', 'y-down-open', 39, '39', 'y-left', 139, '139', 'y-left-open', 40, '40', 'y-right', 140, '140', 'y-right-open', 41, '41', 'line-ew', 141, '141', 'line-ew-open', 42, '42', 'line-ns', 142, '142', 'line-ns-open', 43, '43', 'line-ne', 143, '143', 'line-ne-open', 44, '44', 'line-nw', 144, '144', 'line-nw-open', 45, '45', 'arrow-up', 145, '145', 'arrow-up-open', 46, '46', 'arrow-down', 146, '146', 'arrow-down-open', 47, '47', 'arrow-left', 147, '147', 'arrow-left-open', 48, '48', 'arrow-right', 148, '148', 'arrow-right-open', 49, '49', 'arrow-bar-up', 149, '149', 'arrow-bar-up-open', 50, '50', 'arrow-bar-down', 150, '150', 'arrow-bar-down-open', 51, '51', 'arrow-bar-left', 151, '151', 'arrow-bar-left-open', 52, '52', 'arrow-bar-right', 152, '152', 'arrow-bar-right-open']\n",
    "marker_str = []\n",
    "for marker_type in all_marker_types:\n",
    "    try: \n",
    "        int(marker_type)\n",
    "    except ValueError:\n",
    "        marker_str.append(\n",
    "            {\"label\": \"\\\"\" + marker_type + \"\\\"\", \"value\": \"\\\"\" + marker_type + \"\\\"\"}\n",
    "        )\n",
    "        "
   ]
  },
  {
   "cell_type": "code",
   "execution_count": null,
   "metadata": {
    "scrolled": false
   },
   "outputs": [],
   "source": [
    "tuple(marker_str)"
   ]
  }
 ],
 "metadata": {
  "kernelspec": {
   "display_name": "Python 3",
   "language": "python",
   "name": "python3"
  },
  "language_info": {
   "codemirror_mode": {
    "name": "ipython",
    "version": 3
   },
   "file_extension": ".py",
   "mimetype": "text/x-python",
   "name": "python",
   "nbconvert_exporter": "python",
   "pygments_lexer": "ipython3",
   "version": "3.9.4"
  },
  "varInspector": {
   "cols": {
    "lenName": 16,
    "lenType": 16,
    "lenVar": 40
   },
   "kernels_config": {
    "python": {
     "delete_cmd_postfix": "",
     "delete_cmd_prefix": "del ",
     "library": "var_list.py",
     "varRefreshCmd": "print(var_dic_list())"
    },
    "r": {
     "delete_cmd_postfix": ") ",
     "delete_cmd_prefix": "rm(",
     "library": "var_list.r",
     "varRefreshCmd": "cat(var_dic_list()) "
    }
   },
   "types_to_exclude": [
    "module",
    "function",
    "builtin_function_or_method",
    "instance",
    "_Feature"
   ],
   "window_display": false
  }
 },
 "nbformat": 4,
 "nbformat_minor": 4
}
