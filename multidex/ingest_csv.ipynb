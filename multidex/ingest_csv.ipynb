{
 "cells": [
  {
   "cell_type": "code",
   "execution_count": 1,
   "metadata": {},
   "outputs": [],
   "source": [
    "import os\n",
    "import re\n",
    "\n",
    "import django\n",
    "import fs.path\n",
    "import numpy as np\n",
    "from django.core.exceptions import ObjectDoesNotExist\n",
    "from fs.osfs import OSFS\n",
    "\n",
    "os.environ.setdefault(\"DJANGO_SETTINGS_MODULE\", \"mastspec.settings\")\n",
    "os.environ[\"DJANGO_ALLOW_ASYNC_UNSAFE\"] = \"true\"\n",
    "\n",
    "django.setup()\n",
    "\n",
    "from plotter.models import *\n",
    "# from mastspec.views import *\n",
    "# from mastspec.forms import *\n",
    "from plotter_utils import modeldict"
   ]
  },
  {
   "cell_type": "code",
   "execution_count": null,
   "metadata": {},
   "outputs": [],
   "source": [
    "seq_id = 10524\n",
    "color = 'dark green'\n",
    "m = (MSpec.objects.filter(\n",
    "    observation__seq_id__iexact='mcam' + str(seq_id)\n",
    ") & MSpec.objects.filter(\n",
    "    color__iexact=color\n",
    "))[0]"
   ]
  },
  {
   "cell_type": "code",
   "execution_count": null,
   "metadata": {},
   "outputs": [],
   "source": []
  },
  {
   "cell_type": "code",
   "execution_count": null,
   "metadata": {},
   "outputs": [],
   "source": [
    "modeldict(m)"
   ]
  },
  {
   "cell_type": "code",
   "execution_count": null,
   "metadata": {},
   "outputs": [],
   "source": [
    "for spec in MSpec.objects.all():\n",
    "    spec.delete()\n",
    "for obs in MObs.objects.all():\n",
    "    obs.delete()"
   ]
  },
  {
   "cell_type": "code",
   "execution_count": null,
   "metadata": {},
   "outputs": [],
   "source": [
    "MSpec.objects.all()"
   ]
  },
  {
   "cell_type": "code",
   "execution_count": null,
   "metadata": {},
   "outputs": [],
   "source": [
    "input_fs = OSFS(\"/home/michael/Desktop/mcam_spect_data_conversion/data/\")\n",
    "output_fs = OSFS('.')\n",
    "output_image_dir = output_fs.getsyspath(\"static_in_pro/our_static/img\")"
   ]
  },
  {
   "cell_type": "code",
   "execution_count": null,
   "metadata": {},
   "outputs": [],
   "source": [
    "metaframe = pd.read_csv(input_fs.getsyspath('Metadata-marslab.csv'))\n",
    "metaframe.columns = [column.lower() for column in metaframe.columns]\n",
    "# add NaNs back in so we can programmatically delete them\n",
    "metaframe.replace('-', np.nan, inplace=True)\n",
    "# we're turning these to ints when we ingest them,\n",
    "# but python doesn't like statements like int('3.0'),\n",
    "# so turn to float as an intermediate step\n",
    "for column in ['sol', 'site', 'drive']:\n",
    "    metaframe[column] = metaframe[column].astype('float')\n",
    "metaframe['ltst'] = metaframe['ltst'].astype('datetime64')"
   ]
  },
  {
   "cell_type": "code",
   "execution_count": null,
   "metadata": {},
   "outputs": [],
   "source": [
    "# lots of missing values and no spectra, skip for now\n",
    "BAD_MCAMS = ['mcam13523']\n",
    "overlay_images = [\n",
    "    image for image in input_fs.listdir('DCS_ROI_images')\n",
    "]\n",
    "rgb_images = [\n",
    "    image for image in input_fs.listdir('RGB_images')\n",
    "]"
   ]
  },
  {
   "cell_type": "code",
   "execution_count": null,
   "metadata": {},
   "outputs": [],
   "source": [
    "def get_image_ordinal(mastcam_image_fn_no_ext):\n",
    "    ordinal_appendage = re.search(r'_[RL](\\d)$', mastcam_image_fn_no_ext)\n",
    "    if ordinal_appendage:\n",
    "        return ordinal_appendage.group(1)\n",
    "    else:\n",
    "        return '1'"
   ]
  },
  {
   "cell_type": "code",
   "execution_count": null,
   "metadata": {
    "scrolled": false
   },
   "outputs": [],
   "source": [
    "for ix, row in metaframe.iterrows():\n",
    "    # skip observations we think are 'bad'\n",
    "    if row['seq_id'] in BAD_MCAMS:\n",
    "        continue\n",
    "    # drop NaN-valued fields and populate observation SQL fields\n",
    "    # from CSV fields\n",
    "    row.dropna(inplace=True)\n",
    "    obs = MObs(**dict(zip(row.index,row.values)))\n",
    "    # this is the canonical prefix for image / spectra files \n",
    "    obs_identifier = 'sol' + format(\n",
    "            int(row['sol']), \"0>4d\"\n",
    "        ) + '_' + row['seq_id']\n",
    "    overlay_image_list = [\n",
    "        image for image in overlay_images \n",
    "        if image.startswith(obs_identifier)\n",
    "    ]\n",
    "    rgb_image_list = [\n",
    "        image for image in rgb_images \n",
    "        if image.startswith(obs_identifier)\n",
    "    ]\n",
    "    # associate observation with images using the convoluted decision tree\n",
    "    # that appears to have been used to name the images (usually)\n",
    "    for image in overlay_image_list:\n",
    "        basename = fs.path.splitext(image)[0]\n",
    "        if re.search(r'_R\\d.*?_ROIs', basename):\n",
    "            image_eye = 'righteye'\n",
    "        elif re.search(r'_L\\d.*?_ROIs', basename):\n",
    "            image_eye = 'lefteye'\n",
    "        # note that we _want_ this to throw a NameError if image_eye is undefined \n",
    "        setattr(\n",
    "            obs, \n",
    "            image_eye + '_roi_image_' + get_image_ordinal(basename),\n",
    "            image\n",
    "        )\n",
    "    # note subtle, delicious differences in RGB image naming conventions\n",
    "    for image in rgb_image_list:\n",
    "        basename = fs.path.splitext(image)[0]\n",
    "        if re.search(r'R(_R\\d)?$', basename):\n",
    "            image_eye = 'righteye'\n",
    "        elif re.search(r'L(_[LR]\\d)?$', basename):\n",
    "            image_eye = 'lefteye'\n",
    "        setattr(\n",
    "            obs, \n",
    "            image_eye + '_rgb_image_' + get_image_ordinal(basename),\n",
    "            image\n",
    "        )\n",
    "    obs.clean()\n",
    "    obs.save()\n",
    "pd.DataFrame(map(modeldict, MObs.objects.all()))"
   ]
  },
  {
   "cell_type": "code",
   "execution_count": null,
   "metadata": {},
   "outputs": [],
   "source": [
    "# for spec in MSpec.objects.all():\n",
    "#     spec.delete()"
   ]
  },
  {
   "cell_type": "code",
   "execution_count": null,
   "metadata": {
    "scrolled": false
   },
   "outputs": [],
   "source": [
    "SEQ_ID_PATTERN = r\"mcam\\d+(?=_)\"\n",
    "spec_files = [\n",
    "    file for file in input_fs.listdir('') if (\n",
    "        file.endswith('spectra-marslab.csv') and file.startswith('sol'))\n",
    "]\n",
    "for spec_file in spec_files:\n",
    "    seq_id = re.search(SEQ_ID_PATTERN, spec_file).group()\n",
    "    try:\n",
    "        observation = MObs.objects.get(seq_id__iexact=seq_id)\n",
    "    except ObjectDoesNotExist:\n",
    "        print(\"no observation for \" + spec_file, seq_id)\n",
    "        continue\n",
    "    frame = pd.read_csv(input_fs.getsyspath(spec_file))\n",
    "    frame.columns = [column.lower() for column in frame.columns]\n",
    "    image_number = get_image_ordinal(spec_file)\n",
    "    for _, row in frame.iterrows():\n",
    "        row = row.replace(['-','',' '], np.nan).dropna()\n",
    "        # if there are missing filters anywhere in the column, including for other\n",
    "        # spectra, pandas will read the column\n",
    "        # as object / string, which will cause confusion when we\n",
    "        # compute averaged filters\n",
    "        for filt in MSpec.filters:\n",
    "            if filt in row.index:\n",
    "                row[filt] = float(row[filt])\n",
    "        # we would like these metadata to be carried on the parent\n",
    "        # observation rather than on the spectrum (i.e., we don't need\n",
    "        # an extra pivot because we already have a FOREIGN KEY.) but\n",
    "        # we want to make sure they match!\n",
    "        assert row['sol'] == observation.sol\n",
    "        assert row['seq_id'] == observation.seq_id\n",
    "        row.drop(['sol','seq_id', 'instrument'], inplace=True)\n",
    "        if row['float'] == 'Y':\n",
    "            row['float'] = True\n",
    "        else:\n",
    "            row['float'] = False\n",
    "        metadata = dict(row) | {\n",
    "            'observation': observation,\n",
    "            'image_number': image_number,\n",
    "            'filename': spec_file\n",
    "        }\n",
    "        spectrum = MSpec(**metadata)\n",
    "        spectrum.clean()\n",
    "        spectrum.save()\n"
   ]
  }
 ],
 "metadata": {
  "kernelspec": {
   "display_name": "Python 3",
   "language": "python",
   "name": "python3"
  },
  "language_info": {
   "codemirror_mode": {
    "name": "ipython",
    "version": 3
   },
   "file_extension": ".py",
   "mimetype": "text/x-python",
   "name": "python",
   "nbconvert_exporter": "python",
   "pygments_lexer": "ipython3",
   "version": "3.9.2"
  },
  "varInspector": {
   "cols": {
    "lenName": 16,
    "lenType": 16,
    "lenVar": 40
   },
   "kernels_config": {
    "python": {
     "delete_cmd_postfix": "",
     "delete_cmd_prefix": "del ",
     "library": "var_list.py",
     "varRefreshCmd": "print(var_dic_list())"
    },
    "r": {
     "delete_cmd_postfix": ") ",
     "delete_cmd_prefix": "rm(",
     "library": "var_list.r",
     "varRefreshCmd": "cat(var_dic_list()) "
    }
   },
   "types_to_exclude": [
    "module",
    "function",
    "builtin_function_or_method",
    "instance",
    "_Feature"
   ],
   "window_display": false
  }
 },
 "nbformat": 4,
 "nbformat_minor": 4
}
